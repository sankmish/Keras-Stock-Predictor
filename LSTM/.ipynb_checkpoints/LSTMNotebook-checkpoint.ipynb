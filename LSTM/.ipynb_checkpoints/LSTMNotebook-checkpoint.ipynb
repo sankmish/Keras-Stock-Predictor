{
 "cells": [
  {
   "cell_type": "markdown",
   "metadata": {},
   "source": [
    "# LSTM Model\n",
    "\n",
    "This notebook is used to develop an LSTM model for predicting Dow Jones stocks.  \n",
    "\n",
    "We will begin with the Walmart stock data as a beginning test."
   ]
  },
  {
   "cell_type": "markdown",
   "metadata": {},
   "source": [
    "### Packages\n",
    "\n",
    "First, we load important packages."
   ]
  },
  {
   "cell_type": "code",
   "execution_count": 32,
   "metadata": {},
   "outputs": [],
   "source": [
    "#import some useful packages\n",
    "import os\n",
    "import pandas as pd\n",
    "import numpy as np\n",
    "import matplotlib.pyplot as plt\n",
    "from sklearn.preprocessing import MinMaxScaler"
   ]
  },
  {
   "cell_type": "markdown",
   "metadata": {},
   "source": [
    "### Data\n",
    "\n",
    "Now, we can load the data."
   ]
  },
  {
   "cell_type": "code",
   "execution_count": 33,
   "metadata": {},
   "outputs": [
    {
     "data": {
      "text/html": [
       "<div>\n",
       "<style scoped>\n",
       "    .dataframe tbody tr th:only-of-type {\n",
       "        vertical-align: middle;\n",
       "    }\n",
       "\n",
       "    .dataframe tbody tr th {\n",
       "        vertical-align: top;\n",
       "    }\n",
       "\n",
       "    .dataframe thead th {\n",
       "        text-align: right;\n",
       "    }\n",
       "</style>\n",
       "<table border=\"1\" class=\"dataframe\">\n",
       "  <thead>\n",
       "    <tr style=\"text-align: right;\">\n",
       "      <th></th>\n",
       "      <th>date</th>\n",
       "      <th>open</th>\n",
       "      <th>high</th>\n",
       "      <th>low</th>\n",
       "      <th>close</th>\n",
       "      <th>volume</th>\n",
       "      <th>unadjustedVolume</th>\n",
       "      <th>change</th>\n",
       "      <th>changePercent</th>\n",
       "      <th>vwap</th>\n",
       "      <th>label</th>\n",
       "      <th>changeOverTime</th>\n",
       "    </tr>\n",
       "  </thead>\n",
       "  <tbody>\n",
       "    <tr>\n",
       "      <th>0</th>\n",
       "      <td>2014-01-27</td>\n",
       "      <td>64.7650</td>\n",
       "      <td>64.9747</td>\n",
       "      <td>64.5029</td>\n",
       "      <td>64.7825</td>\n",
       "      <td>9105139</td>\n",
       "      <td>9105139</td>\n",
       "      <td>-0.235889</td>\n",
       "      <td>-0.363</td>\n",
       "      <td>64.7739</td>\n",
       "      <td>Jan 27, 14</td>\n",
       "      <td>0.000000</td>\n",
       "    </tr>\n",
       "    <tr>\n",
       "      <th>1</th>\n",
       "      <td>2014-01-28</td>\n",
       "      <td>64.8786</td>\n",
       "      <td>65.8746</td>\n",
       "      <td>64.7388</td>\n",
       "      <td>65.2368</td>\n",
       "      <td>6035231</td>\n",
       "      <td>6035231</td>\n",
       "      <td>0.454305</td>\n",
       "      <td>0.701</td>\n",
       "      <td>65.3045</td>\n",
       "      <td>Jan 28, 14</td>\n",
       "      <td>0.007013</td>\n",
       "    </tr>\n",
       "    <tr>\n",
       "      <th>2</th>\n",
       "      <td>2014-01-29</td>\n",
       "      <td>65.7785</td>\n",
       "      <td>65.8484</td>\n",
       "      <td>64.7126</td>\n",
       "      <td>64.7388</td>\n",
       "      <td>8440854</td>\n",
       "      <td>8440854</td>\n",
       "      <td>-0.497990</td>\n",
       "      <td>-0.763</td>\n",
       "      <td>61.0517</td>\n",
       "      <td>Jan 29, 14</td>\n",
       "      <td>-0.000675</td>\n",
       "    </tr>\n",
       "    <tr>\n",
       "      <th>3</th>\n",
       "      <td>2014-01-30</td>\n",
       "      <td>65.1232</td>\n",
       "      <td>65.6037</td>\n",
       "      <td>64.9660</td>\n",
       "      <td>65.3067</td>\n",
       "      <td>6742046</td>\n",
       "      <td>6742046</td>\n",
       "      <td>0.567883</td>\n",
       "      <td>0.877</td>\n",
       "      <td>65.2975</td>\n",
       "      <td>Jan 30, 14</td>\n",
       "      <td>0.008092</td>\n",
       "    </tr>\n",
       "    <tr>\n",
       "      <th>4</th>\n",
       "      <td>2014-01-31</td>\n",
       "      <td>64.5816</td>\n",
       "      <td>65.6911</td>\n",
       "      <td>64.3369</td>\n",
       "      <td>65.2455</td>\n",
       "      <td>10665285</td>\n",
       "      <td>10665285</td>\n",
       "      <td>-0.061155</td>\n",
       "      <td>-0.094</td>\n",
       "      <td>65.3223</td>\n",
       "      <td>Jan 31, 14</td>\n",
       "      <td>0.007147</td>\n",
       "    </tr>\n",
       "  </tbody>\n",
       "</table>\n",
       "</div>"
      ],
      "text/plain": [
       "         date     open     high      low    close    volume  unadjustedVolume  \\\n",
       "0  2014-01-27  64.7650  64.9747  64.5029  64.7825   9105139           9105139   \n",
       "1  2014-01-28  64.8786  65.8746  64.7388  65.2368   6035231           6035231   \n",
       "2  2014-01-29  65.7785  65.8484  64.7126  64.7388   8440854           8440854   \n",
       "3  2014-01-30  65.1232  65.6037  64.9660  65.3067   6742046           6742046   \n",
       "4  2014-01-31  64.5816  65.6911  64.3369  65.2455  10665285          10665285   \n",
       "\n",
       "     change  changePercent     vwap       label  changeOverTime  \n",
       "0 -0.235889         -0.363  64.7739  Jan 27, 14        0.000000  \n",
       "1  0.454305          0.701  65.3045  Jan 28, 14        0.007013  \n",
       "2 -0.497990         -0.763  61.0517  Jan 29, 14       -0.000675  \n",
       "3  0.567883          0.877  65.2975  Jan 30, 14        0.008092  \n",
       "4 -0.061155         -0.094  65.3223  Jan 31, 14        0.007147  "
      ]
     },
     "execution_count": 33,
     "metadata": {},
     "output_type": "execute_result"
    }
   ],
   "source": [
    "#load Walmart Stock Data\n",
    "filepath = os.path.join('..', 'Resources', 'WMT.csv')\n",
    "df = pd.read_csv(filepath)\n",
    "df.head()"
   ]
  },
  {
   "cell_type": "markdown",
   "metadata": {},
   "source": [
    "We get rid of columns we do not need and set the index as the date column."
   ]
  },
  {
   "cell_type": "code",
   "execution_count": 34,
   "metadata": {},
   "outputs": [
    {
     "data": {
      "text/html": [
       "<div>\n",
       "<style scoped>\n",
       "    .dataframe tbody tr th:only-of-type {\n",
       "        vertical-align: middle;\n",
       "    }\n",
       "\n",
       "    .dataframe tbody tr th {\n",
       "        vertical-align: top;\n",
       "    }\n",
       "\n",
       "    .dataframe thead th {\n",
       "        text-align: right;\n",
       "    }\n",
       "</style>\n",
       "<table border=\"1\" class=\"dataframe\">\n",
       "  <thead>\n",
       "    <tr style=\"text-align: right;\">\n",
       "      <th></th>\n",
       "      <th>date</th>\n",
       "      <th>open</th>\n",
       "      <th>high</th>\n",
       "      <th>low</th>\n",
       "      <th>close</th>\n",
       "    </tr>\n",
       "  </thead>\n",
       "  <tbody>\n",
       "    <tr>\n",
       "      <th>0</th>\n",
       "      <td>2014-01-27</td>\n",
       "      <td>64.7650</td>\n",
       "      <td>64.9747</td>\n",
       "      <td>64.5029</td>\n",
       "      <td>64.7825</td>\n",
       "    </tr>\n",
       "    <tr>\n",
       "      <th>1</th>\n",
       "      <td>2014-01-28</td>\n",
       "      <td>64.8786</td>\n",
       "      <td>65.8746</td>\n",
       "      <td>64.7388</td>\n",
       "      <td>65.2368</td>\n",
       "    </tr>\n",
       "    <tr>\n",
       "      <th>2</th>\n",
       "      <td>2014-01-29</td>\n",
       "      <td>65.7785</td>\n",
       "      <td>65.8484</td>\n",
       "      <td>64.7126</td>\n",
       "      <td>64.7388</td>\n",
       "    </tr>\n",
       "    <tr>\n",
       "      <th>3</th>\n",
       "      <td>2014-01-30</td>\n",
       "      <td>65.1232</td>\n",
       "      <td>65.6037</td>\n",
       "      <td>64.9660</td>\n",
       "      <td>65.3067</td>\n",
       "    </tr>\n",
       "    <tr>\n",
       "      <th>4</th>\n",
       "      <td>2014-01-31</td>\n",
       "      <td>64.5816</td>\n",
       "      <td>65.6911</td>\n",
       "      <td>64.3369</td>\n",
       "      <td>65.2455</td>\n",
       "    </tr>\n",
       "  </tbody>\n",
       "</table>\n",
       "</div>"
      ],
      "text/plain": [
       "         date     open     high      low    close\n",
       "0  2014-01-27  64.7650  64.9747  64.5029  64.7825\n",
       "1  2014-01-28  64.8786  65.8746  64.7388  65.2368\n",
       "2  2014-01-29  65.7785  65.8484  64.7126  64.7388\n",
       "3  2014-01-30  65.1232  65.6037  64.9660  65.3067\n",
       "4  2014-01-31  64.5816  65.6911  64.3369  65.2455"
      ]
     },
     "execution_count": 34,
     "metadata": {},
     "output_type": "execute_result"
    }
   ],
   "source": [
    "#drop unnessecary columns\n",
    "df.drop(['volume', 'unadjustedVolume', 'change', 'changePercent', 'vwap', 'label', 'changeOverTime'], 1, inplace = True)\n",
    "df.head()"
   ]
  },
  {
   "cell_type": "code",
   "execution_count": 35,
   "metadata": {},
   "outputs": [
    {
     "data": {
      "text/html": [
       "<div>\n",
       "<style scoped>\n",
       "    .dataframe tbody tr th:only-of-type {\n",
       "        vertical-align: middle;\n",
       "    }\n",
       "\n",
       "    .dataframe tbody tr th {\n",
       "        vertical-align: top;\n",
       "    }\n",
       "\n",
       "    .dataframe thead th {\n",
       "        text-align: right;\n",
       "    }\n",
       "</style>\n",
       "<table border=\"1\" class=\"dataframe\">\n",
       "  <thead>\n",
       "    <tr style=\"text-align: right;\">\n",
       "      <th></th>\n",
       "      <th>open</th>\n",
       "      <th>high</th>\n",
       "      <th>low</th>\n",
       "      <th>close</th>\n",
       "    </tr>\n",
       "    <tr>\n",
       "      <th>date</th>\n",
       "      <th></th>\n",
       "      <th></th>\n",
       "      <th></th>\n",
       "      <th></th>\n",
       "    </tr>\n",
       "  </thead>\n",
       "  <tbody>\n",
       "    <tr>\n",
       "      <th>2014-01-27</th>\n",
       "      <td>64.7650</td>\n",
       "      <td>64.9747</td>\n",
       "      <td>64.5029</td>\n",
       "      <td>64.7825</td>\n",
       "    </tr>\n",
       "    <tr>\n",
       "      <th>2014-01-28</th>\n",
       "      <td>64.8786</td>\n",
       "      <td>65.8746</td>\n",
       "      <td>64.7388</td>\n",
       "      <td>65.2368</td>\n",
       "    </tr>\n",
       "    <tr>\n",
       "      <th>2014-01-29</th>\n",
       "      <td>65.7785</td>\n",
       "      <td>65.8484</td>\n",
       "      <td>64.7126</td>\n",
       "      <td>64.7388</td>\n",
       "    </tr>\n",
       "    <tr>\n",
       "      <th>2014-01-30</th>\n",
       "      <td>65.1232</td>\n",
       "      <td>65.6037</td>\n",
       "      <td>64.9660</td>\n",
       "      <td>65.3067</td>\n",
       "    </tr>\n",
       "    <tr>\n",
       "      <th>2014-01-31</th>\n",
       "      <td>64.5816</td>\n",
       "      <td>65.6911</td>\n",
       "      <td>64.3369</td>\n",
       "      <td>65.2455</td>\n",
       "    </tr>\n",
       "  </tbody>\n",
       "</table>\n",
       "</div>"
      ],
      "text/plain": [
       "               open     high      low    close\n",
       "date                                          \n",
       "2014-01-27  64.7650  64.9747  64.5029  64.7825\n",
       "2014-01-28  64.8786  65.8746  64.7388  65.2368\n",
       "2014-01-29  65.7785  65.8484  64.7126  64.7388\n",
       "2014-01-30  65.1232  65.6037  64.9660  65.3067\n",
       "2014-01-31  64.5816  65.6911  64.3369  65.2455"
      ]
     },
     "execution_count": 35,
     "metadata": {},
     "output_type": "execute_result"
    }
   ],
   "source": [
    "#set index\n",
    "df.set_index('date', inplace = True)\n",
    "df.head()"
   ]
  },
  {
   "cell_type": "code",
   "execution_count": 36,
   "metadata": {},
   "outputs": [
    {
     "data": {
      "text/plain": [
       "<matplotlib.axes._subplots.AxesSubplot at 0x1a3706ea58>"
      ]
     },
     "execution_count": 36,
     "metadata": {},
     "output_type": "execute_result"
    },
    {
     "data": {
      "image/png": "[encoded data removed]",
      "text/plain": [
       "<Figure size 432x288 with 1 Axes>"
      ]
     },
     "metadata": {},
     "output_type": "display_data"
    }
   ],
   "source": [
    "#plot close price\n",
    "df.plot(y='close')"
   ]
  },
  {
   "cell_type": "markdown",
   "metadata": {},
   "source": [
    "### Create Train and Test Split Data\n",
    "\n",
    "We need to create a train/test split.  To do so, we will assume we feed sequences of some length and predict at some point in the future."
   ]
  },
  {
   "cell_type": "code",
   "execution_count": 37,
   "metadata": {},
   "outputs": [
    {
     "data": {
      "text/plain": [
       "(1259, 4)"
      ]
     },
     "execution_count": 37,
     "metadata": {},
     "output_type": "execute_result"
    }
   ],
   "source": [
    "#save data as a matrix\n",
    "data = df.values\n",
    "data.shape"
   ]
  },
  {
   "cell_type": "code",
   "execution_count": 38,
   "metadata": {},
   "outputs": [],
   "source": [
    "#save sequence length and time in the future\n",
    "#we will start with 30 days and 5 days in the future (about 1 month and 1 week)\n",
    "seq_length = 30\n",
    "fut_point = 5\n",
    "features = 4"
   ]
  },
  {
   "cell_type": "code",
   "execution_count": 39,
   "metadata": {},
   "outputs": [
    {
     "data": {
      "text/plain": [
       "(1224, 30, 4)"
      ]
     },
     "execution_count": 39,
     "metadata": {},
     "output_type": "execute_result"
    }
   ],
   "source": [
    "#get X data (30 day sequences)\n",
    "X = []\n",
    "#get all sequences up to (sequence length + future point) days out of last point (can then predict last point)\n",
    "for index in range(len(data) - seq_length - fut_point):\n",
    "    X.append(data[index: index + seq_length])\n",
    "#get X as a numpy array\n",
    "X = np.array(X)\n",
    "X.shape"
   ]
  },
  {
   "cell_type": "code",
   "execution_count": 40,
   "metadata": {},
   "outputs": [
    {
     "data": {
      "text/plain": [
       "(1224,)"
      ]
     },
     "execution_count": 40,
     "metadata": {},
     "output_type": "execute_result"
    }
   ],
   "source": [
    "#get Y data (close price for all days except first (sequence length + future point) days)\n",
    "y = data[(seq_length + fut_point):, -1]\n",
    "y.shape"
   ]
  },
  {
   "cell_type": "code",
   "execution_count": 41,
   "metadata": {},
   "outputs": [
    {
     "name": "stdout",
     "output_type": "stream",
     "text": [
      "(1040, 30, 4)\n",
      "(184, 30, 4)\n",
      "(1040,)\n",
      "(184,)\n"
     ]
    }
   ],
   "source": [
    "#train/test split of 0.85/0.15\n",
    "train_split = 0.85\n",
    "last_row = int(train_split * X.shape[0])\n",
    "X_train = X[:last_row]\n",
    "X_test = X[last_row:]\n",
    "y_train = y[:last_row]\n",
    "y_test = y[last_row:]\n",
    "print(X_train.shape)\n",
    "print(X_test.shape)\n",
    "print(y_train.shape)\n",
    "print(y_test.shape)"
   ]
  },
  {
   "cell_type": "markdown",
   "metadata": {},
   "source": [
    "### Scale Data\n",
    "We scale the data using the MinMaxScaler fit for the training data."
   ]
  },
  {
   "cell_type": "code",
   "execution_count": 42,
   "metadata": {},
   "outputs": [],
   "source": [
    "#instantiate scalers\n",
    "X_scaler = MinMaxScaler(feature_range = (-1, 1))\n",
    "y_scaler = MinMaxScaler(feature_range = (-1, 1))"
   ]
  },
  {
   "cell_type": "code",
   "execution_count": 43,
   "metadata": {},
   "outputs": [],
   "source": [
    "#reshape data so it can be fit\n",
    "X_train_reshaped = np.reshape(X_train, (-1, 4))\n",
    "X_test_reshaped = np.reshape(X_test, (-1, 4))\n",
    "y_train_reshaped = np.reshape(y_train, (-1, 1))\n",
    "y_test_reshaped = np.reshape(y_test, (-1, 1))"
   ]
  },
  {
   "cell_type": "code",
   "execution_count": 44,
   "metadata": {},
   "outputs": [
    {
     "data": {
      "text/plain": [
       "MinMaxScaler(copy=True, feature_range=(-1, 1))"
      ]
     },
     "execution_count": 44,
     "metadata": {},
     "output_type": "execute_result"
    }
   ],
   "source": [
    "#fit scalers\n",
    "X_scaler.fit(X_train_reshaped)\n",
    "y_scaler.fit(y_train_reshaped)"
   ]
  },
  {
   "cell_type": "code",
   "execution_count": 45,
   "metadata": {},
   "outputs": [
    {
     "data": {
      "text/plain": [
       "(1040, 30, 4)"
      ]
     },
     "execution_count": 45,
     "metadata": {},
     "output_type": "execute_result"
    }
   ],
   "source": [
    "#transform and rescale\n",
    "X_train_scaled = np.reshape(X_scaler.transform(X_train_reshaped), X_train.shape)\n",
    "X_test_scaled = np.reshape(X_scaler.transform(X_test_reshaped), X_test.shape)\n",
    "y_train_scaled = np.reshape(y_scaler.transform(y_train_reshaped), y_train.shape[0])\n",
    "y_test_scaled = np.reshape(y_scaler.transform(y_test_reshaped), y_test.shape[0])\n",
    "X_train_scaled.shape"
   ]
  },
  {
   "cell_type": "markdown",
   "metadata": {},
   "source": [
    "### LSTM model\n",
    "Now, we build a basic LSTM network model.\n",
    "\n",
    "We build several LSTM layers together, adding Dropout layers and a few dense layers to summarize."
   ]
  },
  {
   "cell_type": "code",
   "execution_count": 46,
   "metadata": {},
   "outputs": [],
   "source": [
    "#import layers\n",
    "from keras.models import Sequential, load_model\n",
    "from keras.layers import Dense, Dropout, LSTM"
   ]
  },
  {
   "cell_type": "code",
   "execution_count": 37,
   "metadata": {},
   "outputs": [
    {
     "name": "stdout",
     "output_type": "stream",
     "text": [
      "_________________________________________________________________\n",
      "Layer (type)                 Output Shape              Param #   \n",
      "=================================================================\n",
      "lstm_6 (LSTM)                (None, 30, 256)           267264    \n",
      "_________________________________________________________________\n",
      "dropout_5 (Dropout)          (None, 30, 256)           0         \n",
      "_________________________________________________________________\n",
      "lstm_7 (LSTM)                (None, 256)               525312    \n",
      "_________________________________________________________________\n",
      "dropout_6 (Dropout)          (None, 256)               0         \n",
      "_________________________________________________________________\n",
      "dense_5 (Dense)              (None, 32)                8224      \n",
      "_________________________________________________________________\n",
      "dense_6 (Dense)              (None, 1)                 33        \n",
      "=================================================================\n",
      "Total params: 800,833\n",
      "Trainable params: 800,833\n",
      "Non-trainable params: 0\n",
      "_________________________________________________________________\n"
     ]
    }
   ],
   "source": [
    "#create an LSTM model\n",
    "model = Sequential()\n",
    "\n",
    "#add first LSTM layer and dropout layer\n",
    "model.add(LSTM(256, return_sequences = True, input_shape = (seq_length, features)))\n",
    "model.add(Dropout(0.2))\n",
    "\n",
    "#add second LSTM layer and dropout layer\n",
    "model.add(LSTM(256, return_sequences = False))\n",
    "model.add(Dropout(0.2))\n",
    "\n",
    "#add an reLU layer\n",
    "model.add(Dense(32, activation = 'relu'))\n",
    "\n",
    "#add a final layer\n",
    "model.add(Dense(1, activation = 'linear'))\n",
    "\n",
    "#compile model\n",
    "model.compile(loss = 'mse', optimizer = 'adam', metrics = ['accuracy'])\n",
    "\n",
    "model.summary()"
   ]
  },
  {
   "cell_type": "code",
   "execution_count": 38,
   "metadata": {},
   "outputs": [
    {
     "name": "stdout",
     "output_type": "stream",
     "text": [
      "Train on 884 samples, validate on 156 samples\n",
      "Epoch 1/300\n",
      "884/884 [==============================] - 3s 4ms/step - loss: 0.0414 - acc: 0.0011 - val_loss: 0.0694 - val_acc: 0.0000e+00\n",
      "Epoch 2/300\n",
      "884/884 [==============================] - 2s 2ms/step - loss: 0.0087 - acc: 0.0011 - val_loss: 0.0662 - val_acc: 0.0000e+00\n",
      "Epoch 3/300\n",
      "884/884 [==============================] - 2s 2ms/step - loss: 0.0066 - acc: 0.0011 - val_loss: 0.0693 - val_acc: 0.0000e+00\n",
      "Epoch 4/300\n",
      "884/884 [==============================] - 2s 2ms/step - loss: 0.0056 - acc: 0.0011 - val_loss: 0.0780 - val_acc: 0.0000e+00\n",
      "Epoch 5/300\n",
      "884/884 [==============================] - 2s 2ms/step - loss: 0.0054 - acc: 0.0011 - val_loss: 0.0854 - val_acc: 0.0000e+00\n",
      "Epoch 6/300\n",
      "884/884 [==============================] - 2s 2ms/step - loss: 0.0055 - acc: 0.0011 - val_loss: 0.0931 - val_acc: 0.0000e+00\n",
      "Epoch 7/300\n",
      "884/884 [==============================] - 2s 2ms/step - loss: 0.0053 - acc: 0.0011 - val_loss: 0.1094 - val_acc: 0.0000e+00\n",
      "Epoch 8/300\n",
      "884/884 [==============================] - 2s 2ms/step - loss: 0.0051 - acc: 0.0011 - val_loss: 0.1195 - val_acc: 0.0000e+00\n",
      "Epoch 9/300\n",
      "884/884 [==============================] - 2s 2ms/step - loss: 0.0055 - acc: 0.0011 - val_loss: 0.1158 - val_acc: 0.0000e+00\n",
      "Epoch 10/300\n",
      "884/884 [==============================] - 2s 2ms/step - loss: 0.0051 - acc: 0.0011 - val_loss: 0.1141 - val_acc: 0.0000e+00\n",
      "Epoch 11/300\n",
      "884/884 [==============================] - 2s 2ms/step - loss: 0.0048 - acc: 0.0011 - val_loss: 0.1161 - val_acc: 0.0000e+00\n",
      "Epoch 12/300\n",
      "884/884 [==============================] - 2s 2ms/step - loss: 0.0053 - acc: 0.0011 - val_loss: 0.1122 - val_acc: 0.0000e+00\n",
      "Epoch 13/300\n",
      "884/884 [==============================] - 2s 2ms/step - loss: 0.0049 - acc: 0.0011 - val_loss: 0.1066 - val_acc: 0.0000e+00\n",
      "Epoch 14/300\n",
      "884/884 [==============================] - 2s 2ms/step - loss: 0.0049 - acc: 0.0011 - val_loss: 0.1162 - val_acc: 0.0000e+00\n",
      "Epoch 15/300\n",
      "884/884 [==============================] - 2s 2ms/step - loss: 0.0048 - acc: 0.0011 - val_loss: 0.1154 - val_acc: 0.0000e+00\n",
      "Epoch 16/300\n",
      "884/884 [==============================] - 2s 2ms/step - loss: 0.0047 - acc: 0.0011 - val_loss: 0.0999 - val_acc: 0.0000e+00\n",
      "Epoch 17/300\n",
      "884/884 [==============================] - 2s 2ms/step - loss: 0.0049 - acc: 0.0011 - val_loss: 0.0940 - val_acc: 0.0000e+00\n",
      "Epoch 18/300\n",
      "884/884 [==============================] - 2s 2ms/step - loss: 0.0050 - acc: 0.0011 - val_loss: 0.1020 - val_acc: 0.0000e+00\n",
      "Epoch 19/300\n",
      "884/884 [==============================] - 2s 2ms/step - loss: 0.0049 - acc: 0.0011 - val_loss: 0.1029 - val_acc: 0.0000e+00\n",
      "Epoch 20/300\n",
      "884/884 [==============================] - 2s 2ms/step - loss: 0.0047 - acc: 0.0011 - val_loss: 0.1071 - val_acc: 0.0000e+00\n",
      "Epoch 21/300\n",
      "884/884 [==============================] - 2s 2ms/step - loss: 0.0047 - acc: 0.0011 - val_loss: 0.1123 - val_acc: 0.0000e+00\n",
      "Epoch 22/300\n",
      "884/884 [==============================] - 2s 2ms/step - loss: 0.0049 - acc: 0.0011 - val_loss: 0.1140 - val_acc: 0.0000e+00\n",
      "Epoch 23/300\n",
      "884/884 [==============================] - 2s 2ms/step - loss: 0.0047 - acc: 0.0011 - val_loss: 0.1006 - val_acc: 0.0000e+00\n",
      "Epoch 24/300\n",
      "884/884 [==============================] - 2s 2ms/step - loss: 0.0047 - acc: 0.0011 - val_loss: 0.0928 - val_acc: 0.0000e+00\n",
      "Epoch 25/300\n",
      "884/884 [==============================] - 2s 2ms/step - loss: 0.0047 - acc: 0.0011 - val_loss: 0.0950 - val_acc: 0.0000e+00\n",
      "Epoch 26/300\n",
      "884/884 [==============================] - 2s 2ms/step - loss: 0.0045 - acc: 0.0011 - val_loss: 0.0900 - val_acc: 0.0000e+00\n",
      "Epoch 27/300\n",
      "884/884 [==============================] - 2s 2ms/step - loss: 0.0046 - acc: 0.0011 - val_loss: 0.0953 - val_acc: 0.0000e+00\n",
      "Epoch 28/300\n",
      "884/884 [==============================] - 2s 2ms/step - loss: 0.0049 - acc: 0.0011 - val_loss: 0.0980 - val_acc: 0.0000e+00\n",
      "Epoch 29/300\n",
      "884/884 [==============================] - 2s 2ms/step - loss: 0.0045 - acc: 0.0011 - val_loss: 0.0978 - val_acc: 0.0000e+00\n",
      "Epoch 30/300\n",
      "884/884 [==============================] - 2s 2ms/step - loss: 0.0047 - acc: 0.0011 - val_loss: 0.1079 - val_acc: 0.0000e+00\n",
      "Epoch 31/300\n",
      "884/884 [==============================] - 2s 2ms/step - loss: 0.0048 - acc: 0.0011 - val_loss: 0.1387 - val_acc: 0.0000e+00\n",
      "Epoch 32/300\n",
      "884/884 [==============================] - 2s 2ms/step - loss: 0.0045 - acc: 0.0011 - val_loss: 0.1355 - val_acc: 0.0000e+00\n",
      "Epoch 33/300\n",
      "884/884 [==============================] - 2s 2ms/step - loss: 0.0045 - acc: 0.0011 - val_loss: 0.1385 - val_acc: 0.0000e+00\n",
      "Epoch 34/300\n",
      "884/884 [==============================] - 2s 2ms/step - loss: 0.0042 - acc: 0.0011 - val_loss: 0.1386 - val_acc: 0.0000e+00\n",
      "Epoch 35/300\n",
      "884/884 [==============================] - 2s 2ms/step - loss: 0.0044 - acc: 0.0011 - val_loss: 0.1265 - val_acc: 0.0000e+00\n",
      "Epoch 36/300\n",
      "884/884 [==============================] - 2s 2ms/step - loss: 0.0044 - acc: 0.0011 - val_loss: 0.1256 - val_acc: 0.0000e+00\n",
      "Epoch 37/300\n",
      "884/884 [==============================] - 2s 2ms/step - loss: 0.0044 - acc: 0.0011 - val_loss: 0.1220 - val_acc: 0.0000e+00\n",
      "Epoch 38/300\n",
      "884/884 [==============================] - 2s 2ms/step - loss: 0.0049 - acc: 0.0011 - val_loss: 0.1119 - val_acc: 0.0000e+00\n",
      "Epoch 39/300\n",
      "884/884 [==============================] - 2s 2ms/step - loss: 0.0054 - acc: 0.0011 - val_loss: 0.1389 - val_acc: 0.0000e+00\n",
      "Epoch 40/300\n",
      "884/884 [==============================] - 2s 2ms/step - loss: 0.0046 - acc: 0.0011 - val_loss: 0.1492 - val_acc: 0.0000e+00\n",
      "Epoch 41/300\n",
      "884/884 [==============================] - 2s 2ms/step - loss: 0.0044 - acc: 0.0011 - val_loss: 0.1585 - val_acc: 0.0000e+00\n",
      "Epoch 42/300\n",
      "884/884 [==============================] - 2s 2ms/step - loss: 0.0043 - acc: 0.0011 - val_loss: 0.1621 - val_acc: 0.0000e+00\n",
      "Epoch 43/300\n",
      "884/884 [==============================] - 2s 2ms/step - loss: 0.0046 - acc: 0.0011 - val_loss: 0.1450 - val_acc: 0.0000e+00\n",
      "Epoch 44/300\n",
      "884/884 [==============================] - 2s 2ms/step - loss: 0.0042 - acc: 0.0011 - val_loss: 0.1257 - val_acc: 0.0000e+00\n",
      "Epoch 45/300\n",
      "884/884 [==============================] - 2s 2ms/step - loss: 0.0042 - acc: 0.0011 - val_loss: 0.1462 - val_acc: 0.0000e+00\n",
      "Epoch 46/300\n",
      "884/884 [==============================] - 2s 2ms/step - loss: 0.0048 - acc: 0.0011 - val_loss: 0.1629 - val_acc: 0.0000e+00\n",
      "Epoch 47/300\n",
      "884/884 [==============================] - 2s 2ms/step - loss: 0.0043 - acc: 0.0011 - val_loss: 0.1759 - val_acc: 0.0000e+00\n",
      "Epoch 48/300\n",
      "884/884 [==============================] - 2s 2ms/step - loss: 0.0044 - acc: 0.0011 - val_loss: 0.1639 - val_acc: 0.0000e+00\n",
      "Epoch 49/300\n",
      "884/884 [==============================] - 2s 2ms/step - loss: 0.0043 - acc: 0.0011 - val_loss: 0.1575 - val_acc: 0.0000e+00\n",
      "Epoch 50/300\n",
      "884/884 [==============================] - 2s 2ms/step - loss: 0.0044 - acc: 0.0011 - val_loss: 0.1472 - val_acc: 0.0000e+00\n",
      "Epoch 51/300\n",
      "884/884 [==============================] - 2s 2ms/step - loss: 0.0043 - acc: 0.0011 - val_loss: 0.1521 - val_acc: 0.0000e+00\n",
      "Epoch 52/300\n",
      "884/884 [==============================] - 2s 2ms/step - loss: 0.0044 - acc: 0.0011 - val_loss: 0.1490 - val_acc: 0.0000e+00\n",
      "Epoch 53/300\n",
      "884/884 [==============================] - 2s 2ms/step - loss: 0.0043 - acc: 0.0011 - val_loss: 0.1671 - val_acc: 0.0000e+00\n",
      "Epoch 54/300\n",
      "884/884 [==============================] - 2s 2ms/step - loss: 0.0046 - acc: 0.0011 - val_loss: 0.1970 - val_acc: 0.0000e+00\n",
      "Epoch 55/300\n",
      "884/884 [==============================] - 2s 2ms/step - loss: 0.0049 - acc: 0.0011 - val_loss: 0.2040 - val_acc: 0.0000e+00\n",
      "Epoch 56/300\n",
      "884/884 [==============================] - 2s 2ms/step - loss: 0.0052 - acc: 0.0011 - val_loss: 0.1993 - val_acc: 0.0000e+00\n",
      "Epoch 57/300\n",
      "884/884 [==============================] - 2s 2ms/step - loss: 0.0042 - acc: 0.0011 - val_loss: 0.2106 - val_acc: 0.0000e+00\n",
      "Epoch 58/300\n",
      "884/884 [==============================] - 2s 2ms/step - loss: 0.0046 - acc: 0.0011 - val_loss: 0.2743 - val_acc: 0.0000e+00\n",
      "Epoch 59/300\n",
      "884/884 [==============================] - 2s 2ms/step - loss: 0.0042 - acc: 0.0011 - val_loss: 0.3165 - val_acc: 0.0000e+00\n",
      "Epoch 60/300\n",
      "884/884 [==============================] - 2s 2ms/step - loss: 0.0043 - acc: 0.0011 - val_loss: 0.3284 - val_acc: 0.0000e+00\n",
      "Epoch 61/300\n",
      "884/884 [==============================] - 2s 2ms/step - loss: 0.0041 - acc: 0.0011 - val_loss: 0.3033 - val_acc: 0.0000e+00\n",
      "Epoch 62/300\n",
      "884/884 [==============================] - 2s 2ms/step - loss: 0.0042 - acc: 0.0011 - val_loss: 0.2847 - val_acc: 0.0000e+00\n",
      "Epoch 63/300\n",
      "884/884 [==============================] - 2s 2ms/step - loss: 0.0043 - acc: 0.0011 - val_loss: 0.2807 - val_acc: 0.0000e+00\n",
      "Epoch 64/300\n",
      "884/884 [==============================] - 2s 2ms/step - loss: 0.0043 - acc: 0.0011 - val_loss: 0.2751 - val_acc: 0.0000e+00\n",
      "Epoch 65/300\n",
      "884/884 [==============================] - 2s 2ms/step - loss: 0.0047 - acc: 0.0011 - val_loss: 0.2864 - val_acc: 0.0000e+00\n",
      "Epoch 66/300\n",
      "884/884 [==============================] - 2s 2ms/step - loss: 0.0044 - acc: 0.0011 - val_loss: 0.2895 - val_acc: 0.0000e+00\n",
      "Epoch 67/300\n",
      "884/884 [==============================] - 2s 2ms/step - loss: 0.0042 - acc: 0.0011 - val_loss: 0.3121 - val_acc: 0.0000e+00\n",
      "Epoch 68/300\n",
      "884/884 [==============================] - 2s 2ms/step - loss: 0.0047 - acc: 0.0011 - val_loss: 0.3393 - val_acc: 0.0000e+00\n",
      "Epoch 69/300\n",
      "884/884 [==============================] - 2s 2ms/step - loss: 0.0045 - acc: 0.0011 - val_loss: 0.2972 - val_acc: 0.0000e+00\n",
      "Epoch 70/300\n",
      "884/884 [==============================] - 2s 2ms/step - loss: 0.0044 - acc: 0.0011 - val_loss: 0.2856 - val_acc: 0.0000e+00\n",
      "Epoch 71/300\n",
      "884/884 [==============================] - 2s 2ms/step - loss: 0.0041 - acc: 0.0011 - val_loss: 0.3016 - val_acc: 0.0000e+00\n",
      "Epoch 72/300\n",
      "884/884 [==============================] - 2s 2ms/step - loss: 0.0042 - acc: 0.0011 - val_loss: 0.3178 - val_acc: 0.0000e+00\n",
      "Epoch 73/300\n",
      "884/884 [==============================] - 2s 2ms/step - loss: 0.0045 - acc: 0.0011 - val_loss: 0.3454 - val_acc: 0.0000e+00\n",
      "Epoch 74/300\n",
      "884/884 [==============================] - 2s 2ms/step - loss: 0.0042 - acc: 0.0011 - val_loss: 0.2965 - val_acc: 0.0000e+00\n",
      "Epoch 75/300\n",
      "884/884 [==============================] - 2s 2ms/step - loss: 0.0040 - acc: 0.0011 - val_loss: 0.2698 - val_acc: 0.0000e+00\n",
      "Epoch 76/300\n",
      "884/884 [==============================] - 2s 2ms/step - loss: 0.0041 - acc: 0.0011 - val_loss: 0.2687 - val_acc: 0.0000e+00\n",
      "Epoch 77/300\n",
      "884/884 [==============================] - 2s 2ms/step - loss: 0.0041 - acc: 0.0011 - val_loss: 0.2809 - val_acc: 0.0000e+00\n",
      "Epoch 78/300\n",
      "884/884 [==============================] - 2s 2ms/step - loss: 0.0042 - acc: 0.0011 - val_loss: 0.2962 - val_acc: 0.0000e+00\n",
      "Epoch 79/300\n",
      "884/884 [==============================] - 2s 2ms/step - loss: 0.0040 - acc: 0.0011 - val_loss: 0.2996 - val_acc: 0.0000e+00\n",
      "Epoch 80/300\n",
      "884/884 [==============================] - 2s 2ms/step - loss: 0.0043 - acc: 0.0011 - val_loss: 0.2953 - val_acc: 0.0000e+00\n",
      "Epoch 81/300\n",
      "884/884 [==============================] - 2s 2ms/step - loss: 0.0040 - acc: 0.0011 - val_loss: 0.2885 - val_acc: 0.0000e+00\n",
      "Epoch 82/300\n",
      "884/884 [==============================] - 2s 2ms/step - loss: 0.0041 - acc: 0.0011 - val_loss: 0.3403 - val_acc: 0.0000e+00\n",
      "Epoch 83/300\n",
      "884/884 [==============================] - 2s 2ms/step - loss: 0.0041 - acc: 0.0011 - val_loss: 0.3739 - val_acc: 0.0000e+00\n",
      "Epoch 84/300\n",
      "884/884 [==============================] - 2s 2ms/step - loss: 0.0040 - acc: 0.0011 - val_loss: 0.3225 - val_acc: 0.0000e+00\n",
      "Epoch 85/300\n",
      "884/884 [==============================] - 2s 2ms/step - loss: 0.0040 - acc: 0.0011 - val_loss: 0.2832 - val_acc: 0.0000e+00\n",
      "Epoch 86/300\n",
      "884/884 [==============================] - 2s 2ms/step - loss: 0.0041 - acc: 0.0011 - val_loss: 0.3172 - val_acc: 0.0000e+00\n",
      "Epoch 87/300\n",
      "884/884 [==============================] - 2s 2ms/step - loss: 0.0043 - acc: 0.0011 - val_loss: 0.2520 - val_acc: 0.0000e+00\n",
      "Epoch 88/300\n",
      "884/884 [==============================] - 2s 2ms/step - loss: 0.0040 - acc: 0.0011 - val_loss: 0.2757 - val_acc: 0.0000e+00\n",
      "Epoch 89/300\n",
      "884/884 [==============================] - 2s 2ms/step - loss: 0.0041 - acc: 0.0011 - val_loss: 0.2118 - val_acc: 0.0000e+00\n",
      "Epoch 90/300\n",
      "884/884 [==============================] - 2s 2ms/step - loss: 0.0040 - acc: 0.0011 - val_loss: 0.2121 - val_acc: 0.0000e+00\n",
      "Epoch 91/300\n",
      "884/884 [==============================] - 2s 2ms/step - loss: 0.0041 - acc: 0.0011 - val_loss: 0.1783 - val_acc: 0.0000e+00\n",
      "Epoch 92/300\n",
      "884/884 [==============================] - 2s 2ms/step - loss: 0.0039 - acc: 0.0011 - val_loss: 0.1917 - val_acc: 0.0000e+00\n",
      "Epoch 93/300\n",
      "884/884 [==============================] - 2s 2ms/step - loss: 0.0041 - acc: 0.0011 - val_loss: 0.2280 - val_acc: 0.0000e+00\n",
      "Epoch 94/300\n",
      "884/884 [==============================] - 2s 2ms/step - loss: 0.0040 - acc: 0.0011 - val_loss: 0.2183 - val_acc: 0.0000e+00\n",
      "Epoch 95/300\n",
      "884/884 [==============================] - 2s 2ms/step - loss: 0.0041 - acc: 0.0011 - val_loss: 0.1880 - val_acc: 0.0000e+00\n",
      "Epoch 96/300\n",
      "884/884 [==============================] - 2s 2ms/step - loss: 0.0042 - acc: 0.0011 - val_loss: 0.2428 - val_acc: 0.0000e+00\n",
      "Epoch 97/300\n",
      "884/884 [==============================] - 2s 2ms/step - loss: 0.0039 - acc: 0.0011 - val_loss: 0.2015 - val_acc: 0.0000e+00\n",
      "Epoch 98/300\n",
      "884/884 [==============================] - 2s 2ms/step - loss: 0.0040 - acc: 0.0011 - val_loss: 0.1567 - val_acc: 0.0000e+00\n",
      "Epoch 99/300\n",
      "884/884 [==============================] - 2s 2ms/step - loss: 0.0040 - acc: 0.0011 - val_loss: 0.1670 - val_acc: 0.0000e+00\n",
      "Epoch 100/300\n",
      "884/884 [==============================] - 2s 2ms/step - loss: 0.0042 - acc: 0.0011 - val_loss: 0.1473 - val_acc: 0.0000e+00\n",
      "Epoch 101/300\n",
      "884/884 [==============================] - 2s 2ms/step - loss: 0.0039 - acc: 0.0011 - val_loss: 0.1514 - val_acc: 0.0000e+00\n",
      "Epoch 102/300\n",
      "884/884 [==============================] - 2s 2ms/step - loss: 0.0040 - acc: 0.0011 - val_loss: 0.1533 - val_acc: 0.0000e+00\n",
      "Epoch 103/300\n",
      "884/884 [==============================] - 2s 2ms/step - loss: 0.0039 - acc: 0.0011 - val_loss: 0.1034 - val_acc: 0.0000e+00\n",
      "Epoch 104/300\n",
      "884/884 [==============================] - 2s 2ms/step - loss: 0.0041 - acc: 0.0011 - val_loss: 0.0941 - val_acc: 0.0000e+00\n",
      "Epoch 105/300\n",
      "884/884 [==============================] - 2s 2ms/step - loss: 0.0041 - acc: 0.0011 - val_loss: 0.1179 - val_acc: 0.0000e+00\n",
      "Epoch 106/300\n",
      "884/884 [==============================] - 2s 2ms/step - loss: 0.0040 - acc: 0.0011 - val_loss: 0.0753 - val_acc: 0.0000e+00\n",
      "Epoch 107/300\n",
      "884/884 [==============================] - 2s 2ms/step - loss: 0.0039 - acc: 0.0011 - val_loss: 0.0574 - val_acc: 0.0000e+00\n",
      "Epoch 108/300\n",
      "884/884 [==============================] - 2s 2ms/step - loss: 0.0040 - acc: 0.0011 - val_loss: 0.0535 - val_acc: 0.0000e+00\n",
      "Epoch 109/300\n",
      "884/884 [==============================] - 2s 2ms/step - loss: 0.0039 - acc: 0.0011 - val_loss: 0.0623 - val_acc: 0.0000e+00\n",
      "Epoch 110/300\n",
      "884/884 [==============================] - 2s 2ms/step - loss: 0.0039 - acc: 0.0011 - val_loss: 0.1103 - val_acc: 0.0000e+00\n",
      "Epoch 111/300\n",
      "884/884 [==============================] - 2s 2ms/step - loss: 0.0040 - acc: 0.0011 - val_loss: 0.0355 - val_acc: 0.0064\n",
      "Epoch 112/300\n",
      "884/884 [==============================] - 2s 2ms/step - loss: 0.0045 - acc: 0.0011 - val_loss: 0.0431 - val_acc: 0.0064\n",
      "Epoch 113/300\n",
      "884/884 [==============================] - 2s 2ms/step - loss: 0.0040 - acc: 0.0011 - val_loss: 0.0606 - val_acc: 0.0064\n",
      "Epoch 114/300\n",
      "884/884 [==============================] - 2s 2ms/step - loss: 0.0042 - acc: 0.0011 - val_loss: 0.0801 - val_acc: 0.0000e+00\n",
      "Epoch 115/300\n",
      "884/884 [==============================] - 2s 2ms/step - loss: 0.0039 - acc: 0.0011 - val_loss: 0.0768 - val_acc: 0.0064\n",
      "Epoch 116/300\n",
      "884/884 [==============================] - 2s 2ms/step - loss: 0.0037 - acc: 0.0011 - val_loss: 0.0634 - val_acc: 0.0064\n",
      "Epoch 117/300\n",
      "884/884 [==============================] - 2s 2ms/step - loss: 0.0039 - acc: 0.0011 - val_loss: 0.0628 - val_acc: 0.0064\n",
      "Epoch 118/300\n",
      "884/884 [==============================] - 2s 2ms/step - loss: 0.0038 - acc: 0.0011 - val_loss: 0.0984 - val_acc: 0.0064\n",
      "Epoch 119/300\n"
     ]
    },
    {
     "name": "stdout",
     "output_type": "stream",
     "text": [
      "884/884 [==============================] - 2s 2ms/step - loss: 0.0040 - acc: 0.0011 - val_loss: 0.1052 - val_acc: 0.0064\n",
      "Epoch 120/300\n",
      "884/884 [==============================] - 2s 2ms/step - loss: 0.0042 - acc: 0.0011 - val_loss: 0.0901 - val_acc: 0.0064\n",
      "Epoch 121/300\n",
      "884/884 [==============================] - 2s 2ms/step - loss: 0.0037 - acc: 0.0011 - val_loss: 0.0713 - val_acc: 0.0064\n",
      "Epoch 122/300\n",
      "884/884 [==============================] - 2s 2ms/step - loss: 0.0038 - acc: 0.0011 - val_loss: 0.0649 - val_acc: 0.0064\n",
      "Epoch 123/300\n",
      "884/884 [==============================] - 2s 2ms/step - loss: 0.0037 - acc: 0.0011 - val_loss: 0.0667 - val_acc: 0.0064\n",
      "Epoch 124/300\n",
      "884/884 [==============================] - 2s 2ms/step - loss: 0.0037 - acc: 0.0011 - val_loss: 0.1345 - val_acc: 0.0064\n",
      "Epoch 125/300\n",
      "884/884 [==============================] - 2s 2ms/step - loss: 0.0039 - acc: 0.0011 - val_loss: 0.0939 - val_acc: 0.0064\n",
      "Epoch 126/300\n",
      "884/884 [==============================] - 2s 2ms/step - loss: 0.0042 - acc: 0.0011 - val_loss: 0.0463 - val_acc: 0.0064\n",
      "Epoch 127/300\n",
      "884/884 [==============================] - 2s 2ms/step - loss: 0.0038 - acc: 0.0011 - val_loss: 0.1705 - val_acc: 0.0000e+00\n",
      "Epoch 128/300\n",
      "884/884 [==============================] - 2s 2ms/step - loss: 0.0038 - acc: 0.0011 - val_loss: 0.0935 - val_acc: 0.0064\n",
      "Epoch 129/300\n",
      "884/884 [==============================] - 2s 2ms/step - loss: 0.0037 - acc: 0.0011 - val_loss: 0.0436 - val_acc: 0.0064\n",
      "Epoch 130/300\n",
      "884/884 [==============================] - 2s 2ms/step - loss: 0.0037 - acc: 0.0011 - val_loss: 0.0312 - val_acc: 0.0064\n",
      "Epoch 131/300\n",
      "884/884 [==============================] - 2s 2ms/step - loss: 0.0039 - acc: 0.0011 - val_loss: 0.0641 - val_acc: 0.0064\n",
      "Epoch 132/300\n",
      "884/884 [==============================] - 2s 2ms/step - loss: 0.0036 - acc: 0.0011 - val_loss: 0.0432 - val_acc: 0.0064\n",
      "Epoch 133/300\n",
      "884/884 [==============================] - 2s 2ms/step - loss: 0.0037 - acc: 0.0011 - val_loss: 0.0409 - val_acc: 0.0064\n",
      "Epoch 134/300\n",
      "884/884 [==============================] - 2s 2ms/step - loss: 0.0037 - acc: 0.0011 - val_loss: 0.0509 - val_acc: 0.0064\n",
      "Epoch 135/300\n",
      "884/884 [==============================] - 2s 2ms/step - loss: 0.0041 - acc: 0.0011 - val_loss: 0.0606 - val_acc: 0.0064\n",
      "Epoch 136/300\n",
      "884/884 [==============================] - 2s 2ms/step - loss: 0.0040 - acc: 0.0011 - val_loss: 0.0406 - val_acc: 0.0064\n",
      "Epoch 137/300\n",
      "884/884 [==============================] - 2s 2ms/step - loss: 0.0037 - acc: 0.0011 - val_loss: 0.0561 - val_acc: 0.0064\n",
      "Epoch 138/300\n",
      "884/884 [==============================] - 2s 2ms/step - loss: 0.0036 - acc: 0.0011 - val_loss: 0.0409 - val_acc: 0.0064\n",
      "Epoch 139/300\n",
      "884/884 [==============================] - 2s 2ms/step - loss: 0.0037 - acc: 0.0011 - val_loss: 0.0334 - val_acc: 0.0064\n",
      "Epoch 140/300\n",
      "884/884 [==============================] - 2s 2ms/step - loss: 0.0037 - acc: 0.0011 - val_loss: 0.0547 - val_acc: 0.0064\n",
      "Epoch 141/300\n",
      "884/884 [==============================] - 2s 2ms/step - loss: 0.0037 - acc: 0.0011 - val_loss: 0.0628 - val_acc: 0.0064\n",
      "Epoch 142/300\n",
      "884/884 [==============================] - 2s 2ms/step - loss: 0.0039 - acc: 0.0011 - val_loss: 0.0806 - val_acc: 0.0064\n",
      "Epoch 143/300\n",
      "884/884 [==============================] - 2s 2ms/step - loss: 0.0037 - acc: 0.0011 - val_loss: 0.0704 - val_acc: 0.0064\n",
      "Epoch 144/300\n",
      "884/884 [==============================] - 2s 2ms/step - loss: 0.0036 - acc: 0.0011 - val_loss: 0.0823 - val_acc: 0.0064\n",
      "Epoch 145/300\n",
      "884/884 [==============================] - 2s 2ms/step - loss: 0.0039 - acc: 0.0011 - val_loss: 0.1804 - val_acc: 0.0064\n",
      "Epoch 146/300\n",
      "884/884 [==============================] - 2s 2ms/step - loss: 0.0039 - acc: 0.0011 - val_loss: 0.0395 - val_acc: 0.0064\n",
      "Epoch 147/300\n",
      "884/884 [==============================] - 2s 2ms/step - loss: 0.0036 - acc: 0.0011 - val_loss: 0.2283 - val_acc: 0.0064\n",
      "Epoch 148/300\n",
      "884/884 [==============================] - 2s 2ms/step - loss: 0.0036 - acc: 0.0011 - val_loss: 0.1353 - val_acc: 0.0064\n",
      "Epoch 149/300\n",
      "884/884 [==============================] - 2s 2ms/step - loss: 0.0036 - acc: 0.0011 - val_loss: 0.1566 - val_acc: 0.0064\n",
      "Epoch 150/300\n",
      "884/884 [==============================] - 2s 2ms/step - loss: 0.0036 - acc: 0.0011 - val_loss: 0.2052 - val_acc: 0.0064\n",
      "Epoch 151/300\n",
      "884/884 [==============================] - 2s 2ms/step - loss: 0.0035 - acc: 0.0011 - val_loss: 0.3024 - val_acc: 0.0064\n",
      "Epoch 152/300\n",
      "884/884 [==============================] - 2s 2ms/step - loss: 0.0037 - acc: 0.0011 - val_loss: 0.0383 - val_acc: 0.0064\n",
      "Epoch 153/300\n",
      "884/884 [==============================] - 2s 2ms/step - loss: 0.0034 - acc: 0.0011 - val_loss: 0.0950 - val_acc: 0.0064\n",
      "Epoch 154/300\n",
      "884/884 [==============================] - 2s 2ms/step - loss: 0.0038 - acc: 0.0011 - val_loss: 0.0827 - val_acc: 0.0064\n",
      "Epoch 155/300\n",
      "884/884 [==============================] - 2s 2ms/step - loss: 0.0035 - acc: 0.0011 - val_loss: 0.0370 - val_acc: 0.0064\n",
      "Epoch 156/300\n",
      "884/884 [==============================] - 2s 2ms/step - loss: 0.0035 - acc: 0.0011 - val_loss: 0.0336 - val_acc: 0.0064\n",
      "Epoch 157/300\n",
      "884/884 [==============================] - 2s 2ms/step - loss: 0.0035 - acc: 0.0011 - val_loss: 0.0354 - val_acc: 0.0064\n",
      "Epoch 158/300\n",
      "884/884 [==============================] - 2s 2ms/step - loss: 0.0036 - acc: 0.0011 - val_loss: 0.0782 - val_acc: 0.0064\n",
      "Epoch 159/300\n",
      "884/884 [==============================] - 2s 2ms/step - loss: 0.0037 - acc: 0.0011 - val_loss: 0.0442 - val_acc: 0.0064\n",
      "Epoch 160/300\n",
      "884/884 [==============================] - 2s 2ms/step - loss: 0.0036 - acc: 0.0011 - val_loss: 0.1895 - val_acc: 0.0064\n",
      "Epoch 161/300\n",
      "884/884 [==============================] - 2s 2ms/step - loss: 0.0036 - acc: 0.0011 - val_loss: 0.0630 - val_acc: 0.0064\n",
      "Epoch 162/300\n",
      "884/884 [==============================] - 2s 2ms/step - loss: 0.0037 - acc: 0.0011 - val_loss: 0.0357 - val_acc: 0.0064\n",
      "Epoch 163/300\n",
      "884/884 [==============================] - 2s 2ms/step - loss: 0.0034 - acc: 0.0011 - val_loss: 0.0536 - val_acc: 0.0064\n",
      "Epoch 164/300\n",
      "884/884 [==============================] - 2s 2ms/step - loss: 0.0035 - acc: 0.0011 - val_loss: 0.1653 - val_acc: 0.0064\n",
      "Epoch 165/300\n",
      "884/884 [==============================] - 2s 2ms/step - loss: 0.0034 - acc: 0.0011 - val_loss: 0.0597 - val_acc: 0.0064\n",
      "Epoch 166/300\n",
      "884/884 [==============================] - 2s 2ms/step - loss: 0.0035 - acc: 0.0011 - val_loss: 0.1304 - val_acc: 0.0064\n",
      "Epoch 167/300\n",
      "884/884 [==============================] - 2s 2ms/step - loss: 0.0034 - acc: 0.0011 - val_loss: 0.0832 - val_acc: 0.0064\n",
      "Epoch 168/300\n",
      "884/884 [==============================] - 2s 2ms/step - loss: 0.0037 - acc: 0.0011 - val_loss: 0.1042 - val_acc: 0.0064\n",
      "Epoch 169/300\n",
      "884/884 [==============================] - 2s 2ms/step - loss: 0.0035 - acc: 0.0011 - val_loss: 0.1650 - val_acc: 0.0064\n",
      "Epoch 170/300\n",
      "884/884 [==============================] - 2s 2ms/step - loss: 0.0034 - acc: 0.0011 - val_loss: 0.0638 - val_acc: 0.0064\n",
      "Epoch 171/300\n",
      "884/884 [==============================] - 2s 2ms/step - loss: 0.0035 - acc: 0.0011 - val_loss: 0.1198 - val_acc: 0.0064\n",
      "Epoch 172/300\n",
      "884/884 [==============================] - 2s 2ms/step - loss: 0.0037 - acc: 0.0011 - val_loss: 0.0542 - val_acc: 0.0064\n",
      "Epoch 173/300\n",
      "884/884 [==============================] - 2s 2ms/step - loss: 0.0033 - acc: 0.0011 - val_loss: 0.1021 - val_acc: 0.0064\n",
      "Epoch 174/300\n",
      "884/884 [==============================] - 2s 2ms/step - loss: 0.0035 - acc: 0.0011 - val_loss: 0.1391 - val_acc: 0.0064\n",
      "Epoch 175/300\n",
      "884/884 [==============================] - 2s 2ms/step - loss: 0.0035 - acc: 0.0011 - val_loss: 0.1255 - val_acc: 0.0064\n",
      "Epoch 176/300\n",
      "884/884 [==============================] - 2s 2ms/step - loss: 0.0033 - acc: 0.0011 - val_loss: 0.0848 - val_acc: 0.0064\n",
      "Epoch 177/300\n",
      "884/884 [==============================] - 2s 2ms/step - loss: 0.0035 - acc: 0.0011 - val_loss: 0.1816 - val_acc: 0.0064\n",
      "Epoch 178/300\n",
      "884/884 [==============================] - 2s 2ms/step - loss: 0.0038 - acc: 0.0011 - val_loss: 0.1134 - val_acc: 0.0064\n",
      "Epoch 179/300\n",
      "884/884 [==============================] - 2s 2ms/step - loss: 0.0034 - acc: 0.0011 - val_loss: 0.0473 - val_acc: 0.0064\n"
     ]
    },
    {
     "name": "stdout",
     "output_type": "stream",
     "text": [
      "Epoch 180/300\n",
      "884/884 [==============================] - 2s 2ms/step - loss: 0.0034 - acc: 0.0011 - val_loss: 0.0740 - val_acc: 0.0064\n",
      "Epoch 181/300\n",
      "884/884 [==============================] - 2s 2ms/step - loss: 0.0036 - acc: 0.0011 - val_loss: 0.0413 - val_acc: 0.0064\n",
      "Epoch 182/300\n",
      "884/884 [==============================] - 2s 2ms/step - loss: 0.0034 - acc: 0.0011 - val_loss: 0.0570 - val_acc: 0.0064\n",
      "Epoch 183/300\n",
      "884/884 [==============================] - 2s 2ms/step - loss: 0.0040 - acc: 0.0011 - val_loss: 0.0992 - val_acc: 0.0064\n",
      "Epoch 184/300\n",
      "884/884 [==============================] - 2s 2ms/step - loss: 0.0040 - acc: 0.0011 - val_loss: 0.0476 - val_acc: 0.0064\n",
      "Epoch 185/300\n",
      "884/884 [==============================] - 2s 2ms/step - loss: 0.0035 - acc: 0.0011 - val_loss: 0.0413 - val_acc: 0.0064\n",
      "Epoch 186/300\n",
      "884/884 [==============================] - 2s 2ms/step - loss: 0.0035 - acc: 0.0011 - val_loss: 0.0707 - val_acc: 0.0000e+00\n",
      "Epoch 187/300\n",
      "884/884 [==============================] - 2s 2ms/step - loss: 0.0034 - acc: 0.0011 - val_loss: 0.0419 - val_acc: 0.0064\n",
      "Epoch 188/300\n",
      "884/884 [==============================] - 2s 2ms/step - loss: 0.0034 - acc: 0.0011 - val_loss: 0.0554 - val_acc: 0.0064\n",
      "Epoch 189/300\n",
      "884/884 [==============================] - 2s 2ms/step - loss: 0.0032 - acc: 0.0011 - val_loss: 0.0721 - val_acc: 0.0064\n",
      "Epoch 190/300\n",
      "884/884 [==============================] - 2s 2ms/step - loss: 0.0036 - acc: 0.0011 - val_loss: 0.1026 - val_acc: 0.0064\n",
      "Epoch 191/300\n",
      "884/884 [==============================] - 2s 2ms/step - loss: 0.0034 - acc: 0.0011 - val_loss: 0.0775 - val_acc: 0.0064\n",
      "Epoch 192/300\n",
      "884/884 [==============================] - 2s 2ms/step - loss: 0.0034 - acc: 0.0011 - val_loss: 0.1041 - val_acc: 0.0064\n",
      "Epoch 193/300\n",
      "884/884 [==============================] - 2s 2ms/step - loss: 0.0033 - acc: 0.0011 - val_loss: 0.0559 - val_acc: 0.0064\n",
      "Epoch 194/300\n",
      "884/884 [==============================] - 2s 2ms/step - loss: 0.0033 - acc: 0.0011 - val_loss: 0.0602 - val_acc: 0.0064\n",
      "Epoch 195/300\n",
      "884/884 [==============================] - 2s 2ms/step - loss: 0.0034 - acc: 0.0011 - val_loss: 0.0489 - val_acc: 0.0064\n",
      "Epoch 196/300\n",
      "884/884 [==============================] - 2s 2ms/step - loss: 0.0035 - acc: 0.0011 - val_loss: 0.0621 - val_acc: 0.0064\n",
      "Epoch 197/300\n",
      "884/884 [==============================] - 2s 2ms/step - loss: 0.0033 - acc: 0.0011 - val_loss: 0.0729 - val_acc: 0.0064\n",
      "Epoch 198/300\n",
      "884/884 [==============================] - 2s 2ms/step - loss: 0.0032 - acc: 0.0011 - val_loss: 0.0778 - val_acc: 0.0064\n",
      "Epoch 199/300\n",
      "884/884 [==============================] - 2s 2ms/step - loss: 0.0031 - acc: 0.0011 - val_loss: 0.1664 - val_acc: 0.0064\n",
      "Epoch 200/300\n",
      "884/884 [==============================] - 2s 2ms/step - loss: 0.0032 - acc: 0.0011 - val_loss: 0.0843 - val_acc: 0.0064\n",
      "Epoch 201/300\n",
      "884/884 [==============================] - 2s 2ms/step - loss: 0.0037 - acc: 0.0011 - val_loss: 0.0866 - val_acc: 0.0064\n",
      "Epoch 202/300\n",
      "884/884 [==============================] - 2s 2ms/step - loss: 0.0037 - acc: 0.0011 - val_loss: 0.0883 - val_acc: 0.0064\n",
      "Epoch 203/300\n",
      "884/884 [==============================] - 2s 2ms/step - loss: 0.0035 - acc: 0.0011 - val_loss: 0.0626 - val_acc: 0.0064\n",
      "Epoch 204/300\n",
      "884/884 [==============================] - 2s 2ms/step - loss: 0.0034 - acc: 0.0011 - val_loss: 0.0463 - val_acc: 0.0064\n",
      "Epoch 205/300\n",
      "884/884 [==============================] - 2s 2ms/step - loss: 0.0035 - acc: 0.0011 - val_loss: 0.0764 - val_acc: 0.0000e+00\n",
      "Epoch 206/300\n",
      "884/884 [==============================] - 2s 3ms/step - loss: 0.0033 - acc: 0.0011 - val_loss: 0.0379 - val_acc: 0.0064\n",
      "Epoch 207/300\n",
      "884/884 [==============================] - 2s 2ms/step - loss: 0.0034 - acc: 0.0011 - val_loss: 0.0415 - val_acc: 0.0064\n",
      "Epoch 208/300\n",
      "884/884 [==============================] - 2s 2ms/step - loss: 0.0033 - acc: 0.0011 - val_loss: 0.0432 - val_acc: 0.0064\n",
      "Epoch 209/300\n",
      "884/884 [==============================] - 2s 2ms/step - loss: 0.0034 - acc: 0.0011 - val_loss: 0.0334 - val_acc: 0.0064\n",
      "Epoch 210/300\n",
      "884/884 [==============================] - 2s 2ms/step - loss: 0.0033 - acc: 0.0011 - val_loss: 0.0732 - val_acc: 0.0064\n",
      "Epoch 211/300\n",
      "884/884 [==============================] - 2s 2ms/step - loss: 0.0033 - acc: 0.0011 - val_loss: 0.0852 - val_acc: 0.0064\n",
      "Epoch 212/300\n",
      "884/884 [==============================] - 2s 2ms/step - loss: 0.0033 - acc: 0.0011 - val_loss: 0.0463 - val_acc: 0.0064\n",
      "Epoch 213/300\n",
      "884/884 [==============================] - 2s 2ms/step - loss: 0.0033 - acc: 0.0011 - val_loss: 0.0485 - val_acc: 0.0064\n",
      "Epoch 214/300\n",
      "884/884 [==============================] - 2s 2ms/step - loss: 0.0033 - acc: 0.0011 - val_loss: 0.0433 - val_acc: 0.0064\n",
      "Epoch 215/300\n",
      "884/884 [==============================] - 2s 2ms/step - loss: 0.0032 - acc: 0.0011 - val_loss: 0.0807 - val_acc: 0.0064\n",
      "Epoch 216/300\n",
      "884/884 [==============================] - 2s 2ms/step - loss: 0.0035 - acc: 0.0011 - val_loss: 0.0496 - val_acc: 0.0064\n",
      "Epoch 217/300\n",
      "884/884 [==============================] - 2s 2ms/step - loss: 0.0033 - acc: 0.0011 - val_loss: 0.0942 - val_acc: 0.0064\n",
      "Epoch 218/300\n",
      "884/884 [==============================] - 2s 2ms/step - loss: 0.0033 - acc: 0.0011 - val_loss: 0.0843 - val_acc: 0.0064\n",
      "Epoch 219/300\n",
      "884/884 [==============================] - 2s 2ms/step - loss: 0.0032 - acc: 0.0011 - val_loss: 0.0603 - val_acc: 0.0064\n",
      "Epoch 220/300\n",
      "884/884 [==============================] - 2s 2ms/step - loss: 0.0031 - acc: 0.0011 - val_loss: 0.0484 - val_acc: 0.0064\n",
      "Epoch 221/300\n",
      "884/884 [==============================] - 2s 2ms/step - loss: 0.0032 - acc: 0.0011 - val_loss: 0.0519 - val_acc: 0.0064\n",
      "Epoch 222/300\n",
      "884/884 [==============================] - 2s 2ms/step - loss: 0.0033 - acc: 0.0011 - val_loss: 0.0543 - val_acc: 0.0064\n",
      "Epoch 223/300\n",
      "884/884 [==============================] - 2s 2ms/step - loss: 0.0032 - acc: 0.0011 - val_loss: 0.0487 - val_acc: 0.0064\n",
      "Epoch 224/300\n",
      "884/884 [==============================] - 2s 2ms/step - loss: 0.0032 - acc: 0.0011 - val_loss: 0.0500 - val_acc: 0.0064\n",
      "Epoch 225/300\n",
      "884/884 [==============================] - 2s 2ms/step - loss: 0.0031 - acc: 0.0011 - val_loss: 0.0450 - val_acc: 0.0064\n",
      "Epoch 226/300\n",
      "884/884 [==============================] - 2s 2ms/step - loss: 0.0032 - acc: 0.0011 - val_loss: 0.0623 - val_acc: 0.0064\n",
      "Epoch 227/300\n",
      "884/884 [==============================] - 2s 2ms/step - loss: 0.0031 - acc: 0.0011 - val_loss: 0.0505 - val_acc: 0.0064\n",
      "Epoch 228/300\n",
      "884/884 [==============================] - 2s 2ms/step - loss: 0.0031 - acc: 0.0011 - val_loss: 0.0587 - val_acc: 0.0064\n",
      "Epoch 229/300\n",
      "884/884 [==============================] - 2s 2ms/step - loss: 0.0035 - acc: 0.0011 - val_loss: 0.0529 - val_acc: 0.0064\n",
      "Epoch 230/300\n",
      "884/884 [==============================] - 2s 2ms/step - loss: 0.0033 - acc: 0.0011 - val_loss: 0.0549 - val_acc: 0.0064\n",
      "Epoch 231/300\n",
      "884/884 [==============================] - 2s 2ms/step - loss: 0.0033 - acc: 0.0011 - val_loss: 0.0662 - val_acc: 0.0064\n",
      "Epoch 232/300\n",
      "884/884 [==============================] - 2s 2ms/step - loss: 0.0033 - acc: 0.0011 - val_loss: 0.0518 - val_acc: 0.0064\n",
      "Epoch 233/300\n",
      "884/884 [==============================] - 2s 2ms/step - loss: 0.0035 - acc: 0.0011 - val_loss: 0.0730 - val_acc: 0.0064\n",
      "Epoch 234/300\n",
      "884/884 [==============================] - 2s 2ms/step - loss: 0.0034 - acc: 0.0011 - val_loss: 0.1350 - val_acc: 0.0064\n",
      "Epoch 235/300\n",
      "884/884 [==============================] - 2s 2ms/step - loss: 0.0034 - acc: 0.0011 - val_loss: 0.0811 - val_acc: 0.0000e+00\n",
      "Epoch 236/300\n",
      "884/884 [==============================] - 2s 2ms/step - loss: 0.0030 - acc: 0.0011 - val_loss: 0.0999 - val_acc: 0.0000e+00\n",
      "Epoch 237/300\n",
      "884/884 [==============================] - 2s 2ms/step - loss: 0.0033 - acc: 0.0011 - val_loss: 0.0553 - val_acc: 0.0064\n",
      "Epoch 238/300\n",
      "884/884 [==============================] - 2s 2ms/step - loss: 0.0032 - acc: 0.0011 - val_loss: 0.0502 - val_acc: 0.0064\n",
      "Epoch 239/300\n",
      "884/884 [==============================] - 2s 2ms/step - loss: 0.0033 - acc: 0.0011 - val_loss: 0.0797 - val_acc: 0.0064\n",
      "Epoch 240/300\n",
      "884/884 [==============================] - 2s 2ms/step - loss: 0.0033 - acc: 0.0011 - val_loss: 0.0432 - val_acc: 0.0064\n",
      "Epoch 241/300\n",
      "884/884 [==============================] - 2s 2ms/step - loss: 0.0033 - acc: 0.0011 - val_loss: 0.0682 - val_acc: 0.0064\n",
      "Epoch 242/300\n",
      "884/884 [==============================] - 2s 2ms/step - loss: 0.0030 - acc: 0.0011 - val_loss: 0.0368 - val_acc: 0.0064\n",
      "Epoch 243/300\n",
      "884/884 [==============================] - 2s 2ms/step - loss: 0.0029 - acc: 0.0011 - val_loss: 0.0744 - val_acc: 0.0064\n",
      "Epoch 244/300\n",
      "884/884 [==============================] - 2s 2ms/step - loss: 0.0031 - acc: 0.0011 - val_loss: 0.0589 - val_acc: 0.0064\n",
      "Epoch 245/300\n",
      "884/884 [==============================] - 2s 2ms/step - loss: 0.0035 - acc: 0.0011 - val_loss: 0.1166 - val_acc: 0.0064\n",
      "Epoch 246/300\n",
      "884/884 [==============================] - 2s 2ms/step - loss: 0.0032 - acc: 0.0011 - val_loss: 0.0598 - val_acc: 0.0064\n",
      "Epoch 247/300\n",
      "884/884 [==============================] - 2s 2ms/step - loss: 0.0034 - acc: 0.0011 - val_loss: 0.0441 - val_acc: 0.0064\n",
      "Epoch 248/300\n",
      "884/884 [==============================] - 2s 2ms/step - loss: 0.0030 - acc: 0.0011 - val_loss: 0.1042 - val_acc: 0.0000e+00\n",
      "Epoch 249/300\n",
      "884/884 [==============================] - 2s 2ms/step - loss: 0.0032 - acc: 0.0011 - val_loss: 0.0377 - val_acc: 0.0064\n",
      "Epoch 250/300\n",
      "884/884 [==============================] - 2s 2ms/step - loss: 0.0032 - acc: 0.0011 - val_loss: 0.0634 - val_acc: 0.0064\n",
      "Epoch 251/300\n",
      "884/884 [==============================] - 2s 2ms/step - loss: 0.0030 - acc: 0.0011 - val_loss: 0.1550 - val_acc: 0.0064\n",
      "Epoch 252/300\n",
      "884/884 [==============================] - 2s 2ms/step - loss: 0.0029 - acc: 0.0011 - val_loss: 0.0718 - val_acc: 0.0000e+00\n",
      "Epoch 253/300\n",
      "884/884 [==============================] - 2s 2ms/step - loss: 0.0033 - acc: 0.0011 - val_loss: 0.0690 - val_acc: 0.0064\n",
      "Epoch 254/300\n",
      "884/884 [==============================] - 2s 2ms/step - loss: 0.0030 - acc: 0.0011 - val_loss: 0.0620 - val_acc: 0.0000e+00\n",
      "Epoch 255/300\n",
      "884/884 [==============================] - 2s 2ms/step - loss: 0.0030 - acc: 0.0011 - val_loss: 0.1049 - val_acc: 0.0000e+00\n",
      "Epoch 256/300\n",
      "884/884 [==============================] - 2s 2ms/step - loss: 0.0033 - acc: 0.0011 - val_loss: 0.1376 - val_acc: 0.0064\n",
      "Epoch 257/300\n",
      "884/884 [==============================] - 2s 2ms/step - loss: 0.0032 - acc: 0.0011 - val_loss: 0.1346 - val_acc: 0.0064\n",
      "Epoch 258/300\n",
      "884/884 [==============================] - 2s 2ms/step - loss: 0.0031 - acc: 0.0011 - val_loss: 0.1534 - val_acc: 0.0064\n",
      "Epoch 259/300\n",
      "884/884 [==============================] - 2s 2ms/step - loss: 0.0032 - acc: 0.0011 - val_loss: 0.1505 - val_acc: 0.0064\n",
      "Epoch 260/300\n",
      "884/884 [==============================] - 2s 2ms/step - loss: 0.0031 - acc: 0.0011 - val_loss: 0.1656 - val_acc: 0.0064\n",
      "Epoch 261/300\n",
      "884/884 [==============================] - 2s 2ms/step - loss: 0.0031 - acc: 0.0011 - val_loss: 0.1490 - val_acc: 0.0000e+00\n",
      "Epoch 262/300\n",
      "884/884 [==============================] - 2s 2ms/step - loss: 0.0031 - acc: 0.0011 - val_loss: 0.1421 - val_acc: 0.0064\n",
      "Epoch 263/300\n",
      "884/884 [==============================] - 2s 2ms/step - loss: 0.0030 - acc: 0.0011 - val_loss: 0.0939 - val_acc: 0.0064\n",
      "Epoch 264/300\n",
      "884/884 [==============================] - 2s 2ms/step - loss: 0.0033 - acc: 0.0011 - val_loss: 0.0746 - val_acc: 0.0064\n",
      "Epoch 265/300\n",
      "884/884 [==============================] - 2s 2ms/step - loss: 0.0033 - acc: 0.0011 - val_loss: 0.0855 - val_acc: 0.0064\n",
      "Epoch 266/300\n",
      "884/884 [==============================] - 2s 2ms/step - loss: 0.0031 - acc: 0.0011 - val_loss: 0.2634 - val_acc: 0.0064\n",
      "Epoch 267/300\n",
      "884/884 [==============================] - 2s 2ms/step - loss: 0.0029 - acc: 0.0011 - val_loss: 0.1298 - val_acc: 0.0000e+00\n",
      "Epoch 268/300\n",
      "884/884 [==============================] - 2s 2ms/step - loss: 0.0030 - acc: 0.0011 - val_loss: 0.1803 - val_acc: 0.0064\n",
      "Epoch 269/300\n",
      "884/884 [==============================] - 2s 2ms/step - loss: 0.0031 - acc: 0.0011 - val_loss: 0.1030 - val_acc: 0.0064\n",
      "Epoch 270/300\n",
      "884/884 [==============================] - 2s 2ms/step - loss: 0.0031 - acc: 0.0011 - val_loss: 0.1715 - val_acc: 0.0000e+00\n",
      "Epoch 271/300\n",
      "884/884 [==============================] - 2s 2ms/step - loss: 0.0029 - acc: 0.0011 - val_loss: 0.1227 - val_acc: 0.0000e+00\n",
      "Epoch 272/300\n",
      "884/884 [==============================] - 2s 2ms/step - loss: 0.0030 - acc: 0.0011 - val_loss: 0.0615 - val_acc: 0.0000e+00\n",
      "Epoch 273/300\n",
      "884/884 [==============================] - 2s 2ms/step - loss: 0.0033 - acc: 0.0011 - val_loss: 0.1012 - val_acc: 0.0000e+00\n",
      "Epoch 274/300\n",
      "884/884 [==============================] - 2s 2ms/step - loss: 0.0030 - acc: 0.0011 - val_loss: 0.1021 - val_acc: 0.0064\n",
      "Epoch 275/300\n",
      "884/884 [==============================] - 2s 2ms/step - loss: 0.0031 - acc: 0.0011 - val_loss: 0.1737 - val_acc: 0.0000e+00\n",
      "Epoch 276/300\n",
      "884/884 [==============================] - 2s 2ms/step - loss: 0.0031 - acc: 0.0011 - val_loss: 0.2188 - val_acc: 0.0064\n",
      "Epoch 277/300\n",
      "884/884 [==============================] - 2s 2ms/step - loss: 0.0033 - acc: 0.0011 - val_loss: 0.3478 - val_acc: 0.0064\n",
      "Epoch 278/300\n",
      "884/884 [==============================] - 2s 2ms/step - loss: 0.0029 - acc: 0.0011 - val_loss: 0.1879 - val_acc: 0.0064\n",
      "Epoch 279/300\n",
      "884/884 [==============================] - 2s 2ms/step - loss: 0.0030 - acc: 0.0011 - val_loss: 0.5154 - val_acc: 0.0000e+00\n",
      "Epoch 280/300\n",
      "884/884 [==============================] - 2s 2ms/step - loss: 0.0031 - acc: 0.0011 - val_loss: 0.7714 - val_acc: 0.0000e+00\n",
      "Epoch 281/300\n",
      "884/884 [==============================] - 2s 2ms/step - loss: 0.0031 - acc: 0.0011 - val_loss: 0.2814 - val_acc: 0.0064\n",
      "Epoch 282/300\n",
      "884/884 [==============================] - 2s 2ms/step - loss: 0.0030 - acc: 0.0011 - val_loss: 0.4096 - val_acc: 0.0000e+00\n",
      "Epoch 283/300\n",
      "884/884 [==============================] - 2s 2ms/step - loss: 0.0030 - acc: 0.0011 - val_loss: 0.5145 - val_acc: 0.0064\n",
      "Epoch 284/300\n",
      "884/884 [==============================] - 2s 2ms/step - loss: 0.0030 - acc: 0.0011 - val_loss: 1.1115 - val_acc: 0.0000e+00\n",
      "Epoch 285/300\n",
      "884/884 [==============================] - 2s 2ms/step - loss: 0.0029 - acc: 0.0011 - val_loss: 1.1323 - val_acc: 0.0000e+00\n",
      "Epoch 286/300\n",
      "884/884 [==============================] - 2s 2ms/step - loss: 0.0030 - acc: 0.0011 - val_loss: 1.1300 - val_acc: 0.0000e+00\n",
      "Epoch 287/300\n",
      "884/884 [==============================] - 2s 2ms/step - loss: 0.0031 - acc: 0.0011 - val_loss: 0.8911 - val_acc: 0.0000e+00\n",
      "Epoch 288/300\n",
      "884/884 [==============================] - 2s 2ms/step - loss: 0.0032 - acc: 0.0011 - val_loss: 1.0515 - val_acc: 0.0000e+00\n",
      "Epoch 289/300\n",
      "884/884 [==============================] - 2s 2ms/step - loss: 0.0034 - acc: 0.0011 - val_loss: 0.1678 - val_acc: 0.0000e+00\n",
      "Epoch 290/300\n",
      "884/884 [==============================] - 2s 2ms/step - loss: 0.0032 - acc: 0.0011 - val_loss: 0.2283 - val_acc: 0.0000e+00\n",
      "Epoch 291/300\n",
      "884/884 [==============================] - 2s 2ms/step - loss: 0.0032 - acc: 0.0011 - val_loss: 0.1635 - val_acc: 0.0000e+00\n",
      "Epoch 292/300\n",
      "884/884 [==============================] - 2s 2ms/step - loss: 0.0030 - acc: 0.0011 - val_loss: 0.0934 - val_acc: 0.0000e+00\n",
      "Epoch 293/300\n",
      "884/884 [==============================] - 2s 2ms/step - loss: 0.0031 - acc: 0.0011 - val_loss: 0.1000 - val_acc: 0.0064\n",
      "Epoch 294/300\n",
      "884/884 [==============================] - 2s 2ms/step - loss: 0.0030 - acc: 0.0011 - val_loss: 0.1122 - val_acc: 0.0064\n",
      "Epoch 295/300\n",
      "884/884 [==============================] - 2s 2ms/step - loss: 0.0030 - acc: 0.0011 - val_loss: 0.1219 - val_acc: 0.0064\n",
      "Epoch 296/300\n",
      "884/884 [==============================] - 2s 2ms/step - loss: 0.0031 - acc: 0.0011 - val_loss: 0.1243 - val_acc: 0.0000e+00\n",
      "Epoch 297/300\n",
      "884/884 [==============================] - 2s 2ms/step - loss: 0.0030 - acc: 0.0011 - val_loss: 0.0890 - val_acc: 0.0064\n",
      "Epoch 298/300\n",
      "884/884 [==============================] - 2s 2ms/step - loss: 0.0031 - acc: 0.0011 - val_loss: 0.0917 - val_acc: 0.0064\n",
      "Epoch 299/300\n",
      "884/884 [==============================] - 2s 2ms/step - loss: 0.0031 - acc: 0.0011 - val_loss: 0.0680 - val_acc: 0.0064\n",
      "Epoch 300/300\n"
     ]
    },
    {
     "name": "stdout",
     "output_type": "stream",
     "text": [
      "884/884 [==============================] - 2s 2ms/step - loss: 0.0032 - acc: 0.0011 - val_loss: 0.1371 - val_acc: 0.0064\n"
     ]
    },
    {
     "data": {
      "text/plain": [
       "<keras.callbacks.History at 0x1a2861e6d8>"
      ]
     },
     "execution_count": 38,
     "metadata": {},
     "output_type": "execute_result"
    }
   ],
   "source": [
    "#fit model\n",
    "model.fit(X_train_scaled, y_train_scaled, epochs = 300, batch_size = 64, validation_split = 0.15, verbose = 1)"
   ]
  },
  {
   "cell_type": "code",
   "execution_count": 39,
   "metadata": {},
   "outputs": [],
   "source": [
    "model.save('first_model.h5')"
   ]
  },
  {
   "cell_type": "markdown",
   "metadata": {},
   "source": [
    "### Load Model and Make Predictions\n",
    "\n",
    "We load the model from memory."
   ]
  },
  {
   "cell_type": "code",
   "execution_count": 47,
   "metadata": {},
   "outputs": [
    {
     "name": "stdout",
     "output_type": "stream",
     "text": [
      "_________________________________________________________________\n",
      "Layer (type)                 Output Shape              Param #   \n",
      "=================================================================\n",
      "lstm_6 (LSTM)                (None, 30, 256)           267264    \n",
      "_________________________________________________________________\n",
      "dropout_5 (Dropout)          (None, 30, 256)           0         \n",
      "_________________________________________________________________\n",
      "lstm_7 (LSTM)                (None, 256)               525312    \n",
      "_________________________________________________________________\n",
      "dropout_6 (Dropout)          (None, 256)               0         \n",
      "_________________________________________________________________\n",
      "dense_5 (Dense)              (None, 32)                8224      \n",
      "_________________________________________________________________\n",
      "dense_6 (Dense)              (None, 1)                 33        \n",
      "=================================================================\n",
      "Total params: 800,833\n",
      "Trainable params: 800,833\n",
      "Non-trainable params: 0\n",
      "_________________________________________________________________\n"
     ]
    }
   ],
   "source": [
    "model = load_model('first_model.h5')\n",
    "model.summary()"
   ]
  },
  {
   "cell_type": "markdown",
   "metadata": {},
   "source": [
    "Now we get the scores and root mean square errors."
   ]
  },
  {
   "cell_type": "code",
   "execution_count": 48,
   "metadata": {},
   "outputs": [
    {
     "name": "stdout",
     "output_type": "stream",
     "text": [
      "Training Set- Score: 0.02296979169343383, RMSE: 0.15155788232036574\n",
      "Test Set- Score: 0.11483484830545343, RMSE: 0.3388729087806422\n"
     ]
    }
   ],
   "source": [
    "#score models\n",
    "import math\n",
    "train_score = model.evaluate(X_train_scaled, y_train_scaled, verbose = 0)\n",
    "test_score = model.evaluate(X_test_scaled, y_test_scaled, verbose = 0)\n",
    "train_rmse = math.sqrt(train_score[0])\n",
    "test_rmse = math.sqrt(test_score[0])\n",
    "print(f\"Training Set- Score: {train_score[0]}, RMSE: {train_rmse}\")\n",
    "print(f\"Test Set- Score: {test_score[0]}, RMSE: {test_rmse}\")"
   ]
  },
  {
   "cell_type": "markdown",
   "metadata": {},
   "source": [
    "Now, we make predictions."
   ]
  },
  {
   "cell_type": "code",
   "execution_count": 49,
   "metadata": {},
   "outputs": [
    {
     "data": {
      "text/plain": [
       "(1040, 1)"
      ]
     },
     "execution_count": 49,
     "metadata": {},
     "output_type": "execute_result"
    }
   ],
   "source": [
    "#evaluate model on training set and test set\n",
    "y_train_preds_scaled = model.predict(X_train_scaled)\n",
    "y_test_preds_scaled = model.predict(X_test_scaled)\n",
    "y_train_preds_scaled.shape"
   ]
  },
  {
   "cell_type": "markdown",
   "metadata": {},
   "source": [
    "### Plot results\n",
    "We now wish to visualize our results.\n",
    "\n",
    "First, we need to denormalize."
   ]
  },
  {
   "cell_type": "code",
   "execution_count": 50,
   "metadata": {},
   "outputs": [],
   "source": [
    "#rescale results\n",
    "y_train_preds_denormed = y_scaler.inverse_transform(y_train_preds_scaled)\n",
    "y_test_preds_denormed = y_scaler.inverse_transform(y_test_preds_scaled)"
   ]
  },
  {
   "cell_type": "markdown",
   "metadata": {},
   "source": [
    "Now, we can reshape to the same shape as the training and test sets."
   ]
  },
  {
   "cell_type": "code",
   "execution_count": 51,
   "metadata": {},
   "outputs": [
    {
     "data": {
      "text/plain": [
       "(1040,)"
      ]
     },
     "execution_count": 51,
     "metadata": {},
     "output_type": "execute_result"
    }
   ],
   "source": [
    "#reshape results for plotting\n",
    "y_train_preds = np.reshape(y_train_preds_denormed, y_train.shape[0])\n",
    "y_test_preds = np.reshape(y_test_preds_denormed, y_test.shape[0])\n",
    "y_train_preds.shape"
   ]
  },
  {
   "cell_type": "markdown",
   "metadata": {},
   "source": [
    "Now, we can plot the results."
   ]
  },
  {
   "cell_type": "code",
   "execution_count": 72,
   "metadata": {},
   "outputs": [],
   "source": [
    "#create x arrays (just day indices)\n",
    "days1 = np.arange(len(y_train))\n",
    "days2 = np.arange(len(y_train), len(y_train) + len(y_test))"
   ]
  },
  {
   "cell_type": "code",
   "execution_count": 73,
   "metadata": {},
   "outputs": [
    {
     "data": {
      "image/png": "[encoded data removed]",
      "text/plain": [
       "<Figure size 432x288 with 1 Axes>"
      ]
     },
     "metadata": {},
     "output_type": "display_data"
    }
   ],
   "source": [
    "#plot\n",
    "fig, ax = plt.subplots()\n",
    "ax.plot(days1, y_train, 'b', label = 'Training Set Actual')\n",
    "ax.plot(days1, y_train_preds, 'r', label = 'Training Set Predictions')\n",
    "ax.plot(days2, y_test, 'k', label = 'Test Set Actual')\n",
    "ax.plot(days2, y_test_preds, 'g', label = 'Test Set Predictions')\n",
    "ax.legend()\n",
    "ax.set_title('Walmart Stock Predictions')\n",
    "ax.set_xlabel('Day Index')\n",
    "ax.set_ylabel('Closing Price')\n",
    "plt.show()"
   ]
  },
  {
   "cell_type": "markdown",
   "metadata": {},
   "source": [
    "We can also plot only the test set."
   ]
  },
  {
   "cell_type": "code",
   "execution_count": 74,
   "metadata": {},
   "outputs": [
    {
     "data": {
      "image/png": "[encoded data removed]",
      "text/plain": [
       "<Figure size 432x288 with 1 Axes>"
      ]
     },
     "metadata": {},
     "output_type": "display_data"
    }
   ],
   "source": [
    "#plot test set only\n",
    "fig2, ax2 = plt.subplots()\n",
    "ax2.plot(days2, y_test, 'k', label = 'Test Set Actual')\n",
    "ax2.plot(days2, y_test_preds, 'g', label = 'Test Set Predictions')\n",
    "ax2.legend()\n",
    "ax2.set_title('Walmart Test Set Predictions')\n",
    "ax2.set_xlabel('Day Index')\n",
    "ax2.set_ylabel('Closing Price')\n",
    "plt.show()"
   ]
  },
  {
   "cell_type": "markdown",
   "metadata": {},
   "source": [
    "### Functions for Arbitrary Size, Number of Neurons, and Future Time Point\n",
    "We wish to create functions that allow for some more arbitrary settings."
   ]
  },
  {
   "cell_type": "code",
   "execution_count": 18,
   "metadata": {},
   "outputs": [],
   "source": [
    "#function to create training and test data from a dataframe\n",
    "def train_test_splitter(df, seq_length, fut_point, train_split):\n",
    "    #save data as a matrix\n",
    "    data = df.values\n",
    "    \n",
    "    #save number of features\n",
    "    features = data.shape[1]\n",
    "    \n",
    "    #get X data (30 day sequences)\n",
    "    X = []\n",
    "    #get all sequences up to (sequence length + future point) days out of last point (can then predict last point)\n",
    "    for index in range(len(data) - seq_length - fut_point):\n",
    "        X.append(data[index: index + seq_length])\n",
    "    #get X as a numpy array\n",
    "    X = np.array(X)\n",
    "    \n",
    "    #get Y data (close price for all days except first (sequence length + future point) days)\n",
    "    y = data[(seq_length + fut_point):, -1]\n",
    "    \n",
    "    #create train/test splits using chosing training split (between 0 and 1)\n",
    "    last_row = int(train_split * X.shape[0])\n",
    "    X_train = X[:last_row]\n",
    "    X_test = X[last_row:]\n",
    "    y_train = y[:last_row]\n",
    "    y_test = y[last_row:]\n",
    "    return X_train, X_test, y_train, y_test"
   ]
  },
  {
   "cell_type": "code",
   "execution_count": 56,
   "metadata": {},
   "outputs": [],
   "source": [
    "#test function with 180 days sequence and 80 days future point\n",
    "X_train2, X_test2, y_train2, y_test2 = train_test_splitter(df, 180, 80, 0.85)"
   ]
  },
  {
   "cell_type": "code",
   "execution_count": 20,
   "metadata": {},
   "outputs": [],
   "source": [
    "#function to create scaled data and scalers\n",
    "def create_scalers_and_normalize(X_train, X_test, y_train, y_test):\n",
    "    #instantiate scalers\n",
    "    X_scaler = MinMaxScaler(feature_range = (-1, 1))\n",
    "    y_scaler = MinMaxScaler(feature_range = (-1, 1))\n",
    "    \n",
    "    #get number of features\n",
    "    features = X_train.shape[2]\n",
    "    \n",
    "    #reshape data so it can be fit\n",
    "    X_train_reshaped = np.reshape(X_train, (-1, features))\n",
    "    X_test_reshaped = np.reshape(X_test, (-1, features))\n",
    "    y_train_reshaped = np.reshape(y_train, (-1, 1))\n",
    "    y_test_reshaped = np.reshape(y_test, (-1, 1))\n",
    "    \n",
    "    #fit scalers\n",
    "    X_scaler.fit(X_train_reshaped)\n",
    "    y_scaler.fit(y_train_reshaped)\n",
    "    \n",
    "    #transform and rescale\n",
    "    X_train_scaled = np.reshape(X_scaler.transform(X_train_reshaped), X_train.shape)\n",
    "    X_test_scaled = np.reshape(X_scaler.transform(X_test_reshaped), X_test.shape)\n",
    "    y_train_scaled = np.reshape(y_scaler.transform(y_train_reshaped), y_train.shape[0])\n",
    "    y_test_scaled = np.reshape(y_scaler.transform(y_test_reshaped), y_test.shape[0])\n",
    "    \n",
    "    return X_train_scaled, X_test_scaled, y_train_scaled, y_test_scaled, X_scaler, y_scaler"
   ]
  },
  {
   "cell_type": "code",
   "execution_count": 57,
   "metadata": {},
   "outputs": [],
   "source": [
    "X_train_scaled2, X_test_scaled2, y_train_scaled2, y_test_scaled2, X_scaler2, y_scaler2 = create_scalers_and_normalize(\n",
    "    X_train2, X_test2, y_train2, y_test2)"
   ]
  },
  {
   "cell_type": "code",
   "execution_count": 58,
   "metadata": {},
   "outputs": [],
   "source": [
    "#create an LSTM model with different neuron sizes\n",
    "def create_generic_LSTM_model(neurons, dropout, seq_length, features):\n",
    "    #create an LSTM model\n",
    "    model = Sequential()\n",
    "\n",
    "    #add first LSTM layer and dropout layer\n",
    "    model.add(LSTM(neurons[0], return_sequences = True, input_shape = (seq_length, features)))\n",
    "    model.add(Dropout(0.2))\n",
    "\n",
    "    #add second LSTM layer and dropout layer\n",
    "    model.add(LSTM(neurons[1], return_sequences = False))\n",
    "    model.add(Dropout(0.2))\n",
    "\n",
    "    #add an reLU layer\n",
    "    model.add(Dense(neurons[2], activation = 'relu'))\n",
    "\n",
    "    #add a final layer\n",
    "    model.add(Dense(1, activation = 'linear'))\n",
    "\n",
    "    #compile model\n",
    "    model.compile(loss = 'mse', optimizer = 'adam', metrics = ['accuracy'])\n",
    "\n",
    "    return model"
   ]
  },
  {
   "cell_type": "code",
   "execution_count": 59,
   "metadata": {},
   "outputs": [],
   "source": [
    "#test function\n",
    "new_model = create_generic_LSTM_model([256, 256, 32], 0.2, 180, 4)"
   ]
  },
  {
   "cell_type": "code",
   "execution_count": 60,
   "metadata": {},
   "outputs": [],
   "source": [
    "#save model\n",
    "new_model.save('second_model.h5')"
   ]
  },
  {
   "cell_type": "code",
   "execution_count": 61,
   "metadata": {},
   "outputs": [],
   "source": [
    "#load model\n",
    "new_model = load_model('second_model.h5')"
   ]
  },
  {
   "cell_type": "code",
   "execution_count": 62,
   "metadata": {},
   "outputs": [],
   "source": [
    "#function to evaluate score and return predictions for a given model path\n",
    "import math\n",
    "def make_preds(model_path, X_train_scaled, X_test_scaled, y_train_scaled, y_test_scaled, y_scaler):\n",
    "    #load model\n",
    "    model = load_model(model_path)\n",
    "    \n",
    "    #score models\n",
    "    train_score = model.evaluate(X_train_scaled, y_train_scaled, verbose = 0)\n",
    "    test_score = model.evaluate(X_test_scaled, y_test_scaled, verbose = 0)\n",
    "    train_rmse = math.sqrt(train_score[0])\n",
    "    test_rmse = math.sqrt(test_score[0])\n",
    "    print(f\"Training Set- Score: {train_score[0]}, RMSE: {train_rmse}\")\n",
    "    print(f\"Test Set- Score: {test_score[0]}, RMSE: {test_rmse}\")\n",
    "    \n",
    "    #evaluate model on training set and test set\n",
    "    y_train_preds_scaled = model.predict(X_train_scaled)\n",
    "    y_test_preds_scaled = model.predict(X_test_scaled)\n",
    "    \n",
    "    #rescale results\n",
    "    y_train_preds_denormed = y_scaler.inverse_transform(y_train_preds_scaled)\n",
    "    y_test_preds_denormed = y_scaler.inverse_transform(y_test_preds_scaled)\n",
    "    \n",
    "    #reshape results for plotting\n",
    "    y_train_preds = np.reshape(y_train_preds_denormed, len(y_train_scaled))\n",
    "    y_test_preds = np.reshape(y_test_preds_denormed, len(y_test_scaled))\n",
    "    \n",
    "    return y_train_preds, y_test_preds, train_score, test_score"
   ]
  },
  {
   "cell_type": "code",
   "execution_count": 63,
   "metadata": {},
   "outputs": [
    {
     "name": "stdout",
     "output_type": "stream",
     "text": [
      "Training Set- Score: 0.02296979169343383, RMSE: 0.15155788232036574\n",
      "Test Set- Score: 0.11483484830545343, RMSE: 0.3388729087806422\n"
     ]
    }
   ],
   "source": [
    "#test function\n",
    "y_train_preds, y_test_preds, train_score, test_score =  make_preds('first_model.h5', X_train_scaled, \n",
    "                                                                   X_test_scaled, y_train_scaled, y_test_scaled, \n",
    "                                                                   y_scaler)"
   ]
  },
  {
   "cell_type": "code",
   "execution_count": 64,
   "metadata": {},
   "outputs": [],
   "source": [
    "#function to create, compile, fit a model, and make predictions\n",
    "def fit_generic_LSTM_model(df, seq_length, fut_point, train_split, neurons, dropout, epochs, batch_size, \n",
    "                           validation_split, model_path):\n",
    "    \n",
    "    #get train/test split\n",
    "    X_train, X_test, y_train, y_test = train_test_splitter(df, seq_length, fut_point, train_split)\n",
    "    \n",
    "    #get number of features\n",
    "    features = X_train.shape[2]\n",
    "    \n",
    "    #get scalers and normalized data\n",
    "    X_train_scaled, X_test_scaled, y_train_scaled, y_test_scaled, X_scaler, y_scaler = create_scalers_and_normalize(\n",
    "        X_train, X_test, y_train, y_test)\n",
    "    \n",
    "    #create model\n",
    "    model = create_generic_LSTM_model(neurons, dropout, seq_length, features)\n",
    "    \n",
    "    #fit model\n",
    "    model.fit(X_train_scaled, y_train_scaled, epochs = epochs, \n",
    "              batch_size = batch_size, validation_split = validation_split, verbose = 1)\n",
    "    \n",
    "    #save model\n",
    "    model.save(model_path)\n",
    "    \n",
    "    #evaluate model and get predictions\n",
    "    y_train_preds, y_test_preds, train_score, test_score = make_preds(model_path, \n",
    "                                                                      X_train_scaled, X_test_scaled, \n",
    "                                                                      y_train_scaled, y_test_scaled, y_scaler)\n",
    "    \n",
    "    #return necessary variables to create predictions\n",
    "    return y_train, y_test, y_train_preds, y_test_preds, train_score, test_score"
   ]
  },
  {
   "cell_type": "code",
   "execution_count": 67,
   "metadata": {},
   "outputs": [
    {
     "name": "stdout",
     "output_type": "stream",
     "text": [
      "Train on 721 samples, validate on 128 samples\n",
      "Epoch 1/50\n",
      "721/721 [==============================] - 14s 19ms/step - loss: 0.0966 - acc: 0.0000e+00 - val_loss: 0.2706 - val_acc: 0.0000e+00\n",
      "Epoch 2/50\n",
      "721/721 [==============================] - 11s 16ms/step - loss: 0.0706 - acc: 0.0000e+00 - val_loss: 0.2827 - val_acc: 0.0000e+00\n",
      "Epoch 3/50\n",
      "721/721 [==============================] - 11s 16ms/step - loss: 0.0698 - acc: 0.0000e+00 - val_loss: 0.2824 - val_acc: 0.0000e+00\n",
      "Epoch 4/50\n",
      "721/721 [==============================] - 13s 18ms/step - loss: 0.0706 - acc: 0.0000e+00 - val_loss: 0.2902 - val_acc: 0.0000e+00\n",
      "Epoch 5/50\n",
      "721/721 [==============================] - 11s 16ms/step - loss: 0.0696 - acc: 0.0000e+00 - val_loss: 0.2801 - val_acc: 0.0000e+00\n",
      "Epoch 6/50\n",
      "721/721 [==============================] - 11s 16ms/step - loss: 0.0690 - acc: 0.0000e+00 - val_loss: 0.2946 - val_acc: 0.0000e+00\n",
      "Epoch 7/50\n",
      "721/721 [==============================] - 12s 17ms/step - loss: 0.0662 - acc: 0.0000e+00 - val_loss: 0.2995 - val_acc: 0.0000e+00\n",
      "Epoch 8/50\n",
      "721/721 [==============================] - 12s 16ms/step - loss: 0.0718 - acc: 0.0000e+00 - val_loss: 0.2839 - val_acc: 0.0000e+00\n",
      "Epoch 9/50\n",
      "721/721 [==============================] - 12s 17ms/step - loss: 0.0706 - acc: 0.0000e+00 - val_loss: 0.2917 - val_acc: 0.0000e+00\n",
      "Epoch 10/50\n",
      "721/721 [==============================] - 11s 16ms/step - loss: 0.0674 - acc: 0.0000e+00 - val_loss: 0.2827 - val_acc: 0.0000e+00\n",
      "Epoch 11/50\n",
      "721/721 [==============================] - 12s 16ms/step - loss: 0.0648 - acc: 0.0000e+00 - val_loss: 0.7418 - val_acc: 0.0000e+00\n",
      "Epoch 12/50\n",
      "721/721 [==============================] - 11s 16ms/step - loss: 0.0657 - acc: 0.0000e+00 - val_loss: 0.3348 - val_acc: 0.0000e+00\n",
      "Epoch 13/50\n",
      "721/721 [==============================] - 11s 16ms/step - loss: 0.0667 - acc: 0.0000e+00 - val_loss: 0.2735 - val_acc: 0.0000e+00\n",
      "Epoch 14/50\n",
      "721/721 [==============================] - 11s 16ms/step - loss: 0.0645 - acc: 0.0000e+00 - val_loss: 0.3840 - val_acc: 0.0000e+00\n",
      "Epoch 15/50\n",
      "721/721 [==============================] - 11s 15ms/step - loss: 0.0647 - acc: 0.0000e+00 - val_loss: 0.7107 - val_acc: 0.0000e+00\n",
      "Epoch 16/50\n",
      "721/721 [==============================] - 11s 15ms/step - loss: 0.0647 - acc: 0.0000e+00 - val_loss: 1.7777 - val_acc: 0.0000e+00\n",
      "Epoch 17/50\n",
      "721/721 [==============================] - 11s 16ms/step - loss: 0.1578 - acc: 0.0014 - val_loss: 0.5930 - val_acc: 0.0000e+00\n",
      "Epoch 18/50\n",
      "721/721 [==============================] - 11s 15ms/step - loss: 0.0979 - acc: 0.0000e+00 - val_loss: 0.6632 - val_acc: 0.0000e+00\n",
      "Epoch 19/50\n",
      "721/721 [==============================] - 11s 15ms/step - loss: 0.0922 - acc: 0.0000e+00 - val_loss: 0.6328 - val_acc: 0.0000e+00\n",
      "Epoch 20/50\n",
      "721/721 [==============================] - 11s 15ms/step - loss: 0.0903 - acc: 0.0000e+00 - val_loss: 0.6833 - val_acc: 0.0000e+00\n",
      "Epoch 21/50\n",
      "721/721 [==============================] - 11s 15ms/step - loss: 0.0911 - acc: 0.0014 - val_loss: 0.6037 - val_acc: 0.0000e+00\n",
      "Epoch 22/50\n",
      "721/721 [==============================] - 11s 15ms/step - loss: 0.0846 - acc: 0.0000e+00 - val_loss: 0.4023 - val_acc: 0.0000e+00\n",
      "Epoch 23/50\n",
      "721/721 [==============================] - 11s 15ms/step - loss: 0.0774 - acc: 0.0000e+00 - val_loss: 0.3124 - val_acc: 0.0000e+00\n",
      "Epoch 24/50\n",
      "721/721 [==============================] - 11s 15ms/step - loss: 0.0710 - acc: 0.0000e+00 - val_loss: 0.3826 - val_acc: 0.0000e+00\n",
      "Epoch 25/50\n",
      "721/721 [==============================] - 11s 15ms/step - loss: 0.1014 - acc: 0.0000e+00 - val_loss: 0.4676 - val_acc: 0.0000e+00\n",
      "Epoch 26/50\n",
      "721/721 [==============================] - 11s 15ms/step - loss: 0.0837 - acc: 0.0000e+00 - val_loss: 0.2775 - val_acc: 0.0000e+00\n",
      "Epoch 27/50\n",
      "721/721 [==============================] - 12s 17ms/step - loss: 0.0853 - acc: 0.0000e+00 - val_loss: 0.2996 - val_acc: 0.0000e+00\n",
      "Epoch 28/50\n",
      "721/721 [==============================] - 12s 17ms/step - loss: 0.0769 - acc: 0.0000e+00 - val_loss: 0.2845 - val_acc: 0.0000e+00\n",
      "Epoch 29/50\n",
      "721/721 [==============================] - 11s 16ms/step - loss: 0.0784 - acc: 0.0014 - val_loss: 0.3132 - val_acc: 0.0000e+00\n",
      "Epoch 30/50\n",
      "721/721 [==============================] - 11s 15ms/step - loss: 0.0731 - acc: 0.0000e+00 - val_loss: 0.3269 - val_acc: 0.0000e+00\n",
      "Epoch 31/50\n",
      "721/721 [==============================] - 11s 15ms/step - loss: 0.0724 - acc: 0.0014 - val_loss: 0.2639 - val_acc: 0.0000e+00\n",
      "Epoch 32/50\n",
      "721/721 [==============================] - 11s 15ms/step - loss: 0.0759 - acc: 0.0000e+00 - val_loss: 0.3436 - val_acc: 0.0000e+00\n",
      "Epoch 33/50\n",
      "721/721 [==============================] - 11s 15ms/step - loss: 0.0724 - acc: 0.0000e+00 - val_loss: 0.2801 - val_acc: 0.0000e+00\n",
      "Epoch 34/50\n",
      "721/721 [==============================] - 11s 16ms/step - loss: 0.0700 - acc: 0.0000e+00 - val_loss: 0.2834 - val_acc: 0.0000e+00\n",
      "Epoch 35/50\n",
      "721/721 [==============================] - 11s 15ms/step - loss: 0.0754 - acc: 0.0000e+00 - val_loss: 0.3519 - val_acc: 0.0000e+00\n",
      "Epoch 36/50\n",
      "721/721 [==============================] - 11s 16ms/step - loss: 0.0707 - acc: 0.0000e+00 - val_loss: 0.2283 - val_acc: 0.0000e+00\n",
      "Epoch 37/50\n",
      "721/721 [==============================] - 11s 15ms/step - loss: 0.0706 - acc: 0.0000e+00 - val_loss: 0.3111 - val_acc: 0.0000e+00\n",
      "Epoch 38/50\n",
      "721/721 [==============================] - 12s 16ms/step - loss: 0.0723 - acc: 0.0000e+00 - val_loss: 0.2675 - val_acc: 0.0000e+00\n",
      "Epoch 39/50\n",
      "721/721 [==============================] - 11s 16ms/step - loss: 0.0698 - acc: 0.0000e+00 - val_loss: 0.3147 - val_acc: 0.0000e+00\n",
      "Epoch 40/50\n",
      "721/721 [==============================] - 11s 16ms/step - loss: 0.0726 - acc: 0.0000e+00 - val_loss: 0.2803 - val_acc: 0.0000e+00\n",
      "Epoch 41/50\n",
      "721/721 [==============================] - 11s 16ms/step - loss: 0.0703 - acc: 0.0014 - val_loss: 0.2736 - val_acc: 0.0000e+00\n",
      "Epoch 42/50\n",
      "721/721 [==============================] - 11s 15ms/step - loss: 0.0715 - acc: 0.0000e+00 - val_loss: 0.2851 - val_acc: 0.0000e+00\n",
      "Epoch 43/50\n",
      "721/721 [==============================] - 11s 15ms/step - loss: 0.0690 - acc: 0.0000e+00 - val_loss: 0.2424 - val_acc: 0.0000e+00\n",
      "Epoch 44/50\n",
      "721/721 [==============================] - 11s 15ms/step - loss: 0.0729 - acc: 0.0000e+00 - val_loss: 0.2790 - val_acc: 0.0000e+00\n",
      "Epoch 45/50\n",
      "721/721 [==============================] - 11s 15ms/step - loss: 0.0701 - acc: 0.0000e+00 - val_loss: 0.2840 - val_acc: 0.0000e+00\n",
      "Epoch 46/50\n",
      "721/721 [==============================] - 11s 16ms/step - loss: 0.0686 - acc: 0.0000e+00 - val_loss: 0.2585 - val_acc: 0.0000e+00\n",
      "Epoch 47/50\n",
      "721/721 [==============================] - 11s 15ms/step - loss: 0.0710 - acc: 0.0000e+00 - val_loss: 0.2821 - val_acc: 0.0000e+00\n",
      "Epoch 48/50\n",
      "721/721 [==============================] - 11s 15ms/step - loss: 0.0660 - acc: 0.0000e+00 - val_loss: 0.2703 - val_acc: 0.0000e+00\n",
      "Epoch 49/50\n",
      "721/721 [==============================] - 11s 15ms/step - loss: 0.0668 - acc: 0.0014 - val_loss: 0.3109 - val_acc: 0.0000e+00\n",
      "Epoch 50/50\n",
      "721/721 [==============================] - 11s 15ms/step - loss: 0.0710 - acc: 0.0000e+00 - val_loss: 0.2141 - val_acc: 0.0000e+00\n",
      "Training Set- Score: 0.09561587119523274, RMSE: 0.3092181611665666\n",
      "Test Set- Score: 0.3142972985903422, RMSE: 0.5606222423257413\n"
     ]
    }
   ],
   "source": [
    "#test function\n",
    "seq_length = 180\n",
    "fut_point = 80\n",
    "train_split = 0.85\n",
    "neurons = [256, 256, 32]\n",
    "epochs = 50\n",
    "batch_size = 32\n",
    "validation_split = 0.15\n",
    "dropout = 0.2\n",
    "model_path = 'third_model.h5'\n",
    "y_train3, y_test3, y_train_preds3, y_test_preds3, train_score3, test_score3 = fit_generic_LSTM_model(df, \n",
    "                                                                                                     seq_length, \n",
    "                                                                                                     fut_point, \n",
    "                                                                                                     train_split, \n",
    "                                                                                                     neurons, \n",
    "                                                                                                     dropout, \n",
    "                                                                                                     epochs, \n",
    "                                                                                                     batch_size,\n",
    "                                                                                                     validation_split, \n",
    "                                                                                                     model_path)"
   ]
  },
  {
   "cell_type": "code",
   "execution_count": 75,
   "metadata": {},
   "outputs": [],
   "source": [
    "#function to plot results\n",
    "def make_results_plot(y_train, y_test, y_train_preds, y_test_preds):\n",
    "    #create x arrays (just day indices)\n",
    "    days1 = np.arange(len(y_train))\n",
    "    days2 = np.arange(len(y_train), len(y_train) + len(y_test))\n",
    "    \n",
    "    #plot\n",
    "    fig, ax = plt.subplots()\n",
    "    ax.plot(days1, y_train, 'b', label = 'Training Set Actual')\n",
    "    ax.plot(days1, y_train_preds, 'r', label = 'Training Set Predictions')\n",
    "    ax.plot(days2, y_test, 'k', label = 'Test Set Actual')\n",
    "    ax.plot(days2, y_test_preds, 'g', label = 'Test Set Predictions')\n",
    "    ax.legend()\n",
    "    ax.set_title('Walmart Stock Predictions')\n",
    "    ax.set_xlabel('Day Index')\n",
    "    ax.set_ylabel('Closing Price')\n",
    "    plt.show()"
   ]
  },
  {
   "cell_type": "code",
   "execution_count": 76,
   "metadata": {},
   "outputs": [
    {
     "data": {
      "image/png": "[encoded data removed]",
      "text/plain": [
       "<Figure size 432x288 with 1 Axes>"
      ]
     },
     "metadata": {},
     "output_type": "display_data"
    }
   ],
   "source": [
    "#test function\n",
    "make_results_plot(y_train3, y_test3, y_train_preds3, y_test_preds3)"
   ]
  },
  {
   "cell_type": "code",
   "execution_count": null,
   "metadata": {},
   "outputs": [],
   "source": []
  }
 ],
 "metadata": {
  "kernelspec": {
   "display_name": "Python 3",
   "language": "python",
   "name": "python3"
  },
  "language_info": {
   "codemirror_mode": {
    "name": "ipython",
    "version": 3
   },
   "file_extension": ".py",
   "mimetype": "text/x-python",
   "name": "python",
   "nbconvert_exporter": "python",
   "pygments_lexer": "ipython3",
   "version": "3.6.8"
  }
 },
 "nbformat": 4,
 "nbformat_minor": 2
}
