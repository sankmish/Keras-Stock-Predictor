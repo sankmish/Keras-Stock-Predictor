{
 "cells": [
  {
   "cell_type": "markdown",
   "metadata": {},
   "source": [
    "# LSTM Model\n",
    "\n",
    "This notebook is used to develop an LSTM model for predicting Dow Jones stocks on all csv files in repository.  \n",
    "\n",
    "We will plot the predicted accuracy of close values from all stocks based on the LSTM model (5-day future point)."
   ]
  },
  {
   "cell_type": "markdown",
   "metadata": {},
   "source": [
    "### Packages\n",
    "\n",
    "First, we load important packages."
   ]
  },
  {
   "cell_type": "code",
   "execution_count": 1,
   "metadata": {},
   "outputs": [
    {
     "name": "stderr",
     "output_type": "stream",
     "text": [
      "C:\\Users\\Pankaj\\Anaconda3\\envs\\PythonData\\lib\\site-packages\\h5py\\__init__.py:36: FutureWarning: Conversion of the second argument of issubdtype from `float` to `np.floating` is deprecated. In future, it will be treated as `np.float64 == np.dtype(float).type`.\n",
      "  from ._conv import register_converters as _register_converters\n",
      "Using TensorFlow backend.\n"
     ]
    }
   ],
   "source": [
    "#import some useful packages\n",
    "import os\n",
    "import pandas as pd\n",
    "import numpy as np\n",
    "import matplotlib.pyplot as plt\n",
    "from sklearn.preprocessing import MinMaxScaler\n",
    "from keras.models import Sequential, load_model\n",
    "from keras.layers import Dense, Dropout, LSTM"
   ]
  },
  {
   "cell_type": "markdown",
   "metadata": {},
   "source": [
    "### Define Functions \n",
    "\n",
    "Now, we define and instantiate our pre-made functions."
   ]
  },
  {
   "cell_type": "code",
   "execution_count": 2,
   "metadata": {},
   "outputs": [],
   "source": [
    "#function to create training and test data from a dataframe\n",
    "def train_test_splitter(df, seq_length, fut_point, train_split):\n",
    "    #save data as a matrix\n",
    "    data = df.values\n",
    "    \n",
    "    #save number of features\n",
    "    features = data.shape[1]\n",
    "    \n",
    "    #get X data (30 day sequences)\n",
    "    X = []\n",
    "    #get all sequences up to (sequence length + future point) days out of last point (can then predict last point)\n",
    "    for index in range(len(data) - seq_length - fut_point):\n",
    "        X.append(data[index: index + seq_length])\n",
    "    #get X as a numpy array\n",
    "    X = np.array(X)\n",
    "    \n",
    "    #get Y data (close price for all days except first (sequence length + future point) days)\n",
    "    y = data[(seq_length + fut_point):, -1]\n",
    "    \n",
    "    #create train/test splits using chosing training split (between 0 and 1)\n",
    "    last_row = int(train_split * X.shape[0])\n",
    "    X_train = X[:last_row]\n",
    "    X_test = X[last_row:]\n",
    "    y_train = y[:last_row]\n",
    "    y_test = y[last_row:]\n",
    "    return X_train, X_test, y_train, y_test"
   ]
  },
  {
   "cell_type": "code",
   "execution_count": 3,
   "metadata": {},
   "outputs": [],
   "source": [
    "#function to create scaled data and scalers\n",
    "def create_scalers_and_normalize(X_train, X_test, y_train, y_test):\n",
    "    #instantiate scalers\n",
    "    X_scaler = MinMaxScaler(feature_range = (-1, 1))\n",
    "    y_scaler = MinMaxScaler(feature_range = (-1, 1))\n",
    "    \n",
    "    #get number of features\n",
    "    features = X_train.shape[2]\n",
    "    \n",
    "    #reshape data so it can be fit\n",
    "    X_train_reshaped = np.reshape(X_train, (-1, features))\n",
    "    X_test_reshaped = np.reshape(X_test, (-1, features))\n",
    "    y_train_reshaped = np.reshape(y_train, (-1, 1))\n",
    "    y_test_reshaped = np.reshape(y_test, (-1, 1))\n",
    "    \n",
    "    #fit scalers\n",
    "    X_scaler.fit(X_train_reshaped)\n",
    "    y_scaler.fit(y_train_reshaped)\n",
    "    \n",
    "    #transform and rescale\n",
    "    X_train_scaled = np.reshape(X_scaler.transform(X_train_reshaped), X_train.shape)\n",
    "    X_test_scaled = np.reshape(X_scaler.transform(X_test_reshaped), X_test.shape)\n",
    "    y_train_scaled = np.reshape(y_scaler.transform(y_train_reshaped), y_train.shape[0])\n",
    "    y_test_scaled = np.reshape(y_scaler.transform(y_test_reshaped), y_test.shape[0])\n",
    "    \n",
    "    return X_train_scaled, X_test_scaled, y_train_scaled, y_test_scaled, X_scaler, y_scaler"
   ]
  },
  {
   "cell_type": "code",
   "execution_count": 4,
   "metadata": {},
   "outputs": [],
   "source": [
    "#create an LSTM model with different neuron sizes\n",
    "def create_generic_LSTM_model(neurons, dropout, seq_length, features):\n",
    "    #create an LSTM model\n",
    "    model = Sequential()\n",
    "\n",
    "    #add first LSTM layer and dropout layer\n",
    "    model.add(LSTM(neurons[0], return_sequences = True, input_shape = (seq_length, features)))\n",
    "    model.add(Dropout(0.2))\n",
    "\n",
    "    #add second LSTM layer and dropout layer\n",
    "    model.add(LSTM(neurons[1], return_sequences = False))\n",
    "    model.add(Dropout(0.2))\n",
    "\n",
    "    #add an reLU layer\n",
    "    model.add(Dense(neurons[2], activation = 'relu'))\n",
    "\n",
    "    #add a final layer\n",
    "    model.add(Dense(1, activation = 'linear'))\n",
    "\n",
    "    #compile model\n",
    "    model.compile(loss = 'mse', optimizer = 'adam', metrics = ['accuracy'])\n",
    "\n",
    "    return model"
   ]
  },
  {
   "cell_type": "code",
   "execution_count": 5,
   "metadata": {},
   "outputs": [],
   "source": [
    "#function to evaluate score and return predictions for a given model path\n",
    "import math\n",
    "def make_preds(model_path, X_train_scaled, X_test_scaled, y_train_scaled, y_test_scaled, y_scaler):\n",
    "    #load model\n",
    "    model = load_model(model_path)\n",
    "    \n",
    "    #score models\n",
    "    train_score = model.evaluate(X_train_scaled, y_train_scaled, verbose = 0)\n",
    "    test_score = model.evaluate(X_test_scaled, y_test_scaled, verbose = 0)\n",
    "    train_rmse = math.sqrt(train_score[0])\n",
    "    test_rmse = math.sqrt(test_score[0])\n",
    "    #Commented out print statements so for loop doesn't excessively output data \n",
    "    \n",
    "    #print(f\"Training Set- Score: {train_score[0]}, RMSE: {train_rmse}\")\n",
    "    #print(f\"Test Set- Score: {test_score[0]}, RMSE: {test_rmse}\")\n",
    "    \n",
    "    #evaluate model on training set and test set\n",
    "    y_train_preds_scaled = model.predict(X_train_scaled)\n",
    "    y_test_preds_scaled = model.predict(X_test_scaled)\n",
    "    \n",
    "    #rescale results\n",
    "    y_train_preds_denormed = y_scaler.inverse_transform(y_train_preds_scaled)\n",
    "    y_test_preds_denormed = y_scaler.inverse_transform(y_test_preds_scaled)\n",
    "    \n",
    "    #reshape results for plotting\n",
    "    y_train_preds = np.reshape(y_train_preds_denormed, len(y_train_scaled))\n",
    "    y_test_preds = np.reshape(y_test_preds_denormed, len(y_test_scaled))\n",
    "    \n",
    "    return y_train_preds, y_test_preds, train_score, test_score"
   ]
  },
  {
   "cell_type": "code",
   "execution_count": 6,
   "metadata": {},
   "outputs": [],
   "source": [
    "#function to create, compile, fit a model, and make predictions\n",
    "def fit_generic_LSTM_model(df, seq_length, fut_point, train_split, neurons, dropout, epochs, batch_size, \n",
    "                           validation_split, model_path):\n",
    "    \n",
    "    #get train/test split\n",
    "    X_train, X_test, y_train, y_test = train_test_splitter(df, seq_length, fut_point, train_split)\n",
    "    \n",
    "    #get number of features\n",
    "    features = X_train.shape[2]\n",
    "    \n",
    "    #get scalers and normalized data\n",
    "    X_train_scaled, X_test_scaled, y_train_scaled, y_test_scaled, X_scaler, y_scaler = create_scalers_and_normalize(\n",
    "        X_train, X_test, y_train, y_test)\n",
    "    \n",
    "    #create model\n",
    "    model = create_generic_LSTM_model(neurons, dropout, seq_length, features)\n",
    "    \n",
    "    #fit model\n",
    "    #Reduced verbose to 0 so you don't see the model fit for every epoch in every csv file\n",
    "    model.fit(X_train_scaled, y_train_scaled, epochs = epochs, \n",
    "              batch_size = batch_size, validation_split = validation_split, verbose = 0)\n",
    "    \n",
    "    #save model\n",
    "    model.save(model_path)\n",
    "    \n",
    "    #evaluate model and get predictions\n",
    "    y_train_preds, y_test_preds, train_score, test_score = make_preds(model_path, \n",
    "                                                                      X_train_scaled, X_test_scaled, \n",
    "                                                                      y_train_scaled, y_test_scaled, y_scaler)\n",
    "    \n",
    "    #return necessary variables to create predictions\n",
    "    return y_train, y_test, y_train_preds, y_test_preds, train_score, test_score"
   ]
  },
  {
   "cell_type": "code",
   "execution_count": 7,
   "metadata": {},
   "outputs": [],
   "source": [
    "def see_history(df, seq_length, fut_point, train_split, neurons, dropout, epochs, batch_size, \n",
    "                           validation_split, model_path):\n",
    "    \n",
    "    #get train/test split\n",
    "    X_train, X_test, y_train, y_test = train_test_splitter(df, seq_length, fut_point, train_split)\n",
    "    \n",
    "    #get number of features\n",
    "    features = X_train.shape[2]\n",
    "    \n",
    "    #get scalers and normalized data\n",
    "    X_train_scaled, X_test_scaled, y_train_scaled, y_test_scaled, X_scaler, y_scaler = create_scalers_and_normalize(\n",
    "        X_train, X_test, y_train, y_test)\n",
    "    \n",
    "    #create model\n",
    "    model = create_generic_LSTM_model(neurons, dropout, seq_length, features)\n",
    "    \n",
    "    #fit model\n",
    "    history = model.fit(X_train_scaled, y_train_scaled, epochs = epochs, \n",
    "              batch_size = batch_size, validation_split = validation_split, verbose = 1)\n",
    "    \n",
    "    #save model\n",
    "    model.save(model_path)\n",
    "    \n",
    "    return history"
   ]
  },
  {
   "cell_type": "markdown",
   "metadata": {},
   "source": [
    "# Generic Stock\n",
    "\n",
    "There are actually 30 Dow Jones Stocks.  We need a function to produce a model for a generic filepath."
   ]
  },
  {
   "cell_type": "code",
   "execution_count": 8,
   "metadata": {},
   "outputs": [],
   "source": [
    "#function to produce predictions for a generic filepath\n",
    "def generic_stock_predictions(filepath, stock_name, seq_length, fut_point):\n",
    "    \n",
    "    #define variables\n",
    "    train_split = 0.85\n",
    "    neurons = [128, 128, 16]\n",
    "    epochs = 100\n",
    "    batch_size = 32\n",
    "    validation_split = 0.1\n",
    "    dropout = 0.3\n",
    "    \n",
    "    #define model path\n",
    "    model_path = stock_name + '_model.h5'\n",
    "    \n",
    "    #read in data frame and drop unnescessary columns\n",
    "    df = pd.read_csv(filepath)\n",
    "    df.drop(['volume', 'unadjustedVolume', 'change', 'changePercent', 'vwap', 'label', \n",
    "             'changeOverTime'], 1, inplace = True)\n",
    "    df.set_index('date', inplace = True)\n",
    "    \n",
    "    #fit model\n",
    "    y_train, y_test, y_train_preds, y_test_preds, train_score, test_score = fit_generic_LSTM_model(df, \n",
    "                                                                                                     seq_length, \n",
    "                                                                                                     fut_point, \n",
    "                                                                                                     train_split, \n",
    "                                                                                                     neurons, \n",
    "                                                                                                     dropout, \n",
    "                                                                                                     epochs, \n",
    "                                                                                                     batch_size,\n",
    "                                                                                                     validation_split, \n",
    "                                                                                                     model_path)\n",
    "    \n",
    "    #return\n",
    "    return y_train, y_test, y_train_preds, y_test_preds, train_score, test_score"
   ]
  },
  {
   "cell_type": "code",
   "execution_count": 9,
   "metadata": {},
   "outputs": [],
   "source": [
    "#predicted profitability function\n",
    "def predicted_profit(filepath, stock_name, seq_length, fut_point):\n",
    "    \n",
    "    #fit model\n",
    "    y_train, y_test, y_train_preds, y_test_preds, train_score, test_score = generic_stock_predictions(\n",
    "        filepath, stock_name, seq_length, fut_point)\n",
    "    \n",
    "    #get values\n",
    "    start_close = y_test[-1-fut_point]\n",
    "    end_close = y_test[-1]\n",
    "    pred_close = y_test_preds[-1]\n",
    "    actual_profit = (end_close - start_close)*100/start_close\n",
    "    pred_profit = (pred_close - start_close)*100/start_close\n",
    "    \n",
    "    #create dictionary for output\n",
    "    stock_dictionary = {'Stock': stock_name, 'Start Close': start_close, 'End Close': end_close, \n",
    "                       'Predicted Close': pred_close, 'Actual Profit': actual_profit, 'Predicted Profit': pred_profit}\n",
    "    \n",
    "    return stock_dictionary\n",
    "    "
   ]
  },
  {
   "cell_type": "markdown",
   "metadata": {},
   "source": [
    "# Iterate through all CSV's\n",
    "\n",
    "Now that the functions are instantiated we can start iterating through our files and storing their output."
   ]
  },
  {
   "cell_type": "code",
   "execution_count": 10,
   "metadata": {},
   "outputs": [],
   "source": [
    "#Generate Stock Names for filepath and output dictionary\n",
    "stockFiles = [\"AAPL\", \"AXP\", \"BA\", \"CAT\", \"CSCO\", \"CVX\", \"DIS\", \"DWDP\", \"GS\", \"HD\", \"IBM\", \"INTC\", \"JNJ\", \"JPM\", \"KO\", \n",
    "              \"MCD\", \"MMM\", \"MRK\", \"MSFT\", \"NKE\", \"PFE\", \"PG\", \"TRV\", \"UNH\", \"UTX\", \"V\", \"VZ\", \"WBA\", \"WMT\", \"XOM\"]"
   ]
  },
  {
   "cell_type": "code",
   "execution_count": 11,
   "metadata": {},
   "outputs": [],
   "source": [
    "#Create empty array to store output dictionary\n",
    "stockOutput = []"
   ]
  },
  {
   "cell_type": "code",
   "execution_count": 12,
   "metadata": {},
   "outputs": [
    {
     "name": "stdout",
     "output_type": "stream",
     "text": [
      "{'Stock': 'AAPL', 'Start Close': 155.86, 'End Close': 157.76, 'Predicted Close': 154.65419, 'Actual Profit': 1.219042730655702, 'Predicted Profit': -0.7736493882480758}\n",
      "{'Stock': 'AXP', 'Start Close': 99.49, 'End Close': 100.77, 'Predicted Close': 97.45019, 'Actual Profit': 1.286561463463666, 'Predicted Profit': -2.0502686871992424}\n",
      "{'Stock': 'BA', 'Start Close': 359.09, 'End Close': 364.2, 'Predicted Close': 348.17264, 'Actual Profit': 1.4230415773204528, 'Predicted Profit': -3.040285739103526}\n",
      "{'Stock': 'CAT', 'Start Close': 133.68, 'End Close': 136.86, 'Predicted Close': 130.93285, 'Actual Profit': 2.378815080789951, 'Predicted Profit': -2.055022389784612}\n",
      "{'Stock': 'CSCO', 'Start Close': 44.21, 'End Close': 46.13, 'Predicted Close': 61.124897, 'Actual Profit': 4.342908844152911, 'Predicted Profit': 38.26034155886412}\n",
      "{'Stock': 'CVX', 'Start Close': 111.96, 'End Close': 113.22, 'Predicted Close': 107.8326, 'Actual Profit': 1.125401929260455, 'Predicted Profit': -3.686492091291667}\n",
      "{'Stock': 'DIS', 'Start Close': 111.01, 'End Close': 111.09, 'Predicted Close': 111.96352, 'Actual Profit': 0.07206557967750499, 'Predicted Profit': 0.8589462529065466}\n",
      "{'Stock': 'DWDP', 'Start Close': 57.04, 'End Close': 57.76, 'Predicted Close': 67.47697, 'Actual Profit': 1.262272089761569, 'Predicted Profit': 18.29762773125904}\n",
      "{'Stock': 'GS', 'Start Close': 199.09, 'End Close': 200.74, 'Predicted Close': 190.7481, 'Actual Profit': 0.8287709076297181, 'Predicted Profit': -4.190018257387521}\n",
      "{'Stock': 'HD', 'Start Close': 174.87, 'End Close': 180.4, 'Predicted Close': 178.96782, 'Actual Profit': 3.162349173671871, 'Predicted Profit': 2.3433517549420615}\n",
      "{'Stock': 'IBM', 'Start Close': 122.19, 'End Close': 133.97, 'Predicted Close': 123.02389, 'Actual Profit': 9.640723463458547, 'Predicted Profit': 0.6824516198357853}\n",
      "{'Stock': 'INTC', 'Start Close': 48.47, 'End Close': 47.04, 'Predicted Close': 45.688698, 'Actual Profit': -2.950278522797606, 'Predicted Profit': -5.738193078313581}\n",
      "{'Stock': 'JNJ', 'Start Close': 129.09, 'End Close': 128.23, 'Predicted Close': 129.49863, 'Actual Profit': -0.6662018746610997, 'Predicted Profit': 0.31654404600230196}\n",
      "{'Stock': 'JPM', 'Start Close': 102.92, 'End Close': 103.39, 'Predicted Close': 99.83673, 'Actual Profit': 0.4566653711620665, 'Predicted Profit': -2.9957919189358257}\n",
      "{'Stock': 'KO', 'Start Close': 47.06, 'End Close': 47.37, 'Predicted Close': 45.715897, 'Actual Profit': 0.6587335316616981, 'Predicted Profit': -2.8561483075960257}\n",
      "{'Stock': 'MCD', 'Start Close': 181.11, 'End Close': 184.0, 'Predicted Close': 184.00557, 'Actual Profit': 1.5957153111368705, 'Predicted Profit': 1.5987904908662132}\n",
      "{'Stock': 'MMM', 'Start Close': 191.71, 'End Close': 195.9, 'Predicted Close': 193.97556, 'Actual Profit': 2.1855928224923047, 'Predicted Profit': 1.1817617338281086}\n",
      "{'Stock': 'MRK', 'Start Close': 75.6, 'End Close': 72.95, 'Predicted Close': 63.921486, 'Actual Profit': -3.5052910052909945, 'Predicted Profit': -15.447769972382394}\n",
      "{'Stock': 'MSFT', 'Start Close': 106.12, 'End Close': 107.17, 'Predicted Close': 96.50272, 'Actual Profit': 0.9894459102902348, 'Predicted Profit': -9.062642580241564}\n",
      "{'Stock': 'NKE', 'Start Close': 79.13, 'End Close': 80.61, 'Predicted Close': 70.31259, 'Actual Profit': 1.8703399469227904, 'Predicted Profit': -11.142940031929257}\n",
      "{'Stock': 'PFE', 'Start Close': 42.47, 'End Close': 40.64, 'Predicted Close': 40.046886, 'Actual Profit': -4.308923946315042, 'Predicted Profit': -5.705471052291505}\n",
      "{'Stock': 'PG', 'Start Close': 90.64, 'End Close': 93.6, 'Predicted Close': 88.71207, 'Actual Profit': 3.265666372462482, 'Predicted Profit': -2.1270226716784815}\n",
      "{'Stock': 'TRV', 'Start Close': 122.94, 'End Close': 124.98, 'Predicted Close': 126.15359, 'Actual Profit': 1.6593460224499808, 'Predicted Profit': 2.6139477316647115}\n",
      "{'Stock': 'UNH', 'Start Close': 259.77, 'End Close': 268.05, 'Predicted Close': 271.2339, 'Actual Profit': 3.187435038688082, 'Predicted Profit': 4.413091087789206}\n",
      "{'Stock': 'UTX', 'Start Close': 112.77, 'End Close': 115.81, 'Predicted Close': 110.59323, 'Actual Profit': 2.6957524164228133, 'Predicted Profit': -1.9302729438929866}\n",
      "{'Stock': 'V', 'Start Close': 137.28, 'End Close': 138.67, 'Predicted Close': 128.22124, 'Actual Profit': 1.0125291375291277, 'Predicted Profit': -6.598749138536432}\n",
      "{'Stock': 'VZ', 'Start Close': 56.83, 'End Close': 56.4, 'Predicted Close': 56.536976, 'Actual Profit': -0.7566426183353857, 'Predicted Profit': -0.5156152373821841}\n",
      "{'Stock': 'WBA', 'Start Close': 71.99, 'End Close': 71.89, 'Predicted Close': 72.88973, 'Actual Profit': -0.13890818169189376, 'Predicted Profit': 1.2498018625362535}\n",
      "{'Stock': 'WMT', 'Start Close': 96.74, 'End Close': 96.94, 'Predicted Close': 94.3655, 'Actual Profit': 0.20673971469919666, 'Predicted Profit': -2.4545158116512313}\n",
      "{'Stock': 'XOM', 'Start Close': 72.13, 'End Close': 71.72, 'Predicted Close': 71.5713, 'Actual Profit': -0.5684181339248532, 'Predicted Profit': -0.7745782727096413}\n"
     ]
    }
   ],
   "source": [
    "for stock in stockFiles:\n",
    "    file = stock + \".csv\"\n",
    "    filepath = os.path.join('..', 'Resources', file)\n",
    "    dictionary = predicted_profit(filepath, stock, 30, 5)\n",
    "    print(dictionary)\n",
    "    stockOutput.append(dictionary)"
   ]
  },
  {
   "cell_type": "code",
   "execution_count": 13,
   "metadata": {},
   "outputs": [
    {
     "data": {
      "text/plain": [
       "30"
      ]
     },
     "execution_count": 13,
     "metadata": {},
     "output_type": "execute_result"
    }
   ],
   "source": [
    "len(stockOutput)"
   ]
  },
  {
   "cell_type": "code",
   "execution_count": 14,
   "metadata": {},
   "outputs": [
    {
     "data": {
      "image/png": "[encoded data removed]",
      "text/plain": [
       "<Figure size 432x288 with 1 Axes>"
      ]
     },
     "metadata": {},
     "output_type": "display_data"
    }
   ],
   "source": [
    "#Plot points on scatter plot\n",
    "import matplotlib.pyplot as plt\n",
    "for index in range(0,len(stockOutput)):\n",
    "    closeDifference = stockOutput[index]['Predicted Close'] - stockOutput[index]['End Close']\n",
    "    plt.scatter(index, closeDifference, c='blue')\n",
    "    plt.text(index+0.3, closeDifference-1.3, stockOutput[index]['Stock'], fontsize=9)\n",
    "    \n",
    "#Outside of for loop\n",
    "plt.axhline(y=0, color='r', linestyle='-')\n",
    "plt.xlabel(\"Stock Name\")\n",
    "plt.ylabel(\"Diff between End Close and Actual Close\")\n",
    "plt.tick_params(\n",
    "    axis='x',          # changes apply to the x-axis\n",
    "    which='both',      # both major and minor ticks are affected\n",
    "    bottom=False,      # ticks along the bottom edge are off\n",
    "    top=False,         # ticks along the top edge are off\n",
    "    labelbottom=False) # labels along the bottom edge are off\n",
    "plt.show()"
   ]
  },
  {
   "cell_type": "code",
   "execution_count": 15,
   "metadata": {},
   "outputs": [
    {
     "data": {
      "image/png": "[encoded data removed]",
      "text/plain": [
       "<Figure size 432x288 with 1 Axes>"
      ]
     },
     "metadata": {},
     "output_type": "display_data"
    }
   ],
   "source": [
    "import matplotlib.pyplot as plt\n",
    "#Plot points on scatter plot\n",
    "for index in range(0,len(stockOutput)):\n",
    "    profitabilityDifference = stockOutput[index]['Predicted Profit'] - stockOutput[index]['Actual Profit']\n",
    "    plt.scatter(index, profitabilityDifference, c='blue')\n",
    "    plt.text(index+0.3, profitabilityDifference-1.3, stockOutput[index]['Stock'], fontsize=9)\n",
    "    \n",
    "#Outside of for loop\n",
    "plt.axhline(y=0, color='r', linestyle='-')\n",
    "plt.xlabel(\"Stock Name\")\n",
    "plt.ylabel(\"Diff between Predicted and Actual Profitability (%)\")\n",
    "plt.tick_params(\n",
    "    axis='x',          # changes apply to the x-axis\n",
    "    which='both',      # both major and minor ticks are affected\n",
    "    bottom=False,      # ticks along the bottom edge are off\n",
    "    top=False,         # ticks along the top edge are off\n",
    "    labelbottom=False) # labels along the bottom edge are off\n",
    "plt.show()"
   ]
  },
  {
   "cell_type": "code",
   "execution_count": null,
   "metadata": {},
   "outputs": [],
   "source": []
  }
 ],
 "metadata": {
  "kernelspec": {
   "display_name": "Python 3",
   "language": "python",
   "name": "python3"
  },
  "language_info": {
   "codemirror_mode": {
    "name": "ipython",
    "version": 3
   },
   "file_extension": ".py",
   "mimetype": "text/x-python",
   "name": "python",
   "nbconvert_exporter": "python",
   "pygments_lexer": "ipython3",
   "version": "3.6.5"
  }
 },
 "nbformat": 4,
 "nbformat_minor": 2
}
