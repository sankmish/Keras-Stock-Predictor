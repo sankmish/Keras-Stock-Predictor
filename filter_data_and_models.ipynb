{
 "cells": [
  {
   "cell_type": "code",
   "execution_count": 1,
   "metadata": {},
   "outputs": [],
   "source": [
    "# Dependencies\n",
    "from sklearn.neighbors import KNeighborsClassifier\n",
    "import numpy as np\n",
    "import pandas as pd\n",
    "import matplotlib.pyplot as plt\n",
    "%matplotlib inline"
   ]
  },
  {
   "cell_type": "code",
   "execution_count": 2,
   "metadata": {},
   "outputs": [
    {
     "data": {
      "text/html": [
       "<div>\n",
       "<style scoped>\n",
       "    .dataframe tbody tr th:only-of-type {\n",
       "        vertical-align: middle;\n",
       "    }\n",
       "\n",
       "    .dataframe tbody tr th {\n",
       "        vertical-align: top;\n",
       "    }\n",
       "\n",
       "    .dataframe thead th {\n",
       "        text-align: right;\n",
       "    }\n",
       "</style>\n",
       "<table border=\"1\" class=\"dataframe\">\n",
       "  <thead>\n",
       "    <tr style=\"text-align: right;\">\n",
       "      <th></th>\n",
       "      <th>date</th>\n",
       "      <th>open</th>\n",
       "      <th>high</th>\n",
       "      <th>low</th>\n",
       "      <th>close</th>\n",
       "      <th>volume</th>\n",
       "      <th>unadjustedVolume</th>\n",
       "      <th>change</th>\n",
       "      <th>changePercent</th>\n",
       "      <th>vwap</th>\n",
       "      <th>label</th>\n",
       "      <th>changeOverTime</th>\n",
       "    </tr>\n",
       "  </thead>\n",
       "  <tbody>\n",
       "    <tr>\n",
       "      <th>0</th>\n",
       "      <td>2014-01-27</td>\n",
       "      <td>64.7650</td>\n",
       "      <td>64.9747</td>\n",
       "      <td>64.5029</td>\n",
       "      <td>64.7825</td>\n",
       "      <td>9105139</td>\n",
       "      <td>9105139</td>\n",
       "      <td>-0.235889</td>\n",
       "      <td>-0.363</td>\n",
       "      <td>64.7739</td>\n",
       "      <td>Jan 27, 14</td>\n",
       "      <td>0.000000</td>\n",
       "    </tr>\n",
       "    <tr>\n",
       "      <th>1</th>\n",
       "      <td>2014-01-28</td>\n",
       "      <td>64.8786</td>\n",
       "      <td>65.8746</td>\n",
       "      <td>64.7388</td>\n",
       "      <td>65.2368</td>\n",
       "      <td>6035231</td>\n",
       "      <td>6035231</td>\n",
       "      <td>0.454305</td>\n",
       "      <td>0.701</td>\n",
       "      <td>65.3045</td>\n",
       "      <td>Jan 28, 14</td>\n",
       "      <td>0.007013</td>\n",
       "    </tr>\n",
       "    <tr>\n",
       "      <th>2</th>\n",
       "      <td>2014-01-29</td>\n",
       "      <td>65.7785</td>\n",
       "      <td>65.8484</td>\n",
       "      <td>64.7126</td>\n",
       "      <td>64.7388</td>\n",
       "      <td>8440854</td>\n",
       "      <td>8440854</td>\n",
       "      <td>-0.497990</td>\n",
       "      <td>-0.763</td>\n",
       "      <td>61.0517</td>\n",
       "      <td>Jan 29, 14</td>\n",
       "      <td>-0.000675</td>\n",
       "    </tr>\n",
       "    <tr>\n",
       "      <th>3</th>\n",
       "      <td>2014-01-30</td>\n",
       "      <td>65.1232</td>\n",
       "      <td>65.6037</td>\n",
       "      <td>64.9660</td>\n",
       "      <td>65.3067</td>\n",
       "      <td>6742046</td>\n",
       "      <td>6742046</td>\n",
       "      <td>0.567883</td>\n",
       "      <td>0.877</td>\n",
       "      <td>65.2975</td>\n",
       "      <td>Jan 30, 14</td>\n",
       "      <td>0.008092</td>\n",
       "    </tr>\n",
       "    <tr>\n",
       "      <th>4</th>\n",
       "      <td>2014-01-31</td>\n",
       "      <td>64.5816</td>\n",
       "      <td>65.6911</td>\n",
       "      <td>64.3369</td>\n",
       "      <td>65.2455</td>\n",
       "      <td>10665285</td>\n",
       "      <td>10665285</td>\n",
       "      <td>-0.061155</td>\n",
       "      <td>-0.094</td>\n",
       "      <td>65.3223</td>\n",
       "      <td>Jan 31, 14</td>\n",
       "      <td>0.007147</td>\n",
       "    </tr>\n",
       "  </tbody>\n",
       "</table>\n",
       "</div>"
      ],
      "text/plain": [
       "         date     open     high      low    close    volume  unadjustedVolume  \\\n",
       "0  2014-01-27  64.7650  64.9747  64.5029  64.7825   9105139           9105139   \n",
       "1  2014-01-28  64.8786  65.8746  64.7388  65.2368   6035231           6035231   \n",
       "2  2014-01-29  65.7785  65.8484  64.7126  64.7388   8440854           8440854   \n",
       "3  2014-01-30  65.1232  65.6037  64.9660  65.3067   6742046           6742046   \n",
       "4  2014-01-31  64.5816  65.6911  64.3369  65.2455  10665285          10665285   \n",
       "\n",
       "     change  changePercent     vwap       label  changeOverTime  \n",
       "0 -0.235889         -0.363  64.7739  Jan 27, 14        0.000000  \n",
       "1  0.454305          0.701  65.3045  Jan 28, 14        0.007013  \n",
       "2 -0.497990         -0.763  61.0517  Jan 29, 14       -0.000675  \n",
       "3  0.567883          0.877  65.2975  Jan 30, 14        0.008092  \n",
       "4 -0.061155         -0.094  65.3223  Jan 31, 14        0.007147  "
      ]
     },
     "execution_count": 2,
     "metadata": {},
     "output_type": "execute_result"
    }
   ],
   "source": [
    "#Grab CSV data\n",
    "unfilteredData = pd.read_csv('Resources/WMT.csv')\n",
    "unfilteredData.head()"
   ]
  },
  {
   "cell_type": "code",
   "execution_count": 3,
   "metadata": {},
   "outputs": [
    {
     "data": {
      "text/html": [
       "<div>\n",
       "<style scoped>\n",
       "    .dataframe tbody tr th:only-of-type {\n",
       "        vertical-align: middle;\n",
       "    }\n",
       "\n",
       "    .dataframe tbody tr th {\n",
       "        vertical-align: top;\n",
       "    }\n",
       "\n",
       "    .dataframe thead th {\n",
       "        text-align: right;\n",
       "    }\n",
       "</style>\n",
       "<table border=\"1\" class=\"dataframe\">\n",
       "  <thead>\n",
       "    <tr style=\"text-align: right;\">\n",
       "      <th></th>\n",
       "      <th>date</th>\n",
       "      <th>open</th>\n",
       "      <th>high</th>\n",
       "      <th>low</th>\n",
       "      <th>close</th>\n",
       "    </tr>\n",
       "  </thead>\n",
       "  <tbody>\n",
       "    <tr>\n",
       "      <th>0</th>\n",
       "      <td>2014-01-27</td>\n",
       "      <td>64.7650</td>\n",
       "      <td>64.9747</td>\n",
       "      <td>64.5029</td>\n",
       "      <td>64.7825</td>\n",
       "    </tr>\n",
       "    <tr>\n",
       "      <th>1</th>\n",
       "      <td>2014-01-28</td>\n",
       "      <td>64.8786</td>\n",
       "      <td>65.8746</td>\n",
       "      <td>64.7388</td>\n",
       "      <td>65.2368</td>\n",
       "    </tr>\n",
       "    <tr>\n",
       "      <th>2</th>\n",
       "      <td>2014-01-29</td>\n",
       "      <td>65.7785</td>\n",
       "      <td>65.8484</td>\n",
       "      <td>64.7126</td>\n",
       "      <td>64.7388</td>\n",
       "    </tr>\n",
       "    <tr>\n",
       "      <th>3</th>\n",
       "      <td>2014-01-30</td>\n",
       "      <td>65.1232</td>\n",
       "      <td>65.6037</td>\n",
       "      <td>64.9660</td>\n",
       "      <td>65.3067</td>\n",
       "    </tr>\n",
       "    <tr>\n",
       "      <th>4</th>\n",
       "      <td>2014-01-31</td>\n",
       "      <td>64.5816</td>\n",
       "      <td>65.6911</td>\n",
       "      <td>64.3369</td>\n",
       "      <td>65.2455</td>\n",
       "    </tr>\n",
       "  </tbody>\n",
       "</table>\n",
       "</div>"
      ],
      "text/plain": [
       "         date     open     high      low    close\n",
       "0  2014-01-27  64.7650  64.9747  64.5029  64.7825\n",
       "1  2014-01-28  64.8786  65.8746  64.7388  65.2368\n",
       "2  2014-01-29  65.7785  65.8484  64.7126  64.7388\n",
       "3  2014-01-30  65.1232  65.6037  64.9660  65.3067\n",
       "4  2014-01-31  64.5816  65.6911  64.3369  65.2455"
      ]
     },
     "execution_count": 3,
     "metadata": {},
     "output_type": "execute_result"
    }
   ],
   "source": [
    "# Drop unneccessary input feature columns \n",
    "unfilteredData = unfilteredData.drop(columns=[\"volume\", \"unadjustedVolume\", \"change\", \"changePercent\", \"vwap\", \"label\", \"changeOverTime\"])\n",
    "unfilteredData.head()"
   ]
  },
  {
   "cell_type": "code",
   "execution_count": 4,
   "metadata": {},
   "outputs": [],
   "source": [
    "#Grab All Index Values for Stock Predictor to Split CSV Data to Train and Test\n",
    "unfilteredLastIndex = len(unfilteredData)-1\n",
    "startDate = unfilteredData.loc[unfilteredData[\"date\"] == \"2016-06-01\"]\n",
    "startDateIndex = startDate.index.tolist()"
   ]
  },
  {
   "cell_type": "code",
   "execution_count": 5,
   "metadata": {},
   "outputs": [
    {
     "data": {
      "text/html": [
       "<div>\n",
       "<style scoped>\n",
       "    .dataframe tbody tr th:only-of-type {\n",
       "        vertical-align: middle;\n",
       "    }\n",
       "\n",
       "    .dataframe tbody tr th {\n",
       "        vertical-align: top;\n",
       "    }\n",
       "\n",
       "    .dataframe thead th {\n",
       "        text-align: right;\n",
       "    }\n",
       "</style>\n",
       "<table border=\"1\" class=\"dataframe\">\n",
       "  <thead>\n",
       "    <tr style=\"text-align: right;\">\n",
       "      <th></th>\n",
       "      <th>date</th>\n",
       "      <th>open</th>\n",
       "      <th>high</th>\n",
       "      <th>low</th>\n",
       "      <th>close</th>\n",
       "    </tr>\n",
       "  </thead>\n",
       "  <tbody>\n",
       "    <tr>\n",
       "      <th>0</th>\n",
       "      <td>2016-06-01</td>\n",
       "      <td>65.8547</td>\n",
       "      <td>66.2330</td>\n",
       "      <td>65.7706</td>\n",
       "      <td>65.8547</td>\n",
       "    </tr>\n",
       "    <tr>\n",
       "      <th>1</th>\n",
       "      <td>2016-06-02</td>\n",
       "      <td>65.8547</td>\n",
       "      <td>66.3217</td>\n",
       "      <td>65.5231</td>\n",
       "      <td>66.2750</td>\n",
       "    </tr>\n",
       "    <tr>\n",
       "      <th>2</th>\n",
       "      <td>2016-06-03</td>\n",
       "      <td>65.9201</td>\n",
       "      <td>66.3684</td>\n",
       "      <td>65.8733</td>\n",
       "      <td>66.2003</td>\n",
       "    </tr>\n",
       "    <tr>\n",
       "      <th>3</th>\n",
       "      <td>2016-06-06</td>\n",
       "      <td>66.8075</td>\n",
       "      <td>66.8355</td>\n",
       "      <td>66.3217</td>\n",
       "      <td>66.3684</td>\n",
       "    </tr>\n",
       "    <tr>\n",
       "      <th>4</th>\n",
       "      <td>2016-06-07</td>\n",
       "      <td>66.4151</td>\n",
       "      <td>66.6113</td>\n",
       "      <td>66.1816</td>\n",
       "      <td>66.3497</td>\n",
       "    </tr>\n",
       "  </tbody>\n",
       "</table>\n",
       "</div>"
      ],
      "text/plain": [
       "         date     open     high      low    close\n",
       "0  2016-06-01  65.8547  66.2330  65.7706  65.8547\n",
       "1  2016-06-02  65.8547  66.3217  65.5231  66.2750\n",
       "2  2016-06-03  65.9201  66.3684  65.8733  66.2003\n",
       "3  2016-06-06  66.8075  66.8355  66.3217  66.3684\n",
       "4  2016-06-07  66.4151  66.6113  66.1816  66.3497"
      ]
     },
     "execution_count": 5,
     "metadata": {},
     "output_type": "execute_result"
    }
   ],
   "source": [
    "#Filter Data down to 2 1/2 Years\n",
    "filteredData = unfilteredData.loc[startDateIndex[0]:unfilteredLastIndex]\n",
    "filteredData.reset_index(inplace=True, drop=True)\n",
    "filteredData.head()"
   ]
  },
  {
   "cell_type": "code",
   "execution_count": 6,
   "metadata": {},
   "outputs": [
    {
     "name": "stdout",
     "output_type": "stream",
     "text": [
      "Last Index of Raw Data: 667\n",
      "Splice Index: 666\n",
      "Input Index Train End .5 Years Ago : 503\n",
      "Output Index Train End .5 Years Ago : 504\n",
      "Output Index Test Start .5 Years Ago : 505\n"
     ]
    }
   ],
   "source": [
    "filteredLastIndex = len(filteredData)-1\n",
    "spliceIndex = filteredLastIndex-1\n",
    "outputStartDateIndex = startDateIndex[0] + 1\n",
    "endDateTrain = filteredData.loc[filteredData[\"date\"] == \"2018-06-01\"]\n",
    "endDateTrainIndex = endDateTrain.index.tolist()\n",
    "inputTrainEndDate = endDateTrainIndex[0] - 1\n",
    "outputTestStartDate = endDateTrainIndex[0] + 1\n",
    "\n",
    "print(\"Last Index of Raw Data: \" + str(filteredLastIndex))\n",
    "print(\"Splice Index: \" + str(spliceIndex))\n",
    "print(\"Input Index Train End .5 Years Ago : \" + str(inputTrainEndDate))\n",
    "print(\"Output Index Train End .5 Years Ago : \" + str(endDateTrainIndex[0]))\n",
    "print(\"Output Index Test Start .5 Years Ago : \" + str(outputTestStartDate))"
   ]
  },
  {
   "cell_type": "code",
   "execution_count": 7,
   "metadata": {},
   "outputs": [
    {
     "data": {
      "text/html": [
       "<div>\n",
       "<style scoped>\n",
       "    .dataframe tbody tr th:only-of-type {\n",
       "        vertical-align: middle;\n",
       "    }\n",
       "\n",
       "    .dataframe tbody tr th {\n",
       "        vertical-align: top;\n",
       "    }\n",
       "\n",
       "    .dataframe thead th {\n",
       "        text-align: right;\n",
       "    }\n",
       "</style>\n",
       "<table border=\"1\" class=\"dataframe\">\n",
       "  <thead>\n",
       "    <tr style=\"text-align: right;\">\n",
       "      <th></th>\n",
       "      <th>date</th>\n",
       "      <th>open</th>\n",
       "      <th>high</th>\n",
       "      <th>low</th>\n",
       "      <th>close</th>\n",
       "    </tr>\n",
       "  </thead>\n",
       "  <tbody>\n",
       "    <tr>\n",
       "      <th>0</th>\n",
       "      <td>2016-06-01</td>\n",
       "      <td>65.8547</td>\n",
       "      <td>66.2330</td>\n",
       "      <td>65.7706</td>\n",
       "      <td>65.8547</td>\n",
       "    </tr>\n",
       "    <tr>\n",
       "      <th>1</th>\n",
       "      <td>2016-06-02</td>\n",
       "      <td>65.8547</td>\n",
       "      <td>66.3217</td>\n",
       "      <td>65.5231</td>\n",
       "      <td>66.2750</td>\n",
       "    </tr>\n",
       "    <tr>\n",
       "      <th>2</th>\n",
       "      <td>2016-06-03</td>\n",
       "      <td>65.9201</td>\n",
       "      <td>66.3684</td>\n",
       "      <td>65.8733</td>\n",
       "      <td>66.2003</td>\n",
       "    </tr>\n",
       "    <tr>\n",
       "      <th>3</th>\n",
       "      <td>2016-06-06</td>\n",
       "      <td>66.8075</td>\n",
       "      <td>66.8355</td>\n",
       "      <td>66.3217</td>\n",
       "      <td>66.3684</td>\n",
       "    </tr>\n",
       "    <tr>\n",
       "      <th>4</th>\n",
       "      <td>2016-06-07</td>\n",
       "      <td>66.4151</td>\n",
       "      <td>66.6113</td>\n",
       "      <td>66.1816</td>\n",
       "      <td>66.3497</td>\n",
       "    </tr>\n",
       "  </tbody>\n",
       "</table>\n",
       "</div>"
      ],
      "text/plain": [
       "         date     open     high      low    close\n",
       "0  2016-06-01  65.8547  66.2330  65.7706  65.8547\n",
       "1  2016-06-02  65.8547  66.3217  65.5231  66.2750\n",
       "2  2016-06-03  65.9201  66.3684  65.8733  66.2003\n",
       "3  2016-06-06  66.8075  66.8355  66.3217  66.3684\n",
       "4  2016-06-07  66.4151  66.6113  66.1816  66.3497"
      ]
     },
     "execution_count": 7,
     "metadata": {},
     "output_type": "execute_result"
    }
   ],
   "source": [
    "#X Train Split using Index Values from earlier\n",
    "X_trainData = filteredData.loc[:inputTrainEndDate]\n",
    "X_trainData.head()"
   ]
  },
  {
   "cell_type": "code",
   "execution_count": 8,
   "metadata": {},
   "outputs": [
    {
     "data": {
      "text/plain": [
       "1    66.2750\n",
       "2    66.2003\n",
       "3    66.3684\n",
       "4    66.3497\n",
       "5    66.5833\n",
       "Name: close, dtype: float64"
      ]
     },
     "execution_count": 8,
     "metadata": {},
     "output_type": "execute_result"
    }
   ],
   "source": [
    "#Y Train Split using Index Values from earlier\n",
    "y_trainData = filteredData.loc[1:endDateTrainIndex[0]]\n",
    "y_trainData = y_trainData[\"close\"]\n",
    "y_trainData.head()"
   ]
  },
  {
   "cell_type": "code",
   "execution_count": 9,
   "metadata": {},
   "outputs": [
    {
     "data": {
      "text/html": [
       "<div>\n",
       "<style scoped>\n",
       "    .dataframe tbody tr th:only-of-type {\n",
       "        vertical-align: middle;\n",
       "    }\n",
       "\n",
       "    .dataframe tbody tr th {\n",
       "        vertical-align: top;\n",
       "    }\n",
       "\n",
       "    .dataframe thead th {\n",
       "        text-align: right;\n",
       "    }\n",
       "</style>\n",
       "<table border=\"1\" class=\"dataframe\">\n",
       "  <thead>\n",
       "    <tr style=\"text-align: right;\">\n",
       "      <th></th>\n",
       "      <th>date</th>\n",
       "      <th>open</th>\n",
       "      <th>high</th>\n",
       "      <th>low</th>\n",
       "      <th>close</th>\n",
       "    </tr>\n",
       "  </thead>\n",
       "  <tbody>\n",
       "    <tr>\n",
       "      <th>504</th>\n",
       "      <td>2018-06-01</td>\n",
       "      <td>82.1124</td>\n",
       "      <td>82.4881</td>\n",
       "      <td>81.9245</td>\n",
       "      <td>82.0629</td>\n",
       "    </tr>\n",
       "    <tr>\n",
       "      <th>505</th>\n",
       "      <td>2018-06-04</td>\n",
       "      <td>82.5673</td>\n",
       "      <td>84.5647</td>\n",
       "      <td>82.3695</td>\n",
       "      <td>84.4658</td>\n",
       "    </tr>\n",
       "    <tr>\n",
       "      <th>506</th>\n",
       "      <td>2018-06-05</td>\n",
       "      <td>84.4955</td>\n",
       "      <td>84.5152</td>\n",
       "      <td>83.3089</td>\n",
       "      <td>83.6747</td>\n",
       "    </tr>\n",
       "    <tr>\n",
       "      <th>507</th>\n",
       "      <td>2018-06-06</td>\n",
       "      <td>84.0011</td>\n",
       "      <td>84.1961</td>\n",
       "      <td>83.4078</td>\n",
       "      <td>83.6154</td>\n",
       "    </tr>\n",
       "    <tr>\n",
       "      <th>508</th>\n",
       "      <td>2018-06-07</td>\n",
       "      <td>83.8330</td>\n",
       "      <td>84.8020</td>\n",
       "      <td>83.7440</td>\n",
       "      <td>84.0011</td>\n",
       "    </tr>\n",
       "  </tbody>\n",
       "</table>\n",
       "</div>"
      ],
      "text/plain": [
       "           date     open     high      low    close\n",
       "504  2018-06-01  82.1124  82.4881  81.9245  82.0629\n",
       "505  2018-06-04  82.5673  84.5647  82.3695  84.4658\n",
       "506  2018-06-05  84.4955  84.5152  83.3089  83.6747\n",
       "507  2018-06-06  84.0011  84.1961  83.4078  83.6154\n",
       "508  2018-06-07  83.8330  84.8020  83.7440  84.0011"
      ]
     },
     "execution_count": 9,
     "metadata": {},
     "output_type": "execute_result"
    }
   ],
   "source": [
    "#X Test Split from Index Values from earlier, with last index sliced\n",
    "X_testData = filteredData.loc[endDateTrainIndex[0]:spliceIndex]\n",
    "X_testData.head()"
   ]
  },
  {
   "cell_type": "code",
   "execution_count": 10,
   "metadata": {},
   "outputs": [
    {
     "data": {
      "text/plain": [
       "505    59.1116\n",
       "506    61.0814\n",
       "507    62.1307\n",
       "508    61.5416\n",
       "509    60.9985\n",
       "Name: close, dtype: float64"
      ]
     },
     "execution_count": 10,
     "metadata": {},
     "output_type": "execute_result"
    }
   ],
   "source": [
    "y_testData = unfilteredData.loc[outputTestStartDate:filteredLastIndex]\n",
    "y_testData = y_testData[\"close\"]\n",
    "y_testData.head()"
   ]
  },
  {
   "cell_type": "code",
   "execution_count": 11,
   "metadata": {},
   "outputs": [
    {
     "data": {
      "text/html": [
       "<div>\n",
       "<style scoped>\n",
       "    .dataframe tbody tr th:only-of-type {\n",
       "        vertical-align: middle;\n",
       "    }\n",
       "\n",
       "    .dataframe tbody tr th {\n",
       "        vertical-align: top;\n",
       "    }\n",
       "\n",
       "    .dataframe thead th {\n",
       "        text-align: right;\n",
       "    }\n",
       "</style>\n",
       "<table border=\"1\" class=\"dataframe\">\n",
       "  <thead>\n",
       "    <tr style=\"text-align: right;\">\n",
       "      <th></th>\n",
       "      <th>date</th>\n",
       "      <th>open</th>\n",
       "      <th>high</th>\n",
       "      <th>low</th>\n",
       "      <th>close</th>\n",
       "    </tr>\n",
       "  </thead>\n",
       "  <tbody>\n",
       "    <tr>\n",
       "      <th>0</th>\n",
       "      <td>2016-06-01</td>\n",
       "      <td>65.8547</td>\n",
       "      <td>66.2330</td>\n",
       "      <td>65.7706</td>\n",
       "      <td>65.8547</td>\n",
       "    </tr>\n",
       "    <tr>\n",
       "      <th>1</th>\n",
       "      <td>2016-06-02</td>\n",
       "      <td>65.8547</td>\n",
       "      <td>66.3217</td>\n",
       "      <td>65.5231</td>\n",
       "      <td>66.2750</td>\n",
       "    </tr>\n",
       "    <tr>\n",
       "      <th>2</th>\n",
       "      <td>2016-06-03</td>\n",
       "      <td>65.9201</td>\n",
       "      <td>66.3684</td>\n",
       "      <td>65.8733</td>\n",
       "      <td>66.2003</td>\n",
       "    </tr>\n",
       "    <tr>\n",
       "      <th>3</th>\n",
       "      <td>2016-06-06</td>\n",
       "      <td>66.8075</td>\n",
       "      <td>66.8355</td>\n",
       "      <td>66.3217</td>\n",
       "      <td>66.3684</td>\n",
       "    </tr>\n",
       "    <tr>\n",
       "      <th>4</th>\n",
       "      <td>2016-06-07</td>\n",
       "      <td>66.4151</td>\n",
       "      <td>66.6113</td>\n",
       "      <td>66.1816</td>\n",
       "      <td>66.3497</td>\n",
       "    </tr>\n",
       "  </tbody>\n",
       "</table>\n",
       "</div>"
      ],
      "text/plain": [
       "         date     open     high      low    close\n",
       "0  2016-06-01  65.8547  66.2330  65.7706  65.8547\n",
       "1  2016-06-02  65.8547  66.3217  65.5231  66.2750\n",
       "2  2016-06-03  65.9201  66.3684  65.8733  66.2003\n",
       "3  2016-06-06  66.8075  66.8355  66.3217  66.3684\n",
       "4  2016-06-07  66.4151  66.6113  66.1816  66.3497"
      ]
     },
     "execution_count": 11,
     "metadata": {},
     "output_type": "execute_result"
    }
   ],
   "source": [
    "movingAverageFilteredData = filteredData\n",
    "movingAverageFilteredData.reset_index(inplace=True, drop=True)\n",
    "movingAverageFilteredData.head()"
   ]
  },
  {
   "cell_type": "code",
   "execution_count": 12,
   "metadata": {},
   "outputs": [
    {
     "data": {
      "text/html": [
       "<div>\n",
       "<style scoped>\n",
       "    .dataframe tbody tr th:only-of-type {\n",
       "        vertical-align: middle;\n",
       "    }\n",
       "\n",
       "    .dataframe tbody tr th {\n",
       "        vertical-align: top;\n",
       "    }\n",
       "\n",
       "    .dataframe thead th {\n",
       "        text-align: right;\n",
       "    }\n",
       "</style>\n",
       "<table border=\"1\" class=\"dataframe\">\n",
       "  <thead>\n",
       "    <tr style=\"text-align: right;\">\n",
       "      <th></th>\n",
       "      <th>date</th>\n",
       "      <th>close</th>\n",
       "    </tr>\n",
       "  </thead>\n",
       "  <tbody>\n",
       "    <tr>\n",
       "      <th>0</th>\n",
       "      <td>2016-06-01</td>\n",
       "      <td>65.8547</td>\n",
       "    </tr>\n",
       "    <tr>\n",
       "      <th>1</th>\n",
       "      <td>2016-06-02</td>\n",
       "      <td>66.275</td>\n",
       "    </tr>\n",
       "    <tr>\n",
       "      <th>2</th>\n",
       "      <td>2016-06-03</td>\n",
       "      <td>66.2003</td>\n",
       "    </tr>\n",
       "    <tr>\n",
       "      <th>3</th>\n",
       "      <td>2016-06-06</td>\n",
       "      <td>66.3684</td>\n",
       "    </tr>\n",
       "    <tr>\n",
       "      <th>4</th>\n",
       "      <td>2016-06-07</td>\n",
       "      <td>66.3497</td>\n",
       "    </tr>\n",
       "  </tbody>\n",
       "</table>\n",
       "</div>"
      ],
      "text/plain": [
       "         date    close\n",
       "0  2016-06-01  65.8547\n",
       "1  2016-06-02   66.275\n",
       "2  2016-06-03  66.2003\n",
       "3  2016-06-06  66.3684\n",
       "4  2016-06-07  66.3497"
      ]
     },
     "execution_count": 12,
     "metadata": {},
     "output_type": "execute_result"
    }
   ],
   "source": [
    "# Moving Average Model\n",
    "# Does Not Use X_train, y_train, x_test, or y_test dataframes\n",
    "movingAverageData = pd.DataFrame(index=range(0,len(movingAverageFilteredData)),columns=['date', 'close'])\n",
    "for i in range(0,len(movingAverageFilteredData)):\n",
    "    movingAverageData['date'][i] = movingAverageFilteredData['date'][i]\n",
    "    movingAverageData['close'][i] = movingAverageFilteredData['close'][i]\n",
    "movingAverageData.head()"
   ]
  },
  {
   "cell_type": "code",
   "execution_count": 13,
   "metadata": {},
   "outputs": [
    {
     "data": {
      "text/html": [
       "<div>\n",
       "<style scoped>\n",
       "    .dataframe tbody tr th:only-of-type {\n",
       "        vertical-align: middle;\n",
       "    }\n",
       "\n",
       "    .dataframe tbody tr th {\n",
       "        vertical-align: top;\n",
       "    }\n",
       "\n",
       "    .dataframe thead th {\n",
       "        text-align: right;\n",
       "    }\n",
       "</style>\n",
       "<table border=\"1\" class=\"dataframe\">\n",
       "  <thead>\n",
       "    <tr style=\"text-align: right;\">\n",
       "      <th></th>\n",
       "      <th>date</th>\n",
       "      <th>close</th>\n",
       "    </tr>\n",
       "  </thead>\n",
       "  <tbody>\n",
       "    <tr>\n",
       "      <th>0</th>\n",
       "      <td>2016-06-01</td>\n",
       "      <td>65.8547</td>\n",
       "    </tr>\n",
       "    <tr>\n",
       "      <th>1</th>\n",
       "      <td>2016-06-02</td>\n",
       "      <td>66.275</td>\n",
       "    </tr>\n",
       "    <tr>\n",
       "      <th>2</th>\n",
       "      <td>2016-06-03</td>\n",
       "      <td>66.2003</td>\n",
       "    </tr>\n",
       "    <tr>\n",
       "      <th>3</th>\n",
       "      <td>2016-06-06</td>\n",
       "      <td>66.3684</td>\n",
       "    </tr>\n",
       "    <tr>\n",
       "      <th>4</th>\n",
       "      <td>2016-06-07</td>\n",
       "      <td>66.3497</td>\n",
       "    </tr>\n",
       "  </tbody>\n",
       "</table>\n",
       "</div>"
      ],
      "text/plain": [
       "         date    close\n",
       "0  2016-06-01  65.8547\n",
       "1  2016-06-02   66.275\n",
       "2  2016-06-03  66.2003\n",
       "3  2016-06-06  66.3684\n",
       "4  2016-06-07  66.3497"
      ]
     },
     "execution_count": 13,
     "metadata": {},
     "output_type": "execute_result"
    }
   ],
   "source": [
    "movingAverageTrainData = movingAverageData.loc[:inputTrainEndDate]\n",
    "movingAverageTrainData.head()"
   ]
  },
  {
   "cell_type": "code",
   "execution_count": 14,
   "metadata": {},
   "outputs": [
    {
     "data": {
      "text/html": [
       "<div>\n",
       "<style scoped>\n",
       "    .dataframe tbody tr th:only-of-type {\n",
       "        vertical-align: middle;\n",
       "    }\n",
       "\n",
       "    .dataframe tbody tr th {\n",
       "        vertical-align: top;\n",
       "    }\n",
       "\n",
       "    .dataframe thead th {\n",
       "        text-align: right;\n",
       "    }\n",
       "</style>\n",
       "<table border=\"1\" class=\"dataframe\">\n",
       "  <thead>\n",
       "    <tr style=\"text-align: right;\">\n",
       "      <th></th>\n",
       "      <th>date</th>\n",
       "      <th>close</th>\n",
       "    </tr>\n",
       "  </thead>\n",
       "  <tbody>\n",
       "    <tr>\n",
       "      <th>504</th>\n",
       "      <td>2018-06-01</td>\n",
       "      <td>82.0629</td>\n",
       "    </tr>\n",
       "    <tr>\n",
       "      <th>505</th>\n",
       "      <td>2018-06-04</td>\n",
       "      <td>84.4658</td>\n",
       "    </tr>\n",
       "    <tr>\n",
       "      <th>506</th>\n",
       "      <td>2018-06-05</td>\n",
       "      <td>83.6747</td>\n",
       "    </tr>\n",
       "    <tr>\n",
       "      <th>507</th>\n",
       "      <td>2018-06-06</td>\n",
       "      <td>83.6154</td>\n",
       "    </tr>\n",
       "    <tr>\n",
       "      <th>508</th>\n",
       "      <td>2018-06-07</td>\n",
       "      <td>84.0011</td>\n",
       "    </tr>\n",
       "  </tbody>\n",
       "</table>\n",
       "</div>"
      ],
      "text/plain": [
       "           date    close\n",
       "504  2018-06-01  82.0629\n",
       "505  2018-06-04  84.4658\n",
       "506  2018-06-05  83.6747\n",
       "507  2018-06-06  83.6154\n",
       "508  2018-06-07  84.0011"
      ]
     },
     "execution_count": 14,
     "metadata": {},
     "output_type": "execute_result"
    }
   ],
   "source": [
    "movingAverageTestData = movingAverageData.loc[endDateTrainIndex[0]:]\n",
    "movingAverageTestData.head()"
   ]
  },
  {
   "cell_type": "code",
   "execution_count": 15,
   "metadata": {},
   "outputs": [
    {
     "data": {
      "text/plain": [
       "((668, 2), (504, 2), (164, 2))"
      ]
     },
     "execution_count": 15,
     "metadata": {},
     "output_type": "execute_result"
    }
   ],
   "source": [
    "movingAverageData.shape, movingAverageTrainData.shape, movingAverageTestData.shape "
   ]
  },
  {
   "cell_type": "code",
   "execution_count": 16,
   "metadata": {},
   "outputs": [
    {
     "data": {
      "text/plain": [
       "('2016-06-01', '2018-05-31', '2018-06-01', '2019-01-25')"
      ]
     },
     "execution_count": 16,
     "metadata": {},
     "output_type": "execute_result"
    }
   ],
   "source": [
    "movingAverageTrainData['date'].min(), movingAverageTrainData['date'].max(), movingAverageTestData['date'].min(), movingAverageTestData['date'].max()"
   ]
  },
  {
   "cell_type": "code",
   "execution_count": 17,
   "metadata": {},
   "outputs": [],
   "source": [
    "#make predictions\n",
    "preds = []\n",
    "for i in range(0,len(movingAverageTestData)):\n",
    "    a = movingAverageTestData['close'][len(movingAverageTestData)-len(movingAverageTestData)+i:].sum() + sum(preds)\n",
    "    b = a/len(movingAverageTestData)\n",
    "    preds.append(b)"
   ]
  },
  {
   "cell_type": "code",
   "execution_count": 18,
   "metadata": {},
   "outputs": [
    {
     "data": {
      "text/plain": [
       "5.437535698023625"
      ]
     },
     "execution_count": 18,
     "metadata": {},
     "output_type": "execute_result"
    }
   ],
   "source": [
    "#calculate rmse\n",
    "rmse=np.sqrt(np.mean(np.power((np.array(movingAverageTestData['close'])-preds),2)))\n",
    "rmse"
   ]
  },
  {
   "cell_type": "code",
   "execution_count": 19,
   "metadata": {},
   "outputs": [
    {
     "name": "stderr",
     "output_type": "stream",
     "text": [
      "D:\\Users\\Sanket_Mishra\\Anaconda3\\envs\\PythonData\\lib\\site-packages\\ipykernel_launcher.py:2: SettingWithCopyWarning: \n",
      "A value is trying to be set on a copy of a slice from a DataFrame.\n",
      "Try using .loc[row_indexer,col_indexer] = value instead\n",
      "\n",
      "See the caveats in the documentation: http://pandas.pydata.org/pandas-docs/stable/indexing.html#indexing-view-versus-copy\n",
      "  \n",
      "D:\\Users\\Sanket_Mishra\\Anaconda3\\envs\\PythonData\\lib\\site-packages\\ipykernel_launcher.py:3: SettingWithCopyWarning: \n",
      "A value is trying to be set on a copy of a slice from a DataFrame.\n",
      "Try using .loc[row_indexer,col_indexer] = value instead\n",
      "\n",
      "See the caveats in the documentation: http://pandas.pydata.org/pandas-docs/stable/indexing.html#indexing-view-versus-copy\n",
      "  This is separate from the ipykernel package so we can avoid doing imports until\n"
     ]
    },
    {
     "data": {
      "text/plain": [
       "Text(0.5,1,'Moving Average Model Predictor')"
      ]
     },
     "execution_count": 19,
     "metadata": {},
     "output_type": "execute_result"
    },
    {
     "data": {
      "image/png": "[encoded data removed]",
      "text/plain": [
       "<Figure size 432x288 with 1 Axes>"
      ]
     },
     "metadata": {},
     "output_type": "display_data"
    }
   ],
   "source": [
    "#plot\n",
    "movingAverageTestData['Predictions'] = 0\n",
    "movingAverageTestData['Predictions'] = preds\n",
    "plt.plot(movingAverageTrainData['close'], 'b-', label=\"Train Close\")\n",
    "plt.plot(movingAverageTestData['close'], 'g-', label=\"Test Close\")\n",
    "plt.plot(movingAverageTestData['Predictions'], 'r-', label=\"Predicted Close\")\n",
    "plt.legend()\n",
    "plt.xlabel(\"Day Index\")\n",
    "plt.ylabel(\"Close Price\")\n",
    "plt.title(\"Moving Average Model Predictor\")"
   ]
  },
  {
   "cell_type": "code",
   "execution_count": 20,
   "metadata": {},
   "outputs": [],
   "source": [
    "#importing libraries\n",
    "from sklearn import neighbors\n",
    "from sklearn.model_selection import GridSearchCV\n",
    "from sklearn.preprocessing import MinMaxScaler\n",
    "scaler = MinMaxScaler(feature_range=(0, 1))"
   ]
  },
  {
   "cell_type": "code",
   "execution_count": 21,
   "metadata": {},
   "outputs": [
    {
     "data": {
      "text/html": [
       "<div>\n",
       "<style scoped>\n",
       "    .dataframe tbody tr th:only-of-type {\n",
       "        vertical-align: middle;\n",
       "    }\n",
       "\n",
       "    .dataframe tbody tr th {\n",
       "        vertical-align: top;\n",
       "    }\n",
       "\n",
       "    .dataframe thead th {\n",
       "        text-align: right;\n",
       "    }\n",
       "</style>\n",
       "<table border=\"1\" class=\"dataframe\">\n",
       "  <thead>\n",
       "    <tr style=\"text-align: right;\">\n",
       "      <th></th>\n",
       "      <th>open</th>\n",
       "      <th>high</th>\n",
       "      <th>low</th>\n",
       "      <th>close</th>\n",
       "    </tr>\n",
       "  </thead>\n",
       "  <tbody>\n",
       "    <tr>\n",
       "      <th>0</th>\n",
       "      <td>65.8547</td>\n",
       "      <td>66.2330</td>\n",
       "      <td>65.7706</td>\n",
       "      <td>65.8547</td>\n",
       "    </tr>\n",
       "    <tr>\n",
       "      <th>1</th>\n",
       "      <td>65.8547</td>\n",
       "      <td>66.3217</td>\n",
       "      <td>65.5231</td>\n",
       "      <td>66.2750</td>\n",
       "    </tr>\n",
       "    <tr>\n",
       "      <th>2</th>\n",
       "      <td>65.9201</td>\n",
       "      <td>66.3684</td>\n",
       "      <td>65.8733</td>\n",
       "      <td>66.2003</td>\n",
       "    </tr>\n",
       "    <tr>\n",
       "      <th>3</th>\n",
       "      <td>66.8075</td>\n",
       "      <td>66.8355</td>\n",
       "      <td>66.3217</td>\n",
       "      <td>66.3684</td>\n",
       "    </tr>\n",
       "    <tr>\n",
       "      <th>4</th>\n",
       "      <td>66.4151</td>\n",
       "      <td>66.6113</td>\n",
       "      <td>66.1816</td>\n",
       "      <td>66.3497</td>\n",
       "    </tr>\n",
       "  </tbody>\n",
       "</table>\n",
       "</div>"
      ],
      "text/plain": [
       "      open     high      low    close\n",
       "0  65.8547  66.2330  65.7706  65.8547\n",
       "1  65.8547  66.3217  65.5231  66.2750\n",
       "2  65.9201  66.3684  65.8733  66.2003\n",
       "3  66.8075  66.8355  66.3217  66.3684\n",
       "4  66.4151  66.6113  66.1816  66.3497"
      ]
     },
     "execution_count": 21,
     "metadata": {},
     "output_type": "execute_result"
    }
   ],
   "source": [
    "X_train = X_trainData\n",
    "X_train = X_train.drop(columns=[\"date\"])\n",
    "X_train.head()"
   ]
  },
  {
   "cell_type": "code",
   "execution_count": 22,
   "metadata": {},
   "outputs": [
    {
     "data": {
      "text/html": [
       "<div>\n",
       "<style scoped>\n",
       "    .dataframe tbody tr th:only-of-type {\n",
       "        vertical-align: middle;\n",
       "    }\n",
       "\n",
       "    .dataframe tbody tr th {\n",
       "        vertical-align: top;\n",
       "    }\n",
       "\n",
       "    .dataframe thead th {\n",
       "        text-align: right;\n",
       "    }\n",
       "</style>\n",
       "<table border=\"1\" class=\"dataframe\">\n",
       "  <thead>\n",
       "    <tr style=\"text-align: right;\">\n",
       "      <th></th>\n",
       "      <th>open</th>\n",
       "      <th>high</th>\n",
       "      <th>low</th>\n",
       "      <th>close</th>\n",
       "    </tr>\n",
       "  </thead>\n",
       "  <tbody>\n",
       "    <tr>\n",
       "      <th>504</th>\n",
       "      <td>82.1124</td>\n",
       "      <td>82.4881</td>\n",
       "      <td>81.9245</td>\n",
       "      <td>82.0629</td>\n",
       "    </tr>\n",
       "    <tr>\n",
       "      <th>505</th>\n",
       "      <td>82.5673</td>\n",
       "      <td>84.5647</td>\n",
       "      <td>82.3695</td>\n",
       "      <td>84.4658</td>\n",
       "    </tr>\n",
       "    <tr>\n",
       "      <th>506</th>\n",
       "      <td>84.4955</td>\n",
       "      <td>84.5152</td>\n",
       "      <td>83.3089</td>\n",
       "      <td>83.6747</td>\n",
       "    </tr>\n",
       "    <tr>\n",
       "      <th>507</th>\n",
       "      <td>84.0011</td>\n",
       "      <td>84.1961</td>\n",
       "      <td>83.4078</td>\n",
       "      <td>83.6154</td>\n",
       "    </tr>\n",
       "    <tr>\n",
       "      <th>508</th>\n",
       "      <td>83.8330</td>\n",
       "      <td>84.8020</td>\n",
       "      <td>83.7440</td>\n",
       "      <td>84.0011</td>\n",
       "    </tr>\n",
       "  </tbody>\n",
       "</table>\n",
       "</div>"
      ],
      "text/plain": [
       "        open     high      low    close\n",
       "504  82.1124  82.4881  81.9245  82.0629\n",
       "505  82.5673  84.5647  82.3695  84.4658\n",
       "506  84.4955  84.5152  83.3089  83.6747\n",
       "507  84.0011  84.1961  83.4078  83.6154\n",
       "508  83.8330  84.8020  83.7440  84.0011"
      ]
     },
     "execution_count": 22,
     "metadata": {},
     "output_type": "execute_result"
    }
   ],
   "source": [
    "X_test = X_testData\n",
    "X_test = X_test.drop(columns=[\"date\"])\n",
    "X_test.head()"
   ]
  },
  {
   "cell_type": "code",
   "execution_count": 23,
   "metadata": {},
   "outputs": [],
   "source": [
    "#scaling data\n",
    "KNN_X_train_scaled = scaler.fit_transform(X_train)\n",
    "KNN_X_train = pd.DataFrame(KNN_X_train_scaled)\n",
    "KNN_X_test_scaled = scaler.fit_transform(X_test)\n",
    "KNN_X_test = pd.DataFrame(KNN_X_test_scaled)\n",
    "\n",
    "#using gridsearch to find the best parameter\n",
    "params = {'n_neighbors':[3,5,7,9]}\n",
    "knn = neighbors.KNeighborsRegressor()\n",
    "model = GridSearchCV(knn, params, cv=5)\n",
    "\n",
    "#fit the model and make predictions\n",
    "model.fit(KNN_X_train,y_trainData)\n",
    "preds = model.predict(KNN_X_test)"
   ]
  },
  {
   "cell_type": "code",
   "execution_count": 24,
   "metadata": {},
   "outputs": [
    {
     "name": "stderr",
     "output_type": "stream",
     "text": [
      "D:\\Users\\Sanket_Mishra\\Anaconda3\\envs\\PythonData\\lib\\site-packages\\ipykernel_launcher.py:5: SettingWithCopyWarning: \n",
      "A value is trying to be set on a copy of a slice from a DataFrame\n",
      "\n",
      "See the caveats in the documentation: http://pandas.pydata.org/pandas-docs/stable/indexing.html#indexing-view-versus-copy\n",
      "  \"\"\"\n"
     ]
    }
   ],
   "source": [
    "output = pd.DataFrame(y_testData, columns = ['close', 'predictions'], dtype=np.float64)\n",
    "output = output.drop(columns=[\"close\"])\n",
    "output.reset_index(inplace=True, drop=False)\n",
    "for i in range(0,len(preds)):\n",
    "    output[\"predictions\"][i] = preds[i]\n",
    "output = output.set_index('index')"
   ]
  },
  {
   "cell_type": "code",
   "execution_count": 25,
   "metadata": {},
   "outputs": [
    {
     "data": {
      "text/plain": [
       "Text(0.5,1,'K-Nearest Neighbors Model Predictor')"
      ]
     },
     "execution_count": 25,
     "metadata": {},
     "output_type": "execute_result"
    },
    {
     "data": {
      "image/png": "[encoded data removed]",
      "text/plain": [
       "<Figure size 432x288 with 1 Axes>"
      ]
     },
     "metadata": {},
     "output_type": "display_data"
    }
   ],
   "source": [
    "#plot\n",
    "plt.plot(X_train['close'], 'b-', label=\"Train Close\")\n",
    "plt.plot(X_test['close'], 'g-', label=\"Test Close\")\n",
    "plt.plot(output['predictions'], 'r-', label=\"Predicted Close\")\n",
    "plt.legend()\n",
    "plt.xlabel(\"Day Index\")\n",
    "plt.ylabel(\"Close Price\")\n",
    "plt.title(\"K-Nearest Neighbors Model Predictor\")"
   ]
  },
  {
   "cell_type": "code",
   "execution_count": 26,
   "metadata": {},
   "outputs": [
    {
     "data": {
      "text/plain": [
       "19.25641205441057"
      ]
     },
     "execution_count": 26,
     "metadata": {},
     "output_type": "execute_result"
    }
   ],
   "source": [
    "#rmse\n",
    "rmse=np.sqrt(np.mean(np.power((np.array(y_testData)-np.array(preds)),2)))\n",
    "rmse"
   ]
  },
  {
   "cell_type": "code",
   "execution_count": 27,
   "metadata": {},
   "outputs": [
    {
     "data": {
      "text/plain": [
       "-41.434759064279646"
      ]
     },
     "execution_count": 27,
     "metadata": {},
     "output_type": "execute_result"
    }
   ],
   "source": [
    "model.score(KNN_X_test, y_testData)"
   ]
  },
  {
   "cell_type": "code",
   "execution_count": 28,
   "metadata": {},
   "outputs": [
    {
     "name": "stderr",
     "output_type": "stream",
     "text": [
      "D:\\Users\\Sanket_Mishra\\Anaconda3\\envs\\PythonData\\lib\\site-packages\\pyramid\\__init__.py:68: UserWarning: \n",
      "    The 'pyramid' package will be migrating to a new namespace beginning in \n",
      "    version 1.0.0: 'pmdarima'. This is due to a package name collision with the\n",
      "    Pyramid web framework. For more information, see Issue #34:\n",
      "    \n",
      "        https://github.com/tgsmith61591/pyramid/issues/34\n",
      "        \n",
      "    The package will subsequently be installable via the name 'pmdarima'; the\n",
      "    only functional change to the user will be the import name. All imports\n",
      "    from 'pyramid' will change to 'pmdarima'.\n",
      "    \n",
      "  \"\"\", UserWarning)\n"
     ]
    }
   ],
   "source": [
    "# Auto-ARIMA model\n",
    "from pyramid.arima import auto_arima"
   ]
  },
  {
   "cell_type": "code",
   "execution_count": 29,
   "metadata": {
    "scrolled": true
   },
   "outputs": [
    {
     "name": "stdout",
     "output_type": "stream",
     "text": [
      "Fit ARIMA: order=(1, 1, 1) seasonal_order=(0, 1, 1, 12); AIC=1469.154, BIC=1490.136, Fit time=2.153 seconds\n",
      "Fit ARIMA: order=(0, 1, 0) seasonal_order=(0, 1, 0, 12); AIC=1754.632, BIC=1763.025, Fit time=0.031 seconds\n",
      "Fit ARIMA: order=(1, 1, 0) seasonal_order=(1, 1, 0, 12); AIC=1641.092, BIC=1657.877, Fit time=0.310 seconds\n",
      "Fit ARIMA: order=(0, 1, 1) seasonal_order=(0, 1, 1, 12); AIC=1469.624, BIC=1486.410, Fit time=0.542 seconds\n",
      "Fit ARIMA: order=(1, 1, 1) seasonal_order=(1, 1, 1, 12); AIC=1470.958, BIC=1496.137, Fit time=3.018 seconds\n",
      "Fit ARIMA: order=(1, 1, 1) seasonal_order=(0, 1, 0, 12); AIC=1737.950, BIC=1754.735, Fit time=0.776 seconds\n"
     ]
    },
    {
     "name": "stderr",
     "output_type": "stream",
     "text": [
      "D:\\Users\\Sanket_Mishra\\Anaconda3\\envs\\PythonData\\lib\\site-packages\\statsmodels\\base\\model.py:508: ConvergenceWarning: Maximum Likelihood optimization failed to converge. Check mle_retvals\n",
      "  \"Check mle_retvals\", ConvergenceWarning)\n"
     ]
    },
    {
     "name": "stdout",
     "output_type": "stream",
     "text": [
      "Fit ARIMA: order=(1, 1, 1) seasonal_order=(0, 1, 2, 12); AIC=1470.934, BIC=1496.112, Fit time=5.888 seconds\n"
     ]
    },
    {
     "name": "stderr",
     "output_type": "stream",
     "text": [
      "D:\\Users\\Sanket_Mishra\\Anaconda3\\envs\\PythonData\\lib\\site-packages\\statsmodels\\base\\model.py:508: ConvergenceWarning: Maximum Likelihood optimization failed to converge. Check mle_retvals\n",
      "  \"Check mle_retvals\", ConvergenceWarning)\n"
     ]
    },
    {
     "name": "stdout",
     "output_type": "stream",
     "text": [
      "Fit ARIMA: order=(1, 1, 1) seasonal_order=(1, 1, 2, 12); AIC=1472.152, BIC=1501.527, Fit time=5.951 seconds\n",
      "Fit ARIMA: order=(2, 1, 1) seasonal_order=(0, 1, 1, 12); AIC=1468.344, BIC=1493.522, Fit time=1.552 seconds\n",
      "Fit ARIMA: order=(2, 1, 0) seasonal_order=(0, 1, 1, 12); AIC=1466.767, BIC=1487.750, Fit time=0.734 seconds\n",
      "Fit ARIMA: order=(3, 1, 1) seasonal_order=(0, 1, 1, 12); AIC=1470.336, BIC=1499.711, Fit time=1.854 seconds\n",
      "Fit ARIMA: order=(2, 1, 0) seasonal_order=(1, 1, 1, 12); AIC=1468.314, BIC=1493.493, Fit time=0.992 seconds\n",
      "Fit ARIMA: order=(2, 1, 0) seasonal_order=(0, 1, 0, 12); AIC=1740.135, BIC=1756.921, Fit time=0.099 seconds\n",
      "Fit ARIMA: order=(2, 1, 0) seasonal_order=(0, 1, 2, 12); AIC=1468.236, BIC=1493.414, Fit time=3.763 seconds\n",
      "Fit ARIMA: order=(2, 1, 0) seasonal_order=(1, 1, 2, 12); AIC=1469.138, BIC=1498.513, Fit time=4.022 seconds\n",
      "Fit ARIMA: order=(1, 1, 0) seasonal_order=(0, 1, 1, 12); AIC=1469.805, BIC=1486.590, Fit time=0.789 seconds\n",
      "Fit ARIMA: order=(3, 1, 0) seasonal_order=(0, 1, 1, 12); AIC=1468.409, BIC=1493.588, Fit time=0.969 seconds\n",
      "Total fit time: 33.445 seconds\n"
     ]
    }
   ],
   "source": [
    "ARIMA_train = X_trainData[\"close\"]\n",
    "ARIMA_test = X_testData[\"close\"]\n",
    "\n",
    "model = auto_arima(ARIMA_train, start_p=1, start_q=1, max_p=3, max_q=3, m=12, start_P=0, seasonal=True, d=1, D=1, \n",
    "                   trace=True, error_action='ignore', supress_warnings=True)\n",
    "\n",
    "model.fit(ARIMA_train)\n",
    "# 162\n",
    "ARIMA_test_periods = filteredLastIndex - endDateTrainIndex[0]\n",
    "predictions = model.predict(n_periods= ARIMA_test_periods)\n",
    "predictions = pd.DataFrame(predictions, index= ARIMA_test.index, columns=['Prediction'])"
   ]
  },
  {
   "cell_type": "code",
   "execution_count": 30,
   "metadata": {},
   "outputs": [
    {
     "data": {
      "text/plain": [
       "14.844176887535719"
      ]
     },
     "execution_count": 30,
     "metadata": {},
     "output_type": "execute_result"
    }
   ],
   "source": [
    "#rmse\n",
    "rmse=np.sqrt(np.mean(np.power((np.array(y_testData)-np.array(predictions)),2)))\n",
    "rmse"
   ]
  },
  {
   "cell_type": "code",
   "execution_count": 31,
   "metadata": {},
   "outputs": [
    {
     "data": {
      "text/plain": [
       "Text(0.5,1,'Auto-ARIMA Model Predictor')"
      ]
     },
     "execution_count": 31,
     "metadata": {},
     "output_type": "execute_result"
    },
    {
     "data": {
      "image/png": "[encoded data removed]",
      "text/plain": [
       "<Figure size 432x288 with 1 Axes>"
      ]
     },
     "metadata": {},
     "output_type": "display_data"
    }
   ],
   "source": [
    "#plot\n",
    "plt.plot(ARIMA_train, 'b-', label=\"Train Close\")\n",
    "plt.plot(ARIMA_test, 'g-', label=\"Test Close\")\n",
    "plt.plot(predictions['Prediction'], 'r-', label=\"Predicted Close\")\n",
    "plt.legend()\n",
    "plt.xlabel(\"Day Index\")\n",
    "plt.ylabel(\"Close Price\")\n",
    "plt.title(\"Auto-ARIMA Model Predictor\")"
   ]
  },
  {
   "cell_type": "code",
   "execution_count": 32,
   "metadata": {},
   "outputs": [
    {
     "name": "stdout",
     "output_type": "stream",
     "text": [
      "Last Index of Raw Data: 1258\n",
      "Splice Index: 1257\n",
      "Input Index Train Start 2.5 Years Ago : 591\n",
      "Output Index Train Start 2.5 Years Ago : 592\n",
      "Input Index Train End .5 Years Ago : 1094\n",
      "Output Index Train End .5 Years Ago : 1095\n",
      "Output Index Test Start .5 Years Ago : 1096\n"
     ]
    }
   ],
   "source": [
    "#Grab All Index Values for Stock Predictor to Split CSV Data to Train and Test\n",
    "# THESE ARE OLD INDEX VALUES THAT WE KEPT FOR SHAGUFTA'S CODE. ALL THESE VALUES WERE USED TO SET THE X/Y Train and Test DF's.\n",
    "lastIndex = len(unfilteredData)-1\n",
    "spliceIndex = lastIndex-1\n",
    "startDate = unfilteredData.loc[unfilteredData[\"date\"] == \"2016-06-01\"]\n",
    "startDateIndex = startDate.index.tolist()\n",
    "outputStartDateIndex = startDateIndex[0] + 1\n",
    "endDateTrain = unfilteredData.loc[unfilteredData[\"date\"] == \"2018-06-01\"]\n",
    "endDateTrainIndex = endDateTrain.index.tolist()\n",
    "inputTrainEndDate = endDateTrainIndex[0] - 1\n",
    "outputTestStartDate = endDateTrainIndex[0] + 1\n",
    "\n",
    "print(\"Last Index of Raw Data: \" + str(lastIndex))\n",
    "print(\"Splice Index: \" + str(spliceIndex))\n",
    "print(\"Input Index Train Start 2.5 Years Ago : \" + str(startDateIndex[0]))\n",
    "print(\"Output Index Train Start 2.5 Years Ago : \" + str(outputStartDateIndex))\n",
    "print(\"Input Index Train End .5 Years Ago : \" + str(inputTrainEndDate))\n",
    "print(\"Output Index Train End .5 Years Ago : \" + str(endDateTrainIndex[0]))\n",
    "print(\"Output Index Test Start .5 Years Ago : \" + str(outputTestStartDate))"
   ]
  },
  {
   "cell_type": "code",
   "execution_count": 33,
   "metadata": {},
   "outputs": [
    {
     "data": {
      "text/plain": [
       "(array([32, 94, 89, 23, 32, 49, 24, 10, 44, 66, 27, 13, 45, 61, 31,  9, 15,\n",
       "         4], dtype=int64),\n",
       " array([ 62.1954,  64.6851,  67.1748,  69.6645,  72.1542,  74.6439,\n",
       "         77.1336,  79.6233,  82.113 ,  84.6027,  87.0924,  89.5821,\n",
       "         92.0718,  94.5615,  97.0512,  99.5409, 102.0306, 104.5203,\n",
       "        107.01  ]))"
      ]
     },
     "execution_count": 33,
     "metadata": {},
     "output_type": "execute_result"
    }
   ],
   "source": [
    "# Meena Deep Learning Model\n",
    "\n",
    "NNfilteredData=unfilteredData.loc[startDateIndex[0]:lastIndex]\n",
    "NNfilteredData[\"close\"].max() - NNfilteredData[\"close\"].min()\n",
    "\n",
    "bins = np.histogram(NNfilteredData[\"close\"],bins=18,range=(NNfilteredData[\"close\"].min(),NNfilteredData[\"close\"].max()))\n",
    "bins"
   ]
  },
  {
   "cell_type": "code",
   "execution_count": 34,
   "metadata": {},
   "outputs": [
    {
     "name": "stderr",
     "output_type": "stream",
     "text": [
      "D:\\Users\\Sanket_Mishra\\Anaconda3\\envs\\PythonData\\lib\\site-packages\\ipykernel_launcher.py:14: SettingWithCopyWarning: \n",
      "A value is trying to be set on a copy of a slice from a DataFrame.\n",
      "Try using .loc[row_indexer,col_indexer] = value instead\n",
      "\n",
      "See the caveats in the documentation: http://pandas.pydata.org/pandas-docs/stable/indexing.html#indexing-view-versus-copy\n",
      "  \n"
     ]
    },
    {
     "data": {
      "text/html": [
       "<div>\n",
       "<style scoped>\n",
       "    .dataframe tbody tr th:only-of-type {\n",
       "        vertical-align: middle;\n",
       "    }\n",
       "\n",
       "    .dataframe tbody tr th {\n",
       "        vertical-align: top;\n",
       "    }\n",
       "\n",
       "    .dataframe thead th {\n",
       "        text-align: right;\n",
       "    }\n",
       "</style>\n",
       "<table border=\"1\" class=\"dataframe\">\n",
       "  <thead>\n",
       "    <tr style=\"text-align: right;\">\n",
       "      <th></th>\n",
       "      <th>date</th>\n",
       "      <th>open</th>\n",
       "      <th>high</th>\n",
       "      <th>low</th>\n",
       "      <th>close</th>\n",
       "      <th>closingRange</th>\n",
       "    </tr>\n",
       "  </thead>\n",
       "  <tbody>\n",
       "    <tr>\n",
       "      <th>591</th>\n",
       "      <td>2016-06-01</td>\n",
       "      <td>65.8547</td>\n",
       "      <td>66.2330</td>\n",
       "      <td>65.7706</td>\n",
       "      <td>65.8547</td>\n",
       "      <td>64.6851-67.1747</td>\n",
       "    </tr>\n",
       "    <tr>\n",
       "      <th>592</th>\n",
       "      <td>2016-06-02</td>\n",
       "      <td>65.8547</td>\n",
       "      <td>66.3217</td>\n",
       "      <td>65.5231</td>\n",
       "      <td>66.2750</td>\n",
       "      <td>64.6851-67.1747</td>\n",
       "    </tr>\n",
       "    <tr>\n",
       "      <th>593</th>\n",
       "      <td>2016-06-03</td>\n",
       "      <td>65.9201</td>\n",
       "      <td>66.3684</td>\n",
       "      <td>65.8733</td>\n",
       "      <td>66.2003</td>\n",
       "      <td>64.6851-67.1747</td>\n",
       "    </tr>\n",
       "    <tr>\n",
       "      <th>594</th>\n",
       "      <td>2016-06-06</td>\n",
       "      <td>66.8075</td>\n",
       "      <td>66.8355</td>\n",
       "      <td>66.3217</td>\n",
       "      <td>66.3684</td>\n",
       "      <td>64.6851-67.1747</td>\n",
       "    </tr>\n",
       "    <tr>\n",
       "      <th>595</th>\n",
       "      <td>2016-06-07</td>\n",
       "      <td>66.4151</td>\n",
       "      <td>66.6113</td>\n",
       "      <td>66.1816</td>\n",
       "      <td>66.3497</td>\n",
       "      <td>64.6851-67.1747</td>\n",
       "    </tr>\n",
       "  </tbody>\n",
       "</table>\n",
       "</div>"
      ],
      "text/plain": [
       "           date     open     high      low    close     closingRange\n",
       "591  2016-06-01  65.8547  66.2330  65.7706  65.8547  64.6851-67.1747\n",
       "592  2016-06-02  65.8547  66.3217  65.5231  66.2750  64.6851-67.1747\n",
       "593  2016-06-03  65.9201  66.3684  65.8733  66.2003  64.6851-67.1747\n",
       "594  2016-06-06  66.8075  66.8355  66.3217  66.3684  64.6851-67.1747\n",
       "595  2016-06-07  66.4151  66.6113  66.1816  66.3497  64.6851-67.1747"
      ]
     },
     "execution_count": 34,
     "metadata": {},
     "output_type": "execute_result"
    }
   ],
   "source": [
    "# Create the bins in which Data will be held\n",
    "# Bins are as follows:\n",
    "bins = [ 62.1954,  64.6851,  67.1748,  69.6645,  72.1542,  74.6439,\n",
    "         77.1336,  79.6233,  82.113 ,  84.6027,  87.0924,  89.5821,\n",
    "         92.0718,  94.5615,  97.0512,  99.5409, 102.0306, 104.5203,\n",
    "        107.01  ]\n",
    "\n",
    "# Create the names for the bins\n",
    "group_names = [\"62.1954-64.6850\",  \"64.6851-67.1747\", \"67.1748-69.6644\",  \"69.6645-72.1541\",  \"72.1542-74.6438\",  \"74.6439-77.1335\",\n",
    "         \"77.1336-79.6232\",  \"79.6233-82.112\",  \"82.113- 84.6026\",  \"84.6027-87.0923\",\"87.0924-89.5820\",  \"89.5821-92.0717\",\n",
    "         \"92.0718-94.5614\",  \"94.5615-97.0511\",  \"97.0512-99.5408\",  \"99.5409-102.0305\", \"102.0306-104.5202\", \"104.5203-107.01\"\n",
    "         ]\n",
    "\n",
    "NNfilteredData[\"closingRange\"] = pd.cut(NNfilteredData[\"close\"], bins, labels=group_names)\n",
    "NNfilteredData.head()"
   ]
  },
  {
   "cell_type": "code",
   "execution_count": 35,
   "metadata": {},
   "outputs": [],
   "source": [
    "#setting up the split for NN data\n",
    "NNfilteredData\n",
    "X_trainNN=NNfilteredData.loc[startDateIndex[0]:inputTrainEndDate]\n",
    "X_testNN=NNfilteredData.loc[endDateTrainIndex[0]:spliceIndex]\n",
    "X_testData = filteredData.loc[endDateTrainIndex[0]:spliceIndex]\n",
    "X_testData.head()\n",
    "\n",
    "y_trainNN=NNfilteredData.loc[outputStartDateIndex:endDateTrainIndex[0]]\n",
    "y_testNN=NNfilteredData.loc[outputTestStartDate:lastIndex]"
   ]
  },
  {
   "cell_type": "code",
   "execution_count": 36,
   "metadata": {},
   "outputs": [],
   "source": [
    "y_trainNN=y_trainNN[\"closingRange\"]\n",
    "y_testNN=y_testNN[\"closingRange\"]\n",
    "\n",
    "X_trainNN=X_trainNN.drop(columns=[\"date\",\"close\",\"closingRange\"])\n",
    "X_testNN=X_testNN.drop(columns=[\"date\",\"close\",\"closingRange\"])"
   ]
  },
  {
   "cell_type": "code",
   "execution_count": 37,
   "metadata": {},
   "outputs": [
    {
     "name": "stdout",
     "output_type": "stream",
     "text": [
      "(504, 3) (163, 3) (504,) (163,)\n"
     ]
    }
   ],
   "source": [
    "#check shapes of model inputs\n",
    "print(X_trainNN.shape,X_testNN.shape,y_trainNN.shape,y_testNN.shape)"
   ]
  },
  {
   "cell_type": "code",
   "execution_count": 38,
   "metadata": {},
   "outputs": [
    {
     "name": "stderr",
     "output_type": "stream",
     "text": [
      "D:\\Users\\Sanket_Mishra\\Anaconda3\\envs\\PythonData\\lib\\site-packages\\h5py\\__init__.py:36: FutureWarning: Conversion of the second argument of issubdtype from `float` to `np.floating` is deprecated. In future, it will be treated as `np.float64 == np.dtype(float).type`.\n",
      "  from ._conv import register_converters as _register_converters\n",
      "Using TensorFlow backend.\n"
     ]
    }
   ],
   "source": [
    "from sklearn.model_selection import train_test_split\n",
    "from sklearn.preprocessing import LabelEncoder, StandardScaler\n",
    "from keras.utils import to_categorical\n",
    "\n",
    "X_scaler = StandardScaler().fit(X_trainNN)\n",
    "X_train_scaled = X_scaler.transform(X_trainNN)\n",
    "X_test_scaled = X_scaler.transform(X_testNN)"
   ]
  },
  {
   "cell_type": "code",
   "execution_count": 39,
   "metadata": {},
   "outputs": [
    {
     "data": {
      "text/plain": [
       "array([[-0.94625587, -0.94906432, -0.92478372],\n",
       "       [-0.94625587, -0.94107134, -0.94784323],\n",
       "       [-0.94028303, -0.93686308, -0.91521519],\n",
       "       ...,\n",
       "       [ 0.44099571,  0.43553225,  0.48444589],\n",
       "       [ 0.48524404,  0.58790347,  0.52591574],\n",
       "       [ 0.61979734,  0.59503137,  0.5489473 ]])"
      ]
     },
     "execution_count": 39,
     "metadata": {},
     "output_type": "execute_result"
    }
   ],
   "source": [
    "X_train_scaled"
   ]
  },
  {
   "cell_type": "code",
   "execution_count": 40,
   "metadata": {},
   "outputs": [
    {
     "ename": "ValueError",
     "evalue": "y contains new labels: ['0' '1' '10' '2' '3' '4' '5' '6' '7' '8' '9']",
     "output_type": "error",
     "traceback": [
      "\u001b[1;31m---------------------------------------------------------------------------\u001b[0m",
      "\u001b[1;31mValueError\u001b[0m                                Traceback (most recent call last)",
      "\u001b[1;32m<ipython-input-40-d2b1d8fe76e8>\u001b[0m in \u001b[0;36m<module>\u001b[1;34m()\u001b[0m\n\u001b[0;32m      6\u001b[0m \u001b[0mencoded_y_train\u001b[0m \u001b[1;33m=\u001b[0m \u001b[0mlabel_encoder\u001b[0m\u001b[1;33m.\u001b[0m\u001b[0mtransform\u001b[0m\u001b[1;33m(\u001b[0m\u001b[0my_trainNN\u001b[0m\u001b[1;33m)\u001b[0m\u001b[1;33m\u001b[0m\u001b[0m\n\u001b[0;32m      7\u001b[0m \u001b[0my_testNN\u001b[0m \u001b[1;33m=\u001b[0m \u001b[0mlabel_encoder\u001b[0m\u001b[1;33m.\u001b[0m\u001b[0mfit_transform\u001b[0m\u001b[1;33m(\u001b[0m\u001b[0my_testNN\u001b[0m\u001b[1;33m.\u001b[0m\u001b[0mastype\u001b[0m\u001b[1;33m(\u001b[0m\u001b[0mstr\u001b[0m\u001b[1;33m)\u001b[0m\u001b[1;33m)\u001b[0m\u001b[1;33m\u001b[0m\u001b[0m\n\u001b[1;32m----> 8\u001b[1;33m \u001b[0mencoded_y_test\u001b[0m \u001b[1;33m=\u001b[0m \u001b[0mlabel_encoder\u001b[0m\u001b[1;33m.\u001b[0m\u001b[0mtransform\u001b[0m\u001b[1;33m(\u001b[0m\u001b[0my_testNN\u001b[0m\u001b[1;33m.\u001b[0m\u001b[0mastype\u001b[0m\u001b[1;33m(\u001b[0m\u001b[0mstr\u001b[0m\u001b[1;33m)\u001b[0m\u001b[1;33m)\u001b[0m\u001b[1;33m\u001b[0m\u001b[0m\n\u001b[0m",
      "\u001b[1;32mD:\\Users\\Sanket_Mishra\\Anaconda3\\envs\\PythonData\\lib\\site-packages\\sklearn\\preprocessing\\label.py\u001b[0m in \u001b[0;36mtransform\u001b[1;34m(self, y)\u001b[0m\n\u001b[0;32m    131\u001b[0m         \u001b[1;32mif\u001b[0m \u001b[0mlen\u001b[0m\u001b[1;33m(\u001b[0m\u001b[0mnp\u001b[0m\u001b[1;33m.\u001b[0m\u001b[0mintersect1d\u001b[0m\u001b[1;33m(\u001b[0m\u001b[0mclasses\u001b[0m\u001b[1;33m,\u001b[0m \u001b[0mself\u001b[0m\u001b[1;33m.\u001b[0m\u001b[0mclasses_\u001b[0m\u001b[1;33m)\u001b[0m\u001b[1;33m)\u001b[0m \u001b[1;33m<\u001b[0m \u001b[0mlen\u001b[0m\u001b[1;33m(\u001b[0m\u001b[0mclasses\u001b[0m\u001b[1;33m)\u001b[0m\u001b[1;33m:\u001b[0m\u001b[1;33m\u001b[0m\u001b[0m\n\u001b[0;32m    132\u001b[0m             \u001b[0mdiff\u001b[0m \u001b[1;33m=\u001b[0m \u001b[0mnp\u001b[0m\u001b[1;33m.\u001b[0m\u001b[0msetdiff1d\u001b[0m\u001b[1;33m(\u001b[0m\u001b[0mclasses\u001b[0m\u001b[1;33m,\u001b[0m \u001b[0mself\u001b[0m\u001b[1;33m.\u001b[0m\u001b[0mclasses_\u001b[0m\u001b[1;33m)\u001b[0m\u001b[1;33m\u001b[0m\u001b[0m\n\u001b[1;32m--> 133\u001b[1;33m             \u001b[1;32mraise\u001b[0m \u001b[0mValueError\u001b[0m\u001b[1;33m(\u001b[0m\u001b[1;34m\"y contains new labels: %s\"\u001b[0m \u001b[1;33m%\u001b[0m \u001b[0mstr\u001b[0m\u001b[1;33m(\u001b[0m\u001b[0mdiff\u001b[0m\u001b[1;33m)\u001b[0m\u001b[1;33m)\u001b[0m\u001b[1;33m\u001b[0m\u001b[0m\n\u001b[0m\u001b[0;32m    134\u001b[0m         \u001b[1;32mreturn\u001b[0m \u001b[0mnp\u001b[0m\u001b[1;33m.\u001b[0m\u001b[0msearchsorted\u001b[0m\u001b[1;33m(\u001b[0m\u001b[0mself\u001b[0m\u001b[1;33m.\u001b[0m\u001b[0mclasses_\u001b[0m\u001b[1;33m,\u001b[0m \u001b[0my\u001b[0m\u001b[1;33m)\u001b[0m\u001b[1;33m\u001b[0m\u001b[0m\n\u001b[0;32m    135\u001b[0m \u001b[1;33m\u001b[0m\u001b[0m\n",
      "\u001b[1;31mValueError\u001b[0m: y contains new labels: ['0' '1' '10' '2' '3' '4' '5' '6' '7' '8' '9']"
     ]
    }
   ],
   "source": [
    "# Step 1: Label-encode data set\n",
    "# MUST RUN THIS BLOCK TWICE\n",
    "label_encoder = LabelEncoder()\n",
    "y_trainNN = label_encoder.fit_transform(y_trainNN.astype(str))\n",
    "label_encoder.fit(y_trainNN)\n",
    "encoded_y_train = label_encoder.transform(y_trainNN)\n",
    "y_testNN = label_encoder.fit_transform(y_testNN.astype(str))\n",
    "encoded_y_test = label_encoder.transform(y_testNN.astype(str))"
   ]
  },
  {
   "cell_type": "code",
   "execution_count": null,
   "metadata": {},
   "outputs": [],
   "source": [
    "# Step 2: Convert encoded labels to one-hot-encoding\n",
    "y_train_categorical = to_categorical(encoded_y_train)\n",
    "y_test_categorical = to_categorical(encoded_y_test)"
   ]
  },
  {
   "cell_type": "code",
   "execution_count": null,
   "metadata": {},
   "outputs": [],
   "source": [
    "from keras.models import Sequential\n",
    "from keras.layers import Dense\n",
    "\n",
    "# Create model and add layers\n",
    "model = Sequential()\n",
    "model.add(Dense(units=6, activation='relu', input_dim=3))\n",
    "model.add(Dense(units=6, activation='relu'))\n",
    "model.add(Dense(units=19, activation='softmax'))"
   ]
  },
  {
   "cell_type": "code",
   "execution_count": null,
   "metadata": {},
   "outputs": [],
   "source": [
    "from keras.models import Sequential\n",
    "from keras.layers import Dense\n",
    "from keras.layers import Dense, Dropout\n",
    "from keras.layers import Embedding\n",
    "\n",
    "# Create model and add layers\n",
    "model = Sequential()\n",
    "\n",
    "#max_features = 1024\n",
    "\n",
    "model.add(Dense(units=100, activation='relu', input_dim=3))\n",
    "model.add(Dense(units=100, activation='relu'))\n",
    "model.add(Dense(units=19, activation='softmax'))\n",
    "\n",
    "\n",
    "# Compile and fit the model\n",
    "model.compile(optimizer='adam',\n",
    "             loss='categorical_crossentropy',\n",
    "             metrics=['accuracy'])\n",
    "model.fit(\n",
    "   X_train_scaled,\n",
    "   y_train_categorical,\n",
    "   epochs=100,\n",
    "   shuffle=True,\n",
    "   verbose=2\n",
    ")"
   ]
  },
  {
   "cell_type": "code",
   "execution_count": null,
   "metadata": {},
   "outputs": [],
   "source": [
    "model_loss, model_accuracy = model.evaluate(\n",
    "   X_train_scaled, y_train_categorical, verbose=2)\n",
    "print(f\"Deep Neural Network - Loss: {model_loss}, Accuracy: {model_accuracy}\")"
   ]
  },
  {
   "cell_type": "code",
   "execution_count": null,
   "metadata": {},
   "outputs": [],
   "source": [
    "model.save('Meena_model.h5')"
   ]
  },
  {
   "cell_type": "code",
   "execution_count": null,
   "metadata": {},
   "outputs": [],
   "source": [
    "from keras.models import load_model\n",
    "model = load_model('Meena_model.h5')\n",
    "model.summary()"
   ]
  },
  {
   "cell_type": "code",
   "execution_count": null,
   "metadata": {},
   "outputs": [],
   "source": [
    "#LSTM Models\n",
    "\n",
    "#import some useful packages\n",
    "import os\n",
    "import pandas as pd\n",
    "import numpy as np\n",
    "import matplotlib.pyplot as plt\n",
    "from sklearn.preprocessing import MinMaxScaler"
   ]
  },
  {
   "cell_type": "code",
   "execution_count": null,
   "metadata": {},
   "outputs": [],
   "source": [
    "#load Walmart Stock Data\n",
    "filepath = os.path.join('Resources', 'WMT.csv')\n",
    "df = pd.read_csv(filepath)\n",
    "df.head()"
   ]
  },
  {
   "cell_type": "code",
   "execution_count": null,
   "metadata": {},
   "outputs": [],
   "source": [
    "#drop unnessecary columns\n",
    "df.drop(['volume', 'unadjustedVolume', 'change', 'changePercent', 'vwap', 'label', 'changeOverTime'], 1, inplace = True)\n",
    "df.head()"
   ]
  },
  {
   "cell_type": "code",
   "execution_count": null,
   "metadata": {},
   "outputs": [],
   "source": [
    "#set index\n",
    "df.set_index('date', inplace = True)\n",
    "df.head()"
   ]
  },
  {
   "cell_type": "code",
   "execution_count": null,
   "metadata": {},
   "outputs": [],
   "source": [
    "#plot close price\n",
    "df.plot(y='close')"
   ]
  },
  {
   "cell_type": "code",
   "execution_count": null,
   "metadata": {},
   "outputs": [],
   "source": [
    "#save data as a matrix\n",
    "data = df.values\n",
    "data.shape"
   ]
  },
  {
   "cell_type": "code",
   "execution_count": null,
   "metadata": {},
   "outputs": [],
   "source": [
    "#save sequence length and time in the future\n",
    "#we will start with 30 days and 5 days in the future (about 1 month and 1 week)\n",
    "seq_length = 30\n",
    "fut_point = 5\n",
    "features = 4"
   ]
  },
  {
   "cell_type": "code",
   "execution_count": null,
   "metadata": {},
   "outputs": [],
   "source": [
    "#get X data (30 day sequences)\n",
    "X = []\n",
    "#get all sequences up to (sequence length + future point) days out of last point (can then predict last point)\n",
    "for index in range(len(data) - seq_length - fut_point):\n",
    "    X.append(data[index: index + seq_length])\n",
    "#get X as a numpy array\n",
    "X = np.array(X)\n",
    "X.shape"
   ]
  },
  {
   "cell_type": "code",
   "execution_count": null,
   "metadata": {},
   "outputs": [],
   "source": [
    "#get Y data (close price for all days except first (sequence length + future point) days)\n",
    "y = data[(seq_length + fut_point):, -1]\n",
    "y.shape"
   ]
  },
  {
   "cell_type": "code",
   "execution_count": null,
   "metadata": {},
   "outputs": [],
   "source": [
    "#train/test split of 0.85/0.15\n",
    "train_split = 0.85\n",
    "last_row = int(train_split * X.shape[0])\n",
    "X_train = X[:last_row]\n",
    "X_test = X[last_row:]\n",
    "y_train = y[:last_row]\n",
    "y_test = y[last_row:]\n",
    "print(X_train.shape)\n",
    "print(X_test.shape)\n",
    "print(y_train.shape)\n",
    "print(y_test.shape)"
   ]
  },
  {
   "cell_type": "code",
   "execution_count": null,
   "metadata": {},
   "outputs": [],
   "source": [
    "#instantiate scalers\n",
    "X_scaler = MinMaxScaler(feature_range = (-1, 1))\n",
    "y_scaler = MinMaxScaler(feature_range = (-1, 1))"
   ]
  },
  {
   "cell_type": "code",
   "execution_count": null,
   "metadata": {},
   "outputs": [],
   "source": [
    "#reshape data so it can be fit\n",
    "X_train_reshaped = np.reshape(X_train, (-1, 4))\n",
    "X_test_reshaped = np.reshape(X_test, (-1, 4))\n",
    "y_train_reshaped = np.reshape(y_train, (-1, 1))\n",
    "y_test_reshaped = np.reshape(y_test, (-1, 1))"
   ]
  },
  {
   "cell_type": "code",
   "execution_count": null,
   "metadata": {},
   "outputs": [],
   "source": [
    "#fit scalers\n",
    "X_scaler.fit(X_train_reshaped)\n",
    "y_scaler.fit(y_train_reshaped)"
   ]
  },
  {
   "cell_type": "code",
   "execution_count": null,
   "metadata": {},
   "outputs": [],
   "source": [
    "#transform and rescale\n",
    "X_train_scaled = np.reshape(X_scaler.transform(X_train_reshaped), X_train.shape)\n",
    "X_test_scaled = np.reshape(X_scaler.transform(X_test_reshaped), X_test.shape)\n",
    "y_train_scaled = np.reshape(y_scaler.transform(y_train_reshaped), y_train.shape[0])\n",
    "y_test_scaled = np.reshape(y_scaler.transform(y_test_reshaped), y_test.shape[0])\n",
    "X_train_scaled.shape"
   ]
  },
  {
   "cell_type": "code",
   "execution_count": null,
   "metadata": {},
   "outputs": [],
   "source": [
    "#import layers\n",
    "from keras.models import Sequential, load_model\n",
    "from keras.layers import Dense, Dropout, LSTM"
   ]
  },
  {
   "cell_type": "code",
   "execution_count": null,
   "metadata": {},
   "outputs": [],
   "source": [
    "#create an LSTM model\n",
    "model = Sequential()\n",
    "\n",
    "#add first LSTM layer and dropout layer\n",
    "model.add(LSTM(256, return_sequences = True, input_shape = (seq_length, features)))\n",
    "model.add(Dropout(0.2))\n",
    "\n",
    "#add second LSTM layer and dropout layer\n",
    "model.add(LSTM(256, return_sequences = False))\n",
    "model.add(Dropout(0.2))\n",
    "\n",
    "#add an reLU layer\n",
    "model.add(Dense(32, activation = 'relu'))\n",
    "\n",
    "#add a final layer\n",
    "model.add(Dense(1, activation = 'linear'))\n",
    "\n",
    "#compile model\n",
    "model.compile(loss = 'mse', optimizer = 'adam', metrics = ['accuracy'])\n",
    "\n",
    "model.summary()"
   ]
  },
  {
   "cell_type": "code",
   "execution_count": null,
   "metadata": {},
   "outputs": [],
   "source": [
    "#fit model\n",
    "model.fit(X_train_scaled, y_train_scaled, epochs = 60, batch_size = 64, validation_split = 0.15, verbose = 1)"
   ]
  },
  {
   "cell_type": "code",
   "execution_count": null,
   "metadata": {},
   "outputs": [],
   "source": [
    "model.save('first_model.h5')"
   ]
  },
  {
   "cell_type": "code",
   "execution_count": null,
   "metadata": {},
   "outputs": [],
   "source": [
    "model = load_model('first_model.h5')\n",
    "model.summary()"
   ]
  },
  {
   "cell_type": "code",
   "execution_count": null,
   "metadata": {},
   "outputs": [],
   "source": [
    "#score models\n",
    "import math\n",
    "train_score = model.evaluate(X_train_scaled, y_train_scaled, verbose = 0)\n",
    "test_score = model.evaluate(X_test_scaled, y_test_scaled, verbose = 0)\n",
    "train_rmse = math.sqrt(train_score[0])\n",
    "test_rmse = math.sqrt(test_score[0])\n",
    "print(f\"Training Set- Score: {train_score[0]}, RMSE: {train_rmse}\")\n",
    "print(f\"Test Set- Score: {test_score[0]}, RMSE: {test_rmse}\")"
   ]
  },
  {
   "cell_type": "code",
   "execution_count": null,
   "metadata": {},
   "outputs": [],
   "source": [
    "#evaluate model on training set and test set\n",
    "y_train_preds_scaled = model.predict(X_train_scaled)\n",
    "y_test_preds_scaled = model.predict(X_test_scaled)\n",
    "y_train_preds_scaled.shape"
   ]
  },
  {
   "cell_type": "code",
   "execution_count": null,
   "metadata": {},
   "outputs": [],
   "source": [
    "#rescale results\n",
    "y_train_preds_denormed = y_scaler.inverse_transform(y_train_preds_scaled)\n",
    "y_test_preds_denormed = y_scaler.inverse_transform(y_test_preds_scaled)"
   ]
  },
  {
   "cell_type": "code",
   "execution_count": null,
   "metadata": {},
   "outputs": [],
   "source": [
    "#reshape results for plotting\n",
    "y_train_preds = np.reshape(y_train_preds_denormed, y_train.shape[0])\n",
    "y_test_preds = np.reshape(y_test_preds_denormed, y_test.shape[0])\n",
    "y_train_preds.shape"
   ]
  },
  {
   "cell_type": "code",
   "execution_count": null,
   "metadata": {},
   "outputs": [],
   "source": [
    "#create x arrays (just day indices)\n",
    "days1 = np.arange(len(y_train))\n",
    "days2 = np.arange(len(y_train), len(y_train) + len(y_test))"
   ]
  },
  {
   "cell_type": "code",
   "execution_count": null,
   "metadata": {},
   "outputs": [],
   "source": [
    "#plot\n",
    "fig, ax = plt.subplots()\n",
    "ax.plot(days1, y_train, 'b', label = 'Training Set Actual')\n",
    "ax.plot(days1, y_train_preds, 'r', label = 'Training Set Predictions')\n",
    "ax.plot(days2, y_test, 'k', label = 'Test Set Actual')\n",
    "ax.plot(days2, y_test_preds, 'g', label = 'Test Set Predictions')\n",
    "ax.legend()\n",
    "ax.set_title('Walmart LSTM Stock Predictions')\n",
    "ax.set_xlabel('Day Index')\n",
    "ax.set_ylabel('Closing Price')\n",
    "plt.show()"
   ]
  },
  {
   "cell_type": "code",
   "execution_count": null,
   "metadata": {},
   "outputs": [],
   "source": [
    "#plot test set only\n",
    "fig2, ax2 = plt.subplots()\n",
    "ax2.plot(days2, y_test, 'k', label = 'Test Set Actual')\n",
    "ax2.plot(days2, y_test_preds, 'g', label = 'Test Set Predictions')\n",
    "ax2.legend()\n",
    "ax2.set_title('Walmart LSTM Test Set Predictions')\n",
    "ax2.set_xlabel('Day Index')\n",
    "ax2.set_ylabel('Closing Price')\n",
    "plt.show()\n"
   ]
  },
  {
   "cell_type": "code",
   "execution_count": null,
   "metadata": {},
   "outputs": [],
   "source": [
    "### Functions for Arbitrary Size, Number of Neurons, and Future Time Point\n",
    "# We wish to create functions that allow for some more arbitrary settings."
   ]
  },
  {
   "cell_type": "code",
   "execution_count": null,
   "metadata": {},
   "outputs": [],
   "source": [
    "#function to create training and test data from a dataframe\n",
    "def train_test_splitter(df, seq_length, fut_point, train_split):\n",
    "    #save data as a matrix\n",
    "    data = df.values\n",
    "    \n",
    "    #save number of features\n",
    "    features = data.shape[1]\n",
    "    \n",
    "    #get X data (30 day sequences)\n",
    "    X = []\n",
    "    #get all sequences up to (sequence length + future point) days out of last point (can then predict last point)\n",
    "    for index in range(len(data) - seq_length - fut_point):\n",
    "        X.append(data[index: index + seq_length])\n",
    "    #get X as a numpy array\n",
    "    X = np.array(X)\n",
    "    \n",
    "    #get Y data (close price for all days except first (sequence length + future point) days)\n",
    "    y = data[(seq_length + fut_point):, -1]\n",
    "    \n",
    "    #create train/test splits using chosing training split (between 0 and 1)\n",
    "    last_row = int(train_split * X.shape[0])\n",
    "    X_train = X[:last_row]\n",
    "    X_test = X[last_row:]\n",
    "    y_train = y[:last_row]\n",
    "    y_test = y[last_row:]\n",
    "    return X_train, X_test, y_train, y_test"
   ]
  },
  {
   "cell_type": "code",
   "execution_count": null,
   "metadata": {},
   "outputs": [],
   "source": [
    "#test function with 180 days sequence and 80 days future point\n",
    "X_train2, X_test2, y_train2, y_test2 = train_test_splitter(df, 180, 80, 0.85)"
   ]
  },
  {
   "cell_type": "code",
   "execution_count": null,
   "metadata": {},
   "outputs": [],
   "source": [
    "#function to create scaled data and scalers\n",
    "def create_scalers_and_normalize(X_train, X_test, y_train, y_test):\n",
    "    #instantiate scalers\n",
    "    X_scaler = MinMaxScaler(feature_range = (-1, 1))\n",
    "    y_scaler = MinMaxScaler(feature_range = (-1, 1))\n",
    "    \n",
    "    #get number of features\n",
    "    features = X_train.shape[2]\n",
    "    \n",
    "    #reshape data so it can be fit\n",
    "    X_train_reshaped = np.reshape(X_train, (-1, features))\n",
    "    X_test_reshaped = np.reshape(X_test, (-1, features))\n",
    "    y_train_reshaped = np.reshape(y_train, (-1, 1))\n",
    "    y_test_reshaped = np.reshape(y_test, (-1, 1))\n",
    "    \n",
    "    #fit scalers\n",
    "    X_scaler.fit(X_train_reshaped)\n",
    "    y_scaler.fit(y_train_reshaped)\n",
    "    \n",
    "    #transform and rescale\n",
    "    X_train_scaled = np.reshape(X_scaler.transform(X_train_reshaped), X_train.shape)\n",
    "    X_test_scaled = np.reshape(X_scaler.transform(X_test_reshaped), X_test.shape)\n",
    "    y_train_scaled = np.reshape(y_scaler.transform(y_train_reshaped), y_train.shape[0])\n",
    "    y_test_scaled = np.reshape(y_scaler.transform(y_test_reshaped), y_test.shape[0])\n",
    "    \n",
    "    return X_train_scaled, X_test_scaled, y_train_scaled, y_test_scaled, X_scaler, y_scaler"
   ]
  },
  {
   "cell_type": "code",
   "execution_count": null,
   "metadata": {},
   "outputs": [],
   "source": [
    "X_train_scaled2, X_test_scaled2, y_train_scaled2, y_test_scaled2, X_scaler2, y_scaler2 = create_scalers_and_normalize(\n",
    "    X_train2, X_test2, y_train2, y_test2)"
   ]
  },
  {
   "cell_type": "code",
   "execution_count": null,
   "metadata": {},
   "outputs": [],
   "source": [
    "#create an LSTM model with different neuron sizes\n",
    "def create_generic_LSTM_model(neurons, dropout, seq_length, features):\n",
    "    #create an LSTM model\n",
    "    model = Sequential()\n",
    "\n",
    "    #add first LSTM layer and dropout layer\n",
    "    model.add(LSTM(neurons[0], return_sequences = True, input_shape = (seq_length, features)))\n",
    "    model.add(Dropout(0.2))\n",
    "\n",
    "    #add second LSTM layer and dropout layer\n",
    "    model.add(LSTM(neurons[1], return_sequences = False))\n",
    "    model.add(Dropout(0.2))\n",
    "\n",
    "    #add an reLU layer\n",
    "    model.add(Dense(neurons[2], activation = 'relu'))\n",
    "\n",
    "    #add a final layer\n",
    "    model.add(Dense(1, activation = 'linear'))\n",
    "\n",
    "    #compile model\n",
    "    model.compile(loss = 'mse', optimizer = 'adam', metrics = ['accuracy'])\n",
    "\n",
    "    return model"
   ]
  },
  {
   "cell_type": "code",
   "execution_count": null,
   "metadata": {},
   "outputs": [],
   "source": [
    "#test function\n",
    "new_model = create_generic_LSTM_model([256, 256, 32], 0.2, 180, 4)"
   ]
  },
  {
   "cell_type": "code",
   "execution_count": null,
   "metadata": {},
   "outputs": [],
   "source": [
    "#save model\n",
    "new_model.save('second_model.h5')"
   ]
  },
  {
   "cell_type": "code",
   "execution_count": null,
   "metadata": {},
   "outputs": [],
   "source": [
    "#load model\n",
    "new_model = load_model('second_model.h5')"
   ]
  },
  {
   "cell_type": "code",
   "execution_count": null,
   "metadata": {},
   "outputs": [],
   "source": [
    "#function to evaluate score and return predictions for a given model path\n",
    "import math\n",
    "def make_preds(model_path, X_train_scaled, X_test_scaled, y_train_scaled, y_test_scaled, y_scaler):\n",
    "    #load model\n",
    "    model = load_model(model_path)\n",
    "    \n",
    "    #score models\n",
    "    train_score = model.evaluate(X_train_scaled, y_train_scaled, verbose = 0)\n",
    "    test_score = model.evaluate(X_test_scaled, y_test_scaled, verbose = 0)\n",
    "    train_rmse = math.sqrt(train_score[0])\n",
    "    test_rmse = math.sqrt(test_score[0])\n",
    "    print(f\"Training Set- Score: {train_score[0]}, RMSE: {train_rmse}\")\n",
    "    print(f\"Test Set- Score: {test_score[0]}, RMSE: {test_rmse}\")\n",
    "    \n",
    "    #evaluate model on training set and test set\n",
    "    y_train_preds_scaled = model.predict(X_train_scaled)\n",
    "    y_test_preds_scaled = model.predict(X_test_scaled)\n",
    "    \n",
    "    #rescale results\n",
    "    y_train_preds_denormed = y_scaler.inverse_transform(y_train_preds_scaled)\n",
    "    y_test_preds_denormed = y_scaler.inverse_transform(y_test_preds_scaled)\n",
    "    \n",
    "    #reshape results for plotting\n",
    "    y_train_preds = np.reshape(y_train_preds_denormed, len(y_train_scaled))\n",
    "    y_test_preds = np.reshape(y_test_preds_denormed, len(y_test_scaled))\n",
    "    \n",
    "    return y_train_preds, y_test_preds, train_score, test_score"
   ]
  },
  {
   "cell_type": "code",
   "execution_count": null,
   "metadata": {},
   "outputs": [],
   "source": [
    "#test function\n",
    "y_train_preds, y_test_preds, train_score, test_score =  make_preds('first_model.h5', X_train_scaled, \n",
    "                                                                   X_test_scaled, y_train_scaled, y_test_scaled, \n",
    "                                                                   y_scaler)"
   ]
  },
  {
   "cell_type": "code",
   "execution_count": null,
   "metadata": {},
   "outputs": [],
   "source": [
    "#function to create, compile, fit a model, and make predictions\n",
    "def fit_generic_LSTM_model(df, seq_length, fut_point, train_split, neurons, dropout, epochs, batch_size, \n",
    "                           validation_split, model_path):\n",
    "    \n",
    "    #get train/test split\n",
    "    X_train, X_test, y_train, y_test = train_test_splitter(df, seq_length, fut_point, train_split)\n",
    "    \n",
    "    #get number of features\n",
    "    features = X_train.shape[2]\n",
    "    \n",
    "    #get scalers and normalized data\n",
    "    X_train_scaled, X_test_scaled, y_train_scaled, y_test_scaled, X_scaler, y_scaler = create_scalers_and_normalize(\n",
    "        X_train, X_test, y_train, y_test)\n",
    "    \n",
    "    #create model\n",
    "    model = create_generic_LSTM_model(neurons, dropout, seq_length, features)\n",
    "    \n",
    "    #fit model\n",
    "    model.fit(X_train_scaled, y_train_scaled, epochs = epochs, \n",
    "              batch_size = batch_size, validation_split = validation_split, verbose = 1)\n",
    "    \n",
    "    #save model\n",
    "    model.save(model_path)\n",
    "    \n",
    "    #evaluate model and get predictions\n",
    "    y_train_preds, y_test_preds, train_score, test_score = make_preds(model_path, \n",
    "                                                                      X_train_scaled, X_test_scaled, \n",
    "                                                                      y_train_scaled, y_test_scaled, y_scaler)\n",
    "    \n",
    "    #return necessary variables to create predictions\n",
    "    return y_train, y_test, y_train_preds, y_test_preds, train_score, test_score"
   ]
  },
  {
   "cell_type": "code",
   "execution_count": null,
   "metadata": {},
   "outputs": [],
   "source": [
    "#test function\n",
    "seq_length = 180\n",
    "fut_point = 80\n",
    "train_split = 0.85\n",
    "neurons = [256, 256, 32]\n",
    "epochs = 60\n",
    "batch_size = 64\n",
    "validation_split = 0.15\n",
    "dropout = 0.2\n",
    "model_path = 'third_model.h5'\n",
    "y_train3, y_test3, y_train_preds3, y_test_preds3, train_score3, test_score3 = fit_generic_LSTM_model(df, \n",
    "                                                                                                     seq_length, \n",
    "                                                                                                     fut_point, \n",
    "                                                                                                     train_split, \n",
    "                                                                                                     neurons, \n",
    "                                                                                                     dropout, \n",
    "                                                                                                     epochs, \n",
    "                                                                                                     batch_size,\n",
    "                                                                                                     validation_split, \n",
    "                                                                                                     model_path)"
   ]
  },
  {
   "cell_type": "code",
   "execution_count": null,
   "metadata": {},
   "outputs": [],
   "source": [
    "#function to plot results\n",
    "def make_results_plot(y_train, y_test, y_train_preds, y_test_preds):\n",
    "    #create x arrays (just day indices)\n",
    "    days1 = np.arange(len(y_train))\n",
    "    days2 = np.arange(len(y_train), len(y_train) + len(y_test))\n",
    "    \n",
    "    #plot\n",
    "    fig, ax = plt.subplots()\n",
    "    ax.plot(days1, y_train, 'b', label = 'Training Set Actual')\n",
    "    ax.plot(days1, y_train_preds, 'r', label = 'Training Set Predictions')\n",
    "    ax.plot(days2, y_test, 'k', label = 'Test Set Actual')\n",
    "    ax.plot(days2, y_test_preds, 'g', label = 'Test Set Predictions')\n",
    "    ax.legend()\n",
    "    ax.set_title('Walmart Stock Predictions')\n",
    "    ax.set_xlabel('Day Index')\n",
    "    ax.set_ylabel('Closing Price')\n",
    "    plt.show()"
   ]
  },
  {
   "cell_type": "code",
   "execution_count": null,
   "metadata": {},
   "outputs": [],
   "source": [
    "#test function\n",
    "y_train_preds3, y_test_preds3, train_score3, test_score3 = make_preds('third_model.h5', \n",
    "                                                                                         X_train_scaled2, \n",
    "                                                                                         X_test_scaled2, \n",
    "                                                                                         y_train_scaled2, \n",
    "                                                                                         y_test_scaled2, y_scaler2)\n",
    "make_results_plot(y_train2, y_test2, y_train_preds3, y_test_preds3)"
   ]
  },
  {
   "cell_type": "code",
   "execution_count": null,
   "metadata": {},
   "outputs": [],
   "source": [
    "#test function\n",
    "seq_length = 20\n",
    "fut_point = 1\n",
    "train_split = 0.85\n",
    "neurons = [256, 256, 32]\n",
    "epochs = 60\n",
    "batch_size = 64\n",
    "validation_split = 0.15\n",
    "dropout = 0.2\n",
    "model_path = 'first_one_day_model.h5'\n",
    "y_train5, y_test5, y_train_preds5, y_test_preds5, train_score5, test_score5 = fit_generic_LSTM_model(df, \n",
    "                                                                                                     seq_length, \n",
    "                                                                                                     fut_point, \n",
    "                                                                                                     train_split, \n",
    "                                                                                                     neurons, \n",
    "                                                                                                     dropout, \n",
    "                                                                                                     epochs, \n",
    "                                                                                                     batch_size,\n",
    "                                                                                                     validation_split, \n",
    "                                                                                                     model_path)"
   ]
  },
  {
   "cell_type": "code",
   "execution_count": null,
   "metadata": {},
   "outputs": [],
   "source": [
    "#plot\n",
    "make_results_plot(y_train5, y_test5, y_train_preds5, y_test_preds5)"
   ]
  },
  {
   "cell_type": "code",
   "execution_count": null,
   "metadata": {},
   "outputs": [],
   "source": [
    "#test function\n",
    "seq_length = 20\n",
    "fut_point = 20\n",
    "train_split = 0.85\n",
    "neurons = [256, 256, 32]\n",
    "epochs = 60\n",
    "batch_size = 64\n",
    "validation_split = 0.15\n",
    "dropout = 0.2\n",
    "model_path = 'four_week_model.h5'\n",
    "y_train6, y_test6, y_train_preds6, y_test_preds6, train_score6, test_score6 = fit_generic_LSTM_model(df, \n",
    "                                                                                                     seq_length, \n",
    "                                                                                                     fut_point, \n",
    "                                                                                                     train_split, \n",
    "                                                                                                     neurons, \n",
    "                                                                                                     dropout, \n",
    "                                                                                                     epochs, \n",
    "                                                                                                     batch_size,\n",
    "                                                                                                     validation_split, \n",
    "                                                                                                     model_path)"
   ]
  },
  {
   "cell_type": "code",
   "execution_count": null,
   "metadata": {},
   "outputs": [],
   "source": [
    "#plot\n",
    "make_results_plot(y_train6, y_test6, y_train_preds6, y_test_preds6)"
   ]
  },
  {
   "cell_type": "code",
   "execution_count": null,
   "metadata": {},
   "outputs": [],
   "source": [
    "#predict one day ahead with last week's data\n",
    "seq_length = 5\n",
    "fut_point = 1\n",
    "train_split = 0.85\n",
    "neurons = [256, 256, 32]\n",
    "epochs = 60\n",
    "batch_size = 64\n",
    "validation_split = 0.15\n",
    "dropout = 0.2\n",
    "model_path = 'one_day_model.h5'\n",
    "y_train4, y_test4, y_train_preds4, y_test_preds4, train_score4, test_score4 = fit_generic_LSTM_model(df, \n",
    "                                                                                                     seq_length, \n",
    "                                                                                                     fut_point, \n",
    "                                                                                                     train_split, \n",
    "                                                                                                     neurons, \n",
    "                                                                                                     dropout, \n",
    "                                                                                                     epochs, \n",
    "                                                                                                     batch_size,\n",
    "                                                                                                     validation_split, \n",
    "                                                                                                     model_path)"
   ]
  },
  {
   "cell_type": "code",
   "execution_count": null,
   "metadata": {},
   "outputs": [],
   "source": [
    "#plot\n",
    "make_results_plot(y_train4, y_test4, y_train_preds4, y_test_preds4)"
   ]
  },
  {
   "cell_type": "code",
   "execution_count": null,
   "metadata": {},
   "outputs": [],
   "source": [
    "#load Walmart Stock Data\n",
    "filepath = os.path.join('Resources', 'WMT.csv')\n",
    "new_df = pd.read_csv(filepath)\n",
    "\n",
    "#drop unnessecary columns\n",
    "new_df.drop(['unadjustedVolume', 'change', 'changePercent', 'label', 'changeOverTime'], 1, inplace = True)\n",
    "\n",
    "#set index\n",
    "new_df.set_index('date', inplace = True)\n",
    "new_df.head()"
   ]
  },
  {
   "cell_type": "code",
   "execution_count": null,
   "metadata": {},
   "outputs": [],
   "source": [
    "#model for old number of features\n",
    "seq_length = 30\n",
    "fut_point = 5\n",
    "train_split = 0.85\n",
    "neurons = [256, 256, 32]\n",
    "epochs = 60\n",
    "batch_size = 64\n",
    "validation_split = 0.15\n",
    "dropout = 0.2\n",
    "model_path = 'more_features.h5'\n",
    "y_train3, y_test3, y_train_preds3, y_test_preds3, train_score3, test_score3 = fit_generic_LSTM_model(df, \n",
    "                                                                                                     seq_length, \n",
    "                                                                                                     fut_point, \n",
    "                                                                                                     train_split, \n",
    "                                                                                                     neurons, \n",
    "                                                                                                     dropout, \n",
    "                                                                                                     epochs, \n",
    "                                                                                                     batch_size,\n",
    "                                                                                                     validation_split, \n",
    "                                                                                                     model_path)"
   ]
  },
  {
   "cell_type": "code",
   "execution_count": null,
   "metadata": {},
   "outputs": [],
   "source": [
    "#plot\n",
    "make_results_plot(y_train3, y_test3, y_train_preds3, y_test_preds3)"
   ]
  },
  {
   "cell_type": "code",
   "execution_count": null,
   "metadata": {},
   "outputs": [],
   "source": [
    "#model for new number of features\n",
    "seq_length = 30\n",
    "fut_point = 5\n",
    "train_split = 0.85\n",
    "neurons = [256, 256, 32]\n",
    "epochs = 60\n",
    "batch_size = 64\n",
    "validation_split = 0.15\n",
    "dropout = 0.2\n",
    "model_path = 'more_features_real_long.h5'\n",
    "y_train3, y_test3, y_train_preds3, y_test_preds3, train_score3, test_score3 = fit_generic_LSTM_model(new_df, \n",
    "                                                                                                     seq_length, \n",
    "                                                                                                     fut_point, \n",
    "                                                                                                     train_split, \n",
    "                                                                                                     neurons, \n",
    "                                                                                                     dropout, \n",
    "                                                                                                     epochs, \n",
    "                                                                                                     batch_size,\n",
    "                                                                                                     validation_split, \n",
    "                                                                                                     model_path)"
   ]
  },
  {
   "cell_type": "code",
   "execution_count": null,
   "metadata": {},
   "outputs": [],
   "source": [
    "#plot\n",
    "make_results_plot(y_train3, y_test3, y_train_preds3, y_test_preds3)"
   ]
  },
  {
   "cell_type": "code",
   "execution_count": null,
   "metadata": {},
   "outputs": [],
   "source": [
    "#test with 5 days sequence 1 day future point\n",
    "seq_length = 5\n",
    "fut_point = 1\n",
    "train_split = 0.85\n",
    "neurons = [256, 256, 32]\n",
    "epochs = 60\n",
    "batch_size = 64\n",
    "validation_split = 0.15\n",
    "dropout = 0.2\n",
    "model_path = 'more_features_real.h5'\n",
    "y_train3, y_test3, y_train_preds3, y_test_preds3, train_score3, test_score3 = fit_generic_LSTM_model(new_df, \n",
    "                                                                                                     seq_length, \n",
    "                                                                                                     fut_point, \n",
    "                                                                                                     train_split, \n",
    "                                                                                                     neurons, \n",
    "                                                                                                     dropout, \n",
    "                                                                                                     epochs, \n",
    "                                                                                                     batch_size,\n",
    "                                                                                                     validation_split, \n",
    "                                                                                                     model_path)"
   ]
  }
 ],
 "metadata": {
  "kernelspec": {
   "display_name": "Python 3",
   "language": "python",
   "name": "python3"
  },
  "language_info": {
   "codemirror_mode": {
    "name": "ipython",
    "version": 3
   },
   "file_extension": ".py",
   "mimetype": "text/x-python",
   "name": "python",
   "nbconvert_exporter": "python",
   "pygments_lexer": "ipython3",
   "version": "3.6.5"
  },
  "varInspector": {
   "cols": {
    "lenName": 16,
    "lenType": 16,
    "lenVar": 40
   },
   "kernels_config": {
    "python": {
     "delete_cmd_postfix": "",
     "delete_cmd_prefix": "del ",
     "library": "var_list.py",
     "varRefreshCmd": "print(var_dic_list())"
    },
    "r": {
     "delete_cmd_postfix": ") ",
     "delete_cmd_prefix": "rm(",
     "library": "var_list.r",
     "varRefreshCmd": "cat(var_dic_list()) "
    }
   },
   "types_to_exclude": [
    "module",
    "function",
    "builtin_function_or_method",
    "instance",
    "_Feature"
   ],
   "window_display": false
  }
 },
 "nbformat": 4,
 "nbformat_minor": 2
}
