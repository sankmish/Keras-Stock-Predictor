{
 "cells": [
  {
   "cell_type": "code",
   "execution_count": 1,
   "metadata": {
    "slideshow": {
     "slide_type": "subslide"
    }
   },
   "outputs": [],
   "source": [
    "# Dependencies\n",
    "import numpy as np\n",
    "import pandas as pd"
   ]
  },
  {
   "cell_type": "code",
   "execution_count": 2,
   "metadata": {
    "slideshow": {
     "slide_type": "fragment"
    }
   },
   "outputs": [
    {
     "data": {
      "text/html": [
       "<div>\n",
       "<style scoped>\n",
       "    .dataframe tbody tr th:only-of-type {\n",
       "        vertical-align: middle;\n",
       "    }\n",
       "\n",
       "    .dataframe tbody tr th {\n",
       "        vertical-align: top;\n",
       "    }\n",
       "\n",
       "    .dataframe thead th {\n",
       "        text-align: right;\n",
       "    }\n",
       "</style>\n",
       "<table border=\"1\" class=\"dataframe\">\n",
       "  <thead>\n",
       "    <tr style=\"text-align: right;\">\n",
       "      <th></th>\n",
       "      <th>date</th>\n",
       "      <th>open</th>\n",
       "      <th>high</th>\n",
       "      <th>low</th>\n",
       "      <th>close</th>\n",
       "      <th>volume</th>\n",
       "      <th>unadjustedVolume</th>\n",
       "      <th>change</th>\n",
       "      <th>changePercent</th>\n",
       "      <th>vwap</th>\n",
       "      <th>label</th>\n",
       "      <th>changeOverTime</th>\n",
       "    </tr>\n",
       "  </thead>\n",
       "  <tbody>\n",
       "    <tr>\n",
       "      <th>0</th>\n",
       "      <td>2014-01-27</td>\n",
       "      <td>64.7650</td>\n",
       "      <td>64.9747</td>\n",
       "      <td>64.5029</td>\n",
       "      <td>64.7825</td>\n",
       "      <td>9105139</td>\n",
       "      <td>9105139</td>\n",
       "      <td>-0.235889</td>\n",
       "      <td>-0.363</td>\n",
       "      <td>64.7739</td>\n",
       "      <td>Jan 27, 14</td>\n",
       "      <td>0.000000</td>\n",
       "    </tr>\n",
       "    <tr>\n",
       "      <th>1</th>\n",
       "      <td>2014-01-28</td>\n",
       "      <td>64.8786</td>\n",
       "      <td>65.8746</td>\n",
       "      <td>64.7388</td>\n",
       "      <td>65.2368</td>\n",
       "      <td>6035231</td>\n",
       "      <td>6035231</td>\n",
       "      <td>0.454305</td>\n",
       "      <td>0.701</td>\n",
       "      <td>65.3045</td>\n",
       "      <td>Jan 28, 14</td>\n",
       "      <td>0.007013</td>\n",
       "    </tr>\n",
       "    <tr>\n",
       "      <th>2</th>\n",
       "      <td>2014-01-29</td>\n",
       "      <td>65.7785</td>\n",
       "      <td>65.8484</td>\n",
       "      <td>64.7126</td>\n",
       "      <td>64.7388</td>\n",
       "      <td>8440854</td>\n",
       "      <td>8440854</td>\n",
       "      <td>-0.497990</td>\n",
       "      <td>-0.763</td>\n",
       "      <td>61.0517</td>\n",
       "      <td>Jan 29, 14</td>\n",
       "      <td>-0.000675</td>\n",
       "    </tr>\n",
       "    <tr>\n",
       "      <th>3</th>\n",
       "      <td>2014-01-30</td>\n",
       "      <td>65.1232</td>\n",
       "      <td>65.6037</td>\n",
       "      <td>64.9660</td>\n",
       "      <td>65.3067</td>\n",
       "      <td>6742046</td>\n",
       "      <td>6742046</td>\n",
       "      <td>0.567883</td>\n",
       "      <td>0.877</td>\n",
       "      <td>65.2975</td>\n",
       "      <td>Jan 30, 14</td>\n",
       "      <td>0.008092</td>\n",
       "    </tr>\n",
       "    <tr>\n",
       "      <th>4</th>\n",
       "      <td>2014-01-31</td>\n",
       "      <td>64.5816</td>\n",
       "      <td>65.6911</td>\n",
       "      <td>64.3369</td>\n",
       "      <td>65.2455</td>\n",
       "      <td>10665285</td>\n",
       "      <td>10665285</td>\n",
       "      <td>-0.061155</td>\n",
       "      <td>-0.094</td>\n",
       "      <td>65.3223</td>\n",
       "      <td>Jan 31, 14</td>\n",
       "      <td>0.007147</td>\n",
       "    </tr>\n",
       "  </tbody>\n",
       "</table>\n",
       "</div>"
      ],
      "text/plain": [
       "         date     open     high      low    close    volume  unadjustedVolume  \\\n",
       "0  2014-01-27  64.7650  64.9747  64.5029  64.7825   9105139           9105139   \n",
       "1  2014-01-28  64.8786  65.8746  64.7388  65.2368   6035231           6035231   \n",
       "2  2014-01-29  65.7785  65.8484  64.7126  64.7388   8440854           8440854   \n",
       "3  2014-01-30  65.1232  65.6037  64.9660  65.3067   6742046           6742046   \n",
       "4  2014-01-31  64.5816  65.6911  64.3369  65.2455  10665285          10665285   \n",
       "\n",
       "     change  changePercent     vwap       label  changeOverTime  \n",
       "0 -0.235889         -0.363  64.7739  Jan 27, 14        0.000000  \n",
       "1  0.454305          0.701  65.3045  Jan 28, 14        0.007013  \n",
       "2 -0.497990         -0.763  61.0517  Jan 29, 14       -0.000675  \n",
       "3  0.567883          0.877  65.2975  Jan 30, 14        0.008092  \n",
       "4 -0.061155         -0.094  65.3223  Jan 31, 14        0.007147  "
      ]
     },
     "execution_count": 2,
     "metadata": {},
     "output_type": "execute_result"
    }
   ],
   "source": [
    "unfilteredData = pd.read_csv('Resources/WMT.csv')\n",
    "unfilteredData.head()"
   ]
  },
  {
   "cell_type": "code",
   "execution_count": 3,
   "metadata": {},
   "outputs": [
    {
     "data": {
      "text/html": [
       "<div>\n",
       "<style scoped>\n",
       "    .dataframe tbody tr th:only-of-type {\n",
       "        vertical-align: middle;\n",
       "    }\n",
       "\n",
       "    .dataframe tbody tr th {\n",
       "        vertical-align: top;\n",
       "    }\n",
       "\n",
       "    .dataframe thead th {\n",
       "        text-align: right;\n",
       "    }\n",
       "</style>\n",
       "<table border=\"1\" class=\"dataframe\">\n",
       "  <thead>\n",
       "    <tr style=\"text-align: right;\">\n",
       "      <th></th>\n",
       "      <th>date</th>\n",
       "      <th>open</th>\n",
       "      <th>high</th>\n",
       "      <th>low</th>\n",
       "      <th>close</th>\n",
       "    </tr>\n",
       "  </thead>\n",
       "  <tbody>\n",
       "    <tr>\n",
       "      <th>0</th>\n",
       "      <td>2014-01-27</td>\n",
       "      <td>64.7650</td>\n",
       "      <td>64.9747</td>\n",
       "      <td>64.5029</td>\n",
       "      <td>64.7825</td>\n",
       "    </tr>\n",
       "    <tr>\n",
       "      <th>1</th>\n",
       "      <td>2014-01-28</td>\n",
       "      <td>64.8786</td>\n",
       "      <td>65.8746</td>\n",
       "      <td>64.7388</td>\n",
       "      <td>65.2368</td>\n",
       "    </tr>\n",
       "    <tr>\n",
       "      <th>2</th>\n",
       "      <td>2014-01-29</td>\n",
       "      <td>65.7785</td>\n",
       "      <td>65.8484</td>\n",
       "      <td>64.7126</td>\n",
       "      <td>64.7388</td>\n",
       "    </tr>\n",
       "    <tr>\n",
       "      <th>3</th>\n",
       "      <td>2014-01-30</td>\n",
       "      <td>65.1232</td>\n",
       "      <td>65.6037</td>\n",
       "      <td>64.9660</td>\n",
       "      <td>65.3067</td>\n",
       "    </tr>\n",
       "    <tr>\n",
       "      <th>4</th>\n",
       "      <td>2014-01-31</td>\n",
       "      <td>64.5816</td>\n",
       "      <td>65.6911</td>\n",
       "      <td>64.3369</td>\n",
       "      <td>65.2455</td>\n",
       "    </tr>\n",
       "  </tbody>\n",
       "</table>\n",
       "</div>"
      ],
      "text/plain": [
       "         date     open     high      low    close\n",
       "0  2014-01-27  64.7650  64.9747  64.5029  64.7825\n",
       "1  2014-01-28  64.8786  65.8746  64.7388  65.2368\n",
       "2  2014-01-29  65.7785  65.8484  64.7126  64.7388\n",
       "3  2014-01-30  65.1232  65.6037  64.9660  65.3067\n",
       "4  2014-01-31  64.5816  65.6911  64.3369  65.2455"
      ]
     },
     "execution_count": 3,
     "metadata": {},
     "output_type": "execute_result"
    }
   ],
   "source": [
    "unfilteredData = unfilteredData.drop(columns=[\"volume\", \"unadjustedVolume\", \"change\", \"changePercent\", \"vwap\", \"label\", \"changeOverTime\"])\n",
    "unfilteredData.head()"
   ]
  },
  {
   "cell_type": "code",
   "execution_count": 4,
   "metadata": {},
   "outputs": [
    {
     "name": "stdout",
     "output_type": "stream",
     "text": [
      "1259\n"
     ]
    }
   ],
   "source": [
    "lastIndex = len(unfilteredData)\n",
    "print(lastIndex)"
   ]
  },
  {
   "cell_type": "code",
   "execution_count": 5,
   "metadata": {},
   "outputs": [
    {
     "name": "stdout",
     "output_type": "stream",
     "text": [
      "591\n"
     ]
    }
   ],
   "source": [
    "startDate = unfilteredData.loc[unfilteredData[\"date\"] == \"2016-06-01\"]\n",
    "startDateIndex = startDate.index.tolist()\n",
    "print(startDateIndex[0])"
   ]
  },
  {
   "cell_type": "code",
   "execution_count": 6,
   "metadata": {},
   "outputs": [],
   "source": [
    "filteredData = unfilteredData.loc[startDateIndex[0]:lastIndex]"
   ]
  },
  {
   "cell_type": "code",
   "execution_count": 7,
   "metadata": {},
   "outputs": [
    {
     "data": {
      "text/html": [
       "<div>\n",
       "<style scoped>\n",
       "    .dataframe tbody tr th:only-of-type {\n",
       "        vertical-align: middle;\n",
       "    }\n",
       "\n",
       "    .dataframe tbody tr th {\n",
       "        vertical-align: top;\n",
       "    }\n",
       "\n",
       "    .dataframe thead th {\n",
       "        text-align: right;\n",
       "    }\n",
       "</style>\n",
       "<table border=\"1\" class=\"dataframe\">\n",
       "  <thead>\n",
       "    <tr style=\"text-align: right;\">\n",
       "      <th></th>\n",
       "      <th>date</th>\n",
       "      <th>open</th>\n",
       "      <th>high</th>\n",
       "      <th>low</th>\n",
       "      <th>close</th>\n",
       "    </tr>\n",
       "  </thead>\n",
       "  <tbody>\n",
       "    <tr>\n",
       "      <th>591</th>\n",
       "      <td>2016-06-01</td>\n",
       "      <td>65.8547</td>\n",
       "      <td>66.2330</td>\n",
       "      <td>65.7706</td>\n",
       "      <td>65.8547</td>\n",
       "    </tr>\n",
       "    <tr>\n",
       "      <th>592</th>\n",
       "      <td>2016-06-02</td>\n",
       "      <td>65.8547</td>\n",
       "      <td>66.3217</td>\n",
       "      <td>65.5231</td>\n",
       "      <td>66.2750</td>\n",
       "    </tr>\n",
       "    <tr>\n",
       "      <th>593</th>\n",
       "      <td>2016-06-03</td>\n",
       "      <td>65.9201</td>\n",
       "      <td>66.3684</td>\n",
       "      <td>65.8733</td>\n",
       "      <td>66.2003</td>\n",
       "    </tr>\n",
       "    <tr>\n",
       "      <th>594</th>\n",
       "      <td>2016-06-06</td>\n",
       "      <td>66.8075</td>\n",
       "      <td>66.8355</td>\n",
       "      <td>66.3217</td>\n",
       "      <td>66.3684</td>\n",
       "    </tr>\n",
       "    <tr>\n",
       "      <th>595</th>\n",
       "      <td>2016-06-07</td>\n",
       "      <td>66.4151</td>\n",
       "      <td>66.6113</td>\n",
       "      <td>66.1816</td>\n",
       "      <td>66.3497</td>\n",
       "    </tr>\n",
       "  </tbody>\n",
       "</table>\n",
       "</div>"
      ],
      "text/plain": [
       "           date     open     high      low    close\n",
       "591  2016-06-01  65.8547  66.2330  65.7706  65.8547\n",
       "592  2016-06-02  65.8547  66.3217  65.5231  66.2750\n",
       "593  2016-06-03  65.9201  66.3684  65.8733  66.2003\n",
       "594  2016-06-06  66.8075  66.8355  66.3217  66.3684\n",
       "595  2016-06-07  66.4151  66.6113  66.1816  66.3497"
      ]
     },
     "execution_count": 7,
     "metadata": {},
     "output_type": "execute_result"
    }
   ],
   "source": [
    "filteredData.head()"
   ]
  },
  {
   "cell_type": "code",
   "execution_count": 8,
   "metadata": {
    "scrolled": true
   },
   "outputs": [
    {
     "data": {
      "text/html": [
       "<div>\n",
       "<style scoped>\n",
       "    .dataframe tbody tr th:only-of-type {\n",
       "        vertical-align: middle;\n",
       "    }\n",
       "\n",
       "    .dataframe tbody tr th {\n",
       "        vertical-align: top;\n",
       "    }\n",
       "\n",
       "    .dataframe thead th {\n",
       "        text-align: right;\n",
       "    }\n",
       "</style>\n",
       "<table border=\"1\" class=\"dataframe\">\n",
       "  <thead>\n",
       "    <tr style=\"text-align: right;\">\n",
       "      <th></th>\n",
       "      <th>date</th>\n",
       "      <th>open</th>\n",
       "      <th>high</th>\n",
       "      <th>low</th>\n",
       "      <th>close</th>\n",
       "    </tr>\n",
       "  </thead>\n",
       "  <tbody>\n",
       "    <tr>\n",
       "      <th>0</th>\n",
       "      <td>2016-06-01</td>\n",
       "      <td>65.8547</td>\n",
       "      <td>66.2330</td>\n",
       "      <td>65.7706</td>\n",
       "      <td>65.8547</td>\n",
       "    </tr>\n",
       "    <tr>\n",
       "      <th>1</th>\n",
       "      <td>2016-06-02</td>\n",
       "      <td>65.8547</td>\n",
       "      <td>66.3217</td>\n",
       "      <td>65.5231</td>\n",
       "      <td>66.2750</td>\n",
       "    </tr>\n",
       "    <tr>\n",
       "      <th>2</th>\n",
       "      <td>2016-06-03</td>\n",
       "      <td>65.9201</td>\n",
       "      <td>66.3684</td>\n",
       "      <td>65.8733</td>\n",
       "      <td>66.2003</td>\n",
       "    </tr>\n",
       "    <tr>\n",
       "      <th>3</th>\n",
       "      <td>2016-06-06</td>\n",
       "      <td>66.8075</td>\n",
       "      <td>66.8355</td>\n",
       "      <td>66.3217</td>\n",
       "      <td>66.3684</td>\n",
       "    </tr>\n",
       "    <tr>\n",
       "      <th>4</th>\n",
       "      <td>2016-06-07</td>\n",
       "      <td>66.4151</td>\n",
       "      <td>66.6113</td>\n",
       "      <td>66.1816</td>\n",
       "      <td>66.3497</td>\n",
       "    </tr>\n",
       "  </tbody>\n",
       "</table>\n",
       "</div>"
      ],
      "text/plain": [
       "         date     open     high      low    close\n",
       "0  2016-06-01  65.8547  66.2330  65.7706  65.8547\n",
       "1  2016-06-02  65.8547  66.3217  65.5231  66.2750\n",
       "2  2016-06-03  65.9201  66.3684  65.8733  66.2003\n",
       "3  2016-06-06  66.8075  66.8355  66.3217  66.3684\n",
       "4  2016-06-07  66.4151  66.6113  66.1816  66.3497"
      ]
     },
     "execution_count": 8,
     "metadata": {},
     "output_type": "execute_result"
    }
   ],
   "source": [
    "filteredData.reset_index(inplace=True, drop=True)\n",
    "filteredData.head()"
   ]
  },
  {
   "cell_type": "code",
   "execution_count": null,
   "metadata": {},
   "outputs": [],
   "source": []
  }
 ],
 "metadata": {
  "kernelspec": {
   "display_name": "Python 3",
   "language": "python",
   "name": "python3"
  },
  "language_info": {
   "codemirror_mode": {
    "name": "ipython",
    "version": 3
   },
   "file_extension": ".py",
   "mimetype": "text/x-python",
   "name": "python",
   "nbconvert_exporter": "python",
   "pygments_lexer": "ipython3",
   "version": "3.6.8"
  },
  "varInspector": {
   "cols": {
    "lenName": 16,
    "lenType": 16,
    "lenVar": 40
   },
   "kernels_config": {
    "python": {
     "delete_cmd_postfix": "",
     "delete_cmd_prefix": "del ",
     "library": "var_list.py",
     "varRefreshCmd": "print(var_dic_list())"
    },
    "r": {
     "delete_cmd_postfix": ") ",
     "delete_cmd_prefix": "rm(",
     "library": "var_list.r",
     "varRefreshCmd": "cat(var_dic_list()) "
    }
   },
   "types_to_exclude": [
    "module",
    "function",
    "builtin_function_or_method",
    "instance",
    "_Feature"
   ],
   "window_display": false
  }
 },
 "nbformat": 4,
 "nbformat_minor": 2
}
