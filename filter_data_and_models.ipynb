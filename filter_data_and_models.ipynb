{
 "cells": [
  {
   "cell_type": "code",
   "execution_count": 1,
   "metadata": {},
   "outputs": [],
   "source": [
    "# Dependencies\n",
    "from sklearn.neighbors import KNeighborsClassifier\n",
    "import numpy as np\n",
    "import pandas as pd\n",
    "import matplotlib.pyplot as plt\n",
    "%matplotlib inline"
   ]
  },
  {
   "cell_type": "code",
   "execution_count": 2,
   "metadata": {},
   "outputs": [
    {
     "data": {
      "text/html": [
       "<div>\n",
       "<style scoped>\n",
       "    .dataframe tbody tr th:only-of-type {\n",
       "        vertical-align: middle;\n",
       "    }\n",
       "\n",
       "    .dataframe tbody tr th {\n",
       "        vertical-align: top;\n",
       "    }\n",
       "\n",
       "    .dataframe thead th {\n",
       "        text-align: right;\n",
       "    }\n",
       "</style>\n",
       "<table border=\"1\" class=\"dataframe\">\n",
       "  <thead>\n",
       "    <tr style=\"text-align: right;\">\n",
       "      <th></th>\n",
       "      <th>date</th>\n",
       "      <th>open</th>\n",
       "      <th>high</th>\n",
       "      <th>low</th>\n",
       "      <th>close</th>\n",
       "      <th>volume</th>\n",
       "      <th>unadjustedVolume</th>\n",
       "      <th>change</th>\n",
       "      <th>changePercent</th>\n",
       "      <th>vwap</th>\n",
       "      <th>label</th>\n",
       "      <th>changeOverTime</th>\n",
       "    </tr>\n",
       "  </thead>\n",
       "  <tbody>\n",
       "    <tr>\n",
       "      <th>0</th>\n",
       "      <td>2014-01-27</td>\n",
       "      <td>64.7650</td>\n",
       "      <td>64.9747</td>\n",
       "      <td>64.5029</td>\n",
       "      <td>64.7825</td>\n",
       "      <td>9105139</td>\n",
       "      <td>9105139</td>\n",
       "      <td>-0.235889</td>\n",
       "      <td>-0.363</td>\n",
       "      <td>64.7739</td>\n",
       "      <td>Jan 27, 14</td>\n",
       "      <td>0.000000</td>\n",
       "    </tr>\n",
       "    <tr>\n",
       "      <th>1</th>\n",
       "      <td>2014-01-28</td>\n",
       "      <td>64.8786</td>\n",
       "      <td>65.8746</td>\n",
       "      <td>64.7388</td>\n",
       "      <td>65.2368</td>\n",
       "      <td>6035231</td>\n",
       "      <td>6035231</td>\n",
       "      <td>0.454305</td>\n",
       "      <td>0.701</td>\n",
       "      <td>65.3045</td>\n",
       "      <td>Jan 28, 14</td>\n",
       "      <td>0.007013</td>\n",
       "    </tr>\n",
       "    <tr>\n",
       "      <th>2</th>\n",
       "      <td>2014-01-29</td>\n",
       "      <td>65.7785</td>\n",
       "      <td>65.8484</td>\n",
       "      <td>64.7126</td>\n",
       "      <td>64.7388</td>\n",
       "      <td>8440854</td>\n",
       "      <td>8440854</td>\n",
       "      <td>-0.497990</td>\n",
       "      <td>-0.763</td>\n",
       "      <td>61.0517</td>\n",
       "      <td>Jan 29, 14</td>\n",
       "      <td>-0.000675</td>\n",
       "    </tr>\n",
       "    <tr>\n",
       "      <th>3</th>\n",
       "      <td>2014-01-30</td>\n",
       "      <td>65.1232</td>\n",
       "      <td>65.6037</td>\n",
       "      <td>64.9660</td>\n",
       "      <td>65.3067</td>\n",
       "      <td>6742046</td>\n",
       "      <td>6742046</td>\n",
       "      <td>0.567883</td>\n",
       "      <td>0.877</td>\n",
       "      <td>65.2975</td>\n",
       "      <td>Jan 30, 14</td>\n",
       "      <td>0.008092</td>\n",
       "    </tr>\n",
       "    <tr>\n",
       "      <th>4</th>\n",
       "      <td>2014-01-31</td>\n",
       "      <td>64.5816</td>\n",
       "      <td>65.6911</td>\n",
       "      <td>64.3369</td>\n",
       "      <td>65.2455</td>\n",
       "      <td>10665285</td>\n",
       "      <td>10665285</td>\n",
       "      <td>-0.061155</td>\n",
       "      <td>-0.094</td>\n",
       "      <td>65.3223</td>\n",
       "      <td>Jan 31, 14</td>\n",
       "      <td>0.007147</td>\n",
       "    </tr>\n",
       "  </tbody>\n",
       "</table>\n",
       "</div>"
      ],
      "text/plain": [
       "         date     open     high      low    close    volume  unadjustedVolume  \\\n",
       "0  2014-01-27  64.7650  64.9747  64.5029  64.7825   9105139           9105139   \n",
       "1  2014-01-28  64.8786  65.8746  64.7388  65.2368   6035231           6035231   \n",
       "2  2014-01-29  65.7785  65.8484  64.7126  64.7388   8440854           8440854   \n",
       "3  2014-01-30  65.1232  65.6037  64.9660  65.3067   6742046           6742046   \n",
       "4  2014-01-31  64.5816  65.6911  64.3369  65.2455  10665285          10665285   \n",
       "\n",
       "     change  changePercent     vwap       label  changeOverTime  \n",
       "0 -0.235889         -0.363  64.7739  Jan 27, 14        0.000000  \n",
       "1  0.454305          0.701  65.3045  Jan 28, 14        0.007013  \n",
       "2 -0.497990         -0.763  61.0517  Jan 29, 14       -0.000675  \n",
       "3  0.567883          0.877  65.2975  Jan 30, 14        0.008092  \n",
       "4 -0.061155         -0.094  65.3223  Jan 31, 14        0.007147  "
      ]
     },
     "execution_count": 2,
     "metadata": {},
     "output_type": "execute_result"
    }
   ],
   "source": [
    "#Grab CSV data\n",
    "unfilteredData = pd.read_csv('Resources/WMT.csv')\n",
    "unfilteredData.head()"
   ]
  },
  {
   "cell_type": "code",
   "execution_count": 3,
   "metadata": {},
   "outputs": [
    {
     "data": {
      "text/html": [
       "<div>\n",
       "<style scoped>\n",
       "    .dataframe tbody tr th:only-of-type {\n",
       "        vertical-align: middle;\n",
       "    }\n",
       "\n",
       "    .dataframe tbody tr th {\n",
       "        vertical-align: top;\n",
       "    }\n",
       "\n",
       "    .dataframe thead th {\n",
       "        text-align: right;\n",
       "    }\n",
       "</style>\n",
       "<table border=\"1\" class=\"dataframe\">\n",
       "  <thead>\n",
       "    <tr style=\"text-align: right;\">\n",
       "      <th></th>\n",
       "      <th>date</th>\n",
       "      <th>open</th>\n",
       "      <th>high</th>\n",
       "      <th>low</th>\n",
       "      <th>close</th>\n",
       "    </tr>\n",
       "  </thead>\n",
       "  <tbody>\n",
       "    <tr>\n",
       "      <th>0</th>\n",
       "      <td>2014-01-27</td>\n",
       "      <td>64.7650</td>\n",
       "      <td>64.9747</td>\n",
       "      <td>64.5029</td>\n",
       "      <td>64.7825</td>\n",
       "    </tr>\n",
       "    <tr>\n",
       "      <th>1</th>\n",
       "      <td>2014-01-28</td>\n",
       "      <td>64.8786</td>\n",
       "      <td>65.8746</td>\n",
       "      <td>64.7388</td>\n",
       "      <td>65.2368</td>\n",
       "    </tr>\n",
       "    <tr>\n",
       "      <th>2</th>\n",
       "      <td>2014-01-29</td>\n",
       "      <td>65.7785</td>\n",
       "      <td>65.8484</td>\n",
       "      <td>64.7126</td>\n",
       "      <td>64.7388</td>\n",
       "    </tr>\n",
       "    <tr>\n",
       "      <th>3</th>\n",
       "      <td>2014-01-30</td>\n",
       "      <td>65.1232</td>\n",
       "      <td>65.6037</td>\n",
       "      <td>64.9660</td>\n",
       "      <td>65.3067</td>\n",
       "    </tr>\n",
       "    <tr>\n",
       "      <th>4</th>\n",
       "      <td>2014-01-31</td>\n",
       "      <td>64.5816</td>\n",
       "      <td>65.6911</td>\n",
       "      <td>64.3369</td>\n",
       "      <td>65.2455</td>\n",
       "    </tr>\n",
       "  </tbody>\n",
       "</table>\n",
       "</div>"
      ],
      "text/plain": [
       "         date     open     high      low    close\n",
       "0  2014-01-27  64.7650  64.9747  64.5029  64.7825\n",
       "1  2014-01-28  64.8786  65.8746  64.7388  65.2368\n",
       "2  2014-01-29  65.7785  65.8484  64.7126  64.7388\n",
       "3  2014-01-30  65.1232  65.6037  64.9660  65.3067\n",
       "4  2014-01-31  64.5816  65.6911  64.3369  65.2455"
      ]
     },
     "execution_count": 3,
     "metadata": {},
     "output_type": "execute_result"
    }
   ],
   "source": [
    "# Drop unneccessary input feature columns \n",
    "unfilteredData = unfilteredData.drop(columns=[\"volume\", \"unadjustedVolume\", \"change\", \"changePercent\", \"vwap\", \"label\", \"changeOverTime\"])\n",
    "unfilteredData.head()"
   ]
  },
  {
   "cell_type": "code",
   "execution_count": 4,
   "metadata": {},
   "outputs": [],
   "source": [
    "#Grab All Index Values for Stock Predictor to Split CSV Data to Train and Test\n",
    "unfilteredLastIndex = len(unfilteredData)-1\n",
    "startDate = unfilteredData.loc[unfilteredData[\"date\"] == \"2016-06-01\"]\n",
    "startDateIndex = startDate.index.tolist()"
   ]
  },
  {
   "cell_type": "code",
   "execution_count": 5,
   "metadata": {},
   "outputs": [
    {
     "data": {
      "text/html": [
       "<div>\n",
       "<style scoped>\n",
       "    .dataframe tbody tr th:only-of-type {\n",
       "        vertical-align: middle;\n",
       "    }\n",
       "\n",
       "    .dataframe tbody tr th {\n",
       "        vertical-align: top;\n",
       "    }\n",
       "\n",
       "    .dataframe thead th {\n",
       "        text-align: right;\n",
       "    }\n",
       "</style>\n",
       "<table border=\"1\" class=\"dataframe\">\n",
       "  <thead>\n",
       "    <tr style=\"text-align: right;\">\n",
       "      <th></th>\n",
       "      <th>date</th>\n",
       "      <th>open</th>\n",
       "      <th>high</th>\n",
       "      <th>low</th>\n",
       "      <th>close</th>\n",
       "    </tr>\n",
       "  </thead>\n",
       "  <tbody>\n",
       "    <tr>\n",
       "      <th>0</th>\n",
       "      <td>2016-06-01</td>\n",
       "      <td>65.8547</td>\n",
       "      <td>66.2330</td>\n",
       "      <td>65.7706</td>\n",
       "      <td>65.8547</td>\n",
       "    </tr>\n",
       "    <tr>\n",
       "      <th>1</th>\n",
       "      <td>2016-06-02</td>\n",
       "      <td>65.8547</td>\n",
       "      <td>66.3217</td>\n",
       "      <td>65.5231</td>\n",
       "      <td>66.2750</td>\n",
       "    </tr>\n",
       "    <tr>\n",
       "      <th>2</th>\n",
       "      <td>2016-06-03</td>\n",
       "      <td>65.9201</td>\n",
       "      <td>66.3684</td>\n",
       "      <td>65.8733</td>\n",
       "      <td>66.2003</td>\n",
       "    </tr>\n",
       "    <tr>\n",
       "      <th>3</th>\n",
       "      <td>2016-06-06</td>\n",
       "      <td>66.8075</td>\n",
       "      <td>66.8355</td>\n",
       "      <td>66.3217</td>\n",
       "      <td>66.3684</td>\n",
       "    </tr>\n",
       "    <tr>\n",
       "      <th>4</th>\n",
       "      <td>2016-06-07</td>\n",
       "      <td>66.4151</td>\n",
       "      <td>66.6113</td>\n",
       "      <td>66.1816</td>\n",
       "      <td>66.3497</td>\n",
       "    </tr>\n",
       "  </tbody>\n",
       "</table>\n",
       "</div>"
      ],
      "text/plain": [
       "         date     open     high      low    close\n",
       "0  2016-06-01  65.8547  66.2330  65.7706  65.8547\n",
       "1  2016-06-02  65.8547  66.3217  65.5231  66.2750\n",
       "2  2016-06-03  65.9201  66.3684  65.8733  66.2003\n",
       "3  2016-06-06  66.8075  66.8355  66.3217  66.3684\n",
       "4  2016-06-07  66.4151  66.6113  66.1816  66.3497"
      ]
     },
     "execution_count": 5,
     "metadata": {},
     "output_type": "execute_result"
    }
   ],
   "source": [
    "#Filter Data down to 2 1/2 Years\n",
    "filteredData = unfilteredData.loc[startDateIndex[0]:unfilteredLastIndex]\n",
    "filteredData.reset_index(inplace=True, drop=True)\n",
    "filteredData.head()"
   ]
  },
  {
   "cell_type": "code",
   "execution_count": 6,
   "metadata": {},
   "outputs": [
    {
     "name": "stdout",
     "output_type": "stream",
     "text": [
      "Last Index of Raw Data: 667\n",
      "Splice Index: 666\n",
      "Input Index Train End .5 Years Ago : 503\n",
      "Output Index Train End .5 Years Ago : 504\n",
      "Output Index Test Start .5 Years Ago : 505\n"
     ]
    }
   ],
   "source": [
    "filteredLastIndex = len(filteredData)-1\n",
    "spliceIndex = filteredLastIndex-1\n",
    "outputStartDateIndex = startDateIndex[0] + 1\n",
    "endDateTrain = filteredData.loc[filteredData[\"date\"] == \"2018-06-01\"]\n",
    "endDateTrainIndex = endDateTrain.index.tolist()\n",
    "inputTrainEndDate = endDateTrainIndex[0] - 1\n",
    "outputTestStartDate = endDateTrainIndex[0] + 1\n",
    "\n",
    "print(\"Last Index of Raw Data: \" + str(filteredLastIndex))\n",
    "print(\"Splice Index: \" + str(spliceIndex))\n",
    "print(\"Input Index Train End .5 Years Ago : \" + str(inputTrainEndDate))\n",
    "print(\"Output Index Train End .5 Years Ago : \" + str(endDateTrainIndex[0]))\n",
    "print(\"Output Index Test Start .5 Years Ago : \" + str(outputTestStartDate))"
   ]
  },
  {
   "cell_type": "code",
   "execution_count": 7,
   "metadata": {},
   "outputs": [
    {
     "data": {
      "text/html": [
       "<div>\n",
       "<style scoped>\n",
       "    .dataframe tbody tr th:only-of-type {\n",
       "        vertical-align: middle;\n",
       "    }\n",
       "\n",
       "    .dataframe tbody tr th {\n",
       "        vertical-align: top;\n",
       "    }\n",
       "\n",
       "    .dataframe thead th {\n",
       "        text-align: right;\n",
       "    }\n",
       "</style>\n",
       "<table border=\"1\" class=\"dataframe\">\n",
       "  <thead>\n",
       "    <tr style=\"text-align: right;\">\n",
       "      <th></th>\n",
       "      <th>date</th>\n",
       "      <th>open</th>\n",
       "      <th>high</th>\n",
       "      <th>low</th>\n",
       "      <th>close</th>\n",
       "    </tr>\n",
       "  </thead>\n",
       "  <tbody>\n",
       "    <tr>\n",
       "      <th>0</th>\n",
       "      <td>2016-06-01</td>\n",
       "      <td>65.8547</td>\n",
       "      <td>66.2330</td>\n",
       "      <td>65.7706</td>\n",
       "      <td>65.8547</td>\n",
       "    </tr>\n",
       "    <tr>\n",
       "      <th>1</th>\n",
       "      <td>2016-06-02</td>\n",
       "      <td>65.8547</td>\n",
       "      <td>66.3217</td>\n",
       "      <td>65.5231</td>\n",
       "      <td>66.2750</td>\n",
       "    </tr>\n",
       "    <tr>\n",
       "      <th>2</th>\n",
       "      <td>2016-06-03</td>\n",
       "      <td>65.9201</td>\n",
       "      <td>66.3684</td>\n",
       "      <td>65.8733</td>\n",
       "      <td>66.2003</td>\n",
       "    </tr>\n",
       "    <tr>\n",
       "      <th>3</th>\n",
       "      <td>2016-06-06</td>\n",
       "      <td>66.8075</td>\n",
       "      <td>66.8355</td>\n",
       "      <td>66.3217</td>\n",
       "      <td>66.3684</td>\n",
       "    </tr>\n",
       "    <tr>\n",
       "      <th>4</th>\n",
       "      <td>2016-06-07</td>\n",
       "      <td>66.4151</td>\n",
       "      <td>66.6113</td>\n",
       "      <td>66.1816</td>\n",
       "      <td>66.3497</td>\n",
       "    </tr>\n",
       "  </tbody>\n",
       "</table>\n",
       "</div>"
      ],
      "text/plain": [
       "         date     open     high      low    close\n",
       "0  2016-06-01  65.8547  66.2330  65.7706  65.8547\n",
       "1  2016-06-02  65.8547  66.3217  65.5231  66.2750\n",
       "2  2016-06-03  65.9201  66.3684  65.8733  66.2003\n",
       "3  2016-06-06  66.8075  66.8355  66.3217  66.3684\n",
       "4  2016-06-07  66.4151  66.6113  66.1816  66.3497"
      ]
     },
     "execution_count": 7,
     "metadata": {},
     "output_type": "execute_result"
    }
   ],
   "source": [
    "#X Train Split using Index Values from earlier\n",
    "X_trainData = filteredData.loc[:inputTrainEndDate]\n",
    "X_trainData.head()"
   ]
  },
  {
   "cell_type": "code",
   "execution_count": 8,
   "metadata": {},
   "outputs": [
    {
     "data": {
      "text/plain": [
       "1    66.2750\n",
       "2    66.2003\n",
       "3    66.3684\n",
       "4    66.3497\n",
       "5    66.5833\n",
       "Name: close, dtype: float64"
      ]
     },
     "execution_count": 8,
     "metadata": {},
     "output_type": "execute_result"
    }
   ],
   "source": [
    "#Y Train Split using Index Values from earlier\n",
    "y_trainData = filteredData.loc[1:endDateTrainIndex[0]]\n",
    "y_trainData = y_trainData[\"close\"]\n",
    "y_trainData.head()"
   ]
  },
  {
   "cell_type": "code",
   "execution_count": 9,
   "metadata": {},
   "outputs": [
    {
     "data": {
      "text/html": [
       "<div>\n",
       "<style scoped>\n",
       "    .dataframe tbody tr th:only-of-type {\n",
       "        vertical-align: middle;\n",
       "    }\n",
       "\n",
       "    .dataframe tbody tr th {\n",
       "        vertical-align: top;\n",
       "    }\n",
       "\n",
       "    .dataframe thead th {\n",
       "        text-align: right;\n",
       "    }\n",
       "</style>\n",
       "<table border=\"1\" class=\"dataframe\">\n",
       "  <thead>\n",
       "    <tr style=\"text-align: right;\">\n",
       "      <th></th>\n",
       "      <th>date</th>\n",
       "      <th>open</th>\n",
       "      <th>high</th>\n",
       "      <th>low</th>\n",
       "      <th>close</th>\n",
       "    </tr>\n",
       "  </thead>\n",
       "  <tbody>\n",
       "    <tr>\n",
       "      <th>504</th>\n",
       "      <td>2018-06-01</td>\n",
       "      <td>82.1124</td>\n",
       "      <td>82.4881</td>\n",
       "      <td>81.9245</td>\n",
       "      <td>82.0629</td>\n",
       "    </tr>\n",
       "    <tr>\n",
       "      <th>505</th>\n",
       "      <td>2018-06-04</td>\n",
       "      <td>82.5673</td>\n",
       "      <td>84.5647</td>\n",
       "      <td>82.3695</td>\n",
       "      <td>84.4658</td>\n",
       "    </tr>\n",
       "    <tr>\n",
       "      <th>506</th>\n",
       "      <td>2018-06-05</td>\n",
       "      <td>84.4955</td>\n",
       "      <td>84.5152</td>\n",
       "      <td>83.3089</td>\n",
       "      <td>83.6747</td>\n",
       "    </tr>\n",
       "    <tr>\n",
       "      <th>507</th>\n",
       "      <td>2018-06-06</td>\n",
       "      <td>84.0011</td>\n",
       "      <td>84.1961</td>\n",
       "      <td>83.4078</td>\n",
       "      <td>83.6154</td>\n",
       "    </tr>\n",
       "    <tr>\n",
       "      <th>508</th>\n",
       "      <td>2018-06-07</td>\n",
       "      <td>83.8330</td>\n",
       "      <td>84.8020</td>\n",
       "      <td>83.7440</td>\n",
       "      <td>84.0011</td>\n",
       "    </tr>\n",
       "  </tbody>\n",
       "</table>\n",
       "</div>"
      ],
      "text/plain": [
       "           date     open     high      low    close\n",
       "504  2018-06-01  82.1124  82.4881  81.9245  82.0629\n",
       "505  2018-06-04  82.5673  84.5647  82.3695  84.4658\n",
       "506  2018-06-05  84.4955  84.5152  83.3089  83.6747\n",
       "507  2018-06-06  84.0011  84.1961  83.4078  83.6154\n",
       "508  2018-06-07  83.8330  84.8020  83.7440  84.0011"
      ]
     },
     "execution_count": 9,
     "metadata": {},
     "output_type": "execute_result"
    }
   ],
   "source": [
    "#X Test Split from Index Values from earlier, with last index sliced\n",
    "X_testData = filteredData.loc[endDateTrainIndex[0]:spliceIndex]\n",
    "X_testData.head()"
   ]
  },
  {
   "cell_type": "code",
   "execution_count": 10,
   "metadata": {},
   "outputs": [
    {
     "data": {
      "text/plain": [
       "505    59.1116\n",
       "506    61.0814\n",
       "507    62.1307\n",
       "508    61.5416\n",
       "509    60.9985\n",
       "Name: close, dtype: float64"
      ]
     },
     "execution_count": 10,
     "metadata": {},
     "output_type": "execute_result"
    }
   ],
   "source": [
    "y_testData = unfilteredData.loc[outputTestStartDate:filteredLastIndex]\n",
    "y_testData = y_testData[\"close\"]\n",
    "y_testData.head()"
   ]
  },
  {
   "cell_type": "code",
   "execution_count": 11,
   "metadata": {},
   "outputs": [
    {
     "data": {
      "text/html": [
       "<div>\n",
       "<style scoped>\n",
       "    .dataframe tbody tr th:only-of-type {\n",
       "        vertical-align: middle;\n",
       "    }\n",
       "\n",
       "    .dataframe tbody tr th {\n",
       "        vertical-align: top;\n",
       "    }\n",
       "\n",
       "    .dataframe thead th {\n",
       "        text-align: right;\n",
       "    }\n",
       "</style>\n",
       "<table border=\"1\" class=\"dataframe\">\n",
       "  <thead>\n",
       "    <tr style=\"text-align: right;\">\n",
       "      <th></th>\n",
       "      <th>date</th>\n",
       "      <th>open</th>\n",
       "      <th>high</th>\n",
       "      <th>low</th>\n",
       "      <th>close</th>\n",
       "    </tr>\n",
       "  </thead>\n",
       "  <tbody>\n",
       "    <tr>\n",
       "      <th>0</th>\n",
       "      <td>2016-06-01</td>\n",
       "      <td>65.8547</td>\n",
       "      <td>66.2330</td>\n",
       "      <td>65.7706</td>\n",
       "      <td>65.8547</td>\n",
       "    </tr>\n",
       "    <tr>\n",
       "      <th>1</th>\n",
       "      <td>2016-06-02</td>\n",
       "      <td>65.8547</td>\n",
       "      <td>66.3217</td>\n",
       "      <td>65.5231</td>\n",
       "      <td>66.2750</td>\n",
       "    </tr>\n",
       "    <tr>\n",
       "      <th>2</th>\n",
       "      <td>2016-06-03</td>\n",
       "      <td>65.9201</td>\n",
       "      <td>66.3684</td>\n",
       "      <td>65.8733</td>\n",
       "      <td>66.2003</td>\n",
       "    </tr>\n",
       "    <tr>\n",
       "      <th>3</th>\n",
       "      <td>2016-06-06</td>\n",
       "      <td>66.8075</td>\n",
       "      <td>66.8355</td>\n",
       "      <td>66.3217</td>\n",
       "      <td>66.3684</td>\n",
       "    </tr>\n",
       "    <tr>\n",
       "      <th>4</th>\n",
       "      <td>2016-06-07</td>\n",
       "      <td>66.4151</td>\n",
       "      <td>66.6113</td>\n",
       "      <td>66.1816</td>\n",
       "      <td>66.3497</td>\n",
       "    </tr>\n",
       "  </tbody>\n",
       "</table>\n",
       "</div>"
      ],
      "text/plain": [
       "         date     open     high      low    close\n",
       "0  2016-06-01  65.8547  66.2330  65.7706  65.8547\n",
       "1  2016-06-02  65.8547  66.3217  65.5231  66.2750\n",
       "2  2016-06-03  65.9201  66.3684  65.8733  66.2003\n",
       "3  2016-06-06  66.8075  66.8355  66.3217  66.3684\n",
       "4  2016-06-07  66.4151  66.6113  66.1816  66.3497"
      ]
     },
     "execution_count": 11,
     "metadata": {},
     "output_type": "execute_result"
    }
   ],
   "source": [
    "movingAverageFilteredData = filteredData\n",
    "movingAverageFilteredData.reset_index(inplace=True, drop=True)\n",
    "movingAverageFilteredData.head()"
   ]
  },
  {
   "cell_type": "code",
   "execution_count": 12,
   "metadata": {},
   "outputs": [
    {
     "data": {
      "text/html": [
       "<div>\n",
       "<style scoped>\n",
       "    .dataframe tbody tr th:only-of-type {\n",
       "        vertical-align: middle;\n",
       "    }\n",
       "\n",
       "    .dataframe tbody tr th {\n",
       "        vertical-align: top;\n",
       "    }\n",
       "\n",
       "    .dataframe thead th {\n",
       "        text-align: right;\n",
       "    }\n",
       "</style>\n",
       "<table border=\"1\" class=\"dataframe\">\n",
       "  <thead>\n",
       "    <tr style=\"text-align: right;\">\n",
       "      <th></th>\n",
       "      <th>date</th>\n",
       "      <th>close</th>\n",
       "    </tr>\n",
       "  </thead>\n",
       "  <tbody>\n",
       "    <tr>\n",
       "      <th>0</th>\n",
       "      <td>2016-06-01</td>\n",
       "      <td>65.8547</td>\n",
       "    </tr>\n",
       "    <tr>\n",
       "      <th>1</th>\n",
       "      <td>2016-06-02</td>\n",
       "      <td>66.275</td>\n",
       "    </tr>\n",
       "    <tr>\n",
       "      <th>2</th>\n",
       "      <td>2016-06-03</td>\n",
       "      <td>66.2003</td>\n",
       "    </tr>\n",
       "    <tr>\n",
       "      <th>3</th>\n",
       "      <td>2016-06-06</td>\n",
       "      <td>66.3684</td>\n",
       "    </tr>\n",
       "    <tr>\n",
       "      <th>4</th>\n",
       "      <td>2016-06-07</td>\n",
       "      <td>66.3497</td>\n",
       "    </tr>\n",
       "  </tbody>\n",
       "</table>\n",
       "</div>"
      ],
      "text/plain": [
       "         date    close\n",
       "0  2016-06-01  65.8547\n",
       "1  2016-06-02   66.275\n",
       "2  2016-06-03  66.2003\n",
       "3  2016-06-06  66.3684\n",
       "4  2016-06-07  66.3497"
      ]
     },
     "execution_count": 12,
     "metadata": {},
     "output_type": "execute_result"
    }
   ],
   "source": [
    "# Moving Average Model\n",
    "# Does Not Use X_train, y_train, x_test, or y_test dataframes\n",
    "movingAverageData = pd.DataFrame(index=range(0,len(movingAverageFilteredData)),columns=['date', 'close'])\n",
    "for i in range(0,len(movingAverageFilteredData)):\n",
    "    movingAverageData['date'][i] = movingAverageFilteredData['date'][i]\n",
    "    movingAverageData['close'][i] = movingAverageFilteredData['close'][i]\n",
    "movingAverageData.head()"
   ]
  },
  {
   "cell_type": "code",
   "execution_count": 13,
   "metadata": {},
   "outputs": [
    {
     "data": {
      "text/html": [
       "<div>\n",
       "<style scoped>\n",
       "    .dataframe tbody tr th:only-of-type {\n",
       "        vertical-align: middle;\n",
       "    }\n",
       "\n",
       "    .dataframe tbody tr th {\n",
       "        vertical-align: top;\n",
       "    }\n",
       "\n",
       "    .dataframe thead th {\n",
       "        text-align: right;\n",
       "    }\n",
       "</style>\n",
       "<table border=\"1\" class=\"dataframe\">\n",
       "  <thead>\n",
       "    <tr style=\"text-align: right;\">\n",
       "      <th></th>\n",
       "      <th>date</th>\n",
       "      <th>close</th>\n",
       "    </tr>\n",
       "  </thead>\n",
       "  <tbody>\n",
       "    <tr>\n",
       "      <th>0</th>\n",
       "      <td>2016-06-01</td>\n",
       "      <td>65.8547</td>\n",
       "    </tr>\n",
       "    <tr>\n",
       "      <th>1</th>\n",
       "      <td>2016-06-02</td>\n",
       "      <td>66.275</td>\n",
       "    </tr>\n",
       "    <tr>\n",
       "      <th>2</th>\n",
       "      <td>2016-06-03</td>\n",
       "      <td>66.2003</td>\n",
       "    </tr>\n",
       "    <tr>\n",
       "      <th>3</th>\n",
       "      <td>2016-06-06</td>\n",
       "      <td>66.3684</td>\n",
       "    </tr>\n",
       "    <tr>\n",
       "      <th>4</th>\n",
       "      <td>2016-06-07</td>\n",
       "      <td>66.3497</td>\n",
       "    </tr>\n",
       "  </tbody>\n",
       "</table>\n",
       "</div>"
      ],
      "text/plain": [
       "         date    close\n",
       "0  2016-06-01  65.8547\n",
       "1  2016-06-02   66.275\n",
       "2  2016-06-03  66.2003\n",
       "3  2016-06-06  66.3684\n",
       "4  2016-06-07  66.3497"
      ]
     },
     "execution_count": 13,
     "metadata": {},
     "output_type": "execute_result"
    }
   ],
   "source": [
    "movingAverageTrainData = movingAverageData.loc[:inputTrainEndDate]\n",
    "movingAverageTrainData.head()"
   ]
  },
  {
   "cell_type": "code",
   "execution_count": 14,
   "metadata": {},
   "outputs": [
    {
     "data": {
      "text/html": [
       "<div>\n",
       "<style scoped>\n",
       "    .dataframe tbody tr th:only-of-type {\n",
       "        vertical-align: middle;\n",
       "    }\n",
       "\n",
       "    .dataframe tbody tr th {\n",
       "        vertical-align: top;\n",
       "    }\n",
       "\n",
       "    .dataframe thead th {\n",
       "        text-align: right;\n",
       "    }\n",
       "</style>\n",
       "<table border=\"1\" class=\"dataframe\">\n",
       "  <thead>\n",
       "    <tr style=\"text-align: right;\">\n",
       "      <th></th>\n",
       "      <th>date</th>\n",
       "      <th>close</th>\n",
       "    </tr>\n",
       "  </thead>\n",
       "  <tbody>\n",
       "    <tr>\n",
       "      <th>504</th>\n",
       "      <td>2018-06-01</td>\n",
       "      <td>82.0629</td>\n",
       "    </tr>\n",
       "    <tr>\n",
       "      <th>505</th>\n",
       "      <td>2018-06-04</td>\n",
       "      <td>84.4658</td>\n",
       "    </tr>\n",
       "    <tr>\n",
       "      <th>506</th>\n",
       "      <td>2018-06-05</td>\n",
       "      <td>83.6747</td>\n",
       "    </tr>\n",
       "    <tr>\n",
       "      <th>507</th>\n",
       "      <td>2018-06-06</td>\n",
       "      <td>83.6154</td>\n",
       "    </tr>\n",
       "    <tr>\n",
       "      <th>508</th>\n",
       "      <td>2018-06-07</td>\n",
       "      <td>84.0011</td>\n",
       "    </tr>\n",
       "  </tbody>\n",
       "</table>\n",
       "</div>"
      ],
      "text/plain": [
       "           date    close\n",
       "504  2018-06-01  82.0629\n",
       "505  2018-06-04  84.4658\n",
       "506  2018-06-05  83.6747\n",
       "507  2018-06-06  83.6154\n",
       "508  2018-06-07  84.0011"
      ]
     },
     "execution_count": 14,
     "metadata": {},
     "output_type": "execute_result"
    }
   ],
   "source": [
    "movingAverageTestData = movingAverageData.loc[endDateTrainIndex[0]:]\n",
    "movingAverageTestData.head()"
   ]
  },
  {
   "cell_type": "code",
   "execution_count": 15,
   "metadata": {},
   "outputs": [
    {
     "data": {
      "text/plain": [
       "((668, 2), (504, 2), (164, 2))"
      ]
     },
     "execution_count": 15,
     "metadata": {},
     "output_type": "execute_result"
    }
   ],
   "source": [
    "movingAverageData.shape, movingAverageTrainData.shape, movingAverageTestData.shape "
   ]
  },
  {
   "cell_type": "code",
   "execution_count": 16,
   "metadata": {},
   "outputs": [
    {
     "data": {
      "text/plain": [
       "('2016-06-01', '2018-05-31', '2018-06-01', '2019-01-25')"
      ]
     },
     "execution_count": 16,
     "metadata": {},
     "output_type": "execute_result"
    }
   ],
   "source": [
    "movingAverageTrainData['date'].min(), movingAverageTrainData['date'].max(), movingAverageTestData['date'].min(), movingAverageTestData['date'].max()"
   ]
  },
  {
   "cell_type": "code",
   "execution_count": 17,
   "metadata": {},
   "outputs": [],
   "source": [
    "#make predictions\n",
    "preds = []\n",
    "for i in range(0,len(movingAverageTestData)):\n",
    "    a = movingAverageTestData['close'][len(movingAverageTestData)-len(movingAverageTestData)+i:].sum() + sum(preds)\n",
    "    b = a/len(movingAverageTestData)\n",
    "    preds.append(b)"
   ]
  },
  {
   "cell_type": "code",
   "execution_count": 18,
   "metadata": {},
   "outputs": [
    {
     "data": {
      "text/plain": [
       "5.437535698023625"
      ]
     },
     "execution_count": 18,
     "metadata": {},
     "output_type": "execute_result"
    }
   ],
   "source": [
    "#calculate rmse\n",
    "rmse=np.sqrt(np.mean(np.power((np.array(movingAverageTestData['close'])-preds),2)))\n",
    "rmse"
   ]
  },
  {
   "cell_type": "code",
   "execution_count": 19,
   "metadata": {},
   "outputs": [
    {
     "name": "stderr",
     "output_type": "stream",
     "text": [
      "D:\\Users\\Sanket_Mishra\\Anaconda3\\envs\\PythonData\\lib\\site-packages\\ipykernel_launcher.py:2: SettingWithCopyWarning: \n",
      "A value is trying to be set on a copy of a slice from a DataFrame.\n",
      "Try using .loc[row_indexer,col_indexer] = value instead\n",
      "\n",
      "See the caveats in the documentation: http://pandas.pydata.org/pandas-docs/stable/indexing.html#indexing-view-versus-copy\n",
      "  \n",
      "D:\\Users\\Sanket_Mishra\\Anaconda3\\envs\\PythonData\\lib\\site-packages\\ipykernel_launcher.py:3: SettingWithCopyWarning: \n",
      "A value is trying to be set on a copy of a slice from a DataFrame.\n",
      "Try using .loc[row_indexer,col_indexer] = value instead\n",
      "\n",
      "See the caveats in the documentation: http://pandas.pydata.org/pandas-docs/stable/indexing.html#indexing-view-versus-copy\n",
      "  This is separate from the ipykernel package so we can avoid doing imports until\n"
     ]
    },
    {
     "data": {
      "text/plain": [
       "Text(0.5,1,'Moving Average Model Predictor')"
      ]
     },
     "execution_count": 19,
     "metadata": {},
     "output_type": "execute_result"
    },
    {
     "data": {
      "image/png": "[encoded data removed]",
      "text/plain": [
       "<Figure size 432x288 with 1 Axes>"
      ]
     },
     "metadata": {},
     "output_type": "display_data"
    }
   ],
   "source": [
    "#plot\n",
    "movingAverageTestData['Predictions'] = 0\n",
    "movingAverageTestData['Predictions'] = preds\n",
    "plt.plot(movingAverageTrainData['close'], 'b-', label=\"Train Close\")\n",
    "plt.plot(movingAverageTestData['close'], 'g-', label=\"Test Close\")\n",
    "plt.plot(movingAverageTestData['Predictions'], 'r-', label=\"Predicted Close\")\n",
    "plt.legend()\n",
    "plt.xlabel(\"Day Index\")\n",
    "plt.ylabel(\"Close Price\")\n",
    "plt.title(\"Moving Average Model Predictor\")"
   ]
  },
  {
   "cell_type": "code",
   "execution_count": 20,
   "metadata": {},
   "outputs": [],
   "source": [
    "#importing libraries\n",
    "from sklearn import neighbors\n",
    "from sklearn.model_selection import GridSearchCV\n",
    "from sklearn.preprocessing import MinMaxScaler\n",
    "scaler = MinMaxScaler(feature_range=(0, 1))"
   ]
  },
  {
   "cell_type": "code",
   "execution_count": 21,
   "metadata": {},
   "outputs": [
    {
     "data": {
      "text/html": [
       "<div>\n",
       "<style scoped>\n",
       "    .dataframe tbody tr th:only-of-type {\n",
       "        vertical-align: middle;\n",
       "    }\n",
       "\n",
       "    .dataframe tbody tr th {\n",
       "        vertical-align: top;\n",
       "    }\n",
       "\n",
       "    .dataframe thead th {\n",
       "        text-align: right;\n",
       "    }\n",
       "</style>\n",
       "<table border=\"1\" class=\"dataframe\">\n",
       "  <thead>\n",
       "    <tr style=\"text-align: right;\">\n",
       "      <th></th>\n",
       "      <th>open</th>\n",
       "      <th>high</th>\n",
       "      <th>low</th>\n",
       "      <th>close</th>\n",
       "    </tr>\n",
       "  </thead>\n",
       "  <tbody>\n",
       "    <tr>\n",
       "      <th>0</th>\n",
       "      <td>65.8547</td>\n",
       "      <td>66.2330</td>\n",
       "      <td>65.7706</td>\n",
       "      <td>65.8547</td>\n",
       "    </tr>\n",
       "    <tr>\n",
       "      <th>1</th>\n",
       "      <td>65.8547</td>\n",
       "      <td>66.3217</td>\n",
       "      <td>65.5231</td>\n",
       "      <td>66.2750</td>\n",
       "    </tr>\n",
       "    <tr>\n",
       "      <th>2</th>\n",
       "      <td>65.9201</td>\n",
       "      <td>66.3684</td>\n",
       "      <td>65.8733</td>\n",
       "      <td>66.2003</td>\n",
       "    </tr>\n",
       "    <tr>\n",
       "      <th>3</th>\n",
       "      <td>66.8075</td>\n",
       "      <td>66.8355</td>\n",
       "      <td>66.3217</td>\n",
       "      <td>66.3684</td>\n",
       "    </tr>\n",
       "    <tr>\n",
       "      <th>4</th>\n",
       "      <td>66.4151</td>\n",
       "      <td>66.6113</td>\n",
       "      <td>66.1816</td>\n",
       "      <td>66.3497</td>\n",
       "    </tr>\n",
       "  </tbody>\n",
       "</table>\n",
       "</div>"
      ],
      "text/plain": [
       "      open     high      low    close\n",
       "0  65.8547  66.2330  65.7706  65.8547\n",
       "1  65.8547  66.3217  65.5231  66.2750\n",
       "2  65.9201  66.3684  65.8733  66.2003\n",
       "3  66.8075  66.8355  66.3217  66.3684\n",
       "4  66.4151  66.6113  66.1816  66.3497"
      ]
     },
     "execution_count": 21,
     "metadata": {},
     "output_type": "execute_result"
    }
   ],
   "source": [
    "X_train = X_trainData\n",
    "X_train = X_train.drop(columns=[\"date\"])\n",
    "X_train.head()"
   ]
  },
  {
   "cell_type": "code",
   "execution_count": 22,
   "metadata": {},
   "outputs": [
    {
     "data": {
      "text/html": [
       "<div>\n",
       "<style scoped>\n",
       "    .dataframe tbody tr th:only-of-type {\n",
       "        vertical-align: middle;\n",
       "    }\n",
       "\n",
       "    .dataframe tbody tr th {\n",
       "        vertical-align: top;\n",
       "    }\n",
       "\n",
       "    .dataframe thead th {\n",
       "        text-align: right;\n",
       "    }\n",
       "</style>\n",
       "<table border=\"1\" class=\"dataframe\">\n",
       "  <thead>\n",
       "    <tr style=\"text-align: right;\">\n",
       "      <th></th>\n",
       "      <th>open</th>\n",
       "      <th>high</th>\n",
       "      <th>low</th>\n",
       "      <th>close</th>\n",
       "    </tr>\n",
       "  </thead>\n",
       "  <tbody>\n",
       "    <tr>\n",
       "      <th>504</th>\n",
       "      <td>82.1124</td>\n",
       "      <td>82.4881</td>\n",
       "      <td>81.9245</td>\n",
       "      <td>82.0629</td>\n",
       "    </tr>\n",
       "    <tr>\n",
       "      <th>505</th>\n",
       "      <td>82.5673</td>\n",
       "      <td>84.5647</td>\n",
       "      <td>82.3695</td>\n",
       "      <td>84.4658</td>\n",
       "    </tr>\n",
       "    <tr>\n",
       "      <th>506</th>\n",
       "      <td>84.4955</td>\n",
       "      <td>84.5152</td>\n",
       "      <td>83.3089</td>\n",
       "      <td>83.6747</td>\n",
       "    </tr>\n",
       "    <tr>\n",
       "      <th>507</th>\n",
       "      <td>84.0011</td>\n",
       "      <td>84.1961</td>\n",
       "      <td>83.4078</td>\n",
       "      <td>83.6154</td>\n",
       "    </tr>\n",
       "    <tr>\n",
       "      <th>508</th>\n",
       "      <td>83.8330</td>\n",
       "      <td>84.8020</td>\n",
       "      <td>83.7440</td>\n",
       "      <td>84.0011</td>\n",
       "    </tr>\n",
       "  </tbody>\n",
       "</table>\n",
       "</div>"
      ],
      "text/plain": [
       "        open     high      low    close\n",
       "504  82.1124  82.4881  81.9245  82.0629\n",
       "505  82.5673  84.5647  82.3695  84.4658\n",
       "506  84.4955  84.5152  83.3089  83.6747\n",
       "507  84.0011  84.1961  83.4078  83.6154\n",
       "508  83.8330  84.8020  83.7440  84.0011"
      ]
     },
     "execution_count": 22,
     "metadata": {},
     "output_type": "execute_result"
    }
   ],
   "source": [
    "X_test = X_testData\n",
    "X_test = X_test.drop(columns=[\"date\"])\n",
    "X_test.head()"
   ]
  },
  {
   "cell_type": "code",
   "execution_count": 23,
   "metadata": {},
   "outputs": [],
   "source": [
    "#scaling data\n",
    "KNN_X_train_scaled = scaler.fit_transform(X_train)\n",
    "KNN_X_train = pd.DataFrame(KNN_X_train_scaled)\n",
    "KNN_X_test_scaled = scaler.fit_transform(X_test)\n",
    "KNN_X_test = pd.DataFrame(KNN_X_test_scaled)\n",
    "\n",
    "#using gridsearch to find the best parameter\n",
    "params = {'n_neighbors':[3,5,7,9]}\n",
    "knn = neighbors.KNeighborsRegressor()\n",
    "model = GridSearchCV(knn, params, cv=5)\n",
    "\n",
    "#fit the model and make predictions\n",
    "model.fit(KNN_X_train,y_trainData)\n",
    "preds = model.predict(KNN_X_test)"
   ]
  },
  {
   "cell_type": "code",
   "execution_count": 24,
   "metadata": {},
   "outputs": [
    {
     "name": "stderr",
     "output_type": "stream",
     "text": [
      "D:\\Users\\Sanket_Mishra\\Anaconda3\\envs\\PythonData\\lib\\site-packages\\ipykernel_launcher.py:5: SettingWithCopyWarning: \n",
      "A value is trying to be set on a copy of a slice from a DataFrame\n",
      "\n",
      "See the caveats in the documentation: http://pandas.pydata.org/pandas-docs/stable/indexing.html#indexing-view-versus-copy\n",
      "  \"\"\"\n"
     ]
    }
   ],
   "source": [
    "output = pd.DataFrame(y_testData, columns = ['close', 'predictions'], dtype=np.float64)\n",
    "output = output.drop(columns=[\"close\"])\n",
    "output.reset_index(inplace=True, drop=False)\n",
    "for i in range(0,len(preds)):\n",
    "    output[\"predictions\"][i] = preds[i]\n",
    "output = output.set_index('index')"
   ]
  },
  {
   "cell_type": "code",
   "execution_count": 25,
   "metadata": {},
   "outputs": [
    {
     "data": {
      "text/plain": [
       "Text(0.5,1,'K-Nearest Neighbors Model Predictor')"
      ]
     },
     "execution_count": 25,
     "metadata": {},
     "output_type": "execute_result"
    },
    {
     "data": {
      "image/png": "[encoded data removed]",
      "text/plain": [
       "<Figure size 432x288 with 1 Axes>"
      ]
     },
     "metadata": {},
     "output_type": "display_data"
    }
   ],
   "source": [
    "#plot\n",
    "plt.plot(X_train['close'], 'b-', label=\"Train Close\")\n",
    "plt.plot(X_test['close'], 'g-', label=\"Test Close\")\n",
    "plt.plot(output['predictions'], 'r-', label=\"Predicted Close\")\n",
    "plt.legend()\n",
    "plt.xlabel(\"Day Index\")\n",
    "plt.ylabel(\"Close Price\")\n",
    "plt.title(\"K-Nearest Neighbors Model Predictor\")"
   ]
  },
  {
   "cell_type": "code",
   "execution_count": 26,
   "metadata": {},
   "outputs": [
    {
     "data": {
      "text/plain": [
       "19.25641205441057"
      ]
     },
     "execution_count": 26,
     "metadata": {},
     "output_type": "execute_result"
    }
   ],
   "source": [
    "#rmse\n",
    "rmse=np.sqrt(np.mean(np.power((np.array(y_testData)-np.array(preds)),2)))\n",
    "rmse"
   ]
  },
  {
   "cell_type": "code",
   "execution_count": 27,
   "metadata": {},
   "outputs": [
    {
     "data": {
      "text/plain": [
       "-41.434759064279646"
      ]
     },
     "execution_count": 27,
     "metadata": {},
     "output_type": "execute_result"
    }
   ],
   "source": [
    "model.score(KNN_X_test, y_testData)"
   ]
  },
  {
   "cell_type": "code",
   "execution_count": 28,
   "metadata": {},
   "outputs": [
    {
     "name": "stderr",
     "output_type": "stream",
     "text": [
      "D:\\Users\\Sanket_Mishra\\Anaconda3\\envs\\PythonData\\lib\\site-packages\\pyramid\\__init__.py:68: UserWarning: \n",
      "    The 'pyramid' package will be migrating to a new namespace beginning in \n",
      "    version 1.0.0: 'pmdarima'. This is due to a package name collision with the\n",
      "    Pyramid web framework. For more information, see Issue #34:\n",
      "    \n",
      "        https://github.com/tgsmith61591/pyramid/issues/34\n",
      "        \n",
      "    The package will subsequently be installable via the name 'pmdarima'; the\n",
      "    only functional change to the user will be the import name. All imports\n",
      "    from 'pyramid' will change to 'pmdarima'.\n",
      "    \n",
      "  \"\"\", UserWarning)\n"
     ]
    }
   ],
   "source": [
    "# Auto-ARIMA model\n",
    "from pyramid.arima import auto_arima"
   ]
  },
  {
   "cell_type": "code",
   "execution_count": 29,
   "metadata": {
    "scrolled": true
   },
   "outputs": [
    {
     "name": "stdout",
     "output_type": "stream",
     "text": [
      "Fit ARIMA: order=(1, 1, 1) seasonal_order=(0, 1, 1, 12); AIC=1469.154, BIC=1490.136, Fit time=1.503 seconds\n",
      "Fit ARIMA: order=(0, 1, 0) seasonal_order=(0, 1, 0, 12); AIC=1754.632, BIC=1763.025, Fit time=0.030 seconds\n",
      "Fit ARIMA: order=(1, 1, 0) seasonal_order=(1, 1, 0, 12); AIC=1641.092, BIC=1657.877, Fit time=0.344 seconds\n",
      "Fit ARIMA: order=(0, 1, 1) seasonal_order=(0, 1, 1, 12); AIC=1469.624, BIC=1486.410, Fit time=0.551 seconds\n",
      "Fit ARIMA: order=(1, 1, 1) seasonal_order=(1, 1, 1, 12); AIC=1470.958, BIC=1496.137, Fit time=2.831 seconds\n",
      "Fit ARIMA: order=(1, 1, 1) seasonal_order=(0, 1, 0, 12); AIC=1737.950, BIC=1754.735, Fit time=0.788 seconds\n"
     ]
    },
    {
     "name": "stderr",
     "output_type": "stream",
     "text": [
      "D:\\Users\\Sanket_Mishra\\Anaconda3\\envs\\PythonData\\lib\\site-packages\\statsmodels\\base\\model.py:508: ConvergenceWarning: Maximum Likelihood optimization failed to converge. Check mle_retvals\n",
      "  \"Check mle_retvals\", ConvergenceWarning)\n"
     ]
    },
    {
     "name": "stdout",
     "output_type": "stream",
     "text": [
      "Fit ARIMA: order=(1, 1, 1) seasonal_order=(0, 1, 2, 12); AIC=1470.934, BIC=1496.112, Fit time=6.217 seconds\n"
     ]
    },
    {
     "name": "stderr",
     "output_type": "stream",
     "text": [
      "D:\\Users\\Sanket_Mishra\\Anaconda3\\envs\\PythonData\\lib\\site-packages\\statsmodels\\base\\model.py:508: ConvergenceWarning: Maximum Likelihood optimization failed to converge. Check mle_retvals\n",
      "  \"Check mle_retvals\", ConvergenceWarning)\n"
     ]
    },
    {
     "name": "stdout",
     "output_type": "stream",
     "text": [
      "Fit ARIMA: order=(1, 1, 1) seasonal_order=(1, 1, 2, 12); AIC=1472.152, BIC=1501.527, Fit time=6.218 seconds\n",
      "Fit ARIMA: order=(2, 1, 1) seasonal_order=(0, 1, 1, 12); AIC=1468.344, BIC=1493.522, Fit time=1.375 seconds\n",
      "Fit ARIMA: order=(2, 1, 0) seasonal_order=(0, 1, 1, 12); AIC=1466.767, BIC=1487.750, Fit time=0.781 seconds\n",
      "Fit ARIMA: order=(3, 1, 1) seasonal_order=(0, 1, 1, 12); AIC=1470.336, BIC=1499.711, Fit time=1.870 seconds\n",
      "Fit ARIMA: order=(2, 1, 0) seasonal_order=(1, 1, 1, 12); AIC=1468.314, BIC=1493.493, Fit time=1.001 seconds\n",
      "Fit ARIMA: order=(2, 1, 0) seasonal_order=(0, 1, 0, 12); AIC=1740.135, BIC=1756.921, Fit time=0.113 seconds\n",
      "Fit ARIMA: order=(2, 1, 0) seasonal_order=(0, 1, 2, 12); AIC=1468.236, BIC=1493.414, Fit time=3.728 seconds\n",
      "Fit ARIMA: order=(2, 1, 0) seasonal_order=(1, 1, 2, 12); AIC=1469.138, BIC=1498.513, Fit time=3.653 seconds\n",
      "Fit ARIMA: order=(1, 1, 0) seasonal_order=(0, 1, 1, 12); AIC=1469.805, BIC=1486.590, Fit time=0.576 seconds\n",
      "Fit ARIMA: order=(3, 1, 0) seasonal_order=(0, 1, 1, 12); AIC=1468.409, BIC=1493.588, Fit time=0.800 seconds\n",
      "Total fit time: 32.378 seconds\n"
     ]
    }
   ],
   "source": [
    "ARIMA_train = X_trainData[\"close\"]\n",
    "ARIMA_test = X_testData[\"close\"]\n",
    "\n",
    "model = auto_arima(ARIMA_train, start_p=1, start_q=1, max_p=3, max_q=3, m=12, start_P=0, seasonal=True, d=1, D=1, \n",
    "                   trace=True, error_action='ignore', supress_warnings=True)\n",
    "\n",
    "model.fit(ARIMA_train)\n",
    "# 162\n",
    "ARIMA_test_periods = filteredLastIndex - endDateTrainIndex[0]\n",
    "predictions = model.predict(n_periods= ARIMA_test_periods)\n",
    "predictions = pd.DataFrame(predictions, index= ARIMA_test.index, columns=['Prediction'])"
   ]
  },
  {
   "cell_type": "code",
   "execution_count": 30,
   "metadata": {},
   "outputs": [
    {
     "data": {
      "text/plain": [
       "14.844176887535719"
      ]
     },
     "execution_count": 30,
     "metadata": {},
     "output_type": "execute_result"
    }
   ],
   "source": [
    "#rmse\n",
    "rmse=np.sqrt(np.mean(np.power((np.array(y_testData)-np.array(predictions)),2)))\n",
    "rmse"
   ]
  },
  {
   "cell_type": "code",
   "execution_count": 31,
   "metadata": {},
   "outputs": [
    {
     "data": {
      "text/plain": [
       "Text(0.5,1,'Auto-ARIMA Model Predictor')"
      ]
     },
     "execution_count": 31,
     "metadata": {},
     "output_type": "execute_result"
    },
    {
     "data": {
      "image/png": "[encoded data removed]",
      "text/plain": [
       "<Figure size 432x288 with 1 Axes>"
      ]
     },
     "metadata": {},
     "output_type": "display_data"
    }
   ],
   "source": [
    "#plot\n",
    "plt.plot(ARIMA_train, 'b-', label=\"Train Close\")\n",
    "plt.plot(ARIMA_test, 'g-', label=\"Test Close\")\n",
    "plt.plot(predictions['Prediction'], 'r-', label=\"Predicted Close\")\n",
    "plt.legend()\n",
    "plt.xlabel(\"Day Index\")\n",
    "plt.ylabel(\"Close Price\")\n",
    "plt.title(\"Auto-ARIMA Model Predictor\")"
   ]
  },
  {
   "cell_type": "code",
   "execution_count": 32,
   "metadata": {},
   "outputs": [
    {
     "data": {
      "text/html": [
       "<div>\n",
       "<style scoped>\n",
       "    .dataframe tbody tr th:only-of-type {\n",
       "        vertical-align: middle;\n",
       "    }\n",
       "\n",
       "    .dataframe tbody tr th {\n",
       "        vertical-align: top;\n",
       "    }\n",
       "\n",
       "    .dataframe thead th {\n",
       "        text-align: right;\n",
       "    }\n",
       "</style>\n",
       "<table border=\"1\" class=\"dataframe\">\n",
       "  <thead>\n",
       "    <tr style=\"text-align: right;\">\n",
       "      <th></th>\n",
       "      <th>open</th>\n",
       "      <th>high</th>\n",
       "      <th>low</th>\n",
       "      <th>close</th>\n",
       "    </tr>\n",
       "  </thead>\n",
       "  <tbody>\n",
       "    <tr>\n",
       "      <th>0</th>\n",
       "      <td>65.8547</td>\n",
       "      <td>66.2330</td>\n",
       "      <td>65.7706</td>\n",
       "      <td>65.8547</td>\n",
       "    </tr>\n",
       "    <tr>\n",
       "      <th>1</th>\n",
       "      <td>65.8547</td>\n",
       "      <td>66.3217</td>\n",
       "      <td>65.5231</td>\n",
       "      <td>66.2750</td>\n",
       "    </tr>\n",
       "    <tr>\n",
       "      <th>2</th>\n",
       "      <td>65.9201</td>\n",
       "      <td>66.3684</td>\n",
       "      <td>65.8733</td>\n",
       "      <td>66.2003</td>\n",
       "    </tr>\n",
       "    <tr>\n",
       "      <th>3</th>\n",
       "      <td>66.8075</td>\n",
       "      <td>66.8355</td>\n",
       "      <td>66.3217</td>\n",
       "      <td>66.3684</td>\n",
       "    </tr>\n",
       "    <tr>\n",
       "      <th>4</th>\n",
       "      <td>66.4151</td>\n",
       "      <td>66.6113</td>\n",
       "      <td>66.1816</td>\n",
       "      <td>66.3497</td>\n",
       "    </tr>\n",
       "  </tbody>\n",
       "</table>\n",
       "</div>"
      ],
      "text/plain": [
       "      open     high      low    close\n",
       "0  65.8547  66.2330  65.7706  65.8547\n",
       "1  65.8547  66.3217  65.5231  66.2750\n",
       "2  65.9201  66.3684  65.8733  66.2003\n",
       "3  66.8075  66.8355  66.3217  66.3684\n",
       "4  66.4151  66.6113  66.1816  66.3497"
      ]
     },
     "execution_count": 32,
     "metadata": {},
     "output_type": "execute_result"
    }
   ],
   "source": [
    "#Logistic Regression Model\n",
    "LogReg_X_train = X_trainData[[\"open\", \"high\", \"low\", \"close\"]]\n",
    "LogReg_X_train.head()"
   ]
  },
  {
   "cell_type": "code",
   "execution_count": 33,
   "metadata": {},
   "outputs": [
    {
     "data": {
      "text/plain": [
       "1    66.2750\n",
       "2    66.2003\n",
       "3    66.3684\n",
       "4    66.3497\n",
       "5    66.5833\n",
       "Name: close, dtype: float64"
      ]
     },
     "execution_count": 33,
     "metadata": {},
     "output_type": "execute_result"
    }
   ],
   "source": [
    "y_trainData.head()"
   ]
  },
  {
   "cell_type": "code",
   "execution_count": 34,
   "metadata": {},
   "outputs": [
    {
     "data": {
      "text/html": [
       "<div>\n",
       "<style scoped>\n",
       "    .dataframe tbody tr th:only-of-type {\n",
       "        vertical-align: middle;\n",
       "    }\n",
       "\n",
       "    .dataframe tbody tr th {\n",
       "        vertical-align: top;\n",
       "    }\n",
       "\n",
       "    .dataframe thead th {\n",
       "        text-align: right;\n",
       "    }\n",
       "</style>\n",
       "<table border=\"1\" class=\"dataframe\">\n",
       "  <thead>\n",
       "    <tr style=\"text-align: right;\">\n",
       "      <th></th>\n",
       "      <th>open</th>\n",
       "      <th>high</th>\n",
       "      <th>low</th>\n",
       "      <th>close</th>\n",
       "    </tr>\n",
       "  </thead>\n",
       "  <tbody>\n",
       "    <tr>\n",
       "      <th>504</th>\n",
       "      <td>82.1124</td>\n",
       "      <td>82.4881</td>\n",
       "      <td>81.9245</td>\n",
       "      <td>82.0629</td>\n",
       "    </tr>\n",
       "    <tr>\n",
       "      <th>505</th>\n",
       "      <td>82.5673</td>\n",
       "      <td>84.5647</td>\n",
       "      <td>82.3695</td>\n",
       "      <td>84.4658</td>\n",
       "    </tr>\n",
       "    <tr>\n",
       "      <th>506</th>\n",
       "      <td>84.4955</td>\n",
       "      <td>84.5152</td>\n",
       "      <td>83.3089</td>\n",
       "      <td>83.6747</td>\n",
       "    </tr>\n",
       "    <tr>\n",
       "      <th>507</th>\n",
       "      <td>84.0011</td>\n",
       "      <td>84.1961</td>\n",
       "      <td>83.4078</td>\n",
       "      <td>83.6154</td>\n",
       "    </tr>\n",
       "    <tr>\n",
       "      <th>508</th>\n",
       "      <td>83.8330</td>\n",
       "      <td>84.8020</td>\n",
       "      <td>83.7440</td>\n",
       "      <td>84.0011</td>\n",
       "    </tr>\n",
       "  </tbody>\n",
       "</table>\n",
       "</div>"
      ],
      "text/plain": [
       "        open     high      low    close\n",
       "504  82.1124  82.4881  81.9245  82.0629\n",
       "505  82.5673  84.5647  82.3695  84.4658\n",
       "506  84.4955  84.5152  83.3089  83.6747\n",
       "507  84.0011  84.1961  83.4078  83.6154\n",
       "508  83.8330  84.8020  83.7440  84.0011"
      ]
     },
     "execution_count": 34,
     "metadata": {},
     "output_type": "execute_result"
    }
   ],
   "source": [
    "LogReg_X_test = X_testData[[\"open\", \"high\", \"low\", \"close\"]]\n",
    "LogReg_X_test.head()"
   ]
  },
  {
   "cell_type": "code",
   "execution_count": 35,
   "metadata": {},
   "outputs": [
    {
     "data": {
      "text/plain": [
       "505    59.1116\n",
       "506    61.0814\n",
       "507    62.1307\n",
       "508    61.5416\n",
       "509    60.9985\n",
       "Name: close, dtype: float64"
      ]
     },
     "execution_count": 35,
     "metadata": {},
     "output_type": "execute_result"
    }
   ],
   "source": [
    "y_testData.head()"
   ]
  },
  {
   "cell_type": "code",
   "execution_count": 36,
   "metadata": {},
   "outputs": [],
   "source": [
    "from sklearn.linear_model import LinearRegression\n",
    "model = LinearRegression()"
   ]
  },
  {
   "cell_type": "code",
   "execution_count": 37,
   "metadata": {},
   "outputs": [
    {
     "data": {
      "text/plain": [
       "LinearRegression(copy_X=True, fit_intercept=True, n_jobs=1, normalize=False)"
      ]
     },
     "execution_count": 37,
     "metadata": {},
     "output_type": "execute_result"
    }
   ],
   "source": [
    "model.fit(LogReg_X_train, y_trainData)"
   ]
  },
  {
   "cell_type": "code",
   "execution_count": 38,
   "metadata": {},
   "outputs": [],
   "source": [
    "predictions = model.predict(LogReg_X_test)"
   ]
  },
  {
   "cell_type": "code",
   "execution_count": 39,
   "metadata": {},
   "outputs": [],
   "source": [
    "LogReg_y_test = y_testData"
   ]
  },
  {
   "cell_type": "code",
   "execution_count": 40,
   "metadata": {},
   "outputs": [
    {
     "name": "stderr",
     "output_type": "stream",
     "text": [
      "D:\\Users\\Sanket_Mishra\\Anaconda3\\envs\\PythonData\\lib\\site-packages\\ipykernel_launcher.py:5: SettingWithCopyWarning: \n",
      "A value is trying to be set on a copy of a slice from a DataFrame\n",
      "\n",
      "See the caveats in the documentation: http://pandas.pydata.org/pandas-docs/stable/indexing.html#indexing-view-versus-copy\n",
      "  \"\"\"\n"
     ]
    }
   ],
   "source": [
    "output = pd.DataFrame(y_testData, columns = ['close', 'predictions'], dtype=np.float64)\n",
    "output = output.drop(columns=[\"close\"])\n",
    "output.reset_index(inplace=True, drop=False)\n",
    "for i in range(0,len(preds)):\n",
    "    output[\"predictions\"][i] = predictions[i]\n",
    "output = output.set_index('index')"
   ]
  },
  {
   "cell_type": "code",
   "execution_count": 41,
   "metadata": {},
   "outputs": [
    {
     "data": {
      "text/plain": [
       "Text(0.5,1,'Logistic Regression Model Predictor')"
      ]
     },
     "execution_count": 41,
     "metadata": {},
     "output_type": "execute_result"
    },
    {
     "data": {
      "image/png": "[encoded data removed]",
      "text/plain": [
       "<Figure size 432x288 with 1 Axes>"
      ]
     },
     "metadata": {},
     "output_type": "display_data"
    }
   ],
   "source": [
    "#plot\n",
    "plt.plot(LogReg_X_train[\"close\"], 'b-', label=\"Train Close\")\n",
    "plt.plot(LogReg_X_test[\"close\"], 'g-', label=\"Test Close\")\n",
    "plt.plot(output, 'r-', label=\"Predicted Close\")\n",
    "plt.legend()\n",
    "plt.xlabel(\"Day Index\")\n",
    "plt.ylabel(\"Close Price\")\n",
    "plt.title(\"Logistic Regression Model Predictor\")"
   ]
  },
  {
   "cell_type": "code",
   "execution_count": 42,
   "metadata": {},
   "outputs": [
    {
     "name": "stdout",
     "output_type": "stream",
     "text": [
      "Training Data Score: 0.9914298334385366\n",
      "Testing Data Score: -85.87879872911121\n"
     ]
    }
   ],
   "source": [
    "# Validate  and calculate the model accuracy on the test dataset using ‘score’ function.\n",
    "\n",
    "print(f\"Training Data Score: {model.score(LogReg_X_train, y_trainData)}\")\n",
    "print(f\"Testing Data Score: {model.score(LogReg_X_test, y_testData)}\")"
   ]
  },
  {
   "cell_type": "code",
   "execution_count": 43,
   "metadata": {},
   "outputs": [
    {
     "name": "stdout",
     "output_type": "stream",
     "text": [
      "Last Index of Raw Data: 1258\n",
      "Splice Index: 1257\n",
      "Input Index Train Start 2.5 Years Ago : 591\n",
      "Output Index Train Start 2.5 Years Ago : 592\n",
      "Input Index Train End .5 Years Ago : 1094\n",
      "Output Index Train End .5 Years Ago : 1095\n",
      "Output Index Test Start .5 Years Ago : 1096\n"
     ]
    }
   ],
   "source": [
    "#Grab All Index Values for Stock Predictor to Split CSV Data to Train and Test\n",
    "# THESE ARE OLD INDEX VALUES THAT WE KEPT FOR SHAGUFTA'S CODE. ALL THESE VALUES WERE USED TO SET THE X/Y Train and Test DF's.\n",
    "lastIndex = len(unfilteredData)-1\n",
    "spliceIndex = lastIndex-1\n",
    "startDate = unfilteredData.loc[unfilteredData[\"date\"] == \"2016-06-01\"]\n",
    "startDateIndex = startDate.index.tolist()\n",
    "outputStartDateIndex = startDateIndex[0] + 1\n",
    "endDateTrain = unfilteredData.loc[unfilteredData[\"date\"] == \"2018-06-01\"]\n",
    "endDateTrainIndex = endDateTrain.index.tolist()\n",
    "inputTrainEndDate = endDateTrainIndex[0] - 1\n",
    "outputTestStartDate = endDateTrainIndex[0] + 1\n",
    "\n",
    "print(\"Last Index of Raw Data: \" + str(lastIndex))\n",
    "print(\"Splice Index: \" + str(spliceIndex))\n",
    "print(\"Input Index Train Start 2.5 Years Ago : \" + str(startDateIndex[0]))\n",
    "print(\"Output Index Train Start 2.5 Years Ago : \" + str(outputStartDateIndex))\n",
    "print(\"Input Index Train End .5 Years Ago : \" + str(inputTrainEndDate))\n",
    "print(\"Output Index Train End .5 Years Ago : \" + str(endDateTrainIndex[0]))\n",
    "print(\"Output Index Test Start .5 Years Ago : \" + str(outputTestStartDate))"
   ]
  },
  {
   "cell_type": "code",
   "execution_count": 44,
   "metadata": {},
   "outputs": [
    {
     "data": {
      "text/plain": [
       "(array([32, 94, 89, 23, 32, 49, 24, 10, 44, 66, 27, 13, 45, 61, 31,  9, 15,\n",
       "         4], dtype=int64),\n",
       " array([ 62.1954,  64.6851,  67.1748,  69.6645,  72.1542,  74.6439,\n",
       "         77.1336,  79.6233,  82.113 ,  84.6027,  87.0924,  89.5821,\n",
       "         92.0718,  94.5615,  97.0512,  99.5409, 102.0306, 104.5203,\n",
       "        107.01  ]))"
      ]
     },
     "execution_count": 44,
     "metadata": {},
     "output_type": "execute_result"
    }
   ],
   "source": [
    "\n",
    "# Meena Deep Learning Model\n",
    "NNfilteredData=unfilteredData.loc[startDateIndex[0]:lastIndex]\n",
    "NNfilteredData[\"close\"].max() - NNfilteredData[\"close\"].min()\n",
    "\n",
    "bins = np.histogram(NNfilteredData[\"close\"],bins=18,range=(NNfilteredData[\"close\"].min(),NNfilteredData[\"close\"].max()))\n",
    "bins"
   ]
  },
  {
   "cell_type": "code",
   "execution_count": 45,
   "metadata": {},
   "outputs": [
    {
     "name": "stderr",
     "output_type": "stream",
     "text": [
      "D:\\Users\\Sanket_Mishra\\Anaconda3\\envs\\PythonData\\lib\\site-packages\\ipykernel_launcher.py:14: SettingWithCopyWarning: \n",
      "A value is trying to be set on a copy of a slice from a DataFrame.\n",
      "Try using .loc[row_indexer,col_indexer] = value instead\n",
      "\n",
      "See the caveats in the documentation: http://pandas.pydata.org/pandas-docs/stable/indexing.html#indexing-view-versus-copy\n",
      "  \n"
     ]
    },
    {
     "data": {
      "text/html": [
       "<div>\n",
       "<style scoped>\n",
       "    .dataframe tbody tr th:only-of-type {\n",
       "        vertical-align: middle;\n",
       "    }\n",
       "\n",
       "    .dataframe tbody tr th {\n",
       "        vertical-align: top;\n",
       "    }\n",
       "\n",
       "    .dataframe thead th {\n",
       "        text-align: right;\n",
       "    }\n",
       "</style>\n",
       "<table border=\"1\" class=\"dataframe\">\n",
       "  <thead>\n",
       "    <tr style=\"text-align: right;\">\n",
       "      <th></th>\n",
       "      <th>date</th>\n",
       "      <th>open</th>\n",
       "      <th>high</th>\n",
       "      <th>low</th>\n",
       "      <th>close</th>\n",
       "      <th>closingRange</th>\n",
       "    </tr>\n",
       "  </thead>\n",
       "  <tbody>\n",
       "    <tr>\n",
       "      <th>591</th>\n",
       "      <td>2016-06-01</td>\n",
       "      <td>65.8547</td>\n",
       "      <td>66.2330</td>\n",
       "      <td>65.7706</td>\n",
       "      <td>65.8547</td>\n",
       "      <td>64.6851-67.1747</td>\n",
       "    </tr>\n",
       "    <tr>\n",
       "      <th>592</th>\n",
       "      <td>2016-06-02</td>\n",
       "      <td>65.8547</td>\n",
       "      <td>66.3217</td>\n",
       "      <td>65.5231</td>\n",
       "      <td>66.2750</td>\n",
       "      <td>64.6851-67.1747</td>\n",
       "    </tr>\n",
       "    <tr>\n",
       "      <th>593</th>\n",
       "      <td>2016-06-03</td>\n",
       "      <td>65.9201</td>\n",
       "      <td>66.3684</td>\n",
       "      <td>65.8733</td>\n",
       "      <td>66.2003</td>\n",
       "      <td>64.6851-67.1747</td>\n",
       "    </tr>\n",
       "    <tr>\n",
       "      <th>594</th>\n",
       "      <td>2016-06-06</td>\n",
       "      <td>66.8075</td>\n",
       "      <td>66.8355</td>\n",
       "      <td>66.3217</td>\n",
       "      <td>66.3684</td>\n",
       "      <td>64.6851-67.1747</td>\n",
       "    </tr>\n",
       "    <tr>\n",
       "      <th>595</th>\n",
       "      <td>2016-06-07</td>\n",
       "      <td>66.4151</td>\n",
       "      <td>66.6113</td>\n",
       "      <td>66.1816</td>\n",
       "      <td>66.3497</td>\n",
       "      <td>64.6851-67.1747</td>\n",
       "    </tr>\n",
       "  </tbody>\n",
       "</table>\n",
       "</div>"
      ],
      "text/plain": [
       "           date     open     high      low    close     closingRange\n",
       "591  2016-06-01  65.8547  66.2330  65.7706  65.8547  64.6851-67.1747\n",
       "592  2016-06-02  65.8547  66.3217  65.5231  66.2750  64.6851-67.1747\n",
       "593  2016-06-03  65.9201  66.3684  65.8733  66.2003  64.6851-67.1747\n",
       "594  2016-06-06  66.8075  66.8355  66.3217  66.3684  64.6851-67.1747\n",
       "595  2016-06-07  66.4151  66.6113  66.1816  66.3497  64.6851-67.1747"
      ]
     },
     "execution_count": 45,
     "metadata": {},
     "output_type": "execute_result"
    }
   ],
   "source": [
    "# Create the bins in which Data will be held\n",
    "# Bins are as follows:\n",
    "bins = [ 62.1954,  64.6851,  67.1748,  69.6645,  72.1542,  74.6439,\n",
    "         77.1336,  79.6233,  82.113 ,  84.6027,  87.0924,  89.5821,\n",
    "         92.0718,  94.5615,  97.0512,  99.5409, 102.0306, 104.5203,\n",
    "        107.01  ]\n",
    "\n",
    "# Create the names for the four bins\n",
    "group_names = [\"62.1954-64.6850\",  \"64.6851-67.1747\", \"67.1748-69.6644\",  \"69.6645-72.1541\",  \"72.1542-74.6438\",  \"74.6439-77.1335\",\n",
    "         \"77.1336-79.6232\",  \"79.6233-82.112\",  \"82.113- 84.6026\",  \"84.6027-87.0923\",\"87.0924-89.5820\",  \"89.5821-92.0717\",\n",
    "         \"92.0718-94.5614\",  \"94.5615-97.0511\",  \"97.0512-99.5408\",  \"99.5409-102.0305\", \"102.0306-104.5202\", \"104.5203-107.01\"\n",
    "         ]\n",
    "\n",
    "NNfilteredData[\"closingRange\"] = pd.cut(NNfilteredData[\"close\"], bins, labels=group_names)\n",
    "NNfilteredData.head()"
   ]
  },
  {
   "cell_type": "code",
   "execution_count": 46,
   "metadata": {},
   "outputs": [],
   "source": [
    "#setting up the split for NN data\n",
    "NNfilteredData\n",
    "X_trainNN=NNfilteredData.loc[startDateIndex[0]:inputTrainEndDate]\n",
    "X_testNN=NNfilteredData.loc[endDateTrainIndex[0]:spliceIndex]\n",
    "X_testData = filteredData.loc[endDateTrainIndex[0]:spliceIndex]\n",
    "X_testData.head()\n",
    "\n",
    "y_trainNN=NNfilteredData.loc[outputStartDateIndex:endDateTrainIndex[0]]\n",
    "y_testNN=NNfilteredData.loc[outputTestStartDate:lastIndex]"
   ]
  },
  {
   "cell_type": "code",
   "execution_count": 47,
   "metadata": {},
   "outputs": [],
   "source": [
    "y_trainNN=y_trainNN[\"closingRange\"]\n",
    "y_testNN=y_testNN[\"closingRange\"]\n",
    "\n",
    "X_trainNN=X_trainNN.drop(columns=[\"date\",\"close\",\"closingRange\"])\n",
    "X_testNN=X_testNN.drop(columns=[\"date\",\"close\",\"closingRange\"])"
   ]
  },
  {
   "cell_type": "code",
   "execution_count": 48,
   "metadata": {},
   "outputs": [
    {
     "name": "stdout",
     "output_type": "stream",
     "text": [
      "(504, 3) (163, 3) (504,) (163,)\n"
     ]
    }
   ],
   "source": [
    "#check shapes of model inputs\n",
    "print(X_trainNN.shape,X_testNN.shape,y_trainNN.shape,y_testNN.shape)"
   ]
  },
  {
   "cell_type": "code",
   "execution_count": 49,
   "metadata": {},
   "outputs": [
    {
     "name": "stderr",
     "output_type": "stream",
     "text": [
      "D:\\Users\\Sanket_Mishra\\Anaconda3\\envs\\PythonData\\lib\\site-packages\\h5py\\__init__.py:36: FutureWarning: Conversion of the second argument of issubdtype from `float` to `np.floating` is deprecated. In future, it will be treated as `np.float64 == np.dtype(float).type`.\n",
      "  from ._conv import register_converters as _register_converters\n",
      "Using TensorFlow backend.\n"
     ]
    }
   ],
   "source": [
    "from sklearn.model_selection import train_test_split\n",
    "from sklearn.preprocessing import LabelEncoder, StandardScaler\n",
    "from keras.utils import to_categorical\n",
    "\n",
    "X_scaler = StandardScaler().fit(X_trainNN)\n",
    "X_train_scaled = X_scaler.transform(X_trainNN)\n",
    "X_test_scaled = X_scaler.transform(X_testNN)"
   ]
  },
  {
   "cell_type": "code",
   "execution_count": 54,
   "metadata": {},
   "outputs": [],
   "source": [
    "# Step 1: Label-encode data set\n",
    "label_encoder = LabelEncoder()\n",
    "y_trainNN = label_encoder.fit_transform(y_trainNN.astype(str))\n",
    "label_encoder.fit(y_trainNN)\n",
    "encoded_y_train = label_encoder.transform(y_trainNN)\n",
    "y_testNN = label_encoder.fit_transform(y_testNN.astype(str))\n",
    "encoded_y_test = label_encoder.transform(y_testNN.astype(str))"
   ]
  },
  {
   "cell_type": "code",
   "execution_count": 55,
   "metadata": {},
   "outputs": [],
   "source": [
    "# Step 2: Convert encoded labels to one-hot-encoding\n",
    "y_train_categorical = to_categorical(encoded_y_train)\n",
    "y_test_categorical = to_categorical(encoded_y_test)"
   ]
  },
  {
   "cell_type": "code",
   "execution_count": 56,
   "metadata": {},
   "outputs": [],
   "source": [
    "from keras.models import Sequential\n",
    "from keras.layers import Dense\n",
    "\n",
    "# Create model and add layers\n",
    "model = Sequential()\n",
    "model.add(Dense(units=6, activation='relu', input_dim=3))\n",
    "model.add(Dense(units=6, activation='relu'))\n",
    "model.add(Dense(units=19, activation='softmax'))"
   ]
  },
  {
   "cell_type": "code",
   "execution_count": 57,
   "metadata": {},
   "outputs": [
    {
     "name": "stdout",
     "output_type": "stream",
     "text": [
      "Epoch 1/100\n",
      " - 0s - loss: 2.9597 - acc: 0.0536\n",
      "Epoch 2/100\n",
      " - 0s - loss: 2.9232 - acc: 0.0258\n",
      "Epoch 3/100\n",
      " - 0s - loss: 2.8869 - acc: 0.1806\n",
      "Epoch 4/100\n",
      " - 0s - loss: 2.8496 - acc: 0.2143\n",
      "Epoch 5/100\n",
      " - 0s - loss: 2.8090 - acc: 0.2401\n",
      "Epoch 6/100\n",
      " - 0s - loss: 2.7643 - acc: 0.2480\n",
      "Epoch 7/100\n",
      " - 0s - loss: 2.7159 - acc: 0.2540\n",
      "Epoch 8/100\n",
      " - 0s - loss: 2.6613 - acc: 0.2540\n",
      "Epoch 9/100\n",
      " - 0s - loss: 2.6011 - acc: 0.2540\n",
      "Epoch 10/100\n",
      " - 0s - loss: 2.5361 - acc: 0.2619\n",
      "Epoch 11/100\n",
      " - 0s - loss: 2.4677 - acc: 0.2659\n",
      "Epoch 12/100\n",
      " - 0s - loss: 2.3963 - acc: 0.2659\n",
      "Epoch 13/100\n",
      " - 0s - loss: 2.3287 - acc: 0.2659\n",
      "Epoch 14/100\n",
      " - 0s - loss: 2.2626 - acc: 0.2679\n",
      "Epoch 15/100\n",
      " - 0s - loss: 2.2011 - acc: 0.2679\n",
      "Epoch 16/100\n",
      " - 0s - loss: 2.1433 - acc: 0.2698\n",
      "Epoch 17/100\n",
      " - 0s - loss: 2.0909 - acc: 0.2718\n",
      "Epoch 18/100\n",
      " - 0s - loss: 2.0428 - acc: 0.2817\n",
      "Epoch 19/100\n",
      " - 0s - loss: 1.9968 - acc: 0.2956\n",
      "Epoch 20/100\n",
      " - 0s - loss: 1.9548 - acc: 0.3115\n",
      "Epoch 21/100\n",
      " - 0s - loss: 1.9132 - acc: 0.3254\n",
      "Epoch 22/100\n",
      " - 0s - loss: 1.8729 - acc: 0.3373\n",
      "Epoch 23/100\n",
      " - 0s - loss: 1.8331 - acc: 0.3512\n",
      "Epoch 24/100\n",
      " - 0s - loss: 1.7957 - acc: 0.3571\n",
      "Epoch 25/100\n",
      " - 0s - loss: 1.7625 - acc: 0.3770\n",
      "Epoch 26/100\n",
      " - 0s - loss: 1.7304 - acc: 0.4147\n",
      "Epoch 27/100\n",
      " - 0s - loss: 1.7013 - acc: 0.4325\n",
      "Epoch 28/100\n",
      " - 0s - loss: 1.6725 - acc: 0.4504\n",
      "Epoch 29/100\n",
      " - 0s - loss: 1.6449 - acc: 0.4524\n",
      "Epoch 30/100\n",
      " - 0s - loss: 1.6191 - acc: 0.4563\n",
      "Epoch 31/100\n",
      " - 0s - loss: 1.5945 - acc: 0.4821\n",
      "Epoch 32/100\n",
      " - 0s - loss: 1.5706 - acc: 0.4881\n",
      "Epoch 33/100\n",
      " - 0s - loss: 1.5483 - acc: 0.4802\n",
      "Epoch 34/100\n",
      " - 0s - loss: 1.5276 - acc: 0.4782\n",
      "Epoch 35/100\n",
      " - 0s - loss: 1.5069 - acc: 0.4940\n",
      "Epoch 36/100\n",
      " - 0s - loss: 1.4876 - acc: 0.5099\n",
      "Epoch 37/100\n",
      " - 0s - loss: 1.4704 - acc: 0.5139\n",
      "Epoch 38/100\n",
      " - 0s - loss: 1.4517 - acc: 0.5119\n",
      "Epoch 39/100\n",
      " - 0s - loss: 1.4363 - acc: 0.4960\n",
      "Epoch 40/100\n",
      " - 0s - loss: 1.4199 - acc: 0.5139\n",
      "Epoch 41/100\n",
      " - 0s - loss: 1.4044 - acc: 0.5238\n",
      "Epoch 42/100\n",
      " - 0s - loss: 1.3905 - acc: 0.5159\n",
      "Epoch 43/100\n",
      " - 0s - loss: 1.3756 - acc: 0.5258\n",
      "Epoch 44/100\n",
      " - 0s - loss: 1.3624 - acc: 0.5317\n",
      "Epoch 45/100\n",
      " - 0s - loss: 1.3493 - acc: 0.5238\n",
      "Epoch 46/100\n",
      " - 0s - loss: 1.3366 - acc: 0.5198\n",
      "Epoch 47/100\n",
      " - 0s - loss: 1.3247 - acc: 0.5179\n",
      "Epoch 48/100\n",
      " - 0s - loss: 1.3126 - acc: 0.5198\n",
      "Epoch 49/100\n",
      " - 0s - loss: 1.3015 - acc: 0.5218\n",
      "Epoch 50/100\n",
      " - 0s - loss: 1.2918 - acc: 0.5337\n",
      "Epoch 51/100\n",
      " - 0s - loss: 1.2804 - acc: 0.5456\n",
      "Epoch 52/100\n",
      " - 0s - loss: 1.2702 - acc: 0.5377\n",
      "Epoch 53/100\n",
      " - 0s - loss: 1.2597 - acc: 0.5357\n",
      "Epoch 54/100\n",
      " - 0s - loss: 1.2497 - acc: 0.5417\n",
      "Epoch 55/100\n",
      " - 0s - loss: 1.2403 - acc: 0.5615\n",
      "Epoch 56/100\n",
      " - 0s - loss: 1.2314 - acc: 0.5655\n",
      "Epoch 57/100\n",
      " - 0s - loss: 1.2223 - acc: 0.5754\n",
      "Epoch 58/100\n",
      " - 0s - loss: 1.2140 - acc: 0.5813\n",
      "Epoch 59/100\n",
      " - 0s - loss: 1.2043 - acc: 0.5813\n",
      "Epoch 60/100\n",
      " - 0s - loss: 1.1958 - acc: 0.5794\n",
      "Epoch 61/100\n",
      " - 0s - loss: 1.1888 - acc: 0.5893\n",
      "Epoch 62/100\n",
      " - 0s - loss: 1.1799 - acc: 0.5913\n",
      "Epoch 63/100\n",
      " - 0s - loss: 1.1728 - acc: 0.5933\n",
      "Epoch 64/100\n",
      " - 0s - loss: 1.1644 - acc: 0.6052\n",
      "Epoch 65/100\n",
      " - 0s - loss: 1.1571 - acc: 0.6131\n",
      "Epoch 66/100\n",
      " - 0s - loss: 1.1488 - acc: 0.6091\n",
      "Epoch 67/100\n",
      " - 0s - loss: 1.1428 - acc: 0.6012\n",
      "Epoch 68/100\n",
      " - 0s - loss: 1.1351 - acc: 0.6071\n",
      "Epoch 69/100\n",
      " - 0s - loss: 1.1282 - acc: 0.6131\n",
      "Epoch 70/100\n",
      " - 0s - loss: 1.1218 - acc: 0.6131\n",
      "Epoch 71/100\n",
      " - 0s - loss: 1.1165 - acc: 0.6210\n",
      "Epoch 72/100\n",
      " - 0s - loss: 1.1096 - acc: 0.6151\n",
      "Epoch 73/100\n",
      " - 0s - loss: 1.1018 - acc: 0.6111\n",
      "Epoch 74/100\n",
      " - 0s - loss: 1.0953 - acc: 0.6230\n",
      "Epoch 75/100\n",
      " - 0s - loss: 1.0882 - acc: 0.6230\n",
      "Epoch 76/100\n",
      " - 0s - loss: 1.0824 - acc: 0.6270\n",
      "Epoch 77/100\n",
      " - 0s - loss: 1.0780 - acc: 0.6190\n",
      "Epoch 78/100\n",
      " - 0s - loss: 1.0704 - acc: 0.6250\n",
      "Epoch 79/100\n",
      " - 0s - loss: 1.0641 - acc: 0.6290\n",
      "Epoch 80/100\n",
      " - 0s - loss: 1.0590 - acc: 0.6270\n",
      "Epoch 81/100\n",
      " - 0s - loss: 1.0529 - acc: 0.6290\n",
      "Epoch 82/100\n",
      " - 0s - loss: 1.0478 - acc: 0.6250\n",
      "Epoch 83/100\n",
      " - 0s - loss: 1.0433 - acc: 0.6290\n",
      "Epoch 84/100\n",
      " - 0s - loss: 1.0363 - acc: 0.6270\n",
      "Epoch 85/100\n",
      " - 0s - loss: 1.0304 - acc: 0.6290\n",
      "Epoch 86/100\n",
      " - 0s - loss: 1.0248 - acc: 0.6349\n",
      "Epoch 87/100\n",
      " - 0s - loss: 1.0212 - acc: 0.6369\n",
      "Epoch 88/100\n",
      " - 0s - loss: 1.0144 - acc: 0.6369\n",
      "Epoch 89/100\n",
      " - 0s - loss: 1.0100 - acc: 0.6369\n",
      "Epoch 90/100\n",
      " - 0s - loss: 1.0040 - acc: 0.6329\n",
      "Epoch 91/100\n",
      " - 0s - loss: 0.9981 - acc: 0.6429\n",
      "Epoch 92/100\n",
      " - 0s - loss: 0.9944 - acc: 0.6409\n",
      "Epoch 93/100\n",
      " - 0s - loss: 0.9897 - acc: 0.6448\n",
      "Epoch 94/100\n",
      " - 0s - loss: 0.9839 - acc: 0.6488\n",
      "Epoch 95/100\n",
      " - 0s - loss: 0.9787 - acc: 0.6548\n",
      "Epoch 96/100\n",
      " - 0s - loss: 0.9757 - acc: 0.6647\n",
      "Epoch 97/100\n",
      " - 0s - loss: 0.9698 - acc: 0.6567\n",
      "Epoch 98/100\n",
      " - 0s - loss: 0.9651 - acc: 0.6667\n",
      "Epoch 99/100\n",
      " - 0s - loss: 0.9621 - acc: 0.6528\n",
      "Epoch 100/100\n",
      " - 0s - loss: 0.9582 - acc: 0.6726\n"
     ]
    },
    {
     "data": {
      "text/plain": [
       "<keras.callbacks.History at 0x1fb3a72fd30>"
      ]
     },
     "execution_count": 57,
     "metadata": {},
     "output_type": "execute_result"
    }
   ],
   "source": [
    "# Compile and fit the model\n",
    "model.compile(optimizer='adam',\n",
    "             loss='categorical_crossentropy',\n",
    "             metrics=['accuracy'])\n",
    "model.fit(\n",
    "   X_train_scaled,\n",
    "   y_train_categorical,\n",
    "   epochs=100,\n",
    "   shuffle=True,\n",
    "   verbose=2\n",
    ")"
   ]
  },
  {
   "cell_type": "code",
   "execution_count": 58,
   "metadata": {},
   "outputs": [],
   "source": [
    "#model.evaluate not working/placing output in correct bins\n",
    "#model.summary() to debug\n",
    "#model_loss, model_accuracy = model.evaluate(\n",
    "#    X_test_scaled, y_test_categorical, verbose=2)\n",
    "#print(f\"Deep Neural Network - Loss: {model_loss}, Accuracy: {model_accuracy}\")"
   ]
  },
  {
   "cell_type": "code",
   "execution_count": 59,
   "metadata": {},
   "outputs": [
    {
     "data": {
      "text/html": [
       "<div>\n",
       "<style scoped>\n",
       "    .dataframe tbody tr th:only-of-type {\n",
       "        vertical-align: middle;\n",
       "    }\n",
       "\n",
       "    .dataframe tbody tr th {\n",
       "        vertical-align: top;\n",
       "    }\n",
       "\n",
       "    .dataframe thead th {\n",
       "        text-align: right;\n",
       "    }\n",
       "</style>\n",
       "<table border=\"1\" class=\"dataframe\">\n",
       "  <thead>\n",
       "    <tr style=\"text-align: right;\">\n",
       "      <th></th>\n",
       "      <th>date</th>\n",
       "      <th>open</th>\n",
       "      <th>high</th>\n",
       "      <th>low</th>\n",
       "      <th>close</th>\n",
       "    </tr>\n",
       "  </thead>\n",
       "  <tbody>\n",
       "    <tr>\n",
       "      <th>0</th>\n",
       "      <td>2016-06-01</td>\n",
       "      <td>65.8547</td>\n",
       "      <td>66.2330</td>\n",
       "      <td>65.7706</td>\n",
       "      <td>65.8547</td>\n",
       "    </tr>\n",
       "    <tr>\n",
       "      <th>1</th>\n",
       "      <td>2016-06-02</td>\n",
       "      <td>65.8547</td>\n",
       "      <td>66.3217</td>\n",
       "      <td>65.5231</td>\n",
       "      <td>66.2750</td>\n",
       "    </tr>\n",
       "    <tr>\n",
       "      <th>2</th>\n",
       "      <td>2016-06-03</td>\n",
       "      <td>65.9201</td>\n",
       "      <td>66.3684</td>\n",
       "      <td>65.8733</td>\n",
       "      <td>66.2003</td>\n",
       "    </tr>\n",
       "    <tr>\n",
       "      <th>3</th>\n",
       "      <td>2016-06-06</td>\n",
       "      <td>66.8075</td>\n",
       "      <td>66.8355</td>\n",
       "      <td>66.3217</td>\n",
       "      <td>66.3684</td>\n",
       "    </tr>\n",
       "    <tr>\n",
       "      <th>4</th>\n",
       "      <td>2016-06-07</td>\n",
       "      <td>66.4151</td>\n",
       "      <td>66.6113</td>\n",
       "      <td>66.1816</td>\n",
       "      <td>66.3497</td>\n",
       "    </tr>\n",
       "  </tbody>\n",
       "</table>\n",
       "</div>"
      ],
      "text/plain": [
       "         date     open     high      low    close\n",
       "0  2016-06-01  65.8547  66.2330  65.7706  65.8547\n",
       "1  2016-06-02  65.8547  66.3217  65.5231  66.2750\n",
       "2  2016-06-03  65.9201  66.3684  65.8733  66.2003\n",
       "3  2016-06-06  66.8075  66.8355  66.3217  66.3684\n",
       "4  2016-06-07  66.4151  66.6113  66.1816  66.3497"
      ]
     },
     "execution_count": 59,
     "metadata": {},
     "output_type": "execute_result"
    }
   ],
   "source": [
    "#SVM TEST\n",
    "SVMData = filteredData\n",
    "SVMData.head()"
   ]
  },
  {
   "cell_type": "code",
   "execution_count": 60,
   "metadata": {},
   "outputs": [
    {
     "data": {
      "text/plain": [
       "(668, 5)"
      ]
     },
     "execution_count": 60,
     "metadata": {},
     "output_type": "execute_result"
    }
   ],
   "source": [
    "data = SVMData.values\n",
    "data.shape"
   ]
  },
  {
   "cell_type": "code",
   "execution_count": 61,
   "metadata": {},
   "outputs": [],
   "source": [
    "target = filteredData[\"close\"]\n",
    "target_names = [\"negative\", \"positive\"]\n",
    "SVM_X_train = X_trainData.drop(columns=[\"date\"])"
   ]
  },
  {
   "cell_type": "code",
   "execution_count": 62,
   "metadata": {},
   "outputs": [],
   "source": [
    "from sklearn.svm import SVC \n",
    "model = SVC(kernel='linear')\n",
    "#model.fit(SVM_X_train, y_trainData)\n",
    "#predictions = model.predict(X_testData)"
   ]
  },
  {
   "cell_type": "code",
   "execution_count": 63,
   "metadata": {},
   "outputs": [],
   "source": [
    "#LSTM Models\n",
    "\n",
    "#import some useful packages\n",
    "import os\n",
    "import pandas as pd\n",
    "import numpy as np\n",
    "import matplotlib.pyplot as plt\n",
    "from sklearn.preprocessing import MinMaxScaler"
   ]
  },
  {
   "cell_type": "code",
   "execution_count": 64,
   "metadata": {},
   "outputs": [
    {
     "data": {
      "text/html": [
       "<div>\n",
       "<style scoped>\n",
       "    .dataframe tbody tr th:only-of-type {\n",
       "        vertical-align: middle;\n",
       "    }\n",
       "\n",
       "    .dataframe tbody tr th {\n",
       "        vertical-align: top;\n",
       "    }\n",
       "\n",
       "    .dataframe thead th {\n",
       "        text-align: right;\n",
       "    }\n",
       "</style>\n",
       "<table border=\"1\" class=\"dataframe\">\n",
       "  <thead>\n",
       "    <tr style=\"text-align: right;\">\n",
       "      <th></th>\n",
       "      <th>date</th>\n",
       "      <th>open</th>\n",
       "      <th>high</th>\n",
       "      <th>low</th>\n",
       "      <th>close</th>\n",
       "      <th>volume</th>\n",
       "      <th>unadjustedVolume</th>\n",
       "      <th>change</th>\n",
       "      <th>changePercent</th>\n",
       "      <th>vwap</th>\n",
       "      <th>label</th>\n",
       "      <th>changeOverTime</th>\n",
       "    </tr>\n",
       "  </thead>\n",
       "  <tbody>\n",
       "    <tr>\n",
       "      <th>0</th>\n",
       "      <td>2014-01-27</td>\n",
       "      <td>64.7650</td>\n",
       "      <td>64.9747</td>\n",
       "      <td>64.5029</td>\n",
       "      <td>64.7825</td>\n",
       "      <td>9105139</td>\n",
       "      <td>9105139</td>\n",
       "      <td>-0.235889</td>\n",
       "      <td>-0.363</td>\n",
       "      <td>64.7739</td>\n",
       "      <td>Jan 27, 14</td>\n",
       "      <td>0.000000</td>\n",
       "    </tr>\n",
       "    <tr>\n",
       "      <th>1</th>\n",
       "      <td>2014-01-28</td>\n",
       "      <td>64.8786</td>\n",
       "      <td>65.8746</td>\n",
       "      <td>64.7388</td>\n",
       "      <td>65.2368</td>\n",
       "      <td>6035231</td>\n",
       "      <td>6035231</td>\n",
       "      <td>0.454305</td>\n",
       "      <td>0.701</td>\n",
       "      <td>65.3045</td>\n",
       "      <td>Jan 28, 14</td>\n",
       "      <td>0.007013</td>\n",
       "    </tr>\n",
       "    <tr>\n",
       "      <th>2</th>\n",
       "      <td>2014-01-29</td>\n",
       "      <td>65.7785</td>\n",
       "      <td>65.8484</td>\n",
       "      <td>64.7126</td>\n",
       "      <td>64.7388</td>\n",
       "      <td>8440854</td>\n",
       "      <td>8440854</td>\n",
       "      <td>-0.497990</td>\n",
       "      <td>-0.763</td>\n",
       "      <td>61.0517</td>\n",
       "      <td>Jan 29, 14</td>\n",
       "      <td>-0.000675</td>\n",
       "    </tr>\n",
       "    <tr>\n",
       "      <th>3</th>\n",
       "      <td>2014-01-30</td>\n",
       "      <td>65.1232</td>\n",
       "      <td>65.6037</td>\n",
       "      <td>64.9660</td>\n",
       "      <td>65.3067</td>\n",
       "      <td>6742046</td>\n",
       "      <td>6742046</td>\n",
       "      <td>0.567883</td>\n",
       "      <td>0.877</td>\n",
       "      <td>65.2975</td>\n",
       "      <td>Jan 30, 14</td>\n",
       "      <td>0.008092</td>\n",
       "    </tr>\n",
       "    <tr>\n",
       "      <th>4</th>\n",
       "      <td>2014-01-31</td>\n",
       "      <td>64.5816</td>\n",
       "      <td>65.6911</td>\n",
       "      <td>64.3369</td>\n",
       "      <td>65.2455</td>\n",
       "      <td>10665285</td>\n",
       "      <td>10665285</td>\n",
       "      <td>-0.061155</td>\n",
       "      <td>-0.094</td>\n",
       "      <td>65.3223</td>\n",
       "      <td>Jan 31, 14</td>\n",
       "      <td>0.007147</td>\n",
       "    </tr>\n",
       "  </tbody>\n",
       "</table>\n",
       "</div>"
      ],
      "text/plain": [
       "         date     open     high      low    close    volume  unadjustedVolume  \\\n",
       "0  2014-01-27  64.7650  64.9747  64.5029  64.7825   9105139           9105139   \n",
       "1  2014-01-28  64.8786  65.8746  64.7388  65.2368   6035231           6035231   \n",
       "2  2014-01-29  65.7785  65.8484  64.7126  64.7388   8440854           8440854   \n",
       "3  2014-01-30  65.1232  65.6037  64.9660  65.3067   6742046           6742046   \n",
       "4  2014-01-31  64.5816  65.6911  64.3369  65.2455  10665285          10665285   \n",
       "\n",
       "     change  changePercent     vwap       label  changeOverTime  \n",
       "0 -0.235889         -0.363  64.7739  Jan 27, 14        0.000000  \n",
       "1  0.454305          0.701  65.3045  Jan 28, 14        0.007013  \n",
       "2 -0.497990         -0.763  61.0517  Jan 29, 14       -0.000675  \n",
       "3  0.567883          0.877  65.2975  Jan 30, 14        0.008092  \n",
       "4 -0.061155         -0.094  65.3223  Jan 31, 14        0.007147  "
      ]
     },
     "execution_count": 64,
     "metadata": {},
     "output_type": "execute_result"
    }
   ],
   "source": [
    "#load Walmart Stock Data\n",
    "filepath = os.path.join('Resources', 'WMT.csv')\n",
    "df = pd.read_csv(filepath)\n",
    "df.head()"
   ]
  },
  {
   "cell_type": "code",
   "execution_count": 65,
   "metadata": {},
   "outputs": [
    {
     "data": {
      "text/html": [
       "<div>\n",
       "<style scoped>\n",
       "    .dataframe tbody tr th:only-of-type {\n",
       "        vertical-align: middle;\n",
       "    }\n",
       "\n",
       "    .dataframe tbody tr th {\n",
       "        vertical-align: top;\n",
       "    }\n",
       "\n",
       "    .dataframe thead th {\n",
       "        text-align: right;\n",
       "    }\n",
       "</style>\n",
       "<table border=\"1\" class=\"dataframe\">\n",
       "  <thead>\n",
       "    <tr style=\"text-align: right;\">\n",
       "      <th></th>\n",
       "      <th>date</th>\n",
       "      <th>open</th>\n",
       "      <th>high</th>\n",
       "      <th>low</th>\n",
       "      <th>close</th>\n",
       "    </tr>\n",
       "  </thead>\n",
       "  <tbody>\n",
       "    <tr>\n",
       "      <th>0</th>\n",
       "      <td>2014-01-27</td>\n",
       "      <td>64.7650</td>\n",
       "      <td>64.9747</td>\n",
       "      <td>64.5029</td>\n",
       "      <td>64.7825</td>\n",
       "    </tr>\n",
       "    <tr>\n",
       "      <th>1</th>\n",
       "      <td>2014-01-28</td>\n",
       "      <td>64.8786</td>\n",
       "      <td>65.8746</td>\n",
       "      <td>64.7388</td>\n",
       "      <td>65.2368</td>\n",
       "    </tr>\n",
       "    <tr>\n",
       "      <th>2</th>\n",
       "      <td>2014-01-29</td>\n",
       "      <td>65.7785</td>\n",
       "      <td>65.8484</td>\n",
       "      <td>64.7126</td>\n",
       "      <td>64.7388</td>\n",
       "    </tr>\n",
       "    <tr>\n",
       "      <th>3</th>\n",
       "      <td>2014-01-30</td>\n",
       "      <td>65.1232</td>\n",
       "      <td>65.6037</td>\n",
       "      <td>64.9660</td>\n",
       "      <td>65.3067</td>\n",
       "    </tr>\n",
       "    <tr>\n",
       "      <th>4</th>\n",
       "      <td>2014-01-31</td>\n",
       "      <td>64.5816</td>\n",
       "      <td>65.6911</td>\n",
       "      <td>64.3369</td>\n",
       "      <td>65.2455</td>\n",
       "    </tr>\n",
       "  </tbody>\n",
       "</table>\n",
       "</div>"
      ],
      "text/plain": [
       "         date     open     high      low    close\n",
       "0  2014-01-27  64.7650  64.9747  64.5029  64.7825\n",
       "1  2014-01-28  64.8786  65.8746  64.7388  65.2368\n",
       "2  2014-01-29  65.7785  65.8484  64.7126  64.7388\n",
       "3  2014-01-30  65.1232  65.6037  64.9660  65.3067\n",
       "4  2014-01-31  64.5816  65.6911  64.3369  65.2455"
      ]
     },
     "execution_count": 65,
     "metadata": {},
     "output_type": "execute_result"
    }
   ],
   "source": [
    "#drop unnessecary columns\n",
    "df.drop(['volume', 'unadjustedVolume', 'change', 'changePercent', 'vwap', 'label', 'changeOverTime'], 1, inplace = True)\n",
    "df.head()"
   ]
  },
  {
   "cell_type": "code",
   "execution_count": 66,
   "metadata": {},
   "outputs": [
    {
     "data": {
      "text/html": [
       "<div>\n",
       "<style scoped>\n",
       "    .dataframe tbody tr th:only-of-type {\n",
       "        vertical-align: middle;\n",
       "    }\n",
       "\n",
       "    .dataframe tbody tr th {\n",
       "        vertical-align: top;\n",
       "    }\n",
       "\n",
       "    .dataframe thead th {\n",
       "        text-align: right;\n",
       "    }\n",
       "</style>\n",
       "<table border=\"1\" class=\"dataframe\">\n",
       "  <thead>\n",
       "    <tr style=\"text-align: right;\">\n",
       "      <th></th>\n",
       "      <th>open</th>\n",
       "      <th>high</th>\n",
       "      <th>low</th>\n",
       "      <th>close</th>\n",
       "    </tr>\n",
       "    <tr>\n",
       "      <th>date</th>\n",
       "      <th></th>\n",
       "      <th></th>\n",
       "      <th></th>\n",
       "      <th></th>\n",
       "    </tr>\n",
       "  </thead>\n",
       "  <tbody>\n",
       "    <tr>\n",
       "      <th>2014-01-27</th>\n",
       "      <td>64.7650</td>\n",
       "      <td>64.9747</td>\n",
       "      <td>64.5029</td>\n",
       "      <td>64.7825</td>\n",
       "    </tr>\n",
       "    <tr>\n",
       "      <th>2014-01-28</th>\n",
       "      <td>64.8786</td>\n",
       "      <td>65.8746</td>\n",
       "      <td>64.7388</td>\n",
       "      <td>65.2368</td>\n",
       "    </tr>\n",
       "    <tr>\n",
       "      <th>2014-01-29</th>\n",
       "      <td>65.7785</td>\n",
       "      <td>65.8484</td>\n",
       "      <td>64.7126</td>\n",
       "      <td>64.7388</td>\n",
       "    </tr>\n",
       "    <tr>\n",
       "      <th>2014-01-30</th>\n",
       "      <td>65.1232</td>\n",
       "      <td>65.6037</td>\n",
       "      <td>64.9660</td>\n",
       "      <td>65.3067</td>\n",
       "    </tr>\n",
       "    <tr>\n",
       "      <th>2014-01-31</th>\n",
       "      <td>64.5816</td>\n",
       "      <td>65.6911</td>\n",
       "      <td>64.3369</td>\n",
       "      <td>65.2455</td>\n",
       "    </tr>\n",
       "  </tbody>\n",
       "</table>\n",
       "</div>"
      ],
      "text/plain": [
       "               open     high      low    close\n",
       "date                                          \n",
       "2014-01-27  64.7650  64.9747  64.5029  64.7825\n",
       "2014-01-28  64.8786  65.8746  64.7388  65.2368\n",
       "2014-01-29  65.7785  65.8484  64.7126  64.7388\n",
       "2014-01-30  65.1232  65.6037  64.9660  65.3067\n",
       "2014-01-31  64.5816  65.6911  64.3369  65.2455"
      ]
     },
     "execution_count": 66,
     "metadata": {},
     "output_type": "execute_result"
    }
   ],
   "source": [
    "#set index\n",
    "df.set_index('date', inplace = True)\n",
    "df.head()"
   ]
  },
  {
   "cell_type": "code",
   "execution_count": 67,
   "metadata": {},
   "outputs": [
    {
     "data": {
      "text/plain": [
       "<matplotlib.axes._subplots.AxesSubplot at 0x1fb3a9e5d68>"
      ]
     },
     "execution_count": 67,
     "metadata": {},
     "output_type": "execute_result"
    },
    {
     "data": {
      "image/png": "[encoded data removed]",
      "text/plain": [
       "<Figure size 432x288 with 1 Axes>"
      ]
     },
     "metadata": {},
     "output_type": "display_data"
    }
   ],
   "source": [
    "#plot close price\n",
    "df.plot(y='close')"
   ]
  },
  {
   "cell_type": "code",
   "execution_count": 68,
   "metadata": {},
   "outputs": [
    {
     "data": {
      "text/plain": [
       "(1259, 4)"
      ]
     },
     "execution_count": 68,
     "metadata": {},
     "output_type": "execute_result"
    }
   ],
   "source": [
    "#save data as a matrix\n",
    "data = df.values\n",
    "data.shape"
   ]
  },
  {
   "cell_type": "code",
   "execution_count": 69,
   "metadata": {},
   "outputs": [],
   "source": [
    "#save sequence length and time in the future\n",
    "#we will start with 30 days and 5 days in the future (about 1 month and 1 week)\n",
    "seq_length = 30\n",
    "fut_point = 5\n",
    "features = 4"
   ]
  },
  {
   "cell_type": "code",
   "execution_count": 70,
   "metadata": {},
   "outputs": [
    {
     "data": {
      "text/plain": [
       "(1224, 30, 4)"
      ]
     },
     "execution_count": 70,
     "metadata": {},
     "output_type": "execute_result"
    }
   ],
   "source": [
    "#get X data (30 day sequences)\n",
    "X = []\n",
    "#get all sequences up to (sequence length + future point) days out of last point (can then predict last point)\n",
    "for index in range(len(data) - seq_length - fut_point):\n",
    "    X.append(data[index: index + seq_length])\n",
    "#get X as a numpy array\n",
    "X = np.array(X)\n",
    "X.shape"
   ]
  },
  {
   "cell_type": "code",
   "execution_count": 71,
   "metadata": {},
   "outputs": [
    {
     "data": {
      "text/plain": [
       "(1224,)"
      ]
     },
     "execution_count": 71,
     "metadata": {},
     "output_type": "execute_result"
    }
   ],
   "source": [
    "#get Y data (close price for all days except first (sequence length + future point) days)\n",
    "y = data[(seq_length + fut_point):, -1]\n",
    "y.shape"
   ]
  },
  {
   "cell_type": "code",
   "execution_count": 72,
   "metadata": {},
   "outputs": [
    {
     "name": "stdout",
     "output_type": "stream",
     "text": [
      "(1040, 30, 4)\n",
      "(184, 30, 4)\n",
      "(1040,)\n",
      "(184,)\n"
     ]
    }
   ],
   "source": [
    "#train/test split of 0.85/0.15\n",
    "train_split = 0.85\n",
    "last_row = int(train_split * X.shape[0])\n",
    "X_train = X[:last_row]\n",
    "X_test = X[last_row:]\n",
    "y_train = y[:last_row]\n",
    "y_test = y[last_row:]\n",
    "print(X_train.shape)\n",
    "print(X_test.shape)\n",
    "print(y_train.shape)\n",
    "print(y_test.shape)"
   ]
  },
  {
   "cell_type": "code",
   "execution_count": 73,
   "metadata": {},
   "outputs": [],
   "source": [
    "#instantiate scalers\n",
    "X_scaler = MinMaxScaler(feature_range = (-1, 1))\n",
    "y_scaler = MinMaxScaler(feature_range = (-1, 1))"
   ]
  },
  {
   "cell_type": "code",
   "execution_count": 74,
   "metadata": {},
   "outputs": [],
   "source": [
    "#reshape data so it can be fit\n",
    "X_train_reshaped = np.reshape(X_train, (-1, 4))\n",
    "X_test_reshaped = np.reshape(X_test, (-1, 4))\n",
    "y_train_reshaped = np.reshape(y_train, (-1, 1))\n",
    "y_test_reshaped = np.reshape(y_test, (-1, 1))"
   ]
  },
  {
   "cell_type": "code",
   "execution_count": 75,
   "metadata": {},
   "outputs": [
    {
     "data": {
      "text/plain": [
       "MinMaxScaler(copy=True, feature_range=(-1, 1))"
      ]
     },
     "execution_count": 75,
     "metadata": {},
     "output_type": "execute_result"
    }
   ],
   "source": [
    "#fit scalers\n",
    "X_scaler.fit(X_train_reshaped)\n",
    "y_scaler.fit(y_train_reshaped)"
   ]
  },
  {
   "cell_type": "code",
   "execution_count": 76,
   "metadata": {},
   "outputs": [
    {
     "data": {
      "text/plain": [
       "(1040, 30, 4)"
      ]
     },
     "execution_count": 76,
     "metadata": {},
     "output_type": "execute_result"
    }
   ],
   "source": [
    "#transform and rescale\n",
    "X_train_scaled = np.reshape(X_scaler.transform(X_train_reshaped), X_train.shape)\n",
    "X_test_scaled = np.reshape(X_scaler.transform(X_test_reshaped), X_test.shape)\n",
    "y_train_scaled = np.reshape(y_scaler.transform(y_train_reshaped), y_train.shape[0])\n",
    "y_test_scaled = np.reshape(y_scaler.transform(y_test_reshaped), y_test.shape[0])\n",
    "X_train_scaled.shape"
   ]
  },
  {
   "cell_type": "code",
   "execution_count": 77,
   "metadata": {},
   "outputs": [],
   "source": [
    "#import layers\n",
    "from keras.models import Sequential, load_model\n",
    "from keras.layers import Dense, Dropout, LSTM"
   ]
  },
  {
   "cell_type": "code",
   "execution_count": 78,
   "metadata": {},
   "outputs": [
    {
     "name": "stdout",
     "output_type": "stream",
     "text": [
      "_________________________________________________________________\n",
      "Layer (type)                 Output Shape              Param #   \n",
      "=================================================================\n",
      "lstm_1 (LSTM)                (None, 30, 256)           267264    \n",
      "_________________________________________________________________\n",
      "dropout_1 (Dropout)          (None, 30, 256)           0         \n",
      "_________________________________________________________________\n",
      "lstm_2 (LSTM)                (None, 256)               525312    \n",
      "_________________________________________________________________\n",
      "dropout_2 (Dropout)          (None, 256)               0         \n",
      "_________________________________________________________________\n",
      "dense_4 (Dense)              (None, 32)                8224      \n",
      "_________________________________________________________________\n",
      "dense_5 (Dense)              (None, 1)                 33        \n",
      "=================================================================\n",
      "Total params: 800,833\n",
      "Trainable params: 800,833\n",
      "Non-trainable params: 0\n",
      "_________________________________________________________________\n"
     ]
    }
   ],
   "source": [
    "#create an LSTM model\n",
    "model = Sequential()\n",
    "\n",
    "#add first LSTM layer and dropout layer\n",
    "model.add(LSTM(256, return_sequences = True, input_shape = (seq_length, features)))\n",
    "model.add(Dropout(0.2))\n",
    "\n",
    "#add second LSTM layer and dropout layer\n",
    "model.add(LSTM(256, return_sequences = False))\n",
    "model.add(Dropout(0.2))\n",
    "\n",
    "#add an reLU layer\n",
    "model.add(Dense(32, activation = 'relu'))\n",
    "\n",
    "#add a final layer\n",
    "model.add(Dense(1, activation = 'linear'))\n",
    "\n",
    "#compile model\n",
    "model.compile(loss = 'mse', optimizer = 'adam', metrics = ['accuracy'])\n",
    "\n",
    "model.summary()"
   ]
  },
  {
   "cell_type": "code",
   "execution_count": 79,
   "metadata": {},
   "outputs": [
    {
     "name": "stdout",
     "output_type": "stream",
     "text": [
      "Train on 884 samples, validate on 156 samples\n",
      "Epoch 1/60\n",
      "884/884 [==============================] - 3s 4ms/step - loss: 0.0418 - acc: 0.0011 - val_loss: 0.1438 - val_acc: 0.0000e+00\n",
      "Epoch 2/60\n",
      "884/884 [==============================] - 2s 2ms/step - loss: 0.0084 - acc: 0.0011 - val_loss: 0.1878 - val_acc: 0.0000e+00\n",
      "Epoch 3/60\n",
      "884/884 [==============================] - 2s 2ms/step - loss: 0.0065 - acc: 0.0011 - val_loss: 0.2023 - val_acc: 0.0000e+00\n",
      "Epoch 4/60\n",
      "884/884 [==============================] - 2s 2ms/step - loss: 0.0057 - acc: 0.0011 - val_loss: 0.2072 - val_acc: 0.0000e+00\n",
      "Epoch 5/60\n",
      "884/884 [==============================] - 2s 2ms/step - loss: 0.0056 - acc: 0.0011 - val_loss: 0.2125 - val_acc: 0.0000e+00\n",
      "Epoch 6/60\n",
      "884/884 [==============================] - 2s 2ms/step - loss: 0.0055 - acc: 0.0011 - val_loss: 0.2021 - val_acc: 0.0000e+00\n",
      "Epoch 7/60\n",
      "884/884 [==============================] - 2s 2ms/step - loss: 0.0055 - acc: 0.0011 - val_loss: 0.1953 - val_acc: 0.0000e+00\n",
      "Epoch 8/60\n",
      "884/884 [==============================] - 2s 2ms/step - loss: 0.0053 - acc: 0.0011 - val_loss: 0.1905 - val_acc: 0.0000e+00\n",
      "Epoch 9/60\n",
      "884/884 [==============================] - 2s 2ms/step - loss: 0.0051 - acc: 0.0011 - val_loss: 0.1834 - val_acc: 0.0000e+00\n",
      "Epoch 10/60\n",
      "884/884 [==============================] - 2s 2ms/step - loss: 0.0048 - acc: 0.0011 - val_loss: 0.1923 - val_acc: 0.0000e+00\n",
      "Epoch 11/60\n",
      "884/884 [==============================] - 2s 2ms/step - loss: 0.0051 - acc: 0.0011 - val_loss: 0.1990 - val_acc: 0.0000e+00\n",
      "Epoch 12/60\n",
      "884/884 [==============================] - 2s 2ms/step - loss: 0.0050 - acc: 0.0011 - val_loss: 0.1873 - val_acc: 0.0000e+00\n",
      "Epoch 13/60\n",
      "884/884 [==============================] - 2s 2ms/step - loss: 0.0049 - acc: 0.0011 - val_loss: 0.1877 - val_acc: 0.0000e+00\n",
      "Epoch 14/60\n",
      "884/884 [==============================] - 2s 2ms/step - loss: 0.0049 - acc: 0.0011 - val_loss: 0.1881 - val_acc: 0.0000e+00\n",
      "Epoch 15/60\n",
      "884/884 [==============================] - 2s 2ms/step - loss: 0.0049 - acc: 0.0011 - val_loss: 0.1832 - val_acc: 0.0000e+00\n",
      "Epoch 16/60\n",
      "884/884 [==============================] - 2s 2ms/step - loss: 0.0048 - acc: 0.0011 - val_loss: 0.1761 - val_acc: 0.0000e+00\n",
      "Epoch 17/60\n",
      "884/884 [==============================] - 2s 2ms/step - loss: 0.0048 - acc: 0.0011 - val_loss: 0.1708 - val_acc: 0.0000e+00\n",
      "Epoch 18/60\n",
      "884/884 [==============================] - 2s 2ms/step - loss: 0.0050 - acc: 0.0011 - val_loss: 0.1726 - val_acc: 0.0000e+00\n",
      "Epoch 19/60\n",
      "884/884 [==============================] - 2s 2ms/step - loss: 0.0050 - acc: 0.0011 - val_loss: 0.1897 - val_acc: 0.0000e+00\n",
      "Epoch 20/60\n",
      "884/884 [==============================] - 2s 2ms/step - loss: 0.0046 - acc: 0.0011 - val_loss: 0.1900 - val_acc: 0.0000e+00\n",
      "Epoch 21/60\n",
      "884/884 [==============================] - 2s 2ms/step - loss: 0.0050 - acc: 0.0011 - val_loss: 0.1974 - val_acc: 0.0000e+00\n",
      "Epoch 22/60\n",
      "884/884 [==============================] - 2s 2ms/step - loss: 0.0047 - acc: 0.0011 - val_loss: 0.1981 - val_acc: 0.0000e+00\n",
      "Epoch 23/60\n",
      "884/884 [==============================] - 2s 2ms/step - loss: 0.0048 - acc: 0.0011 - val_loss: 0.1987 - val_acc: 0.0000e+00\n",
      "Epoch 24/60\n",
      "884/884 [==============================] - 2s 2ms/step - loss: 0.0045 - acc: 0.0011 - val_loss: 0.2034 - val_acc: 0.0000e+00\n",
      "Epoch 25/60\n",
      "884/884 [==============================] - 2s 2ms/step - loss: 0.0046 - acc: 0.0011 - val_loss: 0.2014 - val_acc: 0.0000e+00\n",
      "Epoch 26/60\n",
      "884/884 [==============================] - 2s 2ms/step - loss: 0.0049 - acc: 0.0011 - val_loss: 0.2208 - val_acc: 0.0000e+00\n",
      "Epoch 27/60\n",
      "884/884 [==============================] - 2s 2ms/step - loss: 0.0049 - acc: 0.0011 - val_loss: 0.2016 - val_acc: 0.0000e+00\n",
      "Epoch 28/60\n",
      "884/884 [==============================] - 2s 2ms/step - loss: 0.0044 - acc: 0.0011 - val_loss: 0.1793 - val_acc: 0.0000e+00\n",
      "Epoch 29/60\n",
      "884/884 [==============================] - 2s 2ms/step - loss: 0.0044 - acc: 0.0011 - val_loss: 0.1857 - val_acc: 0.0000e+00\n",
      "Epoch 30/60\n",
      "884/884 [==============================] - 2s 2ms/step - loss: 0.0044 - acc: 0.0011 - val_loss: 0.1868 - val_acc: 0.0000e+00\n",
      "Epoch 31/60\n",
      "884/884 [==============================] - 2s 2ms/step - loss: 0.0047 - acc: 0.0011 - val_loss: 0.2044 - val_acc: 0.0000e+00\n",
      "Epoch 32/60\n",
      "884/884 [==============================] - 2s 2ms/step - loss: 0.0046 - acc: 0.0011 - val_loss: 0.2168 - val_acc: 0.0000e+00\n",
      "Epoch 33/60\n",
      "884/884 [==============================] - 2s 2ms/step - loss: 0.0051 - acc: 0.0011 - val_loss: 0.2283 - val_acc: 0.0000e+00\n",
      "Epoch 34/60\n",
      "884/884 [==============================] - 2s 2ms/step - loss: 0.0044 - acc: 0.0011 - val_loss: 0.2304 - val_acc: 0.0000e+00\n",
      "Epoch 35/60\n",
      "884/884 [==============================] - 2s 2ms/step - loss: 0.0044 - acc: 0.0011 - val_loss: 0.2338 - val_acc: 0.0000e+00\n",
      "Epoch 36/60\n",
      "884/884 [==============================] - 2s 2ms/step - loss: 0.0048 - acc: 0.0011 - val_loss: 0.2305 - val_acc: 0.0000e+00\n",
      "Epoch 37/60\n",
      "884/884 [==============================] - 2s 2ms/step - loss: 0.0043 - acc: 0.0011 - val_loss: 0.2206 - val_acc: 0.0000e+00\n",
      "Epoch 38/60\n",
      "884/884 [==============================] - 2s 2ms/step - loss: 0.0044 - acc: 0.0011 - val_loss: 0.2225 - val_acc: 0.0000e+00\n",
      "Epoch 39/60\n",
      "884/884 [==============================] - 2s 2ms/step - loss: 0.0042 - acc: 0.0011 - val_loss: 0.2295 - val_acc: 0.0000e+00\n",
      "Epoch 40/60\n",
      "884/884 [==============================] - 2s 2ms/step - loss: 0.0044 - acc: 0.0011 - val_loss: 0.2176 - val_acc: 0.0000e+00\n",
      "Epoch 41/60\n",
      "884/884 [==============================] - 2s 2ms/step - loss: 0.0049 - acc: 0.0011 - val_loss: 0.2154 - val_acc: 0.0000e+00\n",
      "Epoch 42/60\n",
      "884/884 [==============================] - 2s 2ms/step - loss: 0.0047 - acc: 0.0011 - val_loss: 0.2438 - val_acc: 0.0000e+00\n",
      "Epoch 43/60\n",
      "884/884 [==============================] - 2s 2ms/step - loss: 0.0043 - acc: 0.0011 - val_loss: 0.2350 - val_acc: 0.0000e+00\n",
      "Epoch 44/60\n",
      "884/884 [==============================] - 2s 2ms/step - loss: 0.0045 - acc: 0.0011 - val_loss: 0.2362 - val_acc: 0.0000e+00\n",
      "Epoch 45/60\n",
      "884/884 [==============================] - 2s 2ms/step - loss: 0.0042 - acc: 0.0011 - val_loss: 0.2264 - val_acc: 0.0000e+00\n",
      "Epoch 46/60\n",
      "884/884 [==============================] - 2s 2ms/step - loss: 0.0041 - acc: 0.0011 - val_loss: 0.2371 - val_acc: 0.0000e+00\n",
      "Epoch 47/60\n",
      "884/884 [==============================] - 2s 2ms/step - loss: 0.0044 - acc: 0.0011 - val_loss: 0.2333 - val_acc: 0.0000e+00\n",
      "Epoch 48/60\n",
      "884/884 [==============================] - 2s 2ms/step - loss: 0.0043 - acc: 0.0011 - val_loss: 0.2368 - val_acc: 0.0000e+00\n",
      "Epoch 49/60\n",
      "884/884 [==============================] - 2s 2ms/step - loss: 0.0044 - acc: 0.0011 - val_loss: 0.2319 - val_acc: 0.0000e+00\n",
      "Epoch 50/60\n",
      "884/884 [==============================] - 2s 2ms/step - loss: 0.0042 - acc: 0.0011 - val_loss: 0.2371 - val_acc: 0.0000e+00\n",
      "Epoch 51/60\n",
      "884/884 [==============================] - 2s 2ms/step - loss: 0.0041 - acc: 0.0011 - val_loss: 0.2329 - val_acc: 0.0000e+00\n",
      "Epoch 52/60\n",
      "884/884 [==============================] - 2s 2ms/step - loss: 0.0043 - acc: 0.0011 - val_loss: 0.2278 - val_acc: 0.0000e+00\n",
      "Epoch 53/60\n",
      "884/884 [==============================] - 2s 2ms/step - loss: 0.0042 - acc: 0.0011 - val_loss: 0.2096 - val_acc: 0.0000e+00\n",
      "Epoch 54/60\n",
      "884/884 [==============================] - 2s 2ms/step - loss: 0.0041 - acc: 0.0011 - val_loss: 0.2158 - val_acc: 0.0000e+00\n",
      "Epoch 55/60\n",
      "884/884 [==============================] - 2s 2ms/step - loss: 0.0041 - acc: 0.0011 - val_loss: 0.2421 - val_acc: 0.0000e+00\n",
      "Epoch 56/60\n",
      "884/884 [==============================] - 2s 2ms/step - loss: 0.0042 - acc: 0.0011 - val_loss: 0.2474 - val_acc: 0.0000e+00\n",
      "Epoch 57/60\n",
      "884/884 [==============================] - 2s 2ms/step - loss: 0.0048 - acc: 0.0011 - val_loss: 0.2583 - val_acc: 0.0000e+00\n",
      "Epoch 58/60\n",
      "884/884 [==============================] - 2s 2ms/step - loss: 0.0042 - acc: 0.0011 - val_loss: 0.2491 - val_acc: 0.0000e+00\n",
      "Epoch 59/60\n",
      "884/884 [==============================] - 2s 2ms/step - loss: 0.0043 - acc: 0.0011 - val_loss: 0.2427 - val_acc: 0.0000e+00\n",
      "Epoch 60/60\n"
     ]
    },
    {
     "name": "stdout",
     "output_type": "stream",
     "text": [
      "884/884 [==============================] - 2s 2ms/step - loss: 0.0041 - acc: 0.0011 - val_loss: 0.2564 - val_acc: 0.0000e+00\n"
     ]
    },
    {
     "data": {
      "text/plain": [
       "<keras.callbacks.History at 0x1fb36859ba8>"
      ]
     },
     "execution_count": 79,
     "metadata": {},
     "output_type": "execute_result"
    }
   ],
   "source": [
    "#fit model\n",
    "model.fit(X_train_scaled, y_train_scaled, epochs = 60, batch_size = 64, validation_split = 0.15, verbose = 1)"
   ]
  },
  {
   "cell_type": "code",
   "execution_count": 81,
   "metadata": {},
   "outputs": [],
   "source": [
    "model.save('first_model.h5')"
   ]
  },
  {
   "cell_type": "code",
   "execution_count": 82,
   "metadata": {},
   "outputs": [
    {
     "name": "stdout",
     "output_type": "stream",
     "text": [
      "_________________________________________________________________\n",
      "Layer (type)                 Output Shape              Param #   \n",
      "=================================================================\n",
      "lstm_1 (LSTM)                (None, 30, 256)           267264    \n",
      "_________________________________________________________________\n",
      "dropout_1 (Dropout)          (None, 30, 256)           0         \n",
      "_________________________________________________________________\n",
      "lstm_2 (LSTM)                (None, 256)               525312    \n",
      "_________________________________________________________________\n",
      "dropout_2 (Dropout)          (None, 256)               0         \n",
      "_________________________________________________________________\n",
      "dense_4 (Dense)              (None, 32)                8224      \n",
      "_________________________________________________________________\n",
      "dense_5 (Dense)              (None, 1)                 33        \n",
      "=================================================================\n",
      "Total params: 800,833\n",
      "Trainable params: 800,833\n",
      "Non-trainable params: 0\n",
      "_________________________________________________________________\n"
     ]
    }
   ],
   "source": [
    "model = load_model('first_model.h5')\n",
    "model.summary()"
   ]
  },
  {
   "cell_type": "code",
   "execution_count": 83,
   "metadata": {},
   "outputs": [
    {
     "name": "stdout",
     "output_type": "stream",
     "text": [
      "Training Set- Score: 0.04163740559910926, RMSE: 0.2040524579589995\n",
      "Test Set- Score: 0.273286961990854, RMSE: 0.5227685548986798\n"
     ]
    }
   ],
   "source": [
    "#score models\n",
    "import math\n",
    "train_score = model.evaluate(X_train_scaled, y_train_scaled, verbose = 0)\n",
    "test_score = model.evaluate(X_test_scaled, y_test_scaled, verbose = 0)\n",
    "train_rmse = math.sqrt(train_score[0])\n",
    "test_rmse = math.sqrt(test_score[0])\n",
    "print(f\"Training Set- Score: {train_score[0]}, RMSE: {train_rmse}\")\n",
    "print(f\"Test Set- Score: {test_score[0]}, RMSE: {test_rmse}\")"
   ]
  },
  {
   "cell_type": "code",
   "execution_count": 84,
   "metadata": {},
   "outputs": [
    {
     "data": {
      "text/plain": [
       "(1040, 1)"
      ]
     },
     "execution_count": 84,
     "metadata": {},
     "output_type": "execute_result"
    }
   ],
   "source": [
    "#evaluate model on training set and test set\n",
    "y_train_preds_scaled = model.predict(X_train_scaled)\n",
    "y_test_preds_scaled = model.predict(X_test_scaled)\n",
    "y_train_preds_scaled.shape"
   ]
  },
  {
   "cell_type": "code",
   "execution_count": 85,
   "metadata": {},
   "outputs": [],
   "source": [
    "#rescale results\n",
    "y_train_preds_denormed = y_scaler.inverse_transform(y_train_preds_scaled)\n",
    "y_test_preds_denormed = y_scaler.inverse_transform(y_test_preds_scaled)"
   ]
  },
  {
   "cell_type": "code",
   "execution_count": 86,
   "metadata": {},
   "outputs": [
    {
     "data": {
      "text/plain": [
       "(1040,)"
      ]
     },
     "execution_count": 86,
     "metadata": {},
     "output_type": "execute_result"
    }
   ],
   "source": [
    "#reshape results for plotting\n",
    "y_train_preds = np.reshape(y_train_preds_denormed, y_train.shape[0])\n",
    "y_test_preds = np.reshape(y_test_preds_denormed, y_test.shape[0])\n",
    "y_train_preds.shape"
   ]
  },
  {
   "cell_type": "code",
   "execution_count": 87,
   "metadata": {},
   "outputs": [],
   "source": [
    "#create x arrays (just day indices)\n",
    "days1 = np.arange(len(y_train))\n",
    "days2 = np.arange(len(y_train), len(y_train) + len(y_test))"
   ]
  },
  {
   "cell_type": "code",
   "execution_count": 88,
   "metadata": {},
   "outputs": [
    {
     "data": {
      "image/png": "[encoded data removed]",
      "text/plain": [
       "<Figure size 432x288 with 1 Axes>"
      ]
     },
     "metadata": {},
     "output_type": "display_data"
    }
   ],
   "source": [
    "#plot\n",
    "fig, ax = plt.subplots()\n",
    "ax.plot(days1, y_train, 'b', label = 'Training Set Actual')\n",
    "ax.plot(days1, y_train_preds, 'r', label = 'Training Set Predictions')\n",
    "ax.plot(days2, y_test, 'k', label = 'Test Set Actual')\n",
    "ax.plot(days2, y_test_preds, 'g', label = 'Test Set Predictions')\n",
    "ax.legend()\n",
    "ax.set_title('Walmart LSTM Stock Predictions')\n",
    "ax.set_xlabel('Day Index')\n",
    "ax.set_ylabel('Closing Price')\n",
    "plt.show()"
   ]
  },
  {
   "cell_type": "code",
   "execution_count": 89,
   "metadata": {},
   "outputs": [
    {
     "data": {
      "image/png": "[encoded data removed]",
      "text/plain": [
       "<Figure size 432x288 with 1 Axes>"
      ]
     },
     "metadata": {},
     "output_type": "display_data"
    }
   ],
   "source": [
    "#plot test set only\n",
    "fig2, ax2 = plt.subplots()\n",
    "ax2.plot(days2, y_test, 'k', label = 'Test Set Actual')\n",
    "ax2.plot(days2, y_test_preds, 'g', label = 'Test Set Predictions')\n",
    "ax2.legend()\n",
    "ax2.set_title('Walmart LSTM Test Set Predictions')\n",
    "ax2.set_xlabel('Day Index')\n",
    "ax2.set_ylabel('Closing Price')\n",
    "plt.show()\n"
   ]
  },
  {
   "cell_type": "code",
   "execution_count": 90,
   "metadata": {},
   "outputs": [],
   "source": [
    "### Functions for Arbitrary Size, Number of Neurons, and Future Time Point\n",
    "# We wish to create functions that allow for some more arbitrary settings."
   ]
  },
  {
   "cell_type": "code",
   "execution_count": 91,
   "metadata": {},
   "outputs": [],
   "source": [
    "#function to create training and test data from a dataframe\n",
    "def train_test_splitter(df, seq_length, fut_point, train_split):\n",
    "    #save data as a matrix\n",
    "    data = df.values\n",
    "    \n",
    "    #save number of features\n",
    "    features = data.shape[1]\n",
    "    \n",
    "    #get X data (30 day sequences)\n",
    "    X = []\n",
    "    #get all sequences up to (sequence length + future point) days out of last point (can then predict last point)\n",
    "    for index in range(len(data) - seq_length - fut_point):\n",
    "        X.append(data[index: index + seq_length])\n",
    "    #get X as a numpy array\n",
    "    X = np.array(X)\n",
    "    \n",
    "    #get Y data (close price for all days except first (sequence length + future point) days)\n",
    "    y = data[(seq_length + fut_point):, -1]\n",
    "    \n",
    "    #create train/test splits using chosing training split (between 0 and 1)\n",
    "    last_row = int(train_split * X.shape[0])\n",
    "    X_train = X[:last_row]\n",
    "    X_test = X[last_row:]\n",
    "    y_train = y[:last_row]\n",
    "    y_test = y[last_row:]\n",
    "    return X_train, X_test, y_train, y_test"
   ]
  },
  {
   "cell_type": "code",
   "execution_count": 92,
   "metadata": {},
   "outputs": [],
   "source": [
    "#test function with 180 days sequence and 80 days future point\n",
    "X_train2, X_test2, y_train2, y_test2 = train_test_splitter(df, 180, 80, 0.85)"
   ]
  },
  {
   "cell_type": "code",
   "execution_count": 93,
   "metadata": {},
   "outputs": [],
   "source": [
    "#function to create scaled data and scalers\n",
    "def create_scalers_and_normalize(X_train, X_test, y_train, y_test):\n",
    "    #instantiate scalers\n",
    "    X_scaler = MinMaxScaler(feature_range = (-1, 1))\n",
    "    y_scaler = MinMaxScaler(feature_range = (-1, 1))\n",
    "    \n",
    "    #get number of features\n",
    "    features = X_train.shape[2]\n",
    "    \n",
    "    #reshape data so it can be fit\n",
    "    X_train_reshaped = np.reshape(X_train, (-1, features))\n",
    "    X_test_reshaped = np.reshape(X_test, (-1, features))\n",
    "    y_train_reshaped = np.reshape(y_train, (-1, 1))\n",
    "    y_test_reshaped = np.reshape(y_test, (-1, 1))\n",
    "    \n",
    "    #fit scalers\n",
    "    X_scaler.fit(X_train_reshaped)\n",
    "    y_scaler.fit(y_train_reshaped)\n",
    "    \n",
    "    #transform and rescale\n",
    "    X_train_scaled = np.reshape(X_scaler.transform(X_train_reshaped), X_train.shape)\n",
    "    X_test_scaled = np.reshape(X_scaler.transform(X_test_reshaped), X_test.shape)\n",
    "    y_train_scaled = np.reshape(y_scaler.transform(y_train_reshaped), y_train.shape[0])\n",
    "    y_test_scaled = np.reshape(y_scaler.transform(y_test_reshaped), y_test.shape[0])\n",
    "    \n",
    "    return X_train_scaled, X_test_scaled, y_train_scaled, y_test_scaled, X_scaler, y_scaler"
   ]
  },
  {
   "cell_type": "code",
   "execution_count": 94,
   "metadata": {},
   "outputs": [],
   "source": [
    "X_train_scaled2, X_test_scaled2, y_train_scaled2, y_test_scaled2, X_scaler2, y_scaler2 = create_scalers_and_normalize(\n",
    "    X_train2, X_test2, y_train2, y_test2)"
   ]
  },
  {
   "cell_type": "code",
   "execution_count": 95,
   "metadata": {},
   "outputs": [],
   "source": [
    "#create an LSTM model with different neuron sizes\n",
    "def create_generic_LSTM_model(neurons, dropout, seq_length, features):\n",
    "    #create an LSTM model\n",
    "    model = Sequential()\n",
    "\n",
    "    #add first LSTM layer and dropout layer\n",
    "    model.add(LSTM(neurons[0], return_sequences = True, input_shape = (seq_length, features)))\n",
    "    model.add(Dropout(0.2))\n",
    "\n",
    "    #add second LSTM layer and dropout layer\n",
    "    model.add(LSTM(neurons[1], return_sequences = False))\n",
    "    model.add(Dropout(0.2))\n",
    "\n",
    "    #add an reLU layer\n",
    "    model.add(Dense(neurons[2], activation = 'relu'))\n",
    "\n",
    "    #add a final layer\n",
    "    model.add(Dense(1, activation = 'linear'))\n",
    "\n",
    "    #compile model\n",
    "    model.compile(loss = 'mse', optimizer = 'adam', metrics = ['accuracy'])\n",
    "\n",
    "    return model"
   ]
  },
  {
   "cell_type": "code",
   "execution_count": 96,
   "metadata": {},
   "outputs": [],
   "source": [
    "#test function\n",
    "new_model = create_generic_LSTM_model([256, 256, 32], 0.2, 180, 4)"
   ]
  },
  {
   "cell_type": "code",
   "execution_count": 97,
   "metadata": {},
   "outputs": [],
   "source": [
    "#save model\n",
    "new_model.save('second_model.h5')"
   ]
  },
  {
   "cell_type": "code",
   "execution_count": 98,
   "metadata": {},
   "outputs": [],
   "source": [
    "#load model\n",
    "new_model = load_model('second_model.h5')"
   ]
  },
  {
   "cell_type": "code",
   "execution_count": 99,
   "metadata": {},
   "outputs": [],
   "source": [
    "#function to evaluate score and return predictions for a given model path\n",
    "import math\n",
    "def make_preds(model_path, X_train_scaled, X_test_scaled, y_train_scaled, y_test_scaled, y_scaler):\n",
    "    #load model\n",
    "    model = load_model(model_path)\n",
    "    \n",
    "    #score models\n",
    "    train_score = model.evaluate(X_train_scaled, y_train_scaled, verbose = 0)\n",
    "    test_score = model.evaluate(X_test_scaled, y_test_scaled, verbose = 0)\n",
    "    train_rmse = math.sqrt(train_score[0])\n",
    "    test_rmse = math.sqrt(test_score[0])\n",
    "    print(f\"Training Set- Score: {train_score[0]}, RMSE: {train_rmse}\")\n",
    "    print(f\"Test Set- Score: {test_score[0]}, RMSE: {test_rmse}\")\n",
    "    \n",
    "    #evaluate model on training set and test set\n",
    "    y_train_preds_scaled = model.predict(X_train_scaled)\n",
    "    y_test_preds_scaled = model.predict(X_test_scaled)\n",
    "    \n",
    "    #rescale results\n",
    "    y_train_preds_denormed = y_scaler.inverse_transform(y_train_preds_scaled)\n",
    "    y_test_preds_denormed = y_scaler.inverse_transform(y_test_preds_scaled)\n",
    "    \n",
    "    #reshape results for plotting\n",
    "    y_train_preds = np.reshape(y_train_preds_denormed, len(y_train_scaled))\n",
    "    y_test_preds = np.reshape(y_test_preds_denormed, len(y_test_scaled))\n",
    "    \n",
    "    return y_train_preds, y_test_preds, train_score, test_score"
   ]
  },
  {
   "cell_type": "code",
   "execution_count": 100,
   "metadata": {},
   "outputs": [
    {
     "name": "stdout",
     "output_type": "stream",
     "text": [
      "Training Set- Score: 0.04163740559910926, RMSE: 0.2040524579589995\n",
      "Test Set- Score: 0.273286961990854, RMSE: 0.5227685548986798\n"
     ]
    }
   ],
   "source": [
    "#test function\n",
    "y_train_preds, y_test_preds, train_score, test_score =  make_preds('first_model.h5', X_train_scaled, \n",
    "                                                                   X_test_scaled, y_train_scaled, y_test_scaled, \n",
    "                                                                   y_scaler)"
   ]
  },
  {
   "cell_type": "code",
   "execution_count": 101,
   "metadata": {},
   "outputs": [],
   "source": [
    "#function to create, compile, fit a model, and make predictions\n",
    "def fit_generic_LSTM_model(df, seq_length, fut_point, train_split, neurons, dropout, epochs, batch_size, \n",
    "                           validation_split, model_path):\n",
    "    \n",
    "    #get train/test split\n",
    "    X_train, X_test, y_train, y_test = train_test_splitter(df, seq_length, fut_point, train_split)\n",
    "    \n",
    "    #get number of features\n",
    "    features = X_train.shape[2]\n",
    "    \n",
    "    #get scalers and normalized data\n",
    "    X_train_scaled, X_test_scaled, y_train_scaled, y_test_scaled, X_scaler, y_scaler = create_scalers_and_normalize(\n",
    "        X_train, X_test, y_train, y_test)\n",
    "    \n",
    "    #create model\n",
    "    model = create_generic_LSTM_model(neurons, dropout, seq_length, features)\n",
    "    \n",
    "    #fit model\n",
    "    model.fit(X_train_scaled, y_train_scaled, epochs = epochs, \n",
    "              batch_size = batch_size, validation_split = validation_split, verbose = 1)\n",
    "    \n",
    "    #save model\n",
    "    model.save(model_path)\n",
    "    \n",
    "    #evaluate model and get predictions\n",
    "    y_train_preds, y_test_preds, train_score, test_score = make_preds(model_path, \n",
    "                                                                      X_train_scaled, X_test_scaled, \n",
    "                                                                      y_train_scaled, y_test_scaled, y_scaler)\n",
    "    \n",
    "    #return necessary variables to create predictions\n",
    "    return y_train, y_test, y_train_preds, y_test_preds, train_score, test_score"
   ]
  },
  {
   "cell_type": "code",
   "execution_count": 102,
   "metadata": {},
   "outputs": [
    {
     "name": "stdout",
     "output_type": "stream",
     "text": [
      "Train on 721 samples, validate on 128 samples\n",
      "Epoch 1/60\n",
      "721/721 [==============================] - 12s 17ms/step - loss: 0.0981 - acc: 0.0000e+00 - val_loss: 0.2741 - val_acc: 0.0000e+00\n",
      "Epoch 2/60\n",
      "721/721 [==============================] - 10s 14ms/step - loss: 0.0733 - acc: 0.0000e+00 - val_loss: 0.2938 - val_acc: 0.0000e+00\n",
      "Epoch 3/60\n",
      "721/721 [==============================] - 11s 15ms/step - loss: 0.0714 - acc: 0.0000e+00 - val_loss: 0.3035 - val_acc: 0.0000e+00\n",
      "Epoch 4/60\n",
      "721/721 [==============================] - 11s 15ms/step - loss: 0.0729 - acc: 0.0000e+00 - val_loss: 0.2839 - val_acc: 0.0000e+00\n",
      "Epoch 5/60\n",
      "721/721 [==============================] - 11s 16ms/step - loss: 0.0697 - acc: 0.0000e+00 - val_loss: 0.2838 - val_acc: 0.0000e+00\n",
      "Epoch 6/60\n",
      "721/721 [==============================] - 11s 16ms/step - loss: 0.0686 - acc: 0.0000e+00 - val_loss: 0.2873 - val_acc: 0.0000e+00\n",
      "Epoch 7/60\n",
      "721/721 [==============================] - 12s 16ms/step - loss: 0.0690 - acc: 0.0000e+00 - val_loss: 0.2918 - val_acc: 0.0000e+00\n",
      "Epoch 8/60\n",
      "721/721 [==============================] - 11s 16ms/step - loss: 0.0694 - acc: 0.0000e+00 - val_loss: 0.2904 - val_acc: 0.0000e+00\n",
      "Epoch 9/60\n",
      "721/721 [==============================] - 12s 16ms/step - loss: 0.0682 - acc: 0.0000e+00 - val_loss: 0.2965 - val_acc: 0.0000e+00\n",
      "Epoch 10/60\n",
      "721/721 [==============================] - 12s 16ms/step - loss: 0.0687 - acc: 0.0000e+00 - val_loss: 0.2894 - val_acc: 0.0000e+00\n",
      "Epoch 11/60\n",
      "721/721 [==============================] - 12s 16ms/step - loss: 0.0698 - acc: 0.0000e+00 - val_loss: 0.2696 - val_acc: 0.0000e+00\n",
      "Epoch 12/60\n",
      "721/721 [==============================] - 12s 16ms/step - loss: 0.0672 - acc: 0.0000e+00 - val_loss: 0.2776 - val_acc: 0.0000e+00\n",
      "Epoch 13/60\n",
      "721/721 [==============================] - 12s 17ms/step - loss: 0.0658 - acc: 0.0000e+00 - val_loss: 0.3201 - val_acc: 0.0000e+00\n",
      "Epoch 14/60\n",
      "721/721 [==============================] - 12s 16ms/step - loss: 0.0661 - acc: 0.0000e+00 - val_loss: 0.5254 - val_acc: 0.0000e+00\n",
      "Epoch 15/60\n",
      "721/721 [==============================] - 12s 17ms/step - loss: 0.0630 - acc: 0.0000e+00 - val_loss: 2.1973 - val_acc: 0.0000e+00\n",
      "Epoch 16/60\n",
      "721/721 [==============================] - 12s 16ms/step - loss: 0.0657 - acc: 0.0000e+00 - val_loss: 1.4185 - val_acc: 0.0000e+00\n",
      "Epoch 17/60\n",
      "721/721 [==============================] - 12s 17ms/step - loss: 0.0638 - acc: 0.0000e+00 - val_loss: 1.0836 - val_acc: 0.0000e+00\n",
      "Epoch 18/60\n",
      "721/721 [==============================] - 12s 17ms/step - loss: 0.0643 - acc: 0.0000e+00 - val_loss: 0.3944 - val_acc: 0.0000e+00\n",
      "Epoch 19/60\n",
      "721/721 [==============================] - 12s 16ms/step - loss: 0.0635 - acc: 0.0000e+00 - val_loss: 1.0063 - val_acc: 0.0000e+00\n",
      "Epoch 20/60\n",
      "721/721 [==============================] - 13s 18ms/step - loss: 0.0623 - acc: 0.0000e+00 - val_loss: 3.6496 - val_acc: 0.0000e+00\n",
      "Epoch 21/60\n",
      "721/721 [==============================] - 12s 17ms/step - loss: 0.0625 - acc: 0.0000e+00 - val_loss: 5.8307 - val_acc: 0.0000e+00\n",
      "Epoch 22/60\n",
      "721/721 [==============================] - 12s 17ms/step - loss: 0.0615 - acc: 0.0000e+00 - val_loss: 6.0733 - val_acc: 0.0000e+00\n",
      "Epoch 23/60\n",
      "721/721 [==============================] - 12s 17ms/step - loss: 0.0669 - acc: 0.0000e+00 - val_loss: 0.2571 - val_acc: 0.0000e+00\n",
      "Epoch 24/60\n",
      "721/721 [==============================] - 12s 17ms/step - loss: 0.0646 - acc: 0.0000e+00 - val_loss: 0.2925 - val_acc: 0.0000e+00\n",
      "Epoch 25/60\n",
      "721/721 [==============================] - 12s 17ms/step - loss: 0.0641 - acc: 0.0000e+00 - val_loss: 0.3649 - val_acc: 0.0000e+00\n",
      "Epoch 26/60\n",
      "721/721 [==============================] - 12s 17ms/step - loss: 0.0613 - acc: 0.0000e+00 - val_loss: 2.7204 - val_acc: 0.0000e+00\n",
      "Epoch 27/60\n",
      "721/721 [==============================] - 12s 17ms/step - loss: 0.0604 - acc: 0.0000e+00 - val_loss: 1.4306 - val_acc: 0.0000e+00\n",
      "Epoch 28/60\n",
      "721/721 [==============================] - 12s 17ms/step - loss: 0.0586 - acc: 0.0000e+00 - val_loss: 1.3380 - val_acc: 0.0000e+00\n",
      "Epoch 29/60\n",
      "721/721 [==============================] - 12s 17ms/step - loss: 0.0559 - acc: 0.0000e+00 - val_loss: 0.6425 - val_acc: 0.0000e+00\n",
      "Epoch 30/60\n",
      "721/721 [==============================] - 13s 17ms/step - loss: 0.0539 - acc: 0.0000e+00 - val_loss: 0.4521 - val_acc: 0.0000e+00\n",
      "Epoch 31/60\n",
      "721/721 [==============================] - 12s 17ms/step - loss: 0.0679 - acc: 0.0000e+00 - val_loss: 9.7680 - val_acc: 0.0078\n",
      "Epoch 32/60\n",
      "721/721 [==============================] - 12s 17ms/step - loss: 0.1342 - acc: 0.0000e+00 - val_loss: 4.5513 - val_acc: 0.0000e+00\n",
      "Epoch 33/60\n",
      "721/721 [==============================] - 12s 17ms/step - loss: 0.0724 - acc: 0.0014 - val_loss: 10.1996 - val_acc: 0.0000e+00\n",
      "Epoch 34/60\n",
      "721/721 [==============================] - 12s 17ms/step - loss: 0.0770 - acc: 0.0000e+00 - val_loss: 5.3430 - val_acc: 0.0000e+00\n",
      "Epoch 35/60\n",
      "721/721 [==============================] - 12s 17ms/step - loss: 0.0697 - acc: 0.0000e+00 - val_loss: 3.8488 - val_acc: 0.0000e+00\n",
      "Epoch 36/60\n",
      "721/721 [==============================] - 13s 18ms/step - loss: 0.0672 - acc: 0.0000e+00 - val_loss: 1.8007 - val_acc: 0.0000e+00\n",
      "Epoch 37/60\n",
      "721/721 [==============================] - 13s 18ms/step - loss: 0.0659 - acc: 0.0000e+00 - val_loss: 1.2468 - val_acc: 0.0000e+00\n",
      "Epoch 38/60\n",
      "721/721 [==============================] - 12s 17ms/step - loss: 0.0673 - acc: 0.0000e+00 - val_loss: 0.8404 - val_acc: 0.0000e+00\n",
      "Epoch 39/60\n",
      "721/721 [==============================] - 13s 17ms/step - loss: 0.0654 - acc: 0.0000e+00 - val_loss: 1.1526 - val_acc: 0.0000e+00\n",
      "Epoch 40/60\n",
      "721/721 [==============================] - 13s 18ms/step - loss: 0.0649 - acc: 0.0000e+00 - val_loss: 1.0039 - val_acc: 0.0000e+00\n",
      "Epoch 41/60\n",
      "721/721 [==============================] - 13s 18ms/step - loss: 0.0631 - acc: 0.0014 - val_loss: 0.8735 - val_acc: 0.0000e+00\n",
      "Epoch 42/60\n",
      "721/721 [==============================] - 13s 18ms/step - loss: 0.0633 - acc: 0.0000e+00 - val_loss: 0.4400 - val_acc: 0.0000e+00\n",
      "Epoch 43/60\n",
      "721/721 [==============================] - 12s 17ms/step - loss: 0.0628 - acc: 0.0000e+00 - val_loss: 0.3643 - val_acc: 0.0000e+00\n",
      "Epoch 44/60\n",
      "721/721 [==============================] - 12s 17ms/step - loss: 0.0633 - acc: 0.0014 - val_loss: 0.4580 - val_acc: 0.0000e+00\n",
      "Epoch 45/60\n",
      "721/721 [==============================] - 12s 17ms/step - loss: 0.0610 - acc: 0.0014 - val_loss: 0.7740 - val_acc: 0.0000e+00\n",
      "Epoch 46/60\n",
      "721/721 [==============================] - 12s 17ms/step - loss: 0.0532 - acc: 0.0000e+00 - val_loss: 0.6150 - val_acc: 0.0000e+00\n",
      "Epoch 47/60\n",
      "721/721 [==============================] - 12s 17ms/step - loss: 0.0443 - acc: 0.0014 - val_loss: 0.8970 - val_acc: 0.0000e+00\n",
      "Epoch 48/60\n",
      "721/721 [==============================] - 12s 17ms/step - loss: 0.0396 - acc: 0.0014 - val_loss: 0.8303 - val_acc: 0.0000e+00\n",
      "Epoch 49/60\n",
      "721/721 [==============================] - 12s 17ms/step - loss: 0.0358 - acc: 0.0014 - val_loss: 1.1846 - val_acc: 0.0000e+00\n",
      "Epoch 50/60\n",
      "721/721 [==============================] - 12s 17ms/step - loss: 0.0349 - acc: 0.0014 - val_loss: 1.6593 - val_acc: 0.0000e+00\n",
      "Epoch 51/60\n",
      "721/721 [==============================] - 12s 17ms/step - loss: 0.0324 - acc: 0.0014 - val_loss: 2.0158 - val_acc: 0.0000e+00\n",
      "Epoch 52/60\n",
      "721/721 [==============================] - 12s 17ms/step - loss: 0.0315 - acc: 0.0014 - val_loss: 2.8336 - val_acc: 0.0000e+00\n",
      "Epoch 53/60\n",
      "721/721 [==============================] - 12s 17ms/step - loss: 0.0429 - acc: 0.0014 - val_loss: 2.9921 - val_acc: 0.0000e+00\n",
      "Epoch 54/60\n",
      "721/721 [==============================] - 12s 17ms/step - loss: 0.0361 - acc: 0.0014 - val_loss: 1.8888 - val_acc: 0.0000e+00\n",
      "Epoch 55/60\n",
      "721/721 [==============================] - 13s 17ms/step - loss: 0.0363 - acc: 0.0000e+00 - val_loss: 0.8902 - val_acc: 0.0000e+00\n",
      "Epoch 56/60\n",
      "721/721 [==============================] - 13s 18ms/step - loss: 0.0315 - acc: 0.0014 - val_loss: 0.7631 - val_acc: 0.0000e+00\n",
      "Epoch 57/60\n",
      "721/721 [==============================] - 12s 17ms/step - loss: 0.0271 - acc: 0.0014 - val_loss: 0.9859 - val_acc: 0.0000e+00\n",
      "Epoch 58/60\n"
     ]
    },
    {
     "name": "stdout",
     "output_type": "stream",
     "text": [
      "721/721 [==============================] - 12s 17ms/step - loss: 0.0220 - acc: 0.0014 - val_loss: 0.9100 - val_acc: 0.0000e+00\n",
      "Epoch 59/60\n",
      "721/721 [==============================] - 12s 17ms/step - loss: 0.0196 - acc: 0.0014 - val_loss: 1.0503 - val_acc: 0.0000e+00\n",
      "Epoch 60/60\n",
      "721/721 [==============================] - 12s 17ms/step - loss: 0.0292 - acc: 0.0014 - val_loss: 0.7439 - val_acc: 0.0000e+00\n",
      "Training Set- Score: 0.1766922234495042, RMSE: 0.42034774110194073\n",
      "Test Set- Score: 1.7340047073364258, RMSE: 1.316816125104954\n"
     ]
    }
   ],
   "source": [
    "#test function\n",
    "seq_length = 180\n",
    "fut_point = 80\n",
    "train_split = 0.85\n",
    "neurons = [256, 256, 32]\n",
    "epochs = 60\n",
    "batch_size = 64\n",
    "validation_split = 0.15\n",
    "dropout = 0.2\n",
    "model_path = 'third_model.h5'\n",
    "y_train3, y_test3, y_train_preds3, y_test_preds3, train_score3, test_score3 = fit_generic_LSTM_model(df, \n",
    "                                                                                                     seq_length, \n",
    "                                                                                                     fut_point, \n",
    "                                                                                                     train_split, \n",
    "                                                                                                     neurons, \n",
    "                                                                                                     dropout, \n",
    "                                                                                                     epochs, \n",
    "                                                                                                     batch_size,\n",
    "                                                                                                     validation_split, \n",
    "                                                                                                     model_path)"
   ]
  },
  {
   "cell_type": "code",
   "execution_count": 103,
   "metadata": {},
   "outputs": [],
   "source": [
    "#function to plot results\n",
    "def make_results_plot(y_train, y_test, y_train_preds, y_test_preds):\n",
    "    #create x arrays (just day indices)\n",
    "    days1 = np.arange(len(y_train))\n",
    "    days2 = np.arange(len(y_train), len(y_train) + len(y_test))\n",
    "    \n",
    "    #plot\n",
    "    fig, ax = plt.subplots()\n",
    "    ax.plot(days1, y_train, 'b', label = 'Training Set Actual')\n",
    "    ax.plot(days1, y_train_preds, 'r', label = 'Training Set Predictions')\n",
    "    ax.plot(days2, y_test, 'k', label = 'Test Set Actual')\n",
    "    ax.plot(days2, y_test_preds, 'g', label = 'Test Set Predictions')\n",
    "    ax.legend()\n",
    "    ax.set_title('Walmart Stock Predictions')\n",
    "    ax.set_xlabel('Day Index')\n",
    "    ax.set_ylabel('Closing Price')\n",
    "    plt.show()"
   ]
  },
  {
   "cell_type": "code",
   "execution_count": 104,
   "metadata": {},
   "outputs": [
    {
     "name": "stdout",
     "output_type": "stream",
     "text": [
      "Training Set- Score: 0.1766922234495042, RMSE: 0.42034774110194073\n",
      "Test Set- Score: 1.7340047073364258, RMSE: 1.316816125104954\n"
     ]
    },
    {
     "data": {
      "image/png": "[encoded data removed]",
      "text/plain": [
       "<Figure size 432x288 with 1 Axes>"
      ]
     },
     "metadata": {},
     "output_type": "display_data"
    }
   ],
   "source": [
    "#test function\n",
    "y_train_preds3, y_test_preds3, train_score3, test_score3 = make_preds('third_model.h5', \n",
    "                                                                                         X_train_scaled2, \n",
    "                                                                                         X_test_scaled2, \n",
    "                                                                                         y_train_scaled2, \n",
    "                                                                                         y_test_scaled2, y_scaler2)\n",
    "make_results_plot(y_train2, y_test2, y_train_preds3, y_test_preds3)"
   ]
  },
  {
   "cell_type": "code",
   "execution_count": 105,
   "metadata": {},
   "outputs": [
    {
     "name": "stdout",
     "output_type": "stream",
     "text": [
      "Train on 894 samples, validate on 158 samples\n",
      "Epoch 1/60\n",
      "894/894 [==============================] - 4s 4ms/step - loss: 0.0308 - acc: 0.0011 - val_loss: 0.1008 - val_acc: 0.0000e+00\n",
      "Epoch 2/60\n",
      "894/894 [==============================] - 1s 2ms/step - loss: 0.0057 - acc: 0.0011 - val_loss: 0.0985 - val_acc: 0.0000e+00\n",
      "Epoch 3/60\n",
      "894/894 [==============================] - 1s 2ms/step - loss: 0.0040 - acc: 0.0011 - val_loss: 0.0793 - val_acc: 0.0000e+00\n",
      "Epoch 4/60\n",
      "894/894 [==============================] - 1s 2ms/step - loss: 0.0034 - acc: 0.0011 - val_loss: 0.0758 - val_acc: 0.0000e+00\n",
      "Epoch 5/60\n",
      "894/894 [==============================] - 1s 2ms/step - loss: 0.0033 - acc: 0.0011 - val_loss: 0.0880 - val_acc: 0.0000e+00\n",
      "Epoch 6/60\n",
      "894/894 [==============================] - 1s 2ms/step - loss: 0.0031 - acc: 0.0011 - val_loss: 0.0944 - val_acc: 0.0000e+00\n",
      "Epoch 7/60\n",
      "894/894 [==============================] - 1s 2ms/step - loss: 0.0035 - acc: 0.0011 - val_loss: 0.1062 - val_acc: 0.0000e+00\n",
      "Epoch 8/60\n",
      "894/894 [==============================] - 1s 2ms/step - loss: 0.0033 - acc: 0.0011 - val_loss: 0.1030 - val_acc: 0.0000e+00\n",
      "Epoch 9/60\n",
      "894/894 [==============================] - 1s 2ms/step - loss: 0.0028 - acc: 0.0011 - val_loss: 0.1067 - val_acc: 0.0000e+00\n",
      "Epoch 10/60\n",
      "894/894 [==============================] - 1s 2ms/step - loss: 0.0033 - acc: 0.0011 - val_loss: 0.1062 - val_acc: 0.0000e+00\n",
      "Epoch 11/60\n",
      "894/894 [==============================] - 1s 2ms/step - loss: 0.0028 - acc: 0.0011 - val_loss: 0.1168 - val_acc: 0.0000e+00\n",
      "Epoch 12/60\n",
      "894/894 [==============================] - 1s 2ms/step - loss: 0.0030 - acc: 0.0011 - val_loss: 0.1223 - val_acc: 0.0000e+00\n",
      "Epoch 13/60\n",
      "894/894 [==============================] - 1s 2ms/step - loss: 0.0029 - acc: 0.0011 - val_loss: 0.1169 - val_acc: 0.0000e+00\n",
      "Epoch 14/60\n",
      "894/894 [==============================] - 1s 2ms/step - loss: 0.0028 - acc: 0.0011 - val_loss: 0.1090 - val_acc: 0.0000e+00\n",
      "Epoch 15/60\n",
      "894/894 [==============================] - 1s 2ms/step - loss: 0.0027 - acc: 0.0011 - val_loss: 0.1145 - val_acc: 0.0000e+00\n",
      "Epoch 16/60\n",
      "894/894 [==============================] - 1s 2ms/step - loss: 0.0029 - acc: 0.0011 - val_loss: 0.1223 - val_acc: 0.0000e+00\n",
      "Epoch 17/60\n",
      "894/894 [==============================] - 1s 2ms/step - loss: 0.0025 - acc: 0.0011 - val_loss: 0.1247 - val_acc: 0.0000e+00\n",
      "Epoch 18/60\n",
      "894/894 [==============================] - 1s 2ms/step - loss: 0.0027 - acc: 0.0011 - val_loss: 0.1226 - val_acc: 0.0000e+00\n",
      "Epoch 19/60\n",
      "894/894 [==============================] - 1s 2ms/step - loss: 0.0026 - acc: 0.0011 - val_loss: 0.1251 - val_acc: 0.0000e+00\n",
      "Epoch 20/60\n",
      "894/894 [==============================] - 1s 2ms/step - loss: 0.0024 - acc: 0.0011 - val_loss: 0.1379 - val_acc: 0.0000e+00\n",
      "Epoch 21/60\n",
      "894/894 [==============================] - 1s 2ms/step - loss: 0.0025 - acc: 0.0011 - val_loss: 0.1459 - val_acc: 0.0000e+00\n",
      "Epoch 22/60\n",
      "894/894 [==============================] - 1s 2ms/step - loss: 0.0026 - acc: 0.0011 - val_loss: 0.1384 - val_acc: 0.0000e+00\n",
      "Epoch 23/60\n",
      "894/894 [==============================] - 1s 2ms/step - loss: 0.0026 - acc: 0.0011 - val_loss: 0.1496 - val_acc: 0.0000e+00\n",
      "Epoch 24/60\n",
      "894/894 [==============================] - 1s 2ms/step - loss: 0.0030 - acc: 0.0011 - val_loss: 0.1433 - val_acc: 0.0000e+00\n",
      "Epoch 25/60\n",
      "894/894 [==============================] - 1s 2ms/step - loss: 0.0026 - acc: 0.0011 - val_loss: 0.1452 - val_acc: 0.0000e+00\n",
      "Epoch 26/60\n",
      "894/894 [==============================] - 1s 2ms/step - loss: 0.0026 - acc: 0.0011 - val_loss: 0.1595 - val_acc: 0.0000e+00\n",
      "Epoch 27/60\n",
      "894/894 [==============================] - 1s 2ms/step - loss: 0.0025 - acc: 0.0011 - val_loss: 0.1512 - val_acc: 0.0000e+00\n",
      "Epoch 28/60\n",
      "894/894 [==============================] - 1s 2ms/step - loss: 0.0026 - acc: 0.0011 - val_loss: 0.1482 - val_acc: 0.0000e+00\n",
      "Epoch 29/60\n",
      "894/894 [==============================] - 1s 2ms/step - loss: 0.0025 - acc: 0.0011 - val_loss: 0.1343 - val_acc: 0.0000e+00\n",
      "Epoch 30/60\n",
      "894/894 [==============================] - 1s 2ms/step - loss: 0.0025 - acc: 0.0011 - val_loss: 0.1335 - val_acc: 0.0000e+00\n",
      "Epoch 31/60\n",
      "894/894 [==============================] - 1s 2ms/step - loss: 0.0026 - acc: 0.0011 - val_loss: 0.1304 - val_acc: 0.0000e+00\n",
      "Epoch 32/60\n",
      "894/894 [==============================] - 1s 2ms/step - loss: 0.0026 - acc: 0.0011 - val_loss: 0.1224 - val_acc: 0.0000e+00\n",
      "Epoch 33/60\n",
      "894/894 [==============================] - 1s 2ms/step - loss: 0.0023 - acc: 0.0011 - val_loss: 0.1219 - val_acc: 0.0000e+00\n",
      "Epoch 34/60\n",
      "894/894 [==============================] - 1s 2ms/step - loss: 0.0023 - acc: 0.0011 - val_loss: 0.1285 - val_acc: 0.0000e+00\n",
      "Epoch 35/60\n",
      "894/894 [==============================] - 1s 2ms/step - loss: 0.0025 - acc: 0.0011 - val_loss: 0.1381 - val_acc: 0.0000e+00\n",
      "Epoch 36/60\n",
      "894/894 [==============================] - 1s 2ms/step - loss: 0.0025 - acc: 0.0011 - val_loss: 0.1385 - val_acc: 0.0000e+00\n",
      "Epoch 37/60\n",
      "894/894 [==============================] - 1s 2ms/step - loss: 0.0024 - acc: 0.0011 - val_loss: 0.1382 - val_acc: 0.0000e+00\n",
      "Epoch 38/60\n",
      "894/894 [==============================] - 1s 2ms/step - loss: 0.0022 - acc: 0.0011 - val_loss: 0.1444 - val_acc: 0.0000e+00\n",
      "Epoch 39/60\n",
      "894/894 [==============================] - 1s 2ms/step - loss: 0.0022 - acc: 0.0011 - val_loss: 0.1442 - val_acc: 0.0000e+00\n",
      "Epoch 40/60\n",
      "894/894 [==============================] - 1s 2ms/step - loss: 0.0023 - acc: 0.0011 - val_loss: 0.1569 - val_acc: 0.0000e+00\n",
      "Epoch 41/60\n",
      "894/894 [==============================] - 1s 2ms/step - loss: 0.0024 - acc: 0.0011 - val_loss: 0.1504 - val_acc: 0.0000e+00\n",
      "Epoch 42/60\n",
      "894/894 [==============================] - 1s 2ms/step - loss: 0.0022 - acc: 0.0011 - val_loss: 0.1521 - val_acc: 0.0000e+00\n",
      "Epoch 43/60\n",
      "894/894 [==============================] - 1s 2ms/step - loss: 0.0021 - acc: 0.0011 - val_loss: 0.1362 - val_acc: 0.0000e+00\n",
      "Epoch 44/60\n",
      "894/894 [==============================] - 1s 2ms/step - loss: 0.0022 - acc: 0.0011 - val_loss: 0.1352 - val_acc: 0.0000e+00\n",
      "Epoch 45/60\n",
      "894/894 [==============================] - 1s 2ms/step - loss: 0.0022 - acc: 0.0011 - val_loss: 0.1541 - val_acc: 0.0000e+00\n",
      "Epoch 46/60\n",
      "894/894 [==============================] - 1s 2ms/step - loss: 0.0022 - acc: 0.0011 - val_loss: 0.1718 - val_acc: 0.0000e+00\n",
      "Epoch 47/60\n",
      "894/894 [==============================] - 1s 2ms/step - loss: 0.0022 - acc: 0.0011 - val_loss: 0.1656 - val_acc: 0.0000e+00\n",
      "Epoch 48/60\n",
      "894/894 [==============================] - 1s 2ms/step - loss: 0.0021 - acc: 0.0011 - val_loss: 0.1597 - val_acc: 0.0000e+00\n",
      "Epoch 49/60\n",
      "894/894 [==============================] - 1s 2ms/step - loss: 0.0021 - acc: 0.0011 - val_loss: 0.1621 - val_acc: 0.0000e+00\n",
      "Epoch 50/60\n",
      "894/894 [==============================] - 1s 2ms/step - loss: 0.0021 - acc: 0.0011 - val_loss: 0.1598 - val_acc: 0.0000e+00\n",
      "Epoch 51/60\n",
      "894/894 [==============================] - 1s 2ms/step - loss: 0.0021 - acc: 0.0011 - val_loss: 0.1790 - val_acc: 0.0000e+00\n",
      "Epoch 52/60\n",
      "894/894 [==============================] - 1s 2ms/step - loss: 0.0021 - acc: 0.0011 - val_loss: 0.1785 - val_acc: 0.0000e+00\n",
      "Epoch 53/60\n",
      "894/894 [==============================] - 1s 2ms/step - loss: 0.0022 - acc: 0.0011 - val_loss: 0.1596 - val_acc: 0.0000e+00\n",
      "Epoch 54/60\n",
      "894/894 [==============================] - 1s 2ms/step - loss: 0.0021 - acc: 0.0011 - val_loss: 0.1701 - val_acc: 0.0000e+00\n",
      "Epoch 55/60\n",
      "894/894 [==============================] - 1s 2ms/step - loss: 0.0021 - acc: 0.0011 - val_loss: 0.1674 - val_acc: 0.0000e+00\n",
      "Epoch 56/60\n",
      "894/894 [==============================] - 1s 2ms/step - loss: 0.0022 - acc: 0.0011 - val_loss: 0.1719 - val_acc: 0.0000e+00\n",
      "Epoch 57/60\n",
      "894/894 [==============================] - 1s 2ms/step - loss: 0.0027 - acc: 0.0011 - val_loss: 0.1670 - val_acc: 0.0000e+00\n",
      "Epoch 58/60\n",
      "894/894 [==============================] - 1s 2ms/step - loss: 0.0022 - acc: 0.0011 - val_loss: 0.1792 - val_acc: 0.0000e+00\n",
      "Epoch 59/60\n",
      "894/894 [==============================] - 1s 2ms/step - loss: 0.0023 - acc: 0.0011 - val_loss: 0.2032 - val_acc: 0.0000e+00\n",
      "Epoch 60/60\n"
     ]
    },
    {
     "name": "stdout",
     "output_type": "stream",
     "text": [
      "894/894 [==============================] - 1s 2ms/step - loss: 0.0020 - acc: 0.0011 - val_loss: 0.2064 - val_acc: 0.0000e+00\n",
      "Training Set- Score: 0.03234475569891612, RMSE: 0.17984647813876178\n",
      "Test Set- Score: 0.22485806993258897, RMSE: 0.4741920179975502\n"
     ]
    }
   ],
   "source": [
    "#test function\n",
    "seq_length = 20\n",
    "fut_point = 1\n",
    "train_split = 0.85\n",
    "neurons = [256, 256, 32]\n",
    "epochs = 60\n",
    "batch_size = 64\n",
    "validation_split = 0.15\n",
    "dropout = 0.2\n",
    "model_path = 'first_one_day_model.h5'\n",
    "y_train5, y_test5, y_train_preds5, y_test_preds5, train_score5, test_score5 = fit_generic_LSTM_model(df, \n",
    "                                                                                                     seq_length, \n",
    "                                                                                                     fut_point, \n",
    "                                                                                                     train_split, \n",
    "                                                                                                     neurons, \n",
    "                                                                                                     dropout, \n",
    "                                                                                                     epochs, \n",
    "                                                                                                     batch_size,\n",
    "                                                                                                     validation_split, \n",
    "                                                                                                     model_path)"
   ]
  },
  {
   "cell_type": "code",
   "execution_count": 106,
   "metadata": {},
   "outputs": [
    {
     "data": {
      "image/png": "[encoded data removed]",
      "text/plain": [
       "<Figure size 432x288 with 1 Axes>"
      ]
     },
     "metadata": {},
     "output_type": "display_data"
    }
   ],
   "source": [
    "#plot\n",
    "make_results_plot(y_train5, y_test5, y_train_preds5, y_test_preds5)"
   ]
  },
  {
   "cell_type": "code",
   "execution_count": 107,
   "metadata": {},
   "outputs": [
    {
     "name": "stdout",
     "output_type": "stream",
     "text": [
      "Train on 880 samples, validate on 156 samples\n",
      "Epoch 1/60\n",
      "880/880 [==============================] - 4s 5ms/step - loss: 0.0504 - acc: 0.0011 - val_loss: 0.1873 - val_acc: 0.0000e+00\n",
      "Epoch 2/60\n",
      "880/880 [==============================] - 2s 2ms/step - loss: 0.0153 - acc: 0.0011 - val_loss: 0.1944 - val_acc: 0.0000e+00\n",
      "Epoch 3/60\n",
      "880/880 [==============================] - 2s 2ms/step - loss: 0.0141 - acc: 0.0011 - val_loss: 0.1985 - val_acc: 0.0000e+00\n",
      "Epoch 4/60\n",
      "880/880 [==============================] - 2s 2ms/step - loss: 0.0137 - acc: 0.0011 - val_loss: 0.2076 - val_acc: 0.0000e+00\n",
      "Epoch 5/60\n",
      "880/880 [==============================] - 2s 2ms/step - loss: 0.0133 - acc: 0.0011 - val_loss: 0.2284 - val_acc: 0.0000e+00\n",
      "Epoch 6/60\n",
      "880/880 [==============================] - 2s 2ms/step - loss: 0.0129 - acc: 0.0011 - val_loss: 0.2612 - val_acc: 0.0000e+00\n",
      "Epoch 7/60\n",
      "880/880 [==============================] - 2s 2ms/step - loss: 0.0126 - acc: 0.0011 - val_loss: 0.2434 - val_acc: 0.0000e+00\n",
      "Epoch 8/60\n",
      "880/880 [==============================] - 2s 2ms/step - loss: 0.0135 - acc: 0.0011 - val_loss: 0.2408 - val_acc: 0.0000e+00\n",
      "Epoch 9/60\n",
      "880/880 [==============================] - 2s 2ms/step - loss: 0.0126 - acc: 0.0011 - val_loss: 0.2718 - val_acc: 0.0000e+00\n",
      "Epoch 10/60\n",
      "880/880 [==============================] - 2s 2ms/step - loss: 0.0127 - acc: 0.0011 - val_loss: 0.3093 - val_acc: 0.0000e+00\n",
      "Epoch 11/60\n",
      "880/880 [==============================] - 2s 2ms/step - loss: 0.0127 - acc: 0.0011 - val_loss: 0.2926 - val_acc: 0.0000e+00\n",
      "Epoch 12/60\n",
      "880/880 [==============================] - 2s 2ms/step - loss: 0.0137 - acc: 0.0011 - val_loss: 0.2887 - val_acc: 0.0000e+00\n",
      "Epoch 13/60\n",
      "880/880 [==============================] - 2s 2ms/step - loss: 0.0127 - acc: 0.0011 - val_loss: 0.2975 - val_acc: 0.0000e+00\n",
      "Epoch 14/60\n",
      "880/880 [==============================] - 2s 2ms/step - loss: 0.0127 - acc: 0.0011 - val_loss: 0.3176 - val_acc: 0.0000e+00\n",
      "Epoch 15/60\n",
      "880/880 [==============================] - 2s 2ms/step - loss: 0.0123 - acc: 0.0011 - val_loss: 0.3389 - val_acc: 0.0000e+00\n",
      "Epoch 16/60\n",
      "880/880 [==============================] - 2s 2ms/step - loss: 0.0122 - acc: 0.0011 - val_loss: 0.3369 - val_acc: 0.0000e+00\n",
      "Epoch 17/60\n",
      "880/880 [==============================] - 2s 2ms/step - loss: 0.0122 - acc: 0.0011 - val_loss: 0.3398 - val_acc: 0.0000e+00\n",
      "Epoch 18/60\n",
      "880/880 [==============================] - 2s 2ms/step - loss: 0.0124 - acc: 0.0011 - val_loss: 0.3545 - val_acc: 0.0000e+00\n",
      "Epoch 19/60\n",
      "880/880 [==============================] - 2s 2ms/step - loss: 0.0132 - acc: 0.0011 - val_loss: 0.3602 - val_acc: 0.0000e+00\n",
      "Epoch 20/60\n",
      "880/880 [==============================] - 2s 2ms/step - loss: 0.0121 - acc: 0.0011 - val_loss: 0.3574 - val_acc: 0.0000e+00\n",
      "Epoch 21/60\n",
      "880/880 [==============================] - 2s 2ms/step - loss: 0.0123 - acc: 0.0011 - val_loss: 0.3823 - val_acc: 0.0000e+00\n",
      "Epoch 22/60\n",
      "880/880 [==============================] - 2s 2ms/step - loss: 0.0133 - acc: 0.0011 - val_loss: 0.3805 - val_acc: 0.0000e+00\n",
      "Epoch 23/60\n",
      "880/880 [==============================] - 2s 2ms/step - loss: 0.0128 - acc: 0.0011 - val_loss: 0.3725 - val_acc: 0.0000e+00\n",
      "Epoch 24/60\n",
      "880/880 [==============================] - 2s 2ms/step - loss: 0.0131 - acc: 0.0011 - val_loss: 0.4152 - val_acc: 0.0000e+00\n",
      "Epoch 25/60\n",
      "880/880 [==============================] - 2s 2ms/step - loss: 0.0125 - acc: 0.0011 - val_loss: 0.4040 - val_acc: 0.0000e+00\n",
      "Epoch 26/60\n",
      "880/880 [==============================] - 2s 2ms/step - loss: 0.0121 - acc: 0.0011 - val_loss: 0.4381 - val_acc: 0.0000e+00\n",
      "Epoch 27/60\n",
      "880/880 [==============================] - 2s 2ms/step - loss: 0.0120 - acc: 0.0011 - val_loss: 0.3912 - val_acc: 0.0000e+00\n",
      "Epoch 28/60\n",
      "880/880 [==============================] - 2s 2ms/step - loss: 0.0122 - acc: 0.0011 - val_loss: 0.4372 - val_acc: 0.0000e+00\n",
      "Epoch 29/60\n",
      "880/880 [==============================] - 2s 2ms/step - loss: 0.0124 - acc: 0.0011 - val_loss: 0.5167 - val_acc: 0.0000e+00\n",
      "Epoch 30/60\n",
      "880/880 [==============================] - 2s 2ms/step - loss: 0.0122 - acc: 0.0011 - val_loss: 0.4821 - val_acc: 0.0000e+00\n",
      "Epoch 31/60\n",
      "880/880 [==============================] - 2s 2ms/step - loss: 0.0120 - acc: 0.0011 - val_loss: 0.5350 - val_acc: 0.0000e+00\n",
      "Epoch 32/60\n",
      "880/880 [==============================] - 2s 2ms/step - loss: 0.0124 - acc: 0.0011 - val_loss: 0.4226 - val_acc: 0.0000e+00\n",
      "Epoch 33/60\n",
      "880/880 [==============================] - 2s 2ms/step - loss: 0.0121 - acc: 0.0011 - val_loss: 0.4356 - val_acc: 0.0000e+00\n",
      "Epoch 34/60\n",
      "880/880 [==============================] - 2s 2ms/step - loss: 0.0122 - acc: 0.0011 - val_loss: 0.5157 - val_acc: 0.0000e+00\n",
      "Epoch 35/60\n",
      "880/880 [==============================] - 2s 2ms/step - loss: 0.0119 - acc: 0.0011 - val_loss: 0.5416 - val_acc: 0.0000e+00\n",
      "Epoch 36/60\n",
      "880/880 [==============================] - 2s 2ms/step - loss: 0.0121 - acc: 0.0011 - val_loss: 0.5953 - val_acc: 0.0000e+00\n",
      "Epoch 37/60\n",
      "880/880 [==============================] - 2s 2ms/step - loss: 0.0120 - acc: 0.0011 - val_loss: 0.5979 - val_acc: 0.0000e+00\n",
      "Epoch 38/60\n",
      "880/880 [==============================] - 2s 2ms/step - loss: 0.0118 - acc: 0.0011 - val_loss: 0.5845 - val_acc: 0.0000e+00\n",
      "Epoch 39/60\n",
      "880/880 [==============================] - 2s 2ms/step - loss: 0.0119 - acc: 0.0011 - val_loss: 0.7897 - val_acc: 0.0000e+00\n",
      "Epoch 40/60\n",
      "880/880 [==============================] - 2s 2ms/step - loss: 0.0118 - acc: 0.0011 - val_loss: 0.8429 - val_acc: 0.0000e+00\n",
      "Epoch 41/60\n",
      "880/880 [==============================] - 2s 2ms/step - loss: 0.0118 - acc: 0.0011 - val_loss: 0.6915 - val_acc: 0.0000e+00\n",
      "Epoch 42/60\n",
      "880/880 [==============================] - 2s 2ms/step - loss: 0.0126 - acc: 0.0011 - val_loss: 0.6184 - val_acc: 0.0000e+00\n",
      "Epoch 43/60\n",
      "880/880 [==============================] - 2s 2ms/step - loss: 0.0125 - acc: 0.0011 - val_loss: 0.5797 - val_acc: 0.0000e+00\n",
      "Epoch 44/60\n",
      "880/880 [==============================] - 2s 2ms/step - loss: 0.0118 - acc: 0.0011 - val_loss: 0.6897 - val_acc: 0.0000e+00\n",
      "Epoch 45/60\n",
      "880/880 [==============================] - 2s 2ms/step - loss: 0.0114 - acc: 0.0011 - val_loss: 0.7577 - val_acc: 0.0000e+00\n",
      "Epoch 46/60\n",
      "880/880 [==============================] - 2s 2ms/step - loss: 0.0116 - acc: 0.0011 - val_loss: 0.7717 - val_acc: 0.0000e+00\n",
      "Epoch 47/60\n",
      "880/880 [==============================] - 2s 2ms/step - loss: 0.0117 - acc: 0.0011 - val_loss: 0.9945 - val_acc: 0.0000e+00\n",
      "Epoch 48/60\n",
      "880/880 [==============================] - 2s 2ms/step - loss: 0.0123 - acc: 0.0011 - val_loss: 0.7905 - val_acc: 0.0000e+00\n",
      "Epoch 49/60\n",
      "880/880 [==============================] - 2s 2ms/step - loss: 0.0120 - acc: 0.0011 - val_loss: 0.8571 - val_acc: 0.0000e+00\n",
      "Epoch 50/60\n",
      "880/880 [==============================] - 2s 2ms/step - loss: 0.0117 - acc: 0.0011 - val_loss: 0.7134 - val_acc: 0.0000e+00\n",
      "Epoch 51/60\n",
      "880/880 [==============================] - 2s 2ms/step - loss: 0.0118 - acc: 0.0011 - val_loss: 0.7651 - val_acc: 0.0000e+00\n",
      "Epoch 52/60\n",
      "880/880 [==============================] - 2s 2ms/step - loss: 0.0125 - acc: 0.0011 - val_loss: 0.5637 - val_acc: 0.0000e+00\n",
      "Epoch 53/60\n",
      "880/880 [==============================] - 2s 2ms/step - loss: 0.0118 - acc: 0.0011 - val_loss: 0.7570 - val_acc: 0.0000e+00\n",
      "Epoch 54/60\n",
      "880/880 [==============================] - 2s 2ms/step - loss: 0.0119 - acc: 0.0011 - val_loss: 0.6667 - val_acc: 0.0000e+00\n",
      "Epoch 55/60\n",
      "880/880 [==============================] - 2s 2ms/step - loss: 0.0122 - acc: 0.0011 - val_loss: 0.9022 - val_acc: 0.0000e+00\n",
      "Epoch 56/60\n",
      "880/880 [==============================] - 2s 2ms/step - loss: 0.0121 - acc: 0.0011 - val_loss: 0.9421 - val_acc: 0.0000e+00\n",
      "Epoch 57/60\n",
      "880/880 [==============================] - 2s 2ms/step - loss: 0.0119 - acc: 0.0011 - val_loss: 0.9537 - val_acc: 0.0000e+00\n",
      "Epoch 58/60\n",
      "880/880 [==============================] - 2s 2ms/step - loss: 0.0119 - acc: 0.0011 - val_loss: 0.8847 - val_acc: 0.0000e+00\n",
      "Epoch 59/60\n",
      "880/880 [==============================] - 2s 2ms/step - loss: 0.0118 - acc: 0.0011 - val_loss: 1.0853 - val_acc: 0.0000e+00\n",
      "Epoch 60/60\n"
     ]
    },
    {
     "name": "stdout",
     "output_type": "stream",
     "text": [
      "880/880 [==============================] - 2s 2ms/step - loss: 0.0119 - acc: 0.0011 - val_loss: 0.8121 - val_acc: 0.0000e+00\n",
      "Training Set- Score: 0.13211719911818798, RMSE: 0.3634792966844026\n",
      "Test Set- Score: 0.8769432176006297, RMSE: 0.936452464143605\n"
     ]
    }
   ],
   "source": [
    "#test function\n",
    "seq_length = 20\n",
    "fut_point = 20\n",
    "train_split = 0.85\n",
    "neurons = [256, 256, 32]\n",
    "epochs = 60\n",
    "batch_size = 64\n",
    "validation_split = 0.15\n",
    "dropout = 0.2\n",
    "model_path = 'four_week_model.h5'\n",
    "y_train6, y_test6, y_train_preds6, y_test_preds6, train_score6, test_score6 = fit_generic_LSTM_model(df, \n",
    "                                                                                                     seq_length, \n",
    "                                                                                                     fut_point, \n",
    "                                                                                                     train_split, \n",
    "                                                                                                     neurons, \n",
    "                                                                                                     dropout, \n",
    "                                                                                                     epochs, \n",
    "                                                                                                     batch_size,\n",
    "                                                                                                     validation_split, \n",
    "                                                                                                     model_path)"
   ]
  },
  {
   "cell_type": "code",
   "execution_count": 108,
   "metadata": {},
   "outputs": [
    {
     "data": {
      "image/png": "[encoded data removed]",
      "text/plain": [
       "<Figure size 432x288 with 1 Axes>"
      ]
     },
     "metadata": {},
     "output_type": "display_data"
    }
   ],
   "source": [
    "#plot\n",
    "make_results_plot(y_train6, y_test6, y_train_preds6, y_test_preds6)"
   ]
  },
  {
   "cell_type": "code",
   "execution_count": 109,
   "metadata": {},
   "outputs": [
    {
     "name": "stdout",
     "output_type": "stream",
     "text": [
      "Train on 905 samples, validate on 160 samples\n",
      "Epoch 1/60\n",
      "905/905 [==============================] - 4s 4ms/step - loss: 0.0482 - acc: 0.0011 - val_loss: 0.1104 - val_acc: 0.0000e+00\n",
      "Epoch 2/60\n",
      "905/905 [==============================] - 1s 703us/step - loss: 0.0067 - acc: 0.0011 - val_loss: 0.0795 - val_acc: 0.0000e+00\n",
      "Epoch 3/60\n",
      "905/905 [==============================] - 1s 718us/step - loss: 0.0041 - acc: 0.0011 - val_loss: 0.0688 - val_acc: 0.0000e+00\n",
      "Epoch 4/60\n",
      "905/905 [==============================] - 1s 728us/step - loss: 0.0032 - acc: 0.0011 - val_loss: 0.0638 - val_acc: 0.0000e+00\n",
      "Epoch 5/60\n",
      "905/905 [==============================] - 1s 759us/step - loss: 0.0032 - acc: 0.0011 - val_loss: 0.0617 - val_acc: 0.0000e+00\n",
      "Epoch 6/60\n",
      "905/905 [==============================] - 1s 717us/step - loss: 0.0032 - acc: 0.0011 - val_loss: 0.0674 - val_acc: 0.0000e+00\n",
      "Epoch 7/60\n",
      "905/905 [==============================] - 1s 703us/step - loss: 0.0027 - acc: 0.0011 - val_loss: 0.0724 - val_acc: 0.0000e+00\n",
      "Epoch 8/60\n",
      "905/905 [==============================] - 1s 701us/step - loss: 0.0030 - acc: 0.0011 - val_loss: 0.0763 - val_acc: 0.0000e+00\n",
      "Epoch 9/60\n",
      "905/905 [==============================] - 1s 688us/step - loss: 0.0029 - acc: 0.0011 - val_loss: 0.0778 - val_acc: 0.0000e+00\n",
      "Epoch 10/60\n",
      "905/905 [==============================] - 1s 735us/step - loss: 0.0031 - acc: 0.0011 - val_loss: 0.0791 - val_acc: 0.0000e+00\n",
      "Epoch 11/60\n",
      "905/905 [==============================] - 1s 693us/step - loss: 0.0028 - acc: 0.0011 - val_loss: 0.0840 - val_acc: 0.0000e+00\n",
      "Epoch 12/60\n",
      "905/905 [==============================] - 1s 687us/step - loss: 0.0027 - acc: 0.0011 - val_loss: 0.0845 - val_acc: 0.0000e+00\n",
      "Epoch 13/60\n",
      "905/905 [==============================] - 1s 695us/step - loss: 0.0029 - acc: 0.0011 - val_loss: 0.0844 - val_acc: 0.0000e+00\n",
      "Epoch 14/60\n",
      "905/905 [==============================] - 1s 712us/step - loss: 0.0028 - acc: 0.0011 - val_loss: 0.0892 - val_acc: 0.0000e+00\n",
      "Epoch 15/60\n",
      "905/905 [==============================] - 1s 690us/step - loss: 0.0025 - acc: 0.0011 - val_loss: 0.0890 - val_acc: 0.0000e+00\n",
      "Epoch 16/60\n",
      "905/905 [==============================] - 1s 687us/step - loss: 0.0026 - acc: 0.0011 - val_loss: 0.0937 - val_acc: 0.0000e+00\n",
      "Epoch 17/60\n",
      "905/905 [==============================] - 1s 709us/step - loss: 0.0025 - acc: 0.0011 - val_loss: 0.1005 - val_acc: 0.0000e+00\n",
      "Epoch 18/60\n",
      "905/905 [==============================] - 1s 690us/step - loss: 0.0026 - acc: 0.0011 - val_loss: 0.1077 - val_acc: 0.0000e+00\n",
      "Epoch 19/60\n",
      "905/905 [==============================] - 1s 700us/step - loss: 0.0026 - acc: 0.0011 - val_loss: 0.1074 - val_acc: 0.0000e+00\n",
      "Epoch 20/60\n",
      "905/905 [==============================] - 1s 736us/step - loss: 0.0027 - acc: 0.0011 - val_loss: 0.1131 - val_acc: 0.0000e+00\n",
      "Epoch 21/60\n",
      "905/905 [==============================] - 1s 690us/step - loss: 0.0027 - acc: 0.0011 - val_loss: 0.1151 - val_acc: 0.0000e+00\n",
      "Epoch 22/60\n",
      "905/905 [==============================] - 1s 725us/step - loss: 0.0028 - acc: 0.0011 - val_loss: 0.1208 - val_acc: 0.0000e+00\n",
      "Epoch 23/60\n",
      "905/905 [==============================] - 1s 747us/step - loss: 0.0032 - acc: 0.0011 - val_loss: 0.1134 - val_acc: 0.0000e+00\n",
      "Epoch 24/60\n",
      "905/905 [==============================] - 1s 735us/step - loss: 0.0029 - acc: 0.0011 - val_loss: 0.1144 - val_acc: 0.0000e+00\n",
      "Epoch 25/60\n",
      "905/905 [==============================] - 1s 690us/step - loss: 0.0024 - acc: 0.0011 - val_loss: 0.1133 - val_acc: 0.0000e+00\n",
      "Epoch 26/60\n",
      "905/905 [==============================] - 1s 701us/step - loss: 0.0024 - acc: 0.0011 - val_loss: 0.1141 - val_acc: 0.0000e+00\n",
      "Epoch 27/60\n",
      "905/905 [==============================] - 1s 694us/step - loss: 0.0025 - acc: 0.0011 - val_loss: 0.1195 - val_acc: 0.0000e+00\n",
      "Epoch 28/60\n",
      "905/905 [==============================] - 1s 683us/step - loss: 0.0024 - acc: 0.0011 - val_loss: 0.1072 - val_acc: 0.0000e+00\n",
      "Epoch 29/60\n",
      "905/905 [==============================] - 1s 696us/step - loss: 0.0027 - acc: 0.0011 - val_loss: 0.1105 - val_acc: 0.0000e+00\n",
      "Epoch 30/60\n",
      "905/905 [==============================] - 1s 684us/step - loss: 0.0027 - acc: 0.0011 - val_loss: 0.1150 - val_acc: 0.0000e+00\n",
      "Epoch 31/60\n",
      "905/905 [==============================] - 1s 686us/step - loss: 0.0026 - acc: 0.0011 - val_loss: 0.1206 - val_acc: 0.0000e+00\n",
      "Epoch 32/60\n",
      "905/905 [==============================] - 1s 715us/step - loss: 0.0024 - acc: 0.0011 - val_loss: 0.1165 - val_acc: 0.0000e+00\n",
      "Epoch 33/60\n",
      "905/905 [==============================] - 1s 700us/step - loss: 0.0025 - acc: 0.0011 - val_loss: 0.1239 - val_acc: 0.0000e+00\n",
      "Epoch 34/60\n",
      "905/905 [==============================] - 1s 681us/step - loss: 0.0024 - acc: 0.0011 - val_loss: 0.1251 - val_acc: 0.0000e+00\n",
      "Epoch 35/60\n",
      "905/905 [==============================] - 1s 683us/step - loss: 0.0024 - acc: 0.0011 - val_loss: 0.1252 - val_acc: 0.0000e+00\n",
      "Epoch 36/60\n",
      "905/905 [==============================] - 1s 700us/step - loss: 0.0024 - acc: 0.0011 - val_loss: 0.1287 - val_acc: 0.0000e+00\n",
      "Epoch 37/60\n",
      "905/905 [==============================] - 1s 679us/step - loss: 0.0025 - acc: 0.0011 - val_loss: 0.1316 - val_acc: 0.0000e+00\n",
      "Epoch 38/60\n",
      "905/905 [==============================] - 1s 711us/step - loss: 0.0028 - acc: 0.0011 - val_loss: 0.1364 - val_acc: 0.0000e+00\n",
      "Epoch 39/60\n",
      "905/905 [==============================] - 1s 700us/step - loss: 0.0024 - acc: 0.0011 - val_loss: 0.1334 - val_acc: 0.0000e+00\n",
      "Epoch 40/60\n",
      "905/905 [==============================] - 1s 685us/step - loss: 0.0023 - acc: 0.0011 - val_loss: 0.1390 - val_acc: 0.0000e+00\n",
      "Epoch 41/60\n",
      "905/905 [==============================] - 1s 684us/step - loss: 0.0021 - acc: 0.0011 - val_loss: 0.1344 - val_acc: 0.0000e+00\n",
      "Epoch 42/60\n",
      "905/905 [==============================] - 1s 692us/step - loss: 0.0022 - acc: 0.0011 - val_loss: 0.1409 - val_acc: 0.0000e+00\n",
      "Epoch 43/60\n",
      "905/905 [==============================] - 1s 677us/step - loss: 0.0023 - acc: 0.0011 - val_loss: 0.1503 - val_acc: 0.0000e+00\n",
      "Epoch 44/60\n",
      "905/905 [==============================] - 1s 692us/step - loss: 0.0023 - acc: 0.0011 - val_loss: 0.1474 - val_acc: 0.0000e+00\n",
      "Epoch 45/60\n",
      "905/905 [==============================] - 1s 694us/step - loss: 0.0023 - acc: 0.0011 - val_loss: 0.1466 - val_acc: 0.0000e+00\n",
      "Epoch 46/60\n",
      "905/905 [==============================] - 1s 668us/step - loss: 0.0021 - acc: 0.0011 - val_loss: 0.1395 - val_acc: 0.0000e+00\n",
      "Epoch 47/60\n",
      "905/905 [==============================] - 1s 678us/step - loss: 0.0021 - acc: 0.0011 - val_loss: 0.1513 - val_acc: 0.0000e+00\n",
      "Epoch 48/60\n",
      "905/905 [==============================] - 1s 706us/step - loss: 0.0023 - acc: 0.0011 - val_loss: 0.1675 - val_acc: 0.0000e+00\n",
      "Epoch 49/60\n",
      "905/905 [==============================] - 1s 690us/step - loss: 0.0022 - acc: 0.0011 - val_loss: 0.1594 - val_acc: 0.0000e+00\n",
      "Epoch 50/60\n",
      "905/905 [==============================] - 1s 677us/step - loss: 0.0022 - acc: 0.0011 - val_loss: 0.1586 - val_acc: 0.0000e+00\n",
      "Epoch 51/60\n",
      "905/905 [==============================] - 1s 677us/step - loss: 0.0023 - acc: 0.0011 - val_loss: 0.1505 - val_acc: 0.0000e+00\n",
      "Epoch 52/60\n",
      "905/905 [==============================] - 1s 701us/step - loss: 0.0021 - acc: 0.0011 - val_loss: 0.1477 - val_acc: 0.0000e+00\n",
      "Epoch 53/60\n",
      "905/905 [==============================] - 1s 675us/step - loss: 0.0021 - acc: 0.0011 - val_loss: 0.1502 - val_acc: 0.0000e+00\n",
      "Epoch 54/60\n",
      "905/905 [==============================] - 1s 682us/step - loss: 0.0020 - acc: 0.0011 - val_loss: 0.1512 - val_acc: 0.0000e+00\n",
      "Epoch 55/60\n",
      "905/905 [==============================] - 1s 693us/step - loss: 0.0022 - acc: 0.0011 - val_loss: 0.1595 - val_acc: 0.0000e+00\n",
      "Epoch 56/60\n",
      "905/905 [==============================] - 1s 676us/step - loss: 0.0023 - acc: 0.0011 - val_loss: 0.1529 - val_acc: 0.0000e+00\n",
      "Epoch 57/60\n",
      "905/905 [==============================] - 1s 677us/step - loss: 0.0020 - acc: 0.0011 - val_loss: 0.1573 - val_acc: 0.0000e+00\n",
      "Epoch 58/60\n",
      "905/905 [==============================] - 1s 688us/step - loss: 0.0020 - acc: 0.0011 - val_loss: 0.1486 - val_acc: 0.0000e+00\n",
      "Epoch 59/60\n",
      "905/905 [==============================] - 1s 668us/step - loss: 0.0020 - acc: 0.0011 - val_loss: 0.1520 - val_acc: 0.0000e+00\n"
     ]
    },
    {
     "name": "stdout",
     "output_type": "stream",
     "text": [
      "Epoch 60/60\n",
      "905/905 [==============================] - 1s 682us/step - loss: 0.0021 - acc: 0.0011 - val_loss: 0.1599 - val_acc: 0.0000e+00\n",
      "Training Set- Score: 0.026072848472796697, RMSE: 0.16147089048121552\n",
      "Test Set- Score: 0.17802586739367626, RMSE: 0.42193111688245544\n"
     ]
    }
   ],
   "source": [
    "#predict one day ahead with last week's data\n",
    "seq_length = 5\n",
    "fut_point = 1\n",
    "train_split = 0.85\n",
    "neurons = [256, 256, 32]\n",
    "epochs = 60\n",
    "batch_size = 64\n",
    "validation_split = 0.15\n",
    "dropout = 0.2\n",
    "model_path = 'one_day_model.h5'\n",
    "y_train4, y_test4, y_train_preds4, y_test_preds4, train_score4, test_score4 = fit_generic_LSTM_model(df, \n",
    "                                                                                                     seq_length, \n",
    "                                                                                                     fut_point, \n",
    "                                                                                                     train_split, \n",
    "                                                                                                     neurons, \n",
    "                                                                                                     dropout, \n",
    "                                                                                                     epochs, \n",
    "                                                                                                     batch_size,\n",
    "                                                                                                     validation_split, \n",
    "                                                                                                     model_path)"
   ]
  },
  {
   "cell_type": "code",
   "execution_count": 110,
   "metadata": {},
   "outputs": [
    {
     "data": {
      "image/png": "[encoded data removed]",
      "text/plain": [
       "<Figure size 432x288 with 1 Axes>"
      ]
     },
     "metadata": {},
     "output_type": "display_data"
    }
   ],
   "source": [
    "#plot\n",
    "make_results_plot(y_train4, y_test4, y_train_preds4, y_test_preds4)"
   ]
  },
  {
   "cell_type": "code",
   "execution_count": 112,
   "metadata": {},
   "outputs": [
    {
     "data": {
      "text/html": [
       "<div>\n",
       "<style scoped>\n",
       "    .dataframe tbody tr th:only-of-type {\n",
       "        vertical-align: middle;\n",
       "    }\n",
       "\n",
       "    .dataframe tbody tr th {\n",
       "        vertical-align: top;\n",
       "    }\n",
       "\n",
       "    .dataframe thead th {\n",
       "        text-align: right;\n",
       "    }\n",
       "</style>\n",
       "<table border=\"1\" class=\"dataframe\">\n",
       "  <thead>\n",
       "    <tr style=\"text-align: right;\">\n",
       "      <th></th>\n",
       "      <th>open</th>\n",
       "      <th>high</th>\n",
       "      <th>low</th>\n",
       "      <th>close</th>\n",
       "      <th>volume</th>\n",
       "      <th>vwap</th>\n",
       "    </tr>\n",
       "    <tr>\n",
       "      <th>date</th>\n",
       "      <th></th>\n",
       "      <th></th>\n",
       "      <th></th>\n",
       "      <th></th>\n",
       "      <th></th>\n",
       "      <th></th>\n",
       "    </tr>\n",
       "  </thead>\n",
       "  <tbody>\n",
       "    <tr>\n",
       "      <th>2014-01-27</th>\n",
       "      <td>64.7650</td>\n",
       "      <td>64.9747</td>\n",
       "      <td>64.5029</td>\n",
       "      <td>64.7825</td>\n",
       "      <td>9105139</td>\n",
       "      <td>64.7739</td>\n",
       "    </tr>\n",
       "    <tr>\n",
       "      <th>2014-01-28</th>\n",
       "      <td>64.8786</td>\n",
       "      <td>65.8746</td>\n",
       "      <td>64.7388</td>\n",
       "      <td>65.2368</td>\n",
       "      <td>6035231</td>\n",
       "      <td>65.3045</td>\n",
       "    </tr>\n",
       "    <tr>\n",
       "      <th>2014-01-29</th>\n",
       "      <td>65.7785</td>\n",
       "      <td>65.8484</td>\n",
       "      <td>64.7126</td>\n",
       "      <td>64.7388</td>\n",
       "      <td>8440854</td>\n",
       "      <td>61.0517</td>\n",
       "    </tr>\n",
       "    <tr>\n",
       "      <th>2014-01-30</th>\n",
       "      <td>65.1232</td>\n",
       "      <td>65.6037</td>\n",
       "      <td>64.9660</td>\n",
       "      <td>65.3067</td>\n",
       "      <td>6742046</td>\n",
       "      <td>65.2975</td>\n",
       "    </tr>\n",
       "    <tr>\n",
       "      <th>2014-01-31</th>\n",
       "      <td>64.5816</td>\n",
       "      <td>65.6911</td>\n",
       "      <td>64.3369</td>\n",
       "      <td>65.2455</td>\n",
       "      <td>10665285</td>\n",
       "      <td>65.3223</td>\n",
       "    </tr>\n",
       "  </tbody>\n",
       "</table>\n",
       "</div>"
      ],
      "text/plain": [
       "               open     high      low    close    volume     vwap\n",
       "date                                                             \n",
       "2014-01-27  64.7650  64.9747  64.5029  64.7825   9105139  64.7739\n",
       "2014-01-28  64.8786  65.8746  64.7388  65.2368   6035231  65.3045\n",
       "2014-01-29  65.7785  65.8484  64.7126  64.7388   8440854  61.0517\n",
       "2014-01-30  65.1232  65.6037  64.9660  65.3067   6742046  65.2975\n",
       "2014-01-31  64.5816  65.6911  64.3369  65.2455  10665285  65.3223"
      ]
     },
     "execution_count": 112,
     "metadata": {},
     "output_type": "execute_result"
    }
   ],
   "source": [
    "#load Walmart Stock Data\n",
    "filepath = os.path.join('Resources', 'WMT.csv')\n",
    "new_df = pd.read_csv(filepath)\n",
    "\n",
    "#drop unnessecary columns\n",
    "new_df.drop(['unadjustedVolume', 'change', 'changePercent', 'label', 'changeOverTime'], 1, inplace = True)\n",
    "\n",
    "#set index\n",
    "new_df.set_index('date', inplace = True)\n",
    "new_df.head()"
   ]
  },
  {
   "cell_type": "code",
   "execution_count": 113,
   "metadata": {},
   "outputs": [
    {
     "name": "stdout",
     "output_type": "stream",
     "text": [
      "Train on 884 samples, validate on 156 samples\n",
      "Epoch 1/60\n",
      "884/884 [==============================] - 6s 7ms/step - loss: 0.0276 - acc: 0.0000e+00 - val_loss: 0.0788 - val_acc: 0.0000e+00\n",
      "Epoch 2/60\n",
      "884/884 [==============================] - 3s 3ms/step - loss: 0.0079 - acc: 0.0011 - val_loss: 0.1053 - val_acc: 0.0000e+00\n",
      "Epoch 3/60\n",
      "884/884 [==============================] - 3s 3ms/step - loss: 0.0061 - acc: 0.0011 - val_loss: 0.1230 - val_acc: 0.0000e+00\n",
      "Epoch 4/60\n",
      "884/884 [==============================] - 3s 3ms/step - loss: 0.0055 - acc: 0.0011 - val_loss: 0.1365 - val_acc: 0.0000e+00\n",
      "Epoch 5/60\n",
      "884/884 [==============================] - 3s 3ms/step - loss: 0.0054 - acc: 0.0011 - val_loss: 0.1365 - val_acc: 0.0000e+00\n",
      "Epoch 6/60\n",
      "884/884 [==============================] - 3s 3ms/step - loss: 0.0052 - acc: 0.0011 - val_loss: 0.1530 - val_acc: 0.0000e+00\n",
      "Epoch 7/60\n",
      "884/884 [==============================] - 3s 3ms/step - loss: 0.0051 - acc: 0.0011 - val_loss: 0.1547 - val_acc: 0.0000e+00\n",
      "Epoch 8/60\n",
      "884/884 [==============================] - 3s 3ms/step - loss: 0.0054 - acc: 0.0011 - val_loss: 0.1582 - val_acc: 0.0000e+00\n",
      "Epoch 9/60\n",
      "884/884 [==============================] - 3s 3ms/step - loss: 0.0052 - acc: 0.0011 - val_loss: 0.1710 - val_acc: 0.0000e+00\n",
      "Epoch 10/60\n",
      "884/884 [==============================] - 3s 3ms/step - loss: 0.0050 - acc: 0.0011 - val_loss: 0.1971 - val_acc: 0.0000e+00\n",
      "Epoch 11/60\n",
      "884/884 [==============================] - 3s 3ms/step - loss: 0.0055 - acc: 0.0011 - val_loss: 0.1958 - val_acc: 0.0000e+00\n",
      "Epoch 12/60\n",
      "884/884 [==============================] - 3s 3ms/step - loss: 0.0059 - acc: 0.0011 - val_loss: 0.1749 - val_acc: 0.0000e+00\n",
      "Epoch 13/60\n",
      "884/884 [==============================] - 3s 3ms/step - loss: 0.0051 - acc: 0.0011 - val_loss: 0.1958 - val_acc: 0.0000e+00\n",
      "Epoch 14/60\n",
      "884/884 [==============================] - 3s 3ms/step - loss: 0.0049 - acc: 0.0011 - val_loss: 0.1839 - val_acc: 0.0000e+00\n",
      "Epoch 15/60\n",
      "884/884 [==============================] - 3s 3ms/step - loss: 0.0050 - acc: 0.0011 - val_loss: 0.1800 - val_acc: 0.0000e+00\n",
      "Epoch 16/60\n",
      "884/884 [==============================] - 3s 3ms/step - loss: 0.0050 - acc: 0.0011 - val_loss: 0.1885 - val_acc: 0.0000e+00\n",
      "Epoch 17/60\n",
      "884/884 [==============================] - 3s 3ms/step - loss: 0.0045 - acc: 0.0011 - val_loss: 0.1959 - val_acc: 0.0000e+00\n",
      "Epoch 18/60\n",
      "884/884 [==============================] - 3s 3ms/step - loss: 0.0047 - acc: 0.0011 - val_loss: 0.2083 - val_acc: 0.0000e+00\n",
      "Epoch 19/60\n",
      "884/884 [==============================] - 3s 3ms/step - loss: 0.0047 - acc: 0.0011 - val_loss: 0.2191 - val_acc: 0.0000e+00\n",
      "Epoch 20/60\n",
      "884/884 [==============================] - 3s 3ms/step - loss: 0.0048 - acc: 0.0011 - val_loss: 0.2266 - val_acc: 0.0000e+00\n",
      "Epoch 21/60\n",
      "884/884 [==============================] - 3s 3ms/step - loss: 0.0046 - acc: 0.0011 - val_loss: 0.2201 - val_acc: 0.0000e+00\n",
      "Epoch 22/60\n",
      "884/884 [==============================] - 3s 3ms/step - loss: 0.0044 - acc: 0.0011 - val_loss: 0.2042 - val_acc: 0.0000e+00\n",
      "Epoch 23/60\n",
      "884/884 [==============================] - 3s 3ms/step - loss: 0.0048 - acc: 0.0011 - val_loss: 0.2054 - val_acc: 0.0000e+00\n",
      "Epoch 24/60\n",
      "884/884 [==============================] - 3s 3ms/step - loss: 0.0043 - acc: 0.0011 - val_loss: 0.2254 - val_acc: 0.0000e+00\n",
      "Epoch 25/60\n",
      "884/884 [==============================] - 3s 3ms/step - loss: 0.0047 - acc: 0.0011 - val_loss: 0.2235 - val_acc: 0.0000e+00\n",
      "Epoch 26/60\n",
      "884/884 [==============================] - 3s 3ms/step - loss: 0.0046 - acc: 0.0011 - val_loss: 0.2429 - val_acc: 0.0000e+00\n",
      "Epoch 27/60\n",
      "884/884 [==============================] - 3s 3ms/step - loss: 0.0047 - acc: 0.0011 - val_loss: 0.2037 - val_acc: 0.0000e+00\n",
      "Epoch 28/60\n",
      "884/884 [==============================] - 3s 3ms/step - loss: 0.0046 - acc: 0.0011 - val_loss: 0.1809 - val_acc: 0.0000e+00\n",
      "Epoch 29/60\n",
      "884/884 [==============================] - 3s 3ms/step - loss: 0.0048 - acc: 0.0011 - val_loss: 0.1898 - val_acc: 0.0000e+00\n",
      "Epoch 30/60\n",
      "884/884 [==============================] - 3s 3ms/step - loss: 0.0050 - acc: 0.0011 - val_loss: 0.2277 - val_acc: 0.0000e+00\n",
      "Epoch 31/60\n",
      "884/884 [==============================] - 3s 3ms/step - loss: 0.0044 - acc: 0.0011 - val_loss: 0.2935 - val_acc: 0.0000e+00\n",
      "Epoch 32/60\n",
      "884/884 [==============================] - 3s 3ms/step - loss: 0.0047 - acc: 0.0011 - val_loss: 0.3035 - val_acc: 0.0000e+00\n",
      "Epoch 33/60\n",
      "884/884 [==============================] - 3s 3ms/step - loss: 0.0045 - acc: 0.0011 - val_loss: 0.2619 - val_acc: 0.0000e+00\n",
      "Epoch 34/60\n",
      "884/884 [==============================] - 3s 3ms/step - loss: 0.0046 - acc: 0.0011 - val_loss: 0.2441 - val_acc: 0.0000e+00\n",
      "Epoch 35/60\n",
      "884/884 [==============================] - 3s 3ms/step - loss: 0.0043 - acc: 0.0011 - val_loss: 0.3022 - val_acc: 0.0000e+00\n",
      "Epoch 36/60\n",
      "884/884 [==============================] - 3s 3ms/step - loss: 0.0043 - acc: 0.0011 - val_loss: 0.4021 - val_acc: 0.0000e+00\n",
      "Epoch 37/60\n",
      "884/884 [==============================] - 3s 3ms/step - loss: 0.0040 - acc: 0.0011 - val_loss: 0.3643 - val_acc: 0.0000e+00\n",
      "Epoch 38/60\n",
      "884/884 [==============================] - 3s 3ms/step - loss: 0.0043 - acc: 0.0011 - val_loss: 0.3496 - val_acc: 0.0000e+00\n",
      "Epoch 39/60\n",
      "884/884 [==============================] - 3s 3ms/step - loss: 0.0046 - acc: 0.0011 - val_loss: 0.3530 - val_acc: 0.0000e+00\n",
      "Epoch 40/60\n",
      "884/884 [==============================] - 3s 3ms/step - loss: 0.0042 - acc: 0.0011 - val_loss: 0.3607 - val_acc: 0.0000e+00\n",
      "Epoch 41/60\n",
      "884/884 [==============================] - 3s 3ms/step - loss: 0.0043 - acc: 0.0011 - val_loss: 0.2988 - val_acc: 0.0000e+00\n",
      "Epoch 42/60\n",
      "884/884 [==============================] - 3s 3ms/step - loss: 0.0045 - acc: 0.0011 - val_loss: 0.2973 - val_acc: 0.0000e+00\n",
      "Epoch 43/60\n",
      "884/884 [==============================] - 3s 3ms/step - loss: 0.0044 - acc: 0.0011 - val_loss: 0.3303 - val_acc: 0.0000e+00\n",
      "Epoch 44/60\n",
      "884/884 [==============================] - 3s 3ms/step - loss: 0.0042 - acc: 0.0011 - val_loss: 0.3525 - val_acc: 0.0000e+00\n",
      "Epoch 45/60\n",
      "884/884 [==============================] - 3s 3ms/step - loss: 0.0043 - acc: 0.0011 - val_loss: 0.3829 - val_acc: 0.0000e+00\n",
      "Epoch 46/60\n",
      "884/884 [==============================] - 3s 3ms/step - loss: 0.0041 - acc: 0.0011 - val_loss: 0.3787 - val_acc: 0.0000e+00\n",
      "Epoch 47/60\n",
      "884/884 [==============================] - 3s 3ms/step - loss: 0.0041 - acc: 0.0011 - val_loss: 0.3557 - val_acc: 0.0000e+00\n",
      "Epoch 48/60\n",
      "884/884 [==============================] - 3s 3ms/step - loss: 0.0043 - acc: 0.0011 - val_loss: 0.3434 - val_acc: 0.0000e+00\n",
      "Epoch 49/60\n",
      "884/884 [==============================] - 3s 3ms/step - loss: 0.0046 - acc: 0.0011 - val_loss: 0.3225 - val_acc: 0.0000e+00\n",
      "Epoch 50/60\n",
      "884/884 [==============================] - 3s 3ms/step - loss: 0.0042 - acc: 0.0011 - val_loss: 0.2920 - val_acc: 0.0000e+00\n",
      "Epoch 51/60\n",
      "884/884 [==============================] - 3s 3ms/step - loss: 0.0042 - acc: 0.0011 - val_loss: 0.2979 - val_acc: 0.0000e+00\n",
      "Epoch 52/60\n",
      "884/884 [==============================] - 3s 3ms/step - loss: 0.0041 - acc: 0.0011 - val_loss: 0.3027 - val_acc: 0.0000e+00\n",
      "Epoch 53/60\n",
      "884/884 [==============================] - 3s 3ms/step - loss: 0.0044 - acc: 0.0011 - val_loss: 0.3052 - val_acc: 0.0000e+00\n",
      "Epoch 54/60\n",
      "884/884 [==============================] - 3s 3ms/step - loss: 0.0041 - acc: 0.0011 - val_loss: 0.2958 - val_acc: 0.0000e+00\n",
      "Epoch 55/60\n",
      "884/884 [==============================] - 3s 3ms/step - loss: 0.0041 - acc: 0.0011 - val_loss: 0.2868 - val_acc: 0.0000e+00\n",
      "Epoch 56/60\n",
      "884/884 [==============================] - 3s 3ms/step - loss: 0.0042 - acc: 0.0011 - val_loss: 0.2433 - val_acc: 0.0000e+00\n",
      "Epoch 57/60\n",
      "884/884 [==============================] - 3s 3ms/step - loss: 0.0041 - acc: 0.0011 - val_loss: 0.2380 - val_acc: 0.0000e+00\n",
      "Epoch 58/60\n",
      "884/884 [==============================] - 3s 3ms/step - loss: 0.0044 - acc: 0.0011 - val_loss: 0.2457 - val_acc: 0.0000e+00\n",
      "Epoch 59/60\n",
      "884/884 [==============================] - 3s 3ms/step - loss: 0.0042 - acc: 0.0011 - val_loss: 0.2331 - val_acc: 0.0000e+00\n",
      "Epoch 60/60\n"
     ]
    },
    {
     "name": "stdout",
     "output_type": "stream",
     "text": [
      "884/884 [==============================] - 3s 3ms/step - loss: 0.0039 - acc: 0.0011 - val_loss: 0.2391 - val_acc: 0.0000e+00\n",
      "Training Set- Score: 0.038980551762506366, RMSE: 0.19743493045179814\n",
      "Test Set- Score: 0.25561056707216345, RMSE: 0.505579436955424\n"
     ]
    }
   ],
   "source": [
    "#model for old number of features\n",
    "seq_length = 30\n",
    "fut_point = 5\n",
    "train_split = 0.85\n",
    "neurons = [256, 256, 32]\n",
    "epochs = 60\n",
    "batch_size = 64\n",
    "validation_split = 0.15\n",
    "dropout = 0.2\n",
    "model_path = 'more_features.h5'\n",
    "y_train3, y_test3, y_train_preds3, y_test_preds3, train_score3, test_score3 = fit_generic_LSTM_model(df, \n",
    "                                                                                                     seq_length, \n",
    "                                                                                                     fut_point, \n",
    "                                                                                                     train_split, \n",
    "                                                                                                     neurons, \n",
    "                                                                                                     dropout, \n",
    "                                                                                                     epochs, \n",
    "                                                                                                     batch_size,\n",
    "                                                                                                     validation_split, \n",
    "                                                                                                     model_path)"
   ]
  },
  {
   "cell_type": "code",
   "execution_count": 114,
   "metadata": {},
   "outputs": [
    {
     "data": {
      "image/png": "[encoded data removed]",
      "text/plain": [
       "<Figure size 432x288 with 1 Axes>"
      ]
     },
     "metadata": {},
     "output_type": "display_data"
    }
   ],
   "source": [
    "#plot\n",
    "make_results_plot(y_train3, y_test3, y_train_preds3, y_test_preds3)"
   ]
  },
  {
   "cell_type": "code",
   "execution_count": 115,
   "metadata": {},
   "outputs": [
    {
     "name": "stdout",
     "output_type": "stream",
     "text": [
      "Train on 884 samples, validate on 156 samples\n",
      "Epoch 1/60\n",
      "884/884 [==============================] - 7s 8ms/step - loss: 0.0563 - acc: 0.0000e+00 - val_loss: 0.2336 - val_acc: 0.0000e+00\n",
      "Epoch 2/60\n",
      "884/884 [==============================] - 4s 4ms/step - loss: 0.0085 - acc: 0.0011 - val_loss: 0.2372 - val_acc: 0.0000e+00\n",
      "Epoch 3/60\n",
      "884/884 [==============================] - 4s 4ms/step - loss: 0.0068 - acc: 0.0011 - val_loss: 0.2275 - val_acc: 0.0000e+00\n",
      "Epoch 4/60\n",
      "884/884 [==============================] - 4s 4ms/step - loss: 0.0058 - acc: 0.0011 - val_loss: 0.2376 - val_acc: 0.0000e+00\n",
      "Epoch 5/60\n",
      "884/884 [==============================] - 3s 4ms/step - loss: 0.0057 - acc: 0.0011 - val_loss: 0.2438 - val_acc: 0.0000e+00\n",
      "Epoch 6/60\n",
      "884/884 [==============================] - 3s 4ms/step - loss: 0.0062 - acc: 0.0011 - val_loss: 0.2518 - val_acc: 0.0000e+00\n",
      "Epoch 7/60\n",
      "884/884 [==============================] - 3s 4ms/step - loss: 0.0057 - acc: 0.0011 - val_loss: 0.2632 - val_acc: 0.0000e+00\n",
      "Epoch 8/60\n",
      "884/884 [==============================] - 3s 4ms/step - loss: 0.0057 - acc: 0.0011 - val_loss: 0.2672 - val_acc: 0.0000e+00\n",
      "Epoch 9/60\n",
      "884/884 [==============================] - 3s 4ms/step - loss: 0.0051 - acc: 0.0011 - val_loss: 0.2631 - val_acc: 0.0000e+00\n",
      "Epoch 10/60\n",
      "884/884 [==============================] - 3s 4ms/step - loss: 0.0051 - acc: 0.0011 - val_loss: 0.2689 - val_acc: 0.0000e+00\n",
      "Epoch 11/60\n",
      "884/884 [==============================] - 3s 4ms/step - loss: 0.0052 - acc: 0.0011 - val_loss: 0.2661 - val_acc: 0.0000e+00\n",
      "Epoch 12/60\n",
      "884/884 [==============================] - 3s 4ms/step - loss: 0.0052 - acc: 0.0011 - val_loss: 0.2594 - val_acc: 0.0000e+00\n",
      "Epoch 13/60\n",
      "884/884 [==============================] - 3s 4ms/step - loss: 0.0049 - acc: 0.0011 - val_loss: 0.2604 - val_acc: 0.0000e+00\n",
      "Epoch 14/60\n",
      "884/884 [==============================] - 3s 4ms/step - loss: 0.0048 - acc: 0.0011 - val_loss: 0.2480 - val_acc: 0.0000e+00\n",
      "Epoch 15/60\n",
      "884/884 [==============================] - 3s 4ms/step - loss: 0.0048 - acc: 0.0011 - val_loss: 0.2455 - val_acc: 0.0000e+00\n",
      "Epoch 16/60\n",
      "884/884 [==============================] - 3s 4ms/step - loss: 0.0050 - acc: 0.0011 - val_loss: 0.2335 - val_acc: 0.0000e+00\n",
      "Epoch 17/60\n",
      "884/884 [==============================] - 3s 4ms/step - loss: 0.0046 - acc: 0.0011 - val_loss: 0.2279 - val_acc: 0.0000e+00\n",
      "Epoch 18/60\n",
      "884/884 [==============================] - 3s 4ms/step - loss: 0.0047 - acc: 0.0011 - val_loss: 0.2337 - val_acc: 0.0000e+00\n",
      "Epoch 19/60\n",
      "884/884 [==============================] - 3s 4ms/step - loss: 0.0047 - acc: 0.0011 - val_loss: 0.2296 - val_acc: 0.0000e+00\n",
      "Epoch 20/60\n",
      "884/884 [==============================] - 3s 4ms/step - loss: 0.0046 - acc: 0.0011 - val_loss: 0.2215 - val_acc: 0.0000e+00\n",
      "Epoch 21/60\n",
      "884/884 [==============================] - 3s 4ms/step - loss: 0.0047 - acc: 0.0011 - val_loss: 0.2083 - val_acc: 0.0000e+00\n",
      "Epoch 22/60\n",
      "884/884 [==============================] - 3s 4ms/step - loss: 0.0045 - acc: 0.0011 - val_loss: 0.2145 - val_acc: 0.0000e+00\n",
      "Epoch 23/60\n",
      "884/884 [==============================] - 3s 4ms/step - loss: 0.0046 - acc: 0.0011 - val_loss: 0.2191 - val_acc: 0.0000e+00\n",
      "Epoch 24/60\n",
      "884/884 [==============================] - 3s 4ms/step - loss: 0.0050 - acc: 0.0011 - val_loss: 0.2091 - val_acc: 0.0000e+00\n",
      "Epoch 25/60\n",
      "884/884 [==============================] - 3s 4ms/step - loss: 0.0049 - acc: 0.0011 - val_loss: 0.2103 - val_acc: 0.0000e+00\n",
      "Epoch 26/60\n",
      "884/884 [==============================] - 3s 4ms/step - loss: 0.0051 - acc: 0.0011 - val_loss: 0.2182 - val_acc: 0.0000e+00\n",
      "Epoch 27/60\n",
      "884/884 [==============================] - 3s 4ms/step - loss: 0.0047 - acc: 0.0011 - val_loss: 0.2402 - val_acc: 0.0000e+00\n",
      "Epoch 28/60\n",
      "884/884 [==============================] - 3s 4ms/step - loss: 0.0045 - acc: 0.0011 - val_loss: 0.2446 - val_acc: 0.0000e+00\n",
      "Epoch 29/60\n",
      "884/884 [==============================] - 3s 4ms/step - loss: 0.0045 - acc: 0.0011 - val_loss: 0.2626 - val_acc: 0.0000e+00\n",
      "Epoch 30/60\n",
      "884/884 [==============================] - 3s 4ms/step - loss: 0.0044 - acc: 0.0011 - val_loss: 0.2734 - val_acc: 0.0000e+00\n",
      "Epoch 31/60\n",
      "884/884 [==============================] - 3s 4ms/step - loss: 0.0046 - acc: 0.0011 - val_loss: 0.2656 - val_acc: 0.0000e+00\n",
      "Epoch 32/60\n",
      "884/884 [==============================] - 3s 4ms/step - loss: 0.0049 - acc: 0.0011 - val_loss: 0.2360 - val_acc: 0.0000e+00\n",
      "Epoch 33/60\n",
      "884/884 [==============================] - 3s 4ms/step - loss: 0.0047 - acc: 0.0011 - val_loss: 0.2212 - val_acc: 0.0000e+00\n",
      "Epoch 34/60\n",
      "884/884 [==============================] - 3s 4ms/step - loss: 0.0045 - acc: 0.0011 - val_loss: 0.2087 - val_acc: 0.0000e+00\n",
      "Epoch 35/60\n",
      "884/884 [==============================] - 3s 4ms/step - loss: 0.0043 - acc: 0.0011 - val_loss: 0.2090 - val_acc: 0.0000e+00\n",
      "Epoch 36/60\n",
      "884/884 [==============================] - 3s 4ms/step - loss: 0.0042 - acc: 0.0011 - val_loss: 0.2072 - val_acc: 0.0000e+00\n",
      "Epoch 37/60\n",
      "884/884 [==============================] - 3s 4ms/step - loss: 0.0044 - acc: 0.0011 - val_loss: 0.2018 - val_acc: 0.0000e+00\n",
      "Epoch 38/60\n",
      "884/884 [==============================] - 3s 4ms/step - loss: 0.0049 - acc: 0.0011 - val_loss: 0.2073 - val_acc: 0.0000e+00\n",
      "Epoch 39/60\n",
      "884/884 [==============================] - 3s 4ms/step - loss: 0.0045 - acc: 0.0011 - val_loss: 0.2145 - val_acc: 0.0000e+00\n",
      "Epoch 40/60\n",
      "884/884 [==============================] - 3s 4ms/step - loss: 0.0045 - acc: 0.0011 - val_loss: 0.2083 - val_acc: 0.0000e+00\n",
      "Epoch 41/60\n",
      "884/884 [==============================] - 3s 4ms/step - loss: 0.0044 - acc: 0.0011 - val_loss: 0.1841 - val_acc: 0.0000e+00\n",
      "Epoch 42/60\n",
      "884/884 [==============================] - 3s 4ms/step - loss: 0.0045 - acc: 0.0011 - val_loss: 0.1818 - val_acc: 0.0000e+00\n",
      "Epoch 43/60\n",
      "884/884 [==============================] - 3s 4ms/step - loss: 0.0047 - acc: 0.0011 - val_loss: 0.1836 - val_acc: 0.0000e+00\n",
      "Epoch 44/60\n",
      "884/884 [==============================] - 3s 4ms/step - loss: 0.0045 - acc: 0.0011 - val_loss: 0.1842 - val_acc: 0.0000e+00\n",
      "Epoch 45/60\n",
      "884/884 [==============================] - 3s 4ms/step - loss: 0.0045 - acc: 0.0011 - val_loss: 0.2265 - val_acc: 0.0000e+00\n",
      "Epoch 46/60\n",
      "884/884 [==============================] - 3s 4ms/step - loss: 0.0044 - acc: 0.0011 - val_loss: 0.2374 - val_acc: 0.0000e+00\n",
      "Epoch 47/60\n",
      "884/884 [==============================] - 3s 4ms/step - loss: 0.0043 - acc: 0.0011 - val_loss: 0.2255 - val_acc: 0.0000e+00\n",
      "Epoch 48/60\n",
      "884/884 [==============================] - 3s 4ms/step - loss: 0.0047 - acc: 0.0011 - val_loss: 0.2100 - val_acc: 0.0000e+00\n",
      "Epoch 49/60\n",
      "884/884 [==============================] - 3s 4ms/step - loss: 0.0045 - acc: 0.0011 - val_loss: 0.2122 - val_acc: 0.0000e+00\n",
      "Epoch 50/60\n",
      "884/884 [==============================] - 3s 4ms/step - loss: 0.0042 - acc: 0.0011 - val_loss: 0.2166 - val_acc: 0.0000e+00\n",
      "Epoch 51/60\n",
      "884/884 [==============================] - 3s 4ms/step - loss: 0.0043 - acc: 0.0011 - val_loss: 0.2281 - val_acc: 0.0000e+00\n",
      "Epoch 52/60\n",
      "884/884 [==============================] - 3s 4ms/step - loss: 0.0044 - acc: 0.0011 - val_loss: 0.2388 - val_acc: 0.0000e+00\n",
      "Epoch 53/60\n",
      "884/884 [==============================] - 3s 4ms/step - loss: 0.0044 - acc: 0.0011 - val_loss: 0.2389 - val_acc: 0.0000e+00\n",
      "Epoch 54/60\n",
      "884/884 [==============================] - 3s 4ms/step - loss: 0.0044 - acc: 0.0011 - val_loss: 0.2474 - val_acc: 0.0000e+00\n",
      "Epoch 55/60\n",
      "884/884 [==============================] - 3s 4ms/step - loss: 0.0043 - acc: 0.0011 - val_loss: 0.2400 - val_acc: 0.0000e+00\n",
      "Epoch 56/60\n",
      "884/884 [==============================] - 3s 4ms/step - loss: 0.0041 - acc: 0.0011 - val_loss: 0.2234 - val_acc: 0.0000e+00\n",
      "Epoch 57/60\n",
      "884/884 [==============================] - 3s 4ms/step - loss: 0.0042 - acc: 0.0011 - val_loss: 0.2224 - val_acc: 0.0000e+00\n",
      "Epoch 58/60\n",
      "884/884 [==============================] - 3s 4ms/step - loss: 0.0045 - acc: 0.0011 - val_loss: 0.2230 - val_acc: 0.0000e+00\n",
      "Epoch 59/60\n",
      "884/884 [==============================] - 3s 4ms/step - loss: 0.0042 - acc: 0.0011 - val_loss: 0.2143 - val_acc: 0.0000e+00\n",
      "Epoch 60/60\n"
     ]
    },
    {
     "name": "stdout",
     "output_type": "stream",
     "text": [
      "884/884 [==============================] - 3s 4ms/step - loss: 0.0042 - acc: 0.0011 - val_loss: 0.2099 - val_acc: 0.0000e+00\n",
      "Training Set- Score: 0.034781754749397244, RMSE: 0.1864986722456684\n",
      "Test Set- Score: 0.2309397099458653, RMSE: 0.4805618690094599\n"
     ]
    }
   ],
   "source": [
    "#model for new number of features\n",
    "seq_length = 30\n",
    "fut_point = 5\n",
    "train_split = 0.85\n",
    "neurons = [256, 256, 32]\n",
    "epochs = 60\n",
    "batch_size = 64\n",
    "validation_split = 0.15\n",
    "dropout = 0.2\n",
    "model_path = 'more_features_real_long.h5'\n",
    "y_train3, y_test3, y_train_preds3, y_test_preds3, train_score3, test_score3 = fit_generic_LSTM_model(new_df, \n",
    "                                                                                                     seq_length, \n",
    "                                                                                                     fut_point, \n",
    "                                                                                                     train_split, \n",
    "                                                                                                     neurons, \n",
    "                                                                                                     dropout, \n",
    "                                                                                                     epochs, \n",
    "                                                                                                     batch_size,\n",
    "                                                                                                     validation_split, \n",
    "                                                                                                     model_path)"
   ]
  },
  {
   "cell_type": "code",
   "execution_count": 116,
   "metadata": {},
   "outputs": [
    {
     "data": {
      "image/png": "[encoded data removed]",
      "text/plain": [
       "<Figure size 432x288 with 1 Axes>"
      ]
     },
     "metadata": {},
     "output_type": "display_data"
    }
   ],
   "source": [
    "#plot\n",
    "make_results_plot(y_train3, y_test3, y_train_preds3, y_test_preds3)"
   ]
  },
  {
   "cell_type": "code",
   "execution_count": 117,
   "metadata": {},
   "outputs": [
    {
     "name": "stdout",
     "output_type": "stream",
     "text": [
      "Train on 905 samples, validate on 160 samples\n",
      "Epoch 1/60\n",
      "905/905 [==============================] - 5s 6ms/step - loss: 0.0541 - acc: 0.0000e+00 - val_loss: 0.1485 - val_acc: 0.0000e+00\n",
      "Epoch 2/60\n",
      "905/905 [==============================] - 1s 1ms/step - loss: 0.0078 - acc: 0.0011 - val_loss: 0.0899 - val_acc: 0.0000e+00\n",
      "Epoch 3/60\n",
      "905/905 [==============================] - 1s 1ms/step - loss: 0.0040 - acc: 0.0011 - val_loss: 0.0850 - val_acc: 0.0000e+00\n",
      "Epoch 4/60\n",
      "905/905 [==============================] - 1s 1ms/step - loss: 0.0031 - acc: 0.0011 - val_loss: 0.0882 - val_acc: 0.0000e+00\n",
      "Epoch 5/60\n",
      "905/905 [==============================] - 1s 1ms/step - loss: 0.0030 - acc: 0.0011 - val_loss: 0.0897 - val_acc: 0.0000e+00\n",
      "Epoch 6/60\n",
      "905/905 [==============================] - 1s 1ms/step - loss: 0.0030 - acc: 0.0011 - val_loss: 0.0934 - val_acc: 0.0000e+00\n",
      "Epoch 7/60\n",
      "905/905 [==============================] - 1s 1ms/step - loss: 0.0031 - acc: 0.0011 - val_loss: 0.0963 - val_acc: 0.0000e+00\n",
      "Epoch 8/60\n",
      "905/905 [==============================] - 1s 1ms/step - loss: 0.0030 - acc: 0.0011 - val_loss: 0.0980 - val_acc: 0.0000e+00\n",
      "Epoch 9/60\n",
      "905/905 [==============================] - 1s 1ms/step - loss: 0.0032 - acc: 0.0011 - val_loss: 0.1087 - val_acc: 0.0000e+00\n",
      "Epoch 10/60\n",
      "905/905 [==============================] - 1s 1ms/step - loss: 0.0029 - acc: 0.0011 - val_loss: 0.1110 - val_acc: 0.0000e+00\n",
      "Epoch 11/60\n",
      "905/905 [==============================] - 1s 1ms/step - loss: 0.0031 - acc: 0.0011 - val_loss: 0.1154 - val_acc: 0.0000e+00\n",
      "Epoch 12/60\n",
      "905/905 [==============================] - 1s 1ms/step - loss: 0.0031 - acc: 0.0011 - val_loss: 0.1175 - val_acc: 0.0000e+00\n",
      "Epoch 13/60\n",
      "905/905 [==============================] - 1s 1ms/step - loss: 0.0027 - acc: 0.0011 - val_loss: 0.1174 - val_acc: 0.0000e+00\n",
      "Epoch 14/60\n",
      "905/905 [==============================] - 1s 1ms/step - loss: 0.0030 - acc: 0.0011 - val_loss: 0.1230 - val_acc: 0.0000e+00\n",
      "Epoch 15/60\n",
      "905/905 [==============================] - 1s 1ms/step - loss: 0.0029 - acc: 0.0011 - val_loss: 0.1261 - val_acc: 0.0000e+00\n",
      "Epoch 16/60\n",
      "905/905 [==============================] - 1s 1ms/step - loss: 0.0028 - acc: 0.0011 - val_loss: 0.1247 - val_acc: 0.0000e+00\n",
      "Epoch 17/60\n",
      "905/905 [==============================] - 1s 1ms/step - loss: 0.0028 - acc: 0.0011 - val_loss: 0.1209 - val_acc: 0.0000e+00\n",
      "Epoch 18/60\n",
      "905/905 [==============================] - 1s 1ms/step - loss: 0.0027 - acc: 0.0011 - val_loss: 0.1215 - val_acc: 0.0000e+00\n",
      "Epoch 19/60\n",
      "905/905 [==============================] - 1s 1ms/step - loss: 0.0028 - acc: 0.0011 - val_loss: 0.1275 - val_acc: 0.0000e+00\n",
      "Epoch 20/60\n",
      "905/905 [==============================] - 1s 1ms/step - loss: 0.0025 - acc: 0.0011 - val_loss: 0.1342 - val_acc: 0.0000e+00\n",
      "Epoch 21/60\n",
      "905/905 [==============================] - 1s 1ms/step - loss: 0.0026 - acc: 0.0011 - val_loss: 0.1404 - val_acc: 0.0000e+00\n",
      "Epoch 22/60\n",
      "905/905 [==============================] - 1s 1ms/step - loss: 0.0027 - acc: 0.0011 - val_loss: 0.1343 - val_acc: 0.0000e+00\n",
      "Epoch 23/60\n",
      "905/905 [==============================] - 1s 1ms/step - loss: 0.0029 - acc: 0.0011 - val_loss: 0.1383 - val_acc: 0.0000e+00\n",
      "Epoch 24/60\n",
      "905/905 [==============================] - 1s 1ms/step - loss: 0.0025 - acc: 0.0011 - val_loss: 0.1302 - val_acc: 0.0000e+00\n",
      "Epoch 25/60\n",
      "905/905 [==============================] - 1s 1ms/step - loss: 0.0024 - acc: 0.0011 - val_loss: 0.1345 - val_acc: 0.0000e+00\n",
      "Epoch 26/60\n",
      "905/905 [==============================] - 1s 1ms/step - loss: 0.0026 - acc: 0.0011 - val_loss: 0.1325 - val_acc: 0.0000e+00\n",
      "Epoch 27/60\n",
      "905/905 [==============================] - 1s 1ms/step - loss: 0.0024 - acc: 0.0011 - val_loss: 0.1373 - val_acc: 0.0000e+00\n",
      "Epoch 28/60\n",
      "905/905 [==============================] - 1s 1ms/step - loss: 0.0024 - acc: 0.0011 - val_loss: 0.1369 - val_acc: 0.0000e+00\n",
      "Epoch 29/60\n",
      "905/905 [==============================] - 1s 1ms/step - loss: 0.0026 - acc: 0.0011 - val_loss: 0.1436 - val_acc: 0.0000e+00\n",
      "Epoch 30/60\n",
      "905/905 [==============================] - 1s 1ms/step - loss: 0.0024 - acc: 0.0011 - val_loss: 0.1386 - val_acc: 0.0000e+00\n",
      "Epoch 31/60\n",
      "905/905 [==============================] - 1s 1ms/step - loss: 0.0025 - acc: 0.0011 - val_loss: 0.1425 - val_acc: 0.0000e+00\n",
      "Epoch 32/60\n",
      "905/905 [==============================] - 1s 1ms/step - loss: 0.0027 - acc: 0.0011 - val_loss: 0.1392 - val_acc: 0.0000e+00\n",
      "Epoch 33/60\n",
      "905/905 [==============================] - 1s 1ms/step - loss: 0.0029 - acc: 0.0011 - val_loss: 0.1431 - val_acc: 0.0000e+00\n",
      "Epoch 34/60\n",
      "905/905 [==============================] - 1s 1ms/step - loss: 0.0026 - acc: 0.0011 - val_loss: 0.1373 - val_acc: 0.0000e+00\n",
      "Epoch 35/60\n",
      "905/905 [==============================] - 1s 1ms/step - loss: 0.0023 - acc: 0.0011 - val_loss: 0.1494 - val_acc: 0.0000e+00\n",
      "Epoch 36/60\n",
      "905/905 [==============================] - 1s 1ms/step - loss: 0.0024 - acc: 0.0011 - val_loss: 0.1466 - val_acc: 0.0000e+00\n",
      "Epoch 37/60\n",
      "905/905 [==============================] - 1s 1ms/step - loss: 0.0023 - acc: 0.0011 - val_loss: 0.1567 - val_acc: 0.0000e+00\n",
      "Epoch 38/60\n",
      "905/905 [==============================] - 1s 1ms/step - loss: 0.0026 - acc: 0.0011 - val_loss: 0.1530 - val_acc: 0.0000e+00\n",
      "Epoch 39/60\n",
      "905/905 [==============================] - 1s 1ms/step - loss: 0.0025 - acc: 0.0011 - val_loss: 0.1543 - val_acc: 0.0000e+00\n",
      "Epoch 40/60\n",
      "905/905 [==============================] - 1s 1ms/step - loss: 0.0023 - acc: 0.0011 - val_loss: 0.1571 - val_acc: 0.0000e+00\n",
      "Epoch 41/60\n",
      "905/905 [==============================] - 1s 1ms/step - loss: 0.0023 - acc: 0.0011 - val_loss: 0.1597 - val_acc: 0.0000e+00\n",
      "Epoch 42/60\n",
      "905/905 [==============================] - 1s 1ms/step - loss: 0.0024 - acc: 0.0011 - val_loss: 0.1564 - val_acc: 0.0000e+00\n",
      "Epoch 43/60\n",
      "905/905 [==============================] - 1s 1ms/step - loss: 0.0022 - acc: 0.0011 - val_loss: 0.1592 - val_acc: 0.0000e+00\n",
      "Epoch 44/60\n",
      "905/905 [==============================] - 1s 1ms/step - loss: 0.0023 - acc: 0.0011 - val_loss: 0.1507 - val_acc: 0.0000e+00\n",
      "Epoch 45/60\n",
      "905/905 [==============================] - 1s 1ms/step - loss: 0.0026 - acc: 0.0011 - val_loss: 0.1593 - val_acc: 0.0000e+00\n",
      "Epoch 46/60\n",
      "905/905 [==============================] - 1s 1ms/step - loss: 0.0025 - acc: 0.0011 - val_loss: 0.1559 - val_acc: 0.0000e+00\n",
      "Epoch 47/60\n",
      "905/905 [==============================] - 1s 1ms/step - loss: 0.0022 - acc: 0.0011 - val_loss: 0.1487 - val_acc: 0.0000e+00\n",
      "Epoch 48/60\n",
      "905/905 [==============================] - 1s 1ms/step - loss: 0.0022 - acc: 0.0011 - val_loss: 0.1574 - val_acc: 0.0000e+00\n",
      "Epoch 49/60\n",
      "905/905 [==============================] - 1s 1ms/step - loss: 0.0021 - acc: 0.0011 - val_loss: 0.1498 - val_acc: 0.0000e+00\n",
      "Epoch 50/60\n",
      "905/905 [==============================] - 1s 1ms/step - loss: 0.0022 - acc: 0.0011 - val_loss: 0.1546 - val_acc: 0.0000e+00\n",
      "Epoch 51/60\n",
      "905/905 [==============================] - 1s 1ms/step - loss: 0.0022 - acc: 0.0011 - val_loss: 0.1569 - val_acc: 0.0000e+00\n",
      "Epoch 52/60\n",
      "905/905 [==============================] - 1s 1ms/step - loss: 0.0023 - acc: 0.0011 - val_loss: 0.1599 - val_acc: 0.0000e+00\n",
      "Epoch 53/60\n",
      "905/905 [==============================] - 1s 1ms/step - loss: 0.0023 - acc: 0.0011 - val_loss: 0.1688 - val_acc: 0.0000e+00\n",
      "Epoch 54/60\n",
      "905/905 [==============================] - 1s 1ms/step - loss: 0.0024 - acc: 0.0011 - val_loss: 0.1477 - val_acc: 0.0000e+00\n",
      "Epoch 55/60\n",
      "905/905 [==============================] - 1s 1ms/step - loss: 0.0022 - acc: 0.0011 - val_loss: 0.1372 - val_acc: 0.0000e+00\n",
      "Epoch 56/60\n",
      "905/905 [==============================] - 1s 1ms/step - loss: 0.0022 - acc: 0.0011 - val_loss: 0.1341 - val_acc: 0.0000e+00\n",
      "Epoch 57/60\n",
      "905/905 [==============================] - 1s 1ms/step - loss: 0.0022 - acc: 0.0011 - val_loss: 0.1261 - val_acc: 0.0000e+00\n",
      "Epoch 58/60\n",
      "905/905 [==============================] - 1s 1ms/step - loss: 0.0026 - acc: 0.0011 - val_loss: 0.1289 - val_acc: 0.0000e+00\n",
      "Epoch 59/60\n",
      "905/905 [==============================] - 1s 1ms/step - loss: 0.0023 - acc: 0.0011 - val_loss: 0.1299 - val_acc: 0.0000e+00\n",
      "Epoch 60/60\n"
     ]
    },
    {
     "name": "stdout",
     "output_type": "stream",
     "text": [
      "905/905 [==============================] - 1s 1ms/step - loss: 0.0021 - acc: 0.0011 - val_loss: 0.1450 - val_acc: 0.0000e+00\n",
      "Training Set- Score: 0.02353043603085576, RMSE: 0.15339633643231432\n",
      "Test Set- Score: 0.163893978646461, RMSE: 0.40483821292765954\n"
     ]
    }
   ],
   "source": [
    "#test with 5 days sequence 1 day future point\n",
    "seq_length = 5\n",
    "fut_point = 1\n",
    "train_split = 0.85\n",
    "neurons = [256, 256, 32]\n",
    "epochs = 60\n",
    "batch_size = 64\n",
    "validation_split = 0.15\n",
    "dropout = 0.2\n",
    "model_path = 'more_features_real.h5'\n",
    "y_train3, y_test3, y_train_preds3, y_test_preds3, train_score3, test_score3 = fit_generic_LSTM_model(new_df, \n",
    "                                                                                                     seq_length, \n",
    "                                                                                                     fut_point, \n",
    "                                                                                                     train_split, \n",
    "                                                                                                     neurons, \n",
    "                                                                                                     dropout, \n",
    "                                                                                                     epochs, \n",
    "                                                                                                     batch_size,\n",
    "                                                                                                     validation_split, \n",
    "                                                                                                     model_path)"
   ]
  }
 ],
 "metadata": {
  "kernelspec": {
   "display_name": "Python 3",
   "language": "python",
   "name": "python3"
  },
  "language_info": {
   "codemirror_mode": {
    "name": "ipython",
    "version": 3
   },
   "file_extension": ".py",
   "mimetype": "text/x-python",
   "name": "python",
   "nbconvert_exporter": "python",
   "pygments_lexer": "ipython3",
   "version": "3.6.8"
  },
  "varInspector": {
   "cols": {
    "lenName": 16,
    "lenType": 16,
    "lenVar": 40
   },
   "kernels_config": {
    "python": {
     "delete_cmd_postfix": "",
     "delete_cmd_prefix": "del ",
     "library": "var_list.py",
     "varRefreshCmd": "print(var_dic_list())"
    },
    "r": {
     "delete_cmd_postfix": ") ",
     "delete_cmd_prefix": "rm(",
     "library": "var_list.r",
     "varRefreshCmd": "cat(var_dic_list()) "
    }
   },
   "types_to_exclude": [
    "module",
    "function",
    "builtin_function_or_method",
    "instance",
    "_Feature"
   ],
   "window_display": false
  }
 },
 "nbformat": 4,
 "nbformat_minor": 2
}