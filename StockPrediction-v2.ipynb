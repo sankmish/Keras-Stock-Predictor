{
 "cells": [
  {
   "cell_type": "code",
   "execution_count": 56,
   "metadata": {
    "slideshow": {
     "slide_type": "subslide"
    }
   },
   "outputs": [],
   "source": [
    "# Dependencies\n",
    "import numpy as np\n",
    "import pandas as pd\n",
    "import matplotlib.pyplot as plt\n",
    "%matplotlib inline"
   ]
  },
  {
   "cell_type": "code",
   "execution_count": 57,
   "metadata": {
    "slideshow": {
     "slide_type": "fragment"
    }
   },
   "outputs": [
    {
     "data": {
      "text/html": [
       "<div>\n",
       "<style scoped>\n",
       "    .dataframe tbody tr th:only-of-type {\n",
       "        vertical-align: middle;\n",
       "    }\n",
       "\n",
       "    .dataframe tbody tr th {\n",
       "        vertical-align: top;\n",
       "    }\n",
       "\n",
       "    .dataframe thead th {\n",
       "        text-align: right;\n",
       "    }\n",
       "</style>\n",
       "<table border=\"1\" class=\"dataframe\">\n",
       "  <thead>\n",
       "    <tr style=\"text-align: right;\">\n",
       "      <th></th>\n",
       "      <th>date</th>\n",
       "      <th>open</th>\n",
       "      <th>high</th>\n",
       "      <th>low</th>\n",
       "      <th>close</th>\n",
       "      <th>volume</th>\n",
       "      <th>unadjustedVolume</th>\n",
       "      <th>change</th>\n",
       "      <th>changePercent</th>\n",
       "      <th>vwap</th>\n",
       "      <th>label</th>\n",
       "      <th>changeOverTime</th>\n",
       "    </tr>\n",
       "  </thead>\n",
       "  <tbody>\n",
       "    <tr>\n",
       "      <th>0</th>\n",
       "      <td>2014-01-27</td>\n",
       "      <td>64.7650</td>\n",
       "      <td>64.9747</td>\n",
       "      <td>64.5029</td>\n",
       "      <td>64.7825</td>\n",
       "      <td>9105139</td>\n",
       "      <td>9105139</td>\n",
       "      <td>-0.235889</td>\n",
       "      <td>-0.363</td>\n",
       "      <td>64.7739</td>\n",
       "      <td>Jan 27, 14</td>\n",
       "      <td>0.000000</td>\n",
       "    </tr>\n",
       "    <tr>\n",
       "      <th>1</th>\n",
       "      <td>2014-01-28</td>\n",
       "      <td>64.8786</td>\n",
       "      <td>65.8746</td>\n",
       "      <td>64.7388</td>\n",
       "      <td>65.2368</td>\n",
       "      <td>6035231</td>\n",
       "      <td>6035231</td>\n",
       "      <td>0.454305</td>\n",
       "      <td>0.701</td>\n",
       "      <td>65.3045</td>\n",
       "      <td>Jan 28, 14</td>\n",
       "      <td>0.007013</td>\n",
       "    </tr>\n",
       "    <tr>\n",
       "      <th>2</th>\n",
       "      <td>2014-01-29</td>\n",
       "      <td>65.7785</td>\n",
       "      <td>65.8484</td>\n",
       "      <td>64.7126</td>\n",
       "      <td>64.7388</td>\n",
       "      <td>8440854</td>\n",
       "      <td>8440854</td>\n",
       "      <td>-0.497990</td>\n",
       "      <td>-0.763</td>\n",
       "      <td>61.0517</td>\n",
       "      <td>Jan 29, 14</td>\n",
       "      <td>-0.000675</td>\n",
       "    </tr>\n",
       "    <tr>\n",
       "      <th>3</th>\n",
       "      <td>2014-01-30</td>\n",
       "      <td>65.1232</td>\n",
       "      <td>65.6037</td>\n",
       "      <td>64.9660</td>\n",
       "      <td>65.3067</td>\n",
       "      <td>6742046</td>\n",
       "      <td>6742046</td>\n",
       "      <td>0.567883</td>\n",
       "      <td>0.877</td>\n",
       "      <td>65.2975</td>\n",
       "      <td>Jan 30, 14</td>\n",
       "      <td>0.008092</td>\n",
       "    </tr>\n",
       "    <tr>\n",
       "      <th>4</th>\n",
       "      <td>2014-01-31</td>\n",
       "      <td>64.5816</td>\n",
       "      <td>65.6911</td>\n",
       "      <td>64.3369</td>\n",
       "      <td>65.2455</td>\n",
       "      <td>10665285</td>\n",
       "      <td>10665285</td>\n",
       "      <td>-0.061155</td>\n",
       "      <td>-0.094</td>\n",
       "      <td>65.3223</td>\n",
       "      <td>Jan 31, 14</td>\n",
       "      <td>0.007147</td>\n",
       "    </tr>\n",
       "  </tbody>\n",
       "</table>\n",
       "</div>"
      ],
      "text/plain": [
       "         date     open     high      low    close    volume  unadjustedVolume  \\\n",
       "0  2014-01-27  64.7650  64.9747  64.5029  64.7825   9105139           9105139   \n",
       "1  2014-01-28  64.8786  65.8746  64.7388  65.2368   6035231           6035231   \n",
       "2  2014-01-29  65.7785  65.8484  64.7126  64.7388   8440854           8440854   \n",
       "3  2014-01-30  65.1232  65.6037  64.9660  65.3067   6742046           6742046   \n",
       "4  2014-01-31  64.5816  65.6911  64.3369  65.2455  10665285          10665285   \n",
       "\n",
       "     change  changePercent     vwap       label  changeOverTime  \n",
       "0 -0.235889         -0.363  64.7739  Jan 27, 14        0.000000  \n",
       "1  0.454305          0.701  65.3045  Jan 28, 14        0.007013  \n",
       "2 -0.497990         -0.763  61.0517  Jan 29, 14       -0.000675  \n",
       "3  0.567883          0.877  65.2975  Jan 30, 14        0.008092  \n",
       "4 -0.061155         -0.094  65.3223  Jan 31, 14        0.007147  "
      ]
     },
     "execution_count": 57,
     "metadata": {},
     "output_type": "execute_result"
    }
   ],
   "source": [
    "unfilteredData = pd.read_csv('Resources/WMT.csv')\n",
    "unfilteredData.head()"
   ]
  },
  {
   "cell_type": "code",
   "execution_count": 58,
   "metadata": {},
   "outputs": [],
   "source": [
    "unfilteredData = unfilteredData.drop(columns=[\"unadjustedVolume\",\"changePercent\",  \"label\"])\n"
   ]
  },
  {
   "cell_type": "code",
   "execution_count": 59,
   "metadata": {},
   "outputs": [
    {
     "data": {
      "text/html": [
       "<div>\n",
       "<style scoped>\n",
       "    .dataframe tbody tr th:only-of-type {\n",
       "        vertical-align: middle;\n",
       "    }\n",
       "\n",
       "    .dataframe tbody tr th {\n",
       "        vertical-align: top;\n",
       "    }\n",
       "\n",
       "    .dataframe thead th {\n",
       "        text-align: right;\n",
       "    }\n",
       "</style>\n",
       "<table border=\"1\" class=\"dataframe\">\n",
       "  <thead>\n",
       "    <tr style=\"text-align: right;\">\n",
       "      <th></th>\n",
       "      <th>date</th>\n",
       "      <th>open</th>\n",
       "      <th>high</th>\n",
       "      <th>low</th>\n",
       "      <th>close</th>\n",
       "      <th>volume</th>\n",
       "      <th>change</th>\n",
       "      <th>vwap</th>\n",
       "      <th>changeOverTime</th>\n",
       "    </tr>\n",
       "  </thead>\n",
       "  <tbody>\n",
       "    <tr>\n",
       "      <th>0</th>\n",
       "      <td>2014-01-27</td>\n",
       "      <td>64.7650</td>\n",
       "      <td>64.9747</td>\n",
       "      <td>64.5029</td>\n",
       "      <td>64.7825</td>\n",
       "      <td>9105139</td>\n",
       "      <td>-0.235889</td>\n",
       "      <td>64.7739</td>\n",
       "      <td>0.000000</td>\n",
       "    </tr>\n",
       "    <tr>\n",
       "      <th>1</th>\n",
       "      <td>2014-01-28</td>\n",
       "      <td>64.8786</td>\n",
       "      <td>65.8746</td>\n",
       "      <td>64.7388</td>\n",
       "      <td>65.2368</td>\n",
       "      <td>6035231</td>\n",
       "      <td>0.454305</td>\n",
       "      <td>65.3045</td>\n",
       "      <td>0.007013</td>\n",
       "    </tr>\n",
       "    <tr>\n",
       "      <th>2</th>\n",
       "      <td>2014-01-29</td>\n",
       "      <td>65.7785</td>\n",
       "      <td>65.8484</td>\n",
       "      <td>64.7126</td>\n",
       "      <td>64.7388</td>\n",
       "      <td>8440854</td>\n",
       "      <td>-0.497990</td>\n",
       "      <td>61.0517</td>\n",
       "      <td>-0.000675</td>\n",
       "    </tr>\n",
       "    <tr>\n",
       "      <th>3</th>\n",
       "      <td>2014-01-30</td>\n",
       "      <td>65.1232</td>\n",
       "      <td>65.6037</td>\n",
       "      <td>64.9660</td>\n",
       "      <td>65.3067</td>\n",
       "      <td>6742046</td>\n",
       "      <td>0.567883</td>\n",
       "      <td>65.2975</td>\n",
       "      <td>0.008092</td>\n",
       "    </tr>\n",
       "    <tr>\n",
       "      <th>4</th>\n",
       "      <td>2014-01-31</td>\n",
       "      <td>64.5816</td>\n",
       "      <td>65.6911</td>\n",
       "      <td>64.3369</td>\n",
       "      <td>65.2455</td>\n",
       "      <td>10665285</td>\n",
       "      <td>-0.061155</td>\n",
       "      <td>65.3223</td>\n",
       "      <td>0.007147</td>\n",
       "    </tr>\n",
       "    <tr>\n",
       "      <th>5</th>\n",
       "      <td>2014-02-03</td>\n",
       "      <td>64.8174</td>\n",
       "      <td>65.0883</td>\n",
       "      <td>63.3759</td>\n",
       "      <td>63.4807</td>\n",
       "      <td>10435809</td>\n",
       "      <td>-1.764800</td>\n",
       "      <td>63.7034</td>\n",
       "      <td>-0.020095</td>\n",
       "    </tr>\n",
       "    <tr>\n",
       "      <th>6</th>\n",
       "      <td>2014-02-04</td>\n",
       "      <td>63.4895</td>\n",
       "      <td>63.8651</td>\n",
       "      <td>63.1662</td>\n",
       "      <td>63.5419</td>\n",
       "      <td>7765562</td>\n",
       "      <td>0.061156</td>\n",
       "      <td>63.1391</td>\n",
       "      <td>-0.019150</td>\n",
       "    </tr>\n",
       "    <tr>\n",
       "      <th>7</th>\n",
       "      <td>2014-02-05</td>\n",
       "      <td>63.1400</td>\n",
       "      <td>63.9176</td>\n",
       "      <td>63.1400</td>\n",
       "      <td>63.6642</td>\n",
       "      <td>4778044</td>\n",
       "      <td>0.122314</td>\n",
       "      <td>63.3113</td>\n",
       "      <td>-0.017262</td>\n",
       "    </tr>\n",
       "    <tr>\n",
       "      <th>8</th>\n",
       "      <td>2014-02-06</td>\n",
       "      <td>63.7516</td>\n",
       "      <td>63.9612</td>\n",
       "      <td>63.3409</td>\n",
       "      <td>63.6205</td>\n",
       "      <td>7353131</td>\n",
       "      <td>-0.043683</td>\n",
       "      <td>63.6302</td>\n",
       "      <td>-0.017937</td>\n",
       "    </tr>\n",
       "    <tr>\n",
       "      <th>9</th>\n",
       "      <td>2014-02-07</td>\n",
       "      <td>63.8215</td>\n",
       "      <td>64.4767</td>\n",
       "      <td>63.3409</td>\n",
       "      <td>64.4330</td>\n",
       "      <td>7320252</td>\n",
       "      <td>0.812510</td>\n",
       "      <td>63.7059</td>\n",
       "      <td>-0.005395</td>\n",
       "    </tr>\n",
       "  </tbody>\n",
       "</table>\n",
       "</div>"
      ],
      "text/plain": [
       "         date     open     high      low    close    volume    change  \\\n",
       "0  2014-01-27  64.7650  64.9747  64.5029  64.7825   9105139 -0.235889   \n",
       "1  2014-01-28  64.8786  65.8746  64.7388  65.2368   6035231  0.454305   \n",
       "2  2014-01-29  65.7785  65.8484  64.7126  64.7388   8440854 -0.497990   \n",
       "3  2014-01-30  65.1232  65.6037  64.9660  65.3067   6742046  0.567883   \n",
       "4  2014-01-31  64.5816  65.6911  64.3369  65.2455  10665285 -0.061155   \n",
       "5  2014-02-03  64.8174  65.0883  63.3759  63.4807  10435809 -1.764800   \n",
       "6  2014-02-04  63.4895  63.8651  63.1662  63.5419   7765562  0.061156   \n",
       "7  2014-02-05  63.1400  63.9176  63.1400  63.6642   4778044  0.122314   \n",
       "8  2014-02-06  63.7516  63.9612  63.3409  63.6205   7353131 -0.043683   \n",
       "9  2014-02-07  63.8215  64.4767  63.3409  64.4330   7320252  0.812510   \n",
       "\n",
       "      vwap  changeOverTime  \n",
       "0  64.7739        0.000000  \n",
       "1  65.3045        0.007013  \n",
       "2  61.0517       -0.000675  \n",
       "3  65.2975        0.008092  \n",
       "4  65.3223        0.007147  \n",
       "5  63.7034       -0.020095  \n",
       "6  63.1391       -0.019150  \n",
       "7  63.3113       -0.017262  \n",
       "8  63.6302       -0.017937  \n",
       "9  63.7059       -0.005395  "
      ]
     },
     "execution_count": 59,
     "metadata": {},
     "output_type": "execute_result"
    }
   ],
   "source": [
    "unfilteredData.head(n=10)"
   ]
  },
  {
   "cell_type": "code",
   "execution_count": 60,
   "metadata": {},
   "outputs": [
    {
     "name": "stdout",
     "output_type": "stream",
     "text": [
      "1259\n"
     ]
    }
   ],
   "source": [
    "lastIndex = len(unfilteredData)\n",
    "print(lastIndex)"
   ]
  },
  {
   "cell_type": "code",
   "execution_count": 68,
   "metadata": {},
   "outputs": [
    {
     "name": "stdout",
     "output_type": "stream",
     "text": [
      "591\n"
     ]
    }
   ],
   "source": [
    "startDate = unfilteredData.loc[unfilteredData[\"date\"] == \"2016-06-01\"]\n",
    "startDateIndex = startDate.index.tolist()\n",
    "print(startDateIndex[0])"
   ]
  },
  {
   "cell_type": "code",
   "execution_count": 62,
   "metadata": {},
   "outputs": [
    {
     "name": "stdout",
     "output_type": "stream",
     "text": [
      "1095\n"
     ]
    }
   ],
   "source": [
    "endDateTrain = unfilteredData.loc[unfilteredData[\"date\"] == \"2018-06-01\"]\n",
    "endDateTrainIndex = endDateTrain.index.tolist()\n",
    "print(endDateTrainIndex[0])"
   ]
  },
  {
   "cell_type": "code",
   "execution_count": 63,
   "metadata": {},
   "outputs": [],
   "source": [
    "filteredData = unfilteredData.loc[startDateIndex[0]:lastIndex]"
   ]
  },
  {
   "cell_type": "code",
   "execution_count": 64,
   "metadata": {},
   "outputs": [
    {
     "data": {
      "text/html": [
       "<div>\n",
       "<style scoped>\n",
       "    .dataframe tbody tr th:only-of-type {\n",
       "        vertical-align: middle;\n",
       "    }\n",
       "\n",
       "    .dataframe tbody tr th {\n",
       "        vertical-align: top;\n",
       "    }\n",
       "\n",
       "    .dataframe thead th {\n",
       "        text-align: right;\n",
       "    }\n",
       "</style>\n",
       "<table border=\"1\" class=\"dataframe\">\n",
       "  <thead>\n",
       "    <tr style=\"text-align: right;\">\n",
       "      <th></th>\n",
       "      <th>date</th>\n",
       "      <th>open</th>\n",
       "      <th>high</th>\n",
       "      <th>low</th>\n",
       "      <th>close</th>\n",
       "      <th>volume</th>\n",
       "      <th>change</th>\n",
       "      <th>vwap</th>\n",
       "      <th>changeOverTime</th>\n",
       "    </tr>\n",
       "  </thead>\n",
       "  <tbody>\n",
       "    <tr>\n",
       "      <th>591</th>\n",
       "      <td>2016-06-01</td>\n",
       "      <td>65.8547</td>\n",
       "      <td>66.2330</td>\n",
       "      <td>65.7706</td>\n",
       "      <td>65.8547</td>\n",
       "      <td>7221459</td>\n",
       "      <td>-0.261549</td>\n",
       "      <td>65.9386</td>\n",
       "      <td>0.016551</td>\n",
       "    </tr>\n",
       "    <tr>\n",
       "      <th>592</th>\n",
       "      <td>2016-06-02</td>\n",
       "      <td>65.8547</td>\n",
       "      <td>66.3217</td>\n",
       "      <td>65.5231</td>\n",
       "      <td>66.2750</td>\n",
       "      <td>6508681</td>\n",
       "      <td>0.420348</td>\n",
       "      <td>65.9935</td>\n",
       "      <td>0.023039</td>\n",
       "    </tr>\n",
       "    <tr>\n",
       "      <th>593</th>\n",
       "      <td>2016-06-03</td>\n",
       "      <td>65.9201</td>\n",
       "      <td>66.3684</td>\n",
       "      <td>65.8733</td>\n",
       "      <td>66.2003</td>\n",
       "      <td>6374529</td>\n",
       "      <td>-0.074727</td>\n",
       "      <td>66.1897</td>\n",
       "      <td>0.021886</td>\n",
       "    </tr>\n",
       "    <tr>\n",
       "      <th>594</th>\n",
       "      <td>2016-06-06</td>\n",
       "      <td>66.8075</td>\n",
       "      <td>66.8355</td>\n",
       "      <td>66.3217</td>\n",
       "      <td>66.3684</td>\n",
       "      <td>9017963</td>\n",
       "      <td>0.168138</td>\n",
       "      <td>66.4640</td>\n",
       "      <td>0.024480</td>\n",
       "    </tr>\n",
       "    <tr>\n",
       "      <th>595</th>\n",
       "      <td>2016-06-07</td>\n",
       "      <td>66.4151</td>\n",
       "      <td>66.6113</td>\n",
       "      <td>66.1816</td>\n",
       "      <td>66.3497</td>\n",
       "      <td>7363374</td>\n",
       "      <td>-0.018682</td>\n",
       "      <td>66.3969</td>\n",
       "      <td>0.024192</td>\n",
       "    </tr>\n",
       "  </tbody>\n",
       "</table>\n",
       "</div>"
      ],
      "text/plain": [
       "           date     open     high      low    close   volume    change  \\\n",
       "591  2016-06-01  65.8547  66.2330  65.7706  65.8547  7221459 -0.261549   \n",
       "592  2016-06-02  65.8547  66.3217  65.5231  66.2750  6508681  0.420348   \n",
       "593  2016-06-03  65.9201  66.3684  65.8733  66.2003  6374529 -0.074727   \n",
       "594  2016-06-06  66.8075  66.8355  66.3217  66.3684  9017963  0.168138   \n",
       "595  2016-06-07  66.4151  66.6113  66.1816  66.3497  7363374 -0.018682   \n",
       "\n",
       "        vwap  changeOverTime  \n",
       "591  65.9386        0.016551  \n",
       "592  65.9935        0.023039  \n",
       "593  66.1897        0.021886  \n",
       "594  66.4640        0.024480  \n",
       "595  66.3969        0.024192  "
      ]
     },
     "execution_count": 64,
     "metadata": {},
     "output_type": "execute_result"
    }
   ],
   "source": [
    "filteredData.head()"
   ]
  },
  {
   "cell_type": "code",
   "execution_count": 65,
   "metadata": {
    "scrolled": true
   },
   "outputs": [
    {
     "data": {
      "text/html": [
       "<div>\n",
       "<style scoped>\n",
       "    .dataframe tbody tr th:only-of-type {\n",
       "        vertical-align: middle;\n",
       "    }\n",
       "\n",
       "    .dataframe tbody tr th {\n",
       "        vertical-align: top;\n",
       "    }\n",
       "\n",
       "    .dataframe thead th {\n",
       "        text-align: right;\n",
       "    }\n",
       "</style>\n",
       "<table border=\"1\" class=\"dataframe\">\n",
       "  <thead>\n",
       "    <tr style=\"text-align: right;\">\n",
       "      <th></th>\n",
       "      <th>date</th>\n",
       "      <th>open</th>\n",
       "      <th>high</th>\n",
       "      <th>low</th>\n",
       "      <th>close</th>\n",
       "      <th>volume</th>\n",
       "      <th>change</th>\n",
       "      <th>vwap</th>\n",
       "      <th>changeOverTime</th>\n",
       "    </tr>\n",
       "  </thead>\n",
       "  <tbody>\n",
       "    <tr>\n",
       "      <th>0</th>\n",
       "      <td>2016-06-01</td>\n",
       "      <td>65.8547</td>\n",
       "      <td>66.2330</td>\n",
       "      <td>65.7706</td>\n",
       "      <td>65.8547</td>\n",
       "      <td>7221459</td>\n",
       "      <td>-0.261549</td>\n",
       "      <td>65.9386</td>\n",
       "      <td>0.016551</td>\n",
       "    </tr>\n",
       "    <tr>\n",
       "      <th>1</th>\n",
       "      <td>2016-06-02</td>\n",
       "      <td>65.8547</td>\n",
       "      <td>66.3217</td>\n",
       "      <td>65.5231</td>\n",
       "      <td>66.2750</td>\n",
       "      <td>6508681</td>\n",
       "      <td>0.420348</td>\n",
       "      <td>65.9935</td>\n",
       "      <td>0.023039</td>\n",
       "    </tr>\n",
       "    <tr>\n",
       "      <th>2</th>\n",
       "      <td>2016-06-03</td>\n",
       "      <td>65.9201</td>\n",
       "      <td>66.3684</td>\n",
       "      <td>65.8733</td>\n",
       "      <td>66.2003</td>\n",
       "      <td>6374529</td>\n",
       "      <td>-0.074727</td>\n",
       "      <td>66.1897</td>\n",
       "      <td>0.021886</td>\n",
       "    </tr>\n",
       "    <tr>\n",
       "      <th>3</th>\n",
       "      <td>2016-06-06</td>\n",
       "      <td>66.8075</td>\n",
       "      <td>66.8355</td>\n",
       "      <td>66.3217</td>\n",
       "      <td>66.3684</td>\n",
       "      <td>9017963</td>\n",
       "      <td>0.168138</td>\n",
       "      <td>66.4640</td>\n",
       "      <td>0.024480</td>\n",
       "    </tr>\n",
       "    <tr>\n",
       "      <th>4</th>\n",
       "      <td>2016-06-07</td>\n",
       "      <td>66.4151</td>\n",
       "      <td>66.6113</td>\n",
       "      <td>66.1816</td>\n",
       "      <td>66.3497</td>\n",
       "      <td>7363374</td>\n",
       "      <td>-0.018682</td>\n",
       "      <td>66.3969</td>\n",
       "      <td>0.024192</td>\n",
       "    </tr>\n",
       "  </tbody>\n",
       "</table>\n",
       "</div>"
      ],
      "text/plain": [
       "         date     open     high      low    close   volume    change     vwap  \\\n",
       "0  2016-06-01  65.8547  66.2330  65.7706  65.8547  7221459 -0.261549  65.9386   \n",
       "1  2016-06-02  65.8547  66.3217  65.5231  66.2750  6508681  0.420348  65.9935   \n",
       "2  2016-06-03  65.9201  66.3684  65.8733  66.2003  6374529 -0.074727  66.1897   \n",
       "3  2016-06-06  66.8075  66.8355  66.3217  66.3684  9017963  0.168138  66.4640   \n",
       "4  2016-06-07  66.4151  66.6113  66.1816  66.3497  7363374 -0.018682  66.3969   \n",
       "\n",
       "   changeOverTime  \n",
       "0        0.016551  \n",
       "1        0.023039  \n",
       "2        0.021886  \n",
       "3        0.024480  \n",
       "4        0.024192  "
      ]
     },
     "execution_count": 65,
     "metadata": {},
     "output_type": "execute_result"
    }
   ],
   "source": [
    "filteredData.reset_index(inplace=True, drop=True)\n",
    "filteredData.head()"
   ]
  },
  {
   "cell_type": "code",
   "execution_count": 66,
   "metadata": {},
   "outputs": [
    {
     "data": {
      "text/plain": [
       "(668, 9)"
      ]
     },
     "execution_count": 66,
     "metadata": {},
     "output_type": "execute_result"
    }
   ],
   "source": [
    "filteredData.shape"
   ]
  },
  {
   "cell_type": "code",
   "execution_count": 72,
   "metadata": {},
   "outputs": [
    {
     "data": {
      "text/plain": [
       "(666,)"
      ]
     },
     "execution_count": 72,
     "metadata": {},
     "output_type": "execute_result"
    }
   ],
   "source": [
    "# add a new variable that moves tomorrow's close up by one value\n",
    "# so we have both today's close and tomorrow's close\n",
    "# this would help with predictions\n",
    "tomorrow_close = filteredData.close.values[1:]\n",
    "tomorrow_close.shape"
   ]
  },
  {
   "cell_type": "code",
   "execution_count": 73,
   "metadata": {},
   "outputs": [
    {
     "name": "stderr",
     "output_type": "stream",
     "text": [
      "C:\\Users\\Meenakshi\\Anaconda\\Anaconda3\\lib\\site-packages\\pandas\\core\\frame.py:3697: SettingWithCopyWarning: \n",
      "A value is trying to be set on a copy of a slice from a DataFrame\n",
      "\n",
      "See the caveats in the documentation: http://pandas.pydata.org/pandas-docs/stable/indexing.html#indexing-view-versus-copy\n",
      "  errors=errors)\n"
     ]
    }
   ],
   "source": [
    "#drop last row to accommodate tomorrow close\n",
    "filteredData.drop(666, inplace=True)"
   ]
  },
  {
   "cell_type": "code",
   "execution_count": 74,
   "metadata": {},
   "outputs": [
    {
     "name": "stderr",
     "output_type": "stream",
     "text": [
      "C:\\Users\\Meenakshi\\Anaconda\\Anaconda3\\lib\\site-packages\\ipykernel_launcher.py:1: SettingWithCopyWarning: \n",
      "A value is trying to be set on a copy of a slice from a DataFrame.\n",
      "Try using .loc[row_indexer,col_indexer] = value instead\n",
      "\n",
      "See the caveats in the documentation: http://pandas.pydata.org/pandas-docs/stable/indexing.html#indexing-view-versus-copy\n",
      "  \"\"\"Entry point for launching an IPython kernel.\n",
      "C:\\Users\\Meenakshi\\Anaconda\\Anaconda3\\lib\\site-packages\\ipykernel_launcher.py:2: SettingWithCopyWarning: \n",
      "A value is trying to be set on a copy of a slice from a DataFrame.\n",
      "Try using .loc[row_indexer,col_indexer] = value instead\n",
      "\n",
      "See the caveats in the documentation: http://pandas.pydata.org/pandas-docs/stable/indexing.html#indexing-view-versus-copy\n",
      "  \n"
     ]
    },
    {
     "data": {
      "text/html": [
       "<div>\n",
       "<style scoped>\n",
       "    .dataframe tbody tr th:only-of-type {\n",
       "        vertical-align: middle;\n",
       "    }\n",
       "\n",
       "    .dataframe tbody tr th {\n",
       "        vertical-align: top;\n",
       "    }\n",
       "\n",
       "    .dataframe thead th {\n",
       "        text-align: right;\n",
       "    }\n",
       "</style>\n",
       "<table border=\"1\" class=\"dataframe\">\n",
       "  <thead>\n",
       "    <tr style=\"text-align: right;\">\n",
       "      <th></th>\n",
       "      <th>date</th>\n",
       "      <th>open</th>\n",
       "      <th>high</th>\n",
       "      <th>low</th>\n",
       "      <th>close</th>\n",
       "      <th>volume</th>\n",
       "      <th>change</th>\n",
       "      <th>vwap</th>\n",
       "      <th>changeOverTime</th>\n",
       "      <th>tomorrow_close</th>\n",
       "      <th>diff</th>\n",
       "    </tr>\n",
       "  </thead>\n",
       "  <tbody>\n",
       "    <tr>\n",
       "      <th>0</th>\n",
       "      <td>2016-06-01</td>\n",
       "      <td>65.8547</td>\n",
       "      <td>66.2330</td>\n",
       "      <td>65.7706</td>\n",
       "      <td>65.8547</td>\n",
       "      <td>7221459</td>\n",
       "      <td>-0.261549</td>\n",
       "      <td>65.9386</td>\n",
       "      <td>0.016551</td>\n",
       "      <td>66.2750</td>\n",
       "      <td>-0.4203</td>\n",
       "    </tr>\n",
       "    <tr>\n",
       "      <th>1</th>\n",
       "      <td>2016-06-02</td>\n",
       "      <td>65.8547</td>\n",
       "      <td>66.3217</td>\n",
       "      <td>65.5231</td>\n",
       "      <td>66.2750</td>\n",
       "      <td>6508681</td>\n",
       "      <td>0.420348</td>\n",
       "      <td>65.9935</td>\n",
       "      <td>0.023039</td>\n",
       "      <td>66.2003</td>\n",
       "      <td>0.0747</td>\n",
       "    </tr>\n",
       "    <tr>\n",
       "      <th>2</th>\n",
       "      <td>2016-06-03</td>\n",
       "      <td>65.9201</td>\n",
       "      <td>66.3684</td>\n",
       "      <td>65.8733</td>\n",
       "      <td>66.2003</td>\n",
       "      <td>6374529</td>\n",
       "      <td>-0.074727</td>\n",
       "      <td>66.1897</td>\n",
       "      <td>0.021886</td>\n",
       "      <td>66.3684</td>\n",
       "      <td>-0.1681</td>\n",
       "    </tr>\n",
       "    <tr>\n",
       "      <th>3</th>\n",
       "      <td>2016-06-06</td>\n",
       "      <td>66.8075</td>\n",
       "      <td>66.8355</td>\n",
       "      <td>66.3217</td>\n",
       "      <td>66.3684</td>\n",
       "      <td>9017963</td>\n",
       "      <td>0.168138</td>\n",
       "      <td>66.4640</td>\n",
       "      <td>0.024480</td>\n",
       "      <td>66.3497</td>\n",
       "      <td>0.0187</td>\n",
       "    </tr>\n",
       "    <tr>\n",
       "      <th>4</th>\n",
       "      <td>2016-06-07</td>\n",
       "      <td>66.4151</td>\n",
       "      <td>66.6113</td>\n",
       "      <td>66.1816</td>\n",
       "      <td>66.3497</td>\n",
       "      <td>7363374</td>\n",
       "      <td>-0.018682</td>\n",
       "      <td>66.3969</td>\n",
       "      <td>0.024192</td>\n",
       "      <td>66.5833</td>\n",
       "      <td>-0.2336</td>\n",
       "    </tr>\n",
       "  </tbody>\n",
       "</table>\n",
       "</div>"
      ],
      "text/plain": [
       "         date     open     high      low    close   volume    change     vwap  \\\n",
       "0  2016-06-01  65.8547  66.2330  65.7706  65.8547  7221459 -0.261549  65.9386   \n",
       "1  2016-06-02  65.8547  66.3217  65.5231  66.2750  6508681  0.420348  65.9935   \n",
       "2  2016-06-03  65.9201  66.3684  65.8733  66.2003  6374529 -0.074727  66.1897   \n",
       "3  2016-06-06  66.8075  66.8355  66.3217  66.3684  9017963  0.168138  66.4640   \n",
       "4  2016-06-07  66.4151  66.6113  66.1816  66.3497  7363374 -0.018682  66.3969   \n",
       "\n",
       "   changeOverTime  tomorrow_close    diff  \n",
       "0        0.016551         66.2750 -0.4203  \n",
       "1        0.023039         66.2003  0.0747  \n",
       "2        0.021886         66.3684 -0.1681  \n",
       "3        0.024480         66.3497  0.0187  \n",
       "4        0.024192         66.5833 -0.2336  "
      ]
     },
     "execution_count": 74,
     "metadata": {},
     "output_type": "execute_result"
    }
   ],
   "source": [
    "filteredData['tomorrow_close'] = tomorrow_close\n",
    "filteredData['diff'] =  filteredData['close'] - filteredData['tomorrow_close']\n",
    "filteredData.head()"
   ]
  },
  {
   "cell_type": "code",
   "execution_count": 75,
   "metadata": {},
   "outputs": [
    {
     "data": {
      "text/html": [
       "<div>\n",
       "<style scoped>\n",
       "    .dataframe tbody tr th:only-of-type {\n",
       "        vertical-align: middle;\n",
       "    }\n",
       "\n",
       "    .dataframe tbody tr th {\n",
       "        vertical-align: top;\n",
       "    }\n",
       "\n",
       "    .dataframe thead th {\n",
       "        text-align: right;\n",
       "    }\n",
       "</style>\n",
       "<table border=\"1\" class=\"dataframe\">\n",
       "  <thead>\n",
       "    <tr style=\"text-align: right;\">\n",
       "      <th></th>\n",
       "      <th>date</th>\n",
       "      <th>open</th>\n",
       "      <th>high</th>\n",
       "      <th>low</th>\n",
       "      <th>close</th>\n",
       "      <th>volume</th>\n",
       "      <th>change</th>\n",
       "      <th>vwap</th>\n",
       "      <th>changeOverTime</th>\n",
       "      <th>tomorrow_close</th>\n",
       "      <th>diff</th>\n",
       "    </tr>\n",
       "  </thead>\n",
       "  <tbody>\n",
       "    <tr>\n",
       "      <th>0</th>\n",
       "      <td>2016-06-01</td>\n",
       "      <td>65.8547</td>\n",
       "      <td>66.2330</td>\n",
       "      <td>65.7706</td>\n",
       "      <td>65.8547</td>\n",
       "      <td>7221459</td>\n",
       "      <td>-0.261549</td>\n",
       "      <td>65.9386</td>\n",
       "      <td>0.016551</td>\n",
       "      <td>66.2750</td>\n",
       "      <td>-0.4203</td>\n",
       "    </tr>\n",
       "    <tr>\n",
       "      <th>1</th>\n",
       "      <td>2016-06-02</td>\n",
       "      <td>65.8547</td>\n",
       "      <td>66.3217</td>\n",
       "      <td>65.5231</td>\n",
       "      <td>66.2750</td>\n",
       "      <td>6508681</td>\n",
       "      <td>0.420348</td>\n",
       "      <td>65.9935</td>\n",
       "      <td>0.023039</td>\n",
       "      <td>66.2003</td>\n",
       "      <td>0.0747</td>\n",
       "    </tr>\n",
       "    <tr>\n",
       "      <th>2</th>\n",
       "      <td>2016-06-03</td>\n",
       "      <td>65.9201</td>\n",
       "      <td>66.3684</td>\n",
       "      <td>65.8733</td>\n",
       "      <td>66.2003</td>\n",
       "      <td>6374529</td>\n",
       "      <td>-0.074727</td>\n",
       "      <td>66.1897</td>\n",
       "      <td>0.021886</td>\n",
       "      <td>66.3684</td>\n",
       "      <td>-0.1681</td>\n",
       "    </tr>\n",
       "    <tr>\n",
       "      <th>3</th>\n",
       "      <td>2016-06-06</td>\n",
       "      <td>66.8075</td>\n",
       "      <td>66.8355</td>\n",
       "      <td>66.3217</td>\n",
       "      <td>66.3684</td>\n",
       "      <td>9017963</td>\n",
       "      <td>0.168138</td>\n",
       "      <td>66.4640</td>\n",
       "      <td>0.024480</td>\n",
       "      <td>66.3497</td>\n",
       "      <td>0.0187</td>\n",
       "    </tr>\n",
       "    <tr>\n",
       "      <th>4</th>\n",
       "      <td>2016-06-07</td>\n",
       "      <td>66.4151</td>\n",
       "      <td>66.6113</td>\n",
       "      <td>66.1816</td>\n",
       "      <td>66.3497</td>\n",
       "      <td>7363374</td>\n",
       "      <td>-0.018682</td>\n",
       "      <td>66.3969</td>\n",
       "      <td>0.024192</td>\n",
       "      <td>66.5833</td>\n",
       "      <td>-0.2336</td>\n",
       "    </tr>\n",
       "  </tbody>\n",
       "</table>\n",
       "</div>"
      ],
      "text/plain": [
       "         date     open     high      low    close   volume    change     vwap  \\\n",
       "0  2016-06-01  65.8547  66.2330  65.7706  65.8547  7221459 -0.261549  65.9386   \n",
       "1  2016-06-02  65.8547  66.3217  65.5231  66.2750  6508681  0.420348  65.9935   \n",
       "2  2016-06-03  65.9201  66.3684  65.8733  66.2003  6374529 -0.074727  66.1897   \n",
       "3  2016-06-06  66.8075  66.8355  66.3217  66.3684  9017963  0.168138  66.4640   \n",
       "4  2016-06-07  66.4151  66.6113  66.1816  66.3497  7363374 -0.018682  66.3969   \n",
       "\n",
       "   changeOverTime  tomorrow_close    diff  \n",
       "0        0.016551         66.2750 -0.4203  \n",
       "1        0.023039         66.2003  0.0747  \n",
       "2        0.021886         66.3684 -0.1681  \n",
       "3        0.024480         66.3497  0.0187  \n",
       "4        0.024192         66.5833 -0.2336  "
      ]
     },
     "execution_count": 75,
     "metadata": {},
     "output_type": "execute_result"
    }
   ],
   "source": [
    "filteredData.head()"
   ]
  },
  {
   "cell_type": "code",
   "execution_count": 76,
   "metadata": {},
   "outputs": [
    {
     "data": {
      "text/html": [
       "<div>\n",
       "<style scoped>\n",
       "    .dataframe tbody tr th:only-of-type {\n",
       "        vertical-align: middle;\n",
       "    }\n",
       "\n",
       "    .dataframe tbody tr th {\n",
       "        vertical-align: top;\n",
       "    }\n",
       "\n",
       "    .dataframe thead th {\n",
       "        text-align: right;\n",
       "    }\n",
       "</style>\n",
       "<table border=\"1\" class=\"dataframe\">\n",
       "  <thead>\n",
       "    <tr style=\"text-align: right;\">\n",
       "      <th></th>\n",
       "      <th>date</th>\n",
       "      <th>close</th>\n",
       "    </tr>\n",
       "  </thead>\n",
       "  <tbody>\n",
       "    <tr>\n",
       "      <th>0</th>\n",
       "      <td>2016-06-01</td>\n",
       "      <td>65.8547</td>\n",
       "    </tr>\n",
       "    <tr>\n",
       "      <th>1</th>\n",
       "      <td>2016-06-02</td>\n",
       "      <td>66.275</td>\n",
       "    </tr>\n",
       "    <tr>\n",
       "      <th>2</th>\n",
       "      <td>2016-06-03</td>\n",
       "      <td>66.2003</td>\n",
       "    </tr>\n",
       "    <tr>\n",
       "      <th>3</th>\n",
       "      <td>2016-06-06</td>\n",
       "      <td>66.3684</td>\n",
       "    </tr>\n",
       "    <tr>\n",
       "      <th>4</th>\n",
       "      <td>2016-06-07</td>\n",
       "      <td>66.3497</td>\n",
       "    </tr>\n",
       "  </tbody>\n",
       "</table>\n",
       "</div>"
      ],
      "text/plain": [
       "         date    close\n",
       "0  2016-06-01  65.8547\n",
       "1  2016-06-02   66.275\n",
       "2  2016-06-03  66.2003\n",
       "3  2016-06-06  66.3684\n",
       "4  2016-06-07  66.3497"
      ]
     },
     "execution_count": 76,
     "metadata": {},
     "output_type": "execute_result"
    }
   ],
   "source": [
    "movingAverageData = pd.DataFrame(index=range(0,len(filteredData)),columns=['date', 'close'])\n",
    "for i in range(0,len(filteredData)):\n",
    "    movingAverageData['date'][i] = filteredData['date'][i]\n",
    "    movingAverageData['close'][i] = filteredData['close'][i]\n",
    "movingAverageData.head()"
   ]
  },
  {
   "cell_type": "code",
   "execution_count": 116,
   "metadata": {},
   "outputs": [
    {
     "name": "stdout",
     "output_type": "stream",
     "text": [
      "504\n"
     ]
    }
   ],
   "source": [
    "trainEndIndex = endDateTrainIndex[0] - startDateIndex[0]\n",
    "print(trainEndIndex)"
   ]
  },
  {
   "cell_type": "code",
   "execution_count": 117,
   "metadata": {},
   "outputs": [
    {
     "data": {
      "text/html": [
       "<div>\n",
       "<style scoped>\n",
       "    .dataframe tbody tr th:only-of-type {\n",
       "        vertical-align: middle;\n",
       "    }\n",
       "\n",
       "    .dataframe tbody tr th {\n",
       "        vertical-align: top;\n",
       "    }\n",
       "\n",
       "    .dataframe thead th {\n",
       "        text-align: right;\n",
       "    }\n",
       "</style>\n",
       "<table border=\"1\" class=\"dataframe\">\n",
       "  <thead>\n",
       "    <tr style=\"text-align: right;\">\n",
       "      <th></th>\n",
       "      <th>date</th>\n",
       "      <th>close</th>\n",
       "    </tr>\n",
       "  </thead>\n",
       "  <tbody>\n",
       "    <tr>\n",
       "      <th>0</th>\n",
       "      <td>2016-06-01</td>\n",
       "      <td>65.8547</td>\n",
       "    </tr>\n",
       "    <tr>\n",
       "      <th>1</th>\n",
       "      <td>2016-06-02</td>\n",
       "      <td>66.275</td>\n",
       "    </tr>\n",
       "    <tr>\n",
       "      <th>2</th>\n",
       "      <td>2016-06-03</td>\n",
       "      <td>66.2003</td>\n",
       "    </tr>\n",
       "    <tr>\n",
       "      <th>3</th>\n",
       "      <td>2016-06-06</td>\n",
       "      <td>66.3684</td>\n",
       "    </tr>\n",
       "    <tr>\n",
       "      <th>4</th>\n",
       "      <td>2016-06-07</td>\n",
       "      <td>66.3497</td>\n",
       "    </tr>\n",
       "  </tbody>\n",
       "</table>\n",
       "</div>"
      ],
      "text/plain": [
       "         date    close\n",
       "0  2016-06-01  65.8547\n",
       "1  2016-06-02   66.275\n",
       "2  2016-06-03  66.2003\n",
       "3  2016-06-06  66.3684\n",
       "4  2016-06-07  66.3497"
      ]
     },
     "execution_count": 117,
     "metadata": {},
     "output_type": "execute_result"
    }
   ],
   "source": [
    "movingAverageTrainData = movingAverageData.loc[:(trainEndIndex-1)]\n",
    "movingAverageTrainData.head()"
   ]
  },
  {
   "cell_type": "code",
   "execution_count": 118,
   "metadata": {},
   "outputs": [
    {
     "data": {
      "text/html": [
       "<div>\n",
       "<style scoped>\n",
       "    .dataframe tbody tr th:only-of-type {\n",
       "        vertical-align: middle;\n",
       "    }\n",
       "\n",
       "    .dataframe tbody tr th {\n",
       "        vertical-align: top;\n",
       "    }\n",
       "\n",
       "    .dataframe thead th {\n",
       "        text-align: right;\n",
       "    }\n",
       "</style>\n",
       "<table border=\"1\" class=\"dataframe\">\n",
       "  <thead>\n",
       "    <tr style=\"text-align: right;\">\n",
       "      <th></th>\n",
       "      <th>date</th>\n",
       "      <th>close</th>\n",
       "    </tr>\n",
       "  </thead>\n",
       "  <tbody>\n",
       "    <tr>\n",
       "      <th>504</th>\n",
       "      <td>2018-06-01</td>\n",
       "      <td>82.0629</td>\n",
       "    </tr>\n",
       "    <tr>\n",
       "      <th>505</th>\n",
       "      <td>2018-06-04</td>\n",
       "      <td>84.4658</td>\n",
       "    </tr>\n",
       "    <tr>\n",
       "      <th>506</th>\n",
       "      <td>2018-06-05</td>\n",
       "      <td>83.6747</td>\n",
       "    </tr>\n",
       "    <tr>\n",
       "      <th>507</th>\n",
       "      <td>2018-06-06</td>\n",
       "      <td>83.6154</td>\n",
       "    </tr>\n",
       "    <tr>\n",
       "      <th>508</th>\n",
       "      <td>2018-06-07</td>\n",
       "      <td>84.0011</td>\n",
       "    </tr>\n",
       "  </tbody>\n",
       "</table>\n",
       "</div>"
      ],
      "text/plain": [
       "           date    close\n",
       "504  2018-06-01  82.0629\n",
       "505  2018-06-04  84.4658\n",
       "506  2018-06-05  83.6747\n",
       "507  2018-06-06  83.6154\n",
       "508  2018-06-07  84.0011"
      ]
     },
     "execution_count": 118,
     "metadata": {},
     "output_type": "execute_result"
    }
   ],
   "source": [
    "movingAverageTestData = movingAverageData.loc[trainEndIndex:]\n",
    "movingAverageTestData.head()"
   ]
  },
  {
   "cell_type": "code",
   "execution_count": 119,
   "metadata": {},
   "outputs": [
    {
     "data": {
      "text/plain": [
       "((667, 2), (504, 2), (163, 2))"
      ]
     },
     "execution_count": 119,
     "metadata": {},
     "output_type": "execute_result"
    }
   ],
   "source": [
    "movingAverageData.shape, movingAverageTrainData.shape, movingAverageTestData.shape "
   ]
  },
  {
   "cell_type": "code",
   "execution_count": 120,
   "metadata": {},
   "outputs": [
    {
     "data": {
      "text/plain": [
       "('2016-06-01', '2018-05-31', '2018-06-01', '2019-01-24')"
      ]
     },
     "execution_count": 120,
     "metadata": {},
     "output_type": "execute_result"
    }
   ],
   "source": [
    "movingAverageTrainData['date'].min(), movingAverageTrainData['date'].max(), movingAverageTestData['date'].min(), movingAverageTestData['date'].max()"
   ]
  },
  {
   "cell_type": "code",
   "execution_count": 121,
   "metadata": {},
   "outputs": [],
   "source": [
    "#make predictions\n",
    "preds = []\n",
    "for i in range(0,len(movingAverageTestData)):\n",
    "    a = movingAverageTestData['close'][len(movingAverageTestData)-len(movingAverageTestData)+i:].sum() + sum(preds)\n",
    "    b = a/len(movingAverageTestData)\n",
    "    preds.append(b)"
   ]
  },
  {
   "cell_type": "code",
   "execution_count": 122,
   "metadata": {},
   "outputs": [
    {
     "data": {
      "text/plain": [
       "5.442430405513891"
      ]
     },
     "execution_count": 122,
     "metadata": {},
     "output_type": "execute_result"
    }
   ],
   "source": [
    "#calculate rmse\n",
    "rms=np.sqrt(np.mean(np.power((np.array(movingAverageTestData['close'])-preds),2)))\n",
    "rms"
   ]
  },
  {
   "cell_type": "code",
   "execution_count": 123,
   "metadata": {},
   "outputs": [
    {
     "name": "stderr",
     "output_type": "stream",
     "text": [
      "C:\\Users\\Meenakshi\\Anaconda\\Anaconda3\\lib\\site-packages\\ipykernel_launcher.py:2: SettingWithCopyWarning: \n",
      "A value is trying to be set on a copy of a slice from a DataFrame.\n",
      "Try using .loc[row_indexer,col_indexer] = value instead\n",
      "\n",
      "See the caveats in the documentation: http://pandas.pydata.org/pandas-docs/stable/indexing.html#indexing-view-versus-copy\n",
      "  \n",
      "C:\\Users\\Meenakshi\\Anaconda\\Anaconda3\\lib\\site-packages\\ipykernel_launcher.py:3: SettingWithCopyWarning: \n",
      "A value is trying to be set on a copy of a slice from a DataFrame.\n",
      "Try using .loc[row_indexer,col_indexer] = value instead\n",
      "\n",
      "See the caveats in the documentation: http://pandas.pydata.org/pandas-docs/stable/indexing.html#indexing-view-versus-copy\n",
      "  This is separate from the ipykernel package so we can avoid doing imports until\n"
     ]
    },
    {
     "data": {
      "text/plain": [
       "[<matplotlib.lines.Line2D at 0x22229c4e240>,\n",
       " <matplotlib.lines.Line2D at 0x22229c2c5c0>]"
      ]
     },
     "execution_count": 123,
     "metadata": {},
     "output_type": "execute_result"
    },
    {
     "data": {
      "image/png": "[encoded data removed]",
      "text/plain": [
       "<Figure size 432x288 with 1 Axes>"
      ]
     },
     "metadata": {},
     "output_type": "display_data"
    }
   ],
   "source": [
    "#plot\n",
    "movingAverageTestData['Predictions'] = 0\n",
    "movingAverageTestData['Predictions'] = preds\n",
    "plt.plot(movingAverageTrainData['close'])\n",
    "plt.plot(movingAverageTestData[['close', 'Predictions']])"
   ]
  },
  {
   "cell_type": "code",
   "execution_count": 124,
   "metadata": {},
   "outputs": [
    {
     "data": {
      "text/html": [
       "<div>\n",
       "<style scoped>\n",
       "    .dataframe tbody tr th:only-of-type {\n",
       "        vertical-align: middle;\n",
       "    }\n",
       "\n",
       "    .dataframe tbody tr th {\n",
       "        vertical-align: top;\n",
       "    }\n",
       "\n",
       "    .dataframe thead th {\n",
       "        text-align: right;\n",
       "    }\n",
       "</style>\n",
       "<table border=\"1\" class=\"dataframe\">\n",
       "  <thead>\n",
       "    <tr style=\"text-align: right;\">\n",
       "      <th></th>\n",
       "      <th>date</th>\n",
       "      <th>close</th>\n",
       "    </tr>\n",
       "  </thead>\n",
       "  <tbody>\n",
       "    <tr>\n",
       "      <th>0</th>\n",
       "      <td>2016-06-01</td>\n",
       "      <td>65.8547</td>\n",
       "    </tr>\n",
       "    <tr>\n",
       "      <th>1</th>\n",
       "      <td>2016-06-02</td>\n",
       "      <td>66.275</td>\n",
       "    </tr>\n",
       "    <tr>\n",
       "      <th>2</th>\n",
       "      <td>2016-06-03</td>\n",
       "      <td>66.2003</td>\n",
       "    </tr>\n",
       "    <tr>\n",
       "      <th>3</th>\n",
       "      <td>2016-06-06</td>\n",
       "      <td>66.3684</td>\n",
       "    </tr>\n",
       "    <tr>\n",
       "      <th>4</th>\n",
       "      <td>2016-06-07</td>\n",
       "      <td>66.3497</td>\n",
       "    </tr>\n",
       "  </tbody>\n",
       "</table>\n",
       "</div>"
      ],
      "text/plain": [
       "         date    close\n",
       "0  2016-06-01  65.8547\n",
       "1  2016-06-02   66.275\n",
       "2  2016-06-03  66.2003\n",
       "3  2016-06-06  66.3684\n",
       "4  2016-06-07  66.3497"
      ]
     },
     "execution_count": 124,
     "metadata": {},
     "output_type": "execute_result"
    }
   ],
   "source": [
    "deepLearningTrainData = movingAverageTrainData\n",
    "deepLearningTrainData.head()"
   ]
  },
  {
   "cell_type": "code",
   "execution_count": 125,
   "metadata": {},
   "outputs": [
    {
     "data": {
      "text/html": [
       "<div>\n",
       "<style scoped>\n",
       "    .dataframe tbody tr th:only-of-type {\n",
       "        vertical-align: middle;\n",
       "    }\n",
       "\n",
       "    .dataframe tbody tr th {\n",
       "        vertical-align: top;\n",
       "    }\n",
       "\n",
       "    .dataframe thead th {\n",
       "        text-align: right;\n",
       "    }\n",
       "</style>\n",
       "<table border=\"1\" class=\"dataframe\">\n",
       "  <thead>\n",
       "    <tr style=\"text-align: right;\">\n",
       "      <th></th>\n",
       "      <th>date</th>\n",
       "      <th>close</th>\n",
       "      <th>Predictions</th>\n",
       "    </tr>\n",
       "  </thead>\n",
       "  <tbody>\n",
       "    <tr>\n",
       "      <th>504</th>\n",
       "      <td>2018-06-01</td>\n",
       "      <td>82.0629</td>\n",
       "      <td>92.384780</td>\n",
       "    </tr>\n",
       "    <tr>\n",
       "      <th>505</th>\n",
       "      <td>2018-06-04</td>\n",
       "      <td>84.4658</td>\n",
       "      <td>92.448104</td>\n",
       "    </tr>\n",
       "    <tr>\n",
       "      <th>506</th>\n",
       "      <td>2018-06-05</td>\n",
       "      <td>83.6747</td>\n",
       "      <td>92.497075</td>\n",
       "    </tr>\n",
       "    <tr>\n",
       "      <th>507</th>\n",
       "      <td>2018-06-06</td>\n",
       "      <td>83.6154</td>\n",
       "      <td>92.551200</td>\n",
       "    </tr>\n",
       "    <tr>\n",
       "      <th>508</th>\n",
       "      <td>2018-06-07</td>\n",
       "      <td>84.0011</td>\n",
       "      <td>92.606021</td>\n",
       "    </tr>\n",
       "  </tbody>\n",
       "</table>\n",
       "</div>"
      ],
      "text/plain": [
       "           date    close  Predictions\n",
       "504  2018-06-01  82.0629    92.384780\n",
       "505  2018-06-04  84.4658    92.448104\n",
       "506  2018-06-05  83.6747    92.497075\n",
       "507  2018-06-06  83.6154    92.551200\n",
       "508  2018-06-07  84.0011    92.606021"
      ]
     },
     "execution_count": 125,
     "metadata": {},
     "output_type": "execute_result"
    }
   ],
   "source": [
    "deepLearningTestData = movingAverageTestData\n",
    "deepLearningTestData.head()"
   ]
  },
  {
   "cell_type": "code",
   "execution_count": 126,
   "metadata": {},
   "outputs": [
    {
     "data": {
      "text/html": [
       "<div>\n",
       "<style scoped>\n",
       "    .dataframe tbody tr th:only-of-type {\n",
       "        vertical-align: middle;\n",
       "    }\n",
       "\n",
       "    .dataframe tbody tr th {\n",
       "        vertical-align: top;\n",
       "    }\n",
       "\n",
       "    .dataframe thead th {\n",
       "        text-align: right;\n",
       "    }\n",
       "</style>\n",
       "<table border=\"1\" class=\"dataframe\">\n",
       "  <thead>\n",
       "    <tr style=\"text-align: right;\">\n",
       "      <th></th>\n",
       "      <th>date</th>\n",
       "      <th>open</th>\n",
       "      <th>high</th>\n",
       "      <th>low</th>\n",
       "      <th>close</th>\n",
       "      <th>tomorrow_close</th>\n",
       "    </tr>\n",
       "  </thead>\n",
       "  <tbody>\n",
       "    <tr>\n",
       "      <th>0</th>\n",
       "      <td>2016-06-01</td>\n",
       "      <td>65.8547</td>\n",
       "      <td>66.2330</td>\n",
       "      <td>65.7706</td>\n",
       "      <td>65.8547</td>\n",
       "      <td>66.2750</td>\n",
       "    </tr>\n",
       "    <tr>\n",
       "      <th>1</th>\n",
       "      <td>2016-06-02</td>\n",
       "      <td>65.8547</td>\n",
       "      <td>66.3217</td>\n",
       "      <td>65.5231</td>\n",
       "      <td>66.2750</td>\n",
       "      <td>66.2003</td>\n",
       "    </tr>\n",
       "    <tr>\n",
       "      <th>2</th>\n",
       "      <td>2016-06-03</td>\n",
       "      <td>65.9201</td>\n",
       "      <td>66.3684</td>\n",
       "      <td>65.8733</td>\n",
       "      <td>66.2003</td>\n",
       "      <td>66.3684</td>\n",
       "    </tr>\n",
       "    <tr>\n",
       "      <th>3</th>\n",
       "      <td>2016-06-06</td>\n",
       "      <td>66.8075</td>\n",
       "      <td>66.8355</td>\n",
       "      <td>66.3217</td>\n",
       "      <td>66.3684</td>\n",
       "      <td>66.3497</td>\n",
       "    </tr>\n",
       "    <tr>\n",
       "      <th>4</th>\n",
       "      <td>2016-06-07</td>\n",
       "      <td>66.4151</td>\n",
       "      <td>66.6113</td>\n",
       "      <td>66.1816</td>\n",
       "      <td>66.3497</td>\n",
       "      <td>66.5833</td>\n",
       "    </tr>\n",
       "  </tbody>\n",
       "</table>\n",
       "</div>"
      ],
      "text/plain": [
       "         date     open     high      low    close  tomorrow_close\n",
       "0  2016-06-01  65.8547  66.2330  65.7706  65.8547         66.2750\n",
       "1  2016-06-02  65.8547  66.3217  65.5231  66.2750         66.2003\n",
       "2  2016-06-03  65.9201  66.3684  65.8733  66.2003         66.3684\n",
       "3  2016-06-06  66.8075  66.8355  66.3217  66.3684         66.3497\n",
       "4  2016-06-07  66.4151  66.6113  66.1816  66.3497         66.5833"
      ]
     },
     "execution_count": 126,
     "metadata": {},
     "output_type": "execute_result"
    }
   ],
   "source": [
    "filteredData.head()"
   ]
  },
  {
   "cell_type": "markdown",
   "metadata": {},
   "source": [
    "# Keras Part:"
   ]
  },
  {
   "cell_type": "code",
   "execution_count": 35,
   "metadata": {},
   "outputs": [
    {
     "name": "stderr",
     "output_type": "stream",
     "text": [
      "C:\\Users\\Meenakshi\\Anaconda\\Anaconda3\\lib\\site-packages\\h5py\\__init__.py:36: FutureWarning: Conversion of the second argument of issubdtype from `float` to `np.floating` is deprecated. In future, it will be treated as `np.float64 == np.dtype(float).type`.\n",
      "  from ._conv import register_converters as _register_converters\n",
      "Using TensorFlow backend.\n"
     ]
    }
   ],
   "source": [
    "from keras.models import Sequential\n",
    "\n",
    "model = Sequential()\n"
   ]
  },
  {
   "cell_type": "code",
   "execution_count": null,
   "metadata": {},
   "outputs": [],
   "source": []
  },
  {
   "cell_type": "code",
   "execution_count": 36,
   "metadata": {},
   "outputs": [],
   "source": [
    "from keras.layers import Dense\n",
    "\n",
    "model.add(Dense(units=64, activation='relu', input_dim=3))\n",
    "model.add(Dense(64, activation='tanh'))\n",
    "model.add(Dense(units=1, activation='relu'))\n"
   ]
  },
  {
   "cell_type": "code",
   "execution_count": 37,
   "metadata": {},
   "outputs": [],
   "source": [
    "model.compile(loss='mean_squared_error',\n",
    "              optimizer='adam',\n",
    "              metrics=['mae', 'acc'])"
   ]
  },
  {
   "cell_type": "code",
   "execution_count": 38,
   "metadata": {},
   "outputs": [
    {
     "data": {
      "text/plain": [
       "0    66.2750\n",
       "1    66.2003\n",
       "2    66.3684\n",
       "3    66.3497\n",
       "4    66.5833\n",
       "Name: tomorrow_close, dtype: float64"
      ]
     },
     "execution_count": 38,
     "metadata": {},
     "output_type": "execute_result"
    }
   ],
   "source": [
    "#target array\n",
    "y = filteredData.pop('tomorrow_close')\n",
    "y.head()"
   ]
  },
  {
   "cell_type": "code",
   "execution_count": 39,
   "metadata": {},
   "outputs": [
    {
     "data": {
      "text/plain": [
       "Index(['date', 'open', 'high', 'low', 'close', 'vwap', 'diff'], dtype='object')"
      ]
     },
     "execution_count": 39,
     "metadata": {},
     "output_type": "execute_result"
    }
   ],
   "source": [
    "filteredData.columns"
   ]
  },
  {
   "cell_type": "code",
   "execution_count": 40,
   "metadata": {},
   "outputs": [],
   "source": [
    "X = filteredData[['open', 'close', 'diff']]"
   ]
  },
  {
   "cell_type": "code",
   "execution_count": 47,
   "metadata": {},
   "outputs": [
    {
     "name": "stdout",
     "output_type": "stream",
     "text": [
      "Train on 533 samples, validate on 134 samples\n",
      "Epoch 1/3\n",
      " - 0s - loss: 5997.2423 - mean_absolute_error: 76.6894 - acc: 0.0000e+00 - val_loss: 8909.0336 - val_mean_absolute_error: 94.2965 - val_acc: 0.0000e+00\n",
      "Epoch 2/3\n",
      " - 0s - loss: 5997.2422 - mean_absolute_error: 76.6894 - acc: 0.0000e+00 - val_loss: 8909.0336 - val_mean_absolute_error: 94.2965 - val_acc: 0.0000e+00\n",
      "Epoch 3/3\n",
      " - 0s - loss: 5997.2422 - mean_absolute_error: 76.6894 - acc: 0.0000e+00 - val_loss: 8909.0336 - val_mean_absolute_error: 94.2965 - val_acc: 0.0000e+00\n"
     ]
    },
    {
     "data": {
      "text/plain": [
       "<keras.callbacks.History at 0x1e093c50a20>"
      ]
     },
     "execution_count": 47,
     "metadata": {},
     "output_type": "execute_result"
    }
   ],
   "source": [
    "model.fit(X, y, epochs = 3, validation_split =0.2, verbose=2)"
   ]
  },
  {
   "cell_type": "code",
   "execution_count": 42,
   "metadata": {},
   "outputs": [
    {
     "name": "stdout",
     "output_type": "stream",
     "text": [
      "667/667 [==============================] - 0s 18us/step\n"
     ]
    },
    {
     "data": {
      "text/plain": [
       "[6582.219808552755, 80.22663108448218, 0.0]"
      ]
     },
     "execution_count": 42,
     "metadata": {},
     "output_type": "execute_result"
    }
   ],
   "source": [
    "model.evaluate(X, y, verbose=1)"
   ]
  },
  {
   "cell_type": "code",
   "execution_count": 45,
   "metadata": {},
   "outputs": [
    {
     "name": "stdout",
     "output_type": "stream",
     "text": [
      "667/667 [==============================] - 0s 43us/step\n"
     ]
    }
   ],
   "source": [
    "prediction = model.predict(X, batch_size = 32, verbose = 1)"
   ]
  },
  {
   "cell_type": "code",
   "execution_count": null,
   "metadata": {},
   "outputs": [],
   "source": []
  }
 ],
 "metadata": {
  "kernelspec": {
   "display_name": "Python 3",
   "language": "python",
   "name": "python3"
  },
  "language_info": {
   "codemirror_mode": {
    "name": "ipython",
    "version": 3
   },
   "file_extension": ".py",
   "mimetype": "text/x-python",
   "name": "python",
   "nbconvert_exporter": "python",
   "pygments_lexer": "ipython3",
   "version": "3.6.5"
  },
  "varInspector": {
   "cols": {
    "lenName": 16,
    "lenType": 16,
    "lenVar": 40
   },
   "kernels_config": {
    "python": {
     "delete_cmd_postfix": "",
     "delete_cmd_prefix": "del ",
     "library": "var_list.py",
     "varRefreshCmd": "print(var_dic_list())"
    },
    "r": {
     "delete_cmd_postfix": ") ",
     "delete_cmd_prefix": "rm(",
     "library": "var_list.r",
     "varRefreshCmd": "cat(var_dic_list()) "
    }
   },
   "types_to_exclude": [
    "module",
    "function",
    "builtin_function_or_method",
    "instance",
    "_Feature"
   ],
   "window_display": false
  }
 },
 "nbformat": 4,
 "nbformat_minor": 2
}
